{
 "cells": [
  {
   "cell_type": "markdown",
   "metadata": {},
   "source": [
    "<h3 style=\"color:red;text-align:center\">29th January, 2025</h3>"
   ]
  },
  {
   "cell_type": "code",
   "execution_count": 4,
   "metadata": {},
   "outputs": [
    {
     "name": "stdout",
     "output_type": "stream",
     "text": [
      "[(0, 1), (1, 1), (2, 1), (3, 1), (4, 1), (5, 2), (6, 2), (7, 2), (8, 3), (9, 3), (10, 4), (11, 4), (12, 4), (13, 4), (14, 45), (15, 5), (16, 5), (17, 5), (18, 5)]\n"
     ]
    }
   ],
   "source": [
    "#enumerate()\n",
    "\n",
    "a = [1,1,1,1,1,2,2,2,3,3,4,4,4,4,45,5,5,5,5]\n",
    "\n",
    "# Iterating list using enumerate to get both index and element\n",
    "# for i, name in enumerate(a):\n",
    "#     # print(f\"Index {i}: {name}\")\n",
    "\n",
    "# Converting to a list of tuples\n",
    "print(list(enumerate(a)))"
   ]
  },
  {
   "cell_type": "code",
   "execution_count": null,
   "metadata": {},
   "outputs": [],
   "source": []
  }
 ],
 "metadata": {
  "kernelspec": {
   "display_name": "Python 3",
   "language": "python",
   "name": "python3"
  },
  "language_info": {
   "codemirror_mode": {
    "name": "ipython",
    "version": 3
   },
   "file_extension": ".py",
   "mimetype": "text/x-python",
   "name": "python",
   "nbconvert_exporter": "python",
   "pygments_lexer": "ipython3",
   "version": "3.12.0"
  }
 },
 "nbformat": 4,
 "nbformat_minor": 2
}
