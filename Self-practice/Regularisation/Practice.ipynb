{
 "cells": [
  {
   "cell_type": "code",
   "execution_count": 1,
   "metadata": {},
   "outputs": [],
   "source": [
    "import pandas as pd\n",
    "import numpy as np\n",
    "import seaborn as sns\n",
    "import matplotlib.pyplot as plt\n",
    "\n",
    "\n",
    "from sklearn import preprocessing\n",
    "from sklearn.preprocessing import PolynomialFeatures\n",
    "from sklearn.model_selection import train_test_split\n",
    "\n",
    "from sklearn.linear_model import LinearRegression, Ridge, Lasso\n",
    "from sklearn.metrics import r2_score"
   ]
  },
  {
   "cell_type": "code",
   "execution_count": 2,
   "metadata": {},
   "outputs": [],
   "source": [
    "data = pd.read_csv(\"car-mpg.csv\")"
   ]
  },
  {
   "cell_type": "code",
   "execution_count": 3,
   "metadata": {},
   "outputs": [
    {
     "data": {
      "text/html": [
       "<div>\n",
       "<style scoped>\n",
       "    .dataframe tbody tr th:only-of-type {\n",
       "        vertical-align: middle;\n",
       "    }\n",
       "\n",
       "    .dataframe tbody tr th {\n",
       "        vertical-align: top;\n",
       "    }\n",
       "\n",
       "    .dataframe thead th {\n",
       "        text-align: right;\n",
       "    }\n",
       "</style>\n",
       "<table border=\"1\" class=\"dataframe\">\n",
       "  <thead>\n",
       "    <tr style=\"text-align: right;\">\n",
       "      <th></th>\n",
       "      <th>mpg</th>\n",
       "      <th>cyl</th>\n",
       "      <th>disp</th>\n",
       "      <th>hp</th>\n",
       "      <th>wt</th>\n",
       "      <th>acc</th>\n",
       "      <th>yr</th>\n",
       "      <th>origin</th>\n",
       "      <th>car_type</th>\n",
       "      <th>car_name</th>\n",
       "    </tr>\n",
       "  </thead>\n",
       "  <tbody>\n",
       "    <tr>\n",
       "      <th>0</th>\n",
       "      <td>18.0</td>\n",
       "      <td>8</td>\n",
       "      <td>307.0</td>\n",
       "      <td>130</td>\n",
       "      <td>3504</td>\n",
       "      <td>12.0</td>\n",
       "      <td>70</td>\n",
       "      <td>1</td>\n",
       "      <td>0</td>\n",
       "      <td>chevrolet chevelle malibu</td>\n",
       "    </tr>\n",
       "    <tr>\n",
       "      <th>1</th>\n",
       "      <td>15.0</td>\n",
       "      <td>8</td>\n",
       "      <td>350.0</td>\n",
       "      <td>165</td>\n",
       "      <td>3693</td>\n",
       "      <td>11.5</td>\n",
       "      <td>70</td>\n",
       "      <td>1</td>\n",
       "      <td>0</td>\n",
       "      <td>buick skylark 320</td>\n",
       "    </tr>\n",
       "    <tr>\n",
       "      <th>2</th>\n",
       "      <td>18.0</td>\n",
       "      <td>8</td>\n",
       "      <td>318.0</td>\n",
       "      <td>150</td>\n",
       "      <td>3436</td>\n",
       "      <td>11.0</td>\n",
       "      <td>70</td>\n",
       "      <td>1</td>\n",
       "      <td>0</td>\n",
       "      <td>plymouth satellite</td>\n",
       "    </tr>\n",
       "    <tr>\n",
       "      <th>3</th>\n",
       "      <td>16.0</td>\n",
       "      <td>8</td>\n",
       "      <td>304.0</td>\n",
       "      <td>150</td>\n",
       "      <td>3433</td>\n",
       "      <td>12.0</td>\n",
       "      <td>70</td>\n",
       "      <td>1</td>\n",
       "      <td>0</td>\n",
       "      <td>amc rebel sst</td>\n",
       "    </tr>\n",
       "    <tr>\n",
       "      <th>4</th>\n",
       "      <td>17.0</td>\n",
       "      <td>8</td>\n",
       "      <td>302.0</td>\n",
       "      <td>140</td>\n",
       "      <td>3449</td>\n",
       "      <td>10.5</td>\n",
       "      <td>70</td>\n",
       "      <td>1</td>\n",
       "      <td>0</td>\n",
       "      <td>ford torino</td>\n",
       "    </tr>\n",
       "  </tbody>\n",
       "</table>\n",
       "</div>"
      ],
      "text/plain": [
       "    mpg  cyl   disp   hp    wt   acc  yr  origin  car_type  \\\n",
       "0  18.0    8  307.0  130  3504  12.0  70       1         0   \n",
       "1  15.0    8  350.0  165  3693  11.5  70       1         0   \n",
       "2  18.0    8  318.0  150  3436  11.0  70       1         0   \n",
       "3  16.0    8  304.0  150  3433  12.0  70       1         0   \n",
       "4  17.0    8  302.0  140  3449  10.5  70       1         0   \n",
       "\n",
       "                    car_name  \n",
       "0  chevrolet chevelle malibu  \n",
       "1          buick skylark 320  \n",
       "2         plymouth satellite  \n",
       "3              amc rebel sst  \n",
       "4                ford torino  "
      ]
     },
     "execution_count": 3,
     "metadata": {},
     "output_type": "execute_result"
    }
   ],
   "source": [
    "data.head()"
   ]
  },
  {
   "cell_type": "code",
   "execution_count": 4,
   "metadata": {},
   "outputs": [],
   "source": [
    "#Drop car name - since this has not effect on the dependent variable that is mielage per gallon (mpg)\n",
    "#Replace origin into 1,2,3 .. do not forget to get_dummies\n",
    "#Replace ? with NaN\n",
    "#Replace all nan with median\n",
    "\n",
    "\n",
    "data = data.drop([\"car_name\"], axis = 1)\n",
    "data[\"origin\"] = data[\"origin\"].replace({1: \"america\", 2 : \"europe\", 3 : \"asia\"})\n",
    "data = pd.get_dummies(data, columns=[\"origin\"])\n",
    "data = data.replace(\"?\", np.nan)\n",
    "# data = data.apply(lambda x: x.fillna(x.median()), axis = 0)"
   ]
  },
  {
   "cell_type": "code",
   "execution_count": 5,
   "metadata": {},
   "outputs": [
    {
     "name": "stdout",
     "output_type": "stream",
     "text": [
      "<class 'pandas.core.frame.DataFrame'>\n",
      "RangeIndex: 398 entries, 0 to 397\n",
      "Data columns (total 11 columns):\n",
      " #   Column          Non-Null Count  Dtype  \n",
      "---  ------          --------------  -----  \n",
      " 0   mpg             398 non-null    float64\n",
      " 1   cyl             398 non-null    int64  \n",
      " 2   disp            398 non-null    float64\n",
      " 3   hp              392 non-null    object \n",
      " 4   wt              398 non-null    int64  \n",
      " 5   acc             398 non-null    float64\n",
      " 6   yr              398 non-null    int64  \n",
      " 7   car_type        398 non-null    int64  \n",
      " 8   origin_america  398 non-null    bool   \n",
      " 9   origin_asia     398 non-null    bool   \n",
      " 10  origin_europe   398 non-null    bool   \n",
      "dtypes: bool(3), float64(3), int64(4), object(1)\n",
      "memory usage: 26.2+ KB\n"
     ]
    }
   ],
   "source": [
    "data.info()"
   ]
  },
  {
   "cell_type": "code",
   "execution_count": 6,
   "metadata": {},
   "outputs": [
    {
     "data": {
      "text/plain": [
       "mpg               0\n",
       "cyl               0\n",
       "disp              0\n",
       "hp                6\n",
       "wt                0\n",
       "acc               0\n",
       "yr                0\n",
       "car_type          0\n",
       "origin_america    0\n",
       "origin_asia       0\n",
       "origin_europe     0\n",
       "dtype: int64"
      ]
     },
     "execution_count": 6,
     "metadata": {},
     "output_type": "execute_result"
    }
   ],
   "source": [
    "data.isna().sum()\n"
   ]
  },
  {
   "cell_type": "code",
   "execution_count": 7,
   "metadata": {},
   "outputs": [],
   "source": [
    "data.hp = pd.to_numeric(data.hp)\n",
    "data.hp = data.hp.fillna(data.hp.median())"
   ]
  },
  {
   "cell_type": "code",
   "execution_count": 8,
   "metadata": {},
   "outputs": [
    {
     "name": "stdout",
     "output_type": "stream",
     "text": [
      "<class 'pandas.core.frame.DataFrame'>\n",
      "RangeIndex: 398 entries, 0 to 397\n",
      "Data columns (total 11 columns):\n",
      " #   Column          Non-Null Count  Dtype  \n",
      "---  ------          --------------  -----  \n",
      " 0   mpg             398 non-null    float64\n",
      " 1   cyl             398 non-null    int64  \n",
      " 2   disp            398 non-null    float64\n",
      " 3   hp              398 non-null    float64\n",
      " 4   wt              398 non-null    int64  \n",
      " 5   acc             398 non-null    float64\n",
      " 6   yr              398 non-null    int64  \n",
      " 7   car_type        398 non-null    int64  \n",
      " 8   origin_america  398 non-null    bool   \n",
      " 9   origin_asia     398 non-null    bool   \n",
      " 10  origin_europe   398 non-null    bool   \n",
      "dtypes: bool(3), float64(4), int64(4)\n",
      "memory usage: 26.2 KB\n"
     ]
    }
   ],
   "source": [
    "data.info()"
   ]
  },
  {
   "cell_type": "code",
   "execution_count": 9,
   "metadata": {},
   "outputs": [],
   "source": [
    "X = data.drop([\"mpg\"], axis = 1) #independent variable\n",
    "Y = data[[\"mpg\"]] #dependent variable"
   ]
  },
  {
   "cell_type": "code",
   "execution_count": 10,
   "metadata": {},
   "outputs": [],
   "source": [
    "#Scaling the data \n",
    "\n",
    "\n",
    "X_s = preprocessing.scale(X)\n",
    "X_s = pd.DataFrame(X_s, columns = X.columns) #converting scales data into dataframe\n",
    "\n",
    "Y_s = preprocessing.scale(Y)\n",
    "Y_s = pd.DataFrame(Y_s, columns = Y.columns)\n",
    "\n",
    "    "
   ]
  },
  {
   "cell_type": "code",
   "execution_count": 11,
   "metadata": {},
   "outputs": [
    {
     "data": {
      "text/html": [
       "<div>\n",
       "<style scoped>\n",
       "    .dataframe tbody tr th:only-of-type {\n",
       "        vertical-align: middle;\n",
       "    }\n",
       "\n",
       "    .dataframe tbody tr th {\n",
       "        vertical-align: top;\n",
       "    }\n",
       "\n",
       "    .dataframe thead th {\n",
       "        text-align: right;\n",
       "    }\n",
       "</style>\n",
       "<table border=\"1\" class=\"dataframe\">\n",
       "  <thead>\n",
       "    <tr style=\"text-align: right;\">\n",
       "      <th></th>\n",
       "      <th>mpg</th>\n",
       "    </tr>\n",
       "  </thead>\n",
       "  <tbody>\n",
       "    <tr>\n",
       "      <th>0</th>\n",
       "      <td>-0.706439</td>\n",
       "    </tr>\n",
       "    <tr>\n",
       "      <th>1</th>\n",
       "      <td>-1.090751</td>\n",
       "    </tr>\n",
       "    <tr>\n",
       "      <th>2</th>\n",
       "      <td>-0.706439</td>\n",
       "    </tr>\n",
       "    <tr>\n",
       "      <th>3</th>\n",
       "      <td>-0.962647</td>\n",
       "    </tr>\n",
       "    <tr>\n",
       "      <th>4</th>\n",
       "      <td>-0.834543</td>\n",
       "    </tr>\n",
       "  </tbody>\n",
       "</table>\n",
       "</div>"
      ],
      "text/plain": [
       "        mpg\n",
       "0 -0.706439\n",
       "1 -1.090751\n",
       "2 -0.706439\n",
       "3 -0.962647\n",
       "4 -0.834543"
      ]
     },
     "execution_count": 11,
     "metadata": {},
     "output_type": "execute_result"
    }
   ],
   "source": [
    "Y_s.head()"
   ]
  },
  {
   "cell_type": "code",
   "execution_count": 12,
   "metadata": {},
   "outputs": [
    {
     "data": {
      "text/html": [
       "<div>\n",
       "<style scoped>\n",
       "    .dataframe tbody tr th:only-of-type {\n",
       "        vertical-align: middle;\n",
       "    }\n",
       "\n",
       "    .dataframe tbody tr th {\n",
       "        vertical-align: top;\n",
       "    }\n",
       "\n",
       "    .dataframe thead th {\n",
       "        text-align: right;\n",
       "    }\n",
       "</style>\n",
       "<table border=\"1\" class=\"dataframe\">\n",
       "  <thead>\n",
       "    <tr style=\"text-align: right;\">\n",
       "      <th></th>\n",
       "      <th>cyl</th>\n",
       "      <th>disp</th>\n",
       "      <th>hp</th>\n",
       "      <th>wt</th>\n",
       "      <th>acc</th>\n",
       "      <th>yr</th>\n",
       "      <th>car_type</th>\n",
       "      <th>origin_america</th>\n",
       "      <th>origin_asia</th>\n",
       "      <th>origin_europe</th>\n",
       "    </tr>\n",
       "  </thead>\n",
       "  <tbody>\n",
       "    <tr>\n",
       "      <th>0</th>\n",
       "      <td>1.498191</td>\n",
       "      <td>1.090604</td>\n",
       "      <td>0.673118</td>\n",
       "      <td>0.630870</td>\n",
       "      <td>-1.295498</td>\n",
       "      <td>-1.627426</td>\n",
       "      <td>-1.062235</td>\n",
       "      <td>0.773559</td>\n",
       "      <td>-0.497643</td>\n",
       "      <td>-0.461968</td>\n",
       "    </tr>\n",
       "    <tr>\n",
       "      <th>1</th>\n",
       "      <td>1.498191</td>\n",
       "      <td>1.503514</td>\n",
       "      <td>1.589958</td>\n",
       "      <td>0.854333</td>\n",
       "      <td>-1.477038</td>\n",
       "      <td>-1.627426</td>\n",
       "      <td>-1.062235</td>\n",
       "      <td>0.773559</td>\n",
       "      <td>-0.497643</td>\n",
       "      <td>-0.461968</td>\n",
       "    </tr>\n",
       "    <tr>\n",
       "      <th>2</th>\n",
       "      <td>1.498191</td>\n",
       "      <td>1.196232</td>\n",
       "      <td>1.197027</td>\n",
       "      <td>0.550470</td>\n",
       "      <td>-1.658577</td>\n",
       "      <td>-1.627426</td>\n",
       "      <td>-1.062235</td>\n",
       "      <td>0.773559</td>\n",
       "      <td>-0.497643</td>\n",
       "      <td>-0.461968</td>\n",
       "    </tr>\n",
       "    <tr>\n",
       "      <th>3</th>\n",
       "      <td>1.498191</td>\n",
       "      <td>1.061796</td>\n",
       "      <td>1.197027</td>\n",
       "      <td>0.546923</td>\n",
       "      <td>-1.295498</td>\n",
       "      <td>-1.627426</td>\n",
       "      <td>-1.062235</td>\n",
       "      <td>0.773559</td>\n",
       "      <td>-0.497643</td>\n",
       "      <td>-0.461968</td>\n",
       "    </tr>\n",
       "    <tr>\n",
       "      <th>4</th>\n",
       "      <td>1.498191</td>\n",
       "      <td>1.042591</td>\n",
       "      <td>0.935072</td>\n",
       "      <td>0.565841</td>\n",
       "      <td>-1.840117</td>\n",
       "      <td>-1.627426</td>\n",
       "      <td>-1.062235</td>\n",
       "      <td>0.773559</td>\n",
       "      <td>-0.497643</td>\n",
       "      <td>-0.461968</td>\n",
       "    </tr>\n",
       "  </tbody>\n",
       "</table>\n",
       "</div>"
      ],
      "text/plain": [
       "        cyl      disp        hp        wt       acc        yr  car_type  \\\n",
       "0  1.498191  1.090604  0.673118  0.630870 -1.295498 -1.627426 -1.062235   \n",
       "1  1.498191  1.503514  1.589958  0.854333 -1.477038 -1.627426 -1.062235   \n",
       "2  1.498191  1.196232  1.197027  0.550470 -1.658577 -1.627426 -1.062235   \n",
       "3  1.498191  1.061796  1.197027  0.546923 -1.295498 -1.627426 -1.062235   \n",
       "4  1.498191  1.042591  0.935072  0.565841 -1.840117 -1.627426 -1.062235   \n",
       "\n",
       "   origin_america  origin_asia  origin_europe  \n",
       "0        0.773559    -0.497643      -0.461968  \n",
       "1        0.773559    -0.497643      -0.461968  \n",
       "2        0.773559    -0.497643      -0.461968  \n",
       "3        0.773559    -0.497643      -0.461968  \n",
       "4        0.773559    -0.497643      -0.461968  "
      ]
     },
     "execution_count": 12,
     "metadata": {},
     "output_type": "execute_result"
    }
   ],
   "source": [
    "X_s.head()"
   ]
  },
  {
   "cell_type": "code",
   "execution_count": 13,
   "metadata": {},
   "outputs": [
    {
     "data": {
      "text/plain": [
       "(278, 10)"
      ]
     },
     "execution_count": 13,
     "metadata": {},
     "output_type": "execute_result"
    }
   ],
   "source": [
    "x_train, x_test, y_train, y_test = train_test_split(X_s, Y_s, train_size=0.7, random_state=1)\n",
    "x_train.shape"
   ]
  },
  {
   "cell_type": "code",
   "execution_count": 14,
   "metadata": {},
   "outputs": [
    {
     "name": "stdout",
     "output_type": "stream",
     "text": [
      "The coefficient for cyl is 0.32102238569161057\n",
      "The coefficient for disp is 0.324834309184838\n",
      "The coefficient for hp is -0.22916950059437718\n",
      "The coefficient for wt is -0.7112101905072288\n",
      "The coefficient for acc is 0.014713682764190883\n",
      "The coefficient for yr is 0.3755811949510743\n",
      "The coefficient for car_type is 0.3814769484233099\n",
      "The coefficient for origin_america is -0.07472247547584182\n",
      "The coefficient for origin_asia is 0.044515252035678216\n",
      "The coefficient for origin_europe is 0.04834854953945382\n",
      "The intercept in 0.0192841161036397\n"
     ]
    }
   ],
   "source": [
    "#simple linear model\n",
    "\n",
    "model = LinearRegression()\n",
    "model.fit(x_train, y_train)\n",
    "\n",
    "for idx, col_name in enumerate(x_train.columns):\n",
    "    print(f\"The coefficient for {col_name} is {model.coef_.flatten()[idx]}\")\n",
    "    \n",
    "intercept = model.intercept_    \n",
    "print(f\"The intercept in {intercept[0]}\")"
   ]
  },
  {
   "cell_type": "code",
   "execution_count": 15,
   "metadata": {},
   "outputs": [
    {
     "data": {
      "text/plain": [
       "array([ 0.32102239,  0.32483431, -0.2291695 , -0.71121019,  0.01471368,\n",
       "        0.37558119,  0.38147695, -0.07472248,  0.04451525,  0.04834855])"
      ]
     },
     "execution_count": 15,
     "metadata": {},
     "output_type": "execute_result"
    }
   ],
   "source": [
    "model.coef_.flatten()"
   ]
  },
  {
   "cell_type": "code",
   "execution_count": 16,
   "metadata": {},
   "outputs": [
    {
     "data": {
      "text/plain": [
       "array([0.01928412])"
      ]
     },
     "execution_count": 16,
     "metadata": {},
     "output_type": "execute_result"
    }
   ],
   "source": [
    "model.intercept_"
   ]
  },
  {
   "cell_type": "markdown",
   "metadata": {},
   "source": [
    "## Regularized Ridge Regression "
   ]
  },
  {
   "cell_type": "code",
   "execution_count": 17,
   "metadata": {},
   "outputs": [
    {
     "name": "stdout",
     "output_type": "stream",
     "text": [
      "The Ridge model coefficient for cyl is 0.31649043447755776\n",
      "The Ridge model coefficient for disp is 0.313207067932243\n",
      "The Ridge model coefficient for hp is -0.22876024884299948\n",
      "The Ridge model coefficient for wt is -0.7010944747695601\n",
      "The Ridge model coefficient for acc is 0.012958509258978058\n",
      "The Ridge model coefficient for yr is 0.3744735168408096\n",
      "The Ridge model coefficient for car_type is 0.3772560815284403\n",
      "The Ridge model coefficient for origin_america is -0.07423623526042125\n",
      "The Ridge model coefficient for origin_asia is 0.04441038876941921\n",
      "The Ridge model coefficient for origin_europe is 0.047840312668750044\n"
     ]
    }
   ],
   "source": [
    "#alpha factor how ?\n",
    "\n",
    "ridge_model = Ridge(alpha = 0.3)\n",
    "ridge_model.fit(x_train, y_train)\n",
    "\n",
    "\n",
    "for idx, col_name in enumerate(x_train.columns):\n",
    "    print(f\"The Ridge model coefficient for {col_name} is {ridge_model.coef_.flatten()[idx]}\")"
   ]
  },
  {
   "cell_type": "markdown",
   "metadata": {},
   "source": [
    "## Regularized Lasso Regression\n"
   ]
  },
  {
   "cell_type": "code",
   "execution_count": 18,
   "metadata": {},
   "outputs": [
    {
     "name": "stdout",
     "output_type": "stream",
     "text": [
      "The Lasso model coefficient for cyl is -0.0\n",
      "The Lasso model coefficient for disp is -0.0\n",
      "The Lasso model coefficient for hp is -0.0169028710200811\n",
      "The Lasso model coefficient for wt is -0.5189001294663318\n",
      "The Lasso model coefficient for acc is 0.0\n",
      "The Lasso model coefficient for yr is 0.28138240797526426\n",
      "The Lasso model coefficient for car_type is 0.1278489048987111\n",
      "The Lasso model coefficient for origin_america is -0.016426472621561987\n",
      "The Lasso model coefficient for origin_asia is 0.0\n",
      "The Lasso model coefficient for origin_europe is 0.0\n"
     ]
    }
   ],
   "source": [
    "lasso_model = Lasso(alpha = 0.1)\n",
    "lasso_model.fit(x_train, y_train)\n",
    "\n",
    "for idx, col_name in enumerate(x_train.columns):\n",
    "    print(f\"The Lasso model coefficient for {col_name} is {lasso_model.coef_.flatten()[idx]}\")"
   ]
  },
  {
   "cell_type": "code",
   "execution_count": 19,
   "metadata": {},
   "outputs": [
    {
     "name": "stdout",
     "output_type": "stream",
     "text": [
      "Simple Linear Model\n",
      "0.8343770256960538\n",
      "0.8513421387780067\n"
     ]
    }
   ],
   "source": [
    "#model score - r2 or coeff of dterminant \n",
    "#r2 = 1- (RSS/TSS) = Regression Error/TSS\n",
    "\n",
    "print(\"Simple Linear Model\")\n",
    "print(model.score(x_train, y_train))\n",
    "print(model.score(x_test, y_test))"
   ]
  },
  {
   "cell_type": "code",
   "execution_count": 20,
   "metadata": {},
   "outputs": [
    {
     "name": "stdout",
     "output_type": "stream",
     "text": [
      "Ridge Regression Model\n",
      "0.8343617931312616\n",
      "0.8518882171608508\n"
     ]
    }
   ],
   "source": [
    "print(\"Ridge Regression Model\")\n",
    "print(ridge_model.score(x_train, y_train))\n",
    "print(ridge_model.score(x_test, y_test))"
   ]
  },
  {
   "cell_type": "code",
   "execution_count": 21,
   "metadata": {},
   "outputs": [
    {
     "name": "stdout",
     "output_type": "stream",
     "text": [
      "Lasso Regression Model\n",
      "0.7938010766228453\n",
      "0.8375229615977083\n"
     ]
    }
   ],
   "source": [
    "print(\"Lasso Regression Model\")\n",
    "print(lasso_model.score(x_train, y_train))\n",
    "print(lasso_model.score(x_test, y_test))"
   ]
  },
  {
   "cell_type": "markdown",
   "metadata": {},
   "source": [
    "* $r^2$ is not a reliable metric as it always increases with addition of more attributes even if the attributes have no influence on the predicted variable. Instead we use adjusted $r^2$ which removes the statistical chance that improves $r^2$ "
   ]
  },
  {
   "cell_type": "code",
   "execution_count": 22,
   "metadata": {},
   "outputs": [
    {
     "data": {
      "text/html": [
       "<div>\n",
       "<style scoped>\n",
       "    .dataframe tbody tr th:only-of-type {\n",
       "        vertical-align: middle;\n",
       "    }\n",
       "\n",
       "    .dataframe tbody tr th {\n",
       "        vertical-align: top;\n",
       "    }\n",
       "\n",
       "    .dataframe thead th {\n",
       "        text-align: right;\n",
       "    }\n",
       "</style>\n",
       "<table border=\"1\" class=\"dataframe\">\n",
       "  <thead>\n",
       "    <tr style=\"text-align: right;\">\n",
       "      <th></th>\n",
       "      <th>cyl</th>\n",
       "      <th>disp</th>\n",
       "      <th>hp</th>\n",
       "      <th>wt</th>\n",
       "      <th>acc</th>\n",
       "      <th>yr</th>\n",
       "      <th>car_type</th>\n",
       "      <th>origin_america</th>\n",
       "      <th>origin_asia</th>\n",
       "      <th>origin_europe</th>\n",
       "      <th>mpg</th>\n",
       "    </tr>\n",
       "  </thead>\n",
       "  <tbody>\n",
       "    <tr>\n",
       "      <th>350</th>\n",
       "      <td>-0.856321</td>\n",
       "      <td>-0.849116</td>\n",
       "      <td>-1.081977</td>\n",
       "      <td>-0.893172</td>\n",
       "      <td>-0.242570</td>\n",
       "      <td>1.351199</td>\n",
       "      <td>0.941412</td>\n",
       "      <td>0.773559</td>\n",
       "      <td>-0.497643</td>\n",
       "      <td>-0.461968</td>\n",
       "      <td>1.432898</td>\n",
       "    </tr>\n",
       "    <tr>\n",
       "      <th>59</th>\n",
       "      <td>-0.856321</td>\n",
       "      <td>-0.925936</td>\n",
       "      <td>-1.317736</td>\n",
       "      <td>-0.847061</td>\n",
       "      <td>2.879909</td>\n",
       "      <td>-1.085858</td>\n",
       "      <td>0.941412</td>\n",
       "      <td>-1.292726</td>\n",
       "      <td>-0.497643</td>\n",
       "      <td>2.164651</td>\n",
       "      <td>-0.065919</td>\n",
       "    </tr>\n",
       "    <tr>\n",
       "      <th>120</th>\n",
       "      <td>-0.856321</td>\n",
       "      <td>-0.695475</td>\n",
       "      <td>0.201600</td>\n",
       "      <td>-0.121101</td>\n",
       "      <td>-0.024722</td>\n",
       "      <td>-0.815074</td>\n",
       "      <td>0.941412</td>\n",
       "      <td>-1.292726</td>\n",
       "      <td>-0.497643</td>\n",
       "      <td>2.164651</td>\n",
       "      <td>-0.578335</td>\n",
       "    </tr>\n",
       "    <tr>\n",
       "      <th>12</th>\n",
       "      <td>1.498191</td>\n",
       "      <td>1.983643</td>\n",
       "      <td>1.197027</td>\n",
       "      <td>0.934732</td>\n",
       "      <td>-2.203196</td>\n",
       "      <td>-1.627426</td>\n",
       "      <td>-1.062235</td>\n",
       "      <td>0.773559</td>\n",
       "      <td>-0.497643</td>\n",
       "      <td>-0.461968</td>\n",
       "      <td>-1.090751</td>\n",
       "    </tr>\n",
       "    <tr>\n",
       "      <th>349</th>\n",
       "      <td>-0.856321</td>\n",
       "      <td>-0.983552</td>\n",
       "      <td>-0.951000</td>\n",
       "      <td>-1.165111</td>\n",
       "      <td>0.156817</td>\n",
       "      <td>1.351199</td>\n",
       "      <td>0.941412</td>\n",
       "      <td>-1.292726</td>\n",
       "      <td>2.009471</td>\n",
       "      <td>-0.461968</td>\n",
       "      <td>1.356035</td>\n",
       "    </tr>\n",
       "    <tr>\n",
       "      <th>...</th>\n",
       "      <td>...</td>\n",
       "      <td>...</td>\n",
       "      <td>...</td>\n",
       "      <td>...</td>\n",
       "      <td>...</td>\n",
       "      <td>...</td>\n",
       "      <td>...</td>\n",
       "      <td>...</td>\n",
       "      <td>...</td>\n",
       "      <td>...</td>\n",
       "      <td>...</td>\n",
       "    </tr>\n",
       "    <tr>\n",
       "      <th>393</th>\n",
       "      <td>-0.856321</td>\n",
       "      <td>-0.513026</td>\n",
       "      <td>-0.479482</td>\n",
       "      <td>-0.213324</td>\n",
       "      <td>0.011586</td>\n",
       "      <td>1.621983</td>\n",
       "      <td>0.941412</td>\n",
       "      <td>0.773559</td>\n",
       "      <td>-0.497643</td>\n",
       "      <td>-0.461968</td>\n",
       "      <td>0.446497</td>\n",
       "    </tr>\n",
       "    <tr>\n",
       "      <th>255</th>\n",
       "      <td>-0.856321</td>\n",
       "      <td>-0.513026</td>\n",
       "      <td>-0.427091</td>\n",
       "      <td>-0.296088</td>\n",
       "      <td>-0.061030</td>\n",
       "      <td>0.538847</td>\n",
       "      <td>0.941412</td>\n",
       "      <td>0.773559</td>\n",
       "      <td>-0.497643</td>\n",
       "      <td>-0.461968</td>\n",
       "      <td>0.203100</td>\n",
       "    </tr>\n",
       "    <tr>\n",
       "      <th>72</th>\n",
       "      <td>1.498191</td>\n",
       "      <td>1.061796</td>\n",
       "      <td>1.197027</td>\n",
       "      <td>1.089620</td>\n",
       "      <td>-1.113959</td>\n",
       "      <td>-1.085858</td>\n",
       "      <td>-1.062235</td>\n",
       "      <td>0.773559</td>\n",
       "      <td>-0.497643</td>\n",
       "      <td>-0.461968</td>\n",
       "      <td>-1.090751</td>\n",
       "    </tr>\n",
       "    <tr>\n",
       "      <th>235</th>\n",
       "      <td>-0.856321</td>\n",
       "      <td>-0.925936</td>\n",
       "      <td>-0.767632</td>\n",
       "      <td>-0.834055</td>\n",
       "      <td>0.955591</td>\n",
       "      <td>0.268063</td>\n",
       "      <td>0.941412</td>\n",
       "      <td>-1.292726</td>\n",
       "      <td>2.009471</td>\n",
       "      <td>-0.461968</td>\n",
       "      <td>0.318393</td>\n",
       "    </tr>\n",
       "    <tr>\n",
       "      <th>37</th>\n",
       "      <td>0.320935</td>\n",
       "      <td>0.370411</td>\n",
       "      <td>-0.112746</td>\n",
       "      <td>0.375483</td>\n",
       "      <td>-0.024722</td>\n",
       "      <td>-1.356642</td>\n",
       "      <td>-1.062235</td>\n",
       "      <td>0.773559</td>\n",
       "      <td>-0.497643</td>\n",
       "      <td>-0.461968</td>\n",
       "      <td>-0.706439</td>\n",
       "    </tr>\n",
       "  </tbody>\n",
       "</table>\n",
       "<p>278 rows × 11 columns</p>\n",
       "</div>"
      ],
      "text/plain": [
       "          cyl      disp        hp        wt       acc        yr  car_type  \\\n",
       "350 -0.856321 -0.849116 -1.081977 -0.893172 -0.242570  1.351199  0.941412   \n",
       "59  -0.856321 -0.925936 -1.317736 -0.847061  2.879909 -1.085858  0.941412   \n",
       "120 -0.856321 -0.695475  0.201600 -0.121101 -0.024722 -0.815074  0.941412   \n",
       "12   1.498191  1.983643  1.197027  0.934732 -2.203196 -1.627426 -1.062235   \n",
       "349 -0.856321 -0.983552 -0.951000 -1.165111  0.156817  1.351199  0.941412   \n",
       "..        ...       ...       ...       ...       ...       ...       ...   \n",
       "393 -0.856321 -0.513026 -0.479482 -0.213324  0.011586  1.621983  0.941412   \n",
       "255 -0.856321 -0.513026 -0.427091 -0.296088 -0.061030  0.538847  0.941412   \n",
       "72   1.498191  1.061796  1.197027  1.089620 -1.113959 -1.085858 -1.062235   \n",
       "235 -0.856321 -0.925936 -0.767632 -0.834055  0.955591  0.268063  0.941412   \n",
       "37   0.320935  0.370411 -0.112746  0.375483 -0.024722 -1.356642 -1.062235   \n",
       "\n",
       "     origin_america  origin_asia  origin_europe       mpg  \n",
       "350        0.773559    -0.497643      -0.461968  1.432898  \n",
       "59        -1.292726    -0.497643       2.164651 -0.065919  \n",
       "120       -1.292726    -0.497643       2.164651 -0.578335  \n",
       "12         0.773559    -0.497643      -0.461968 -1.090751  \n",
       "349       -1.292726     2.009471      -0.461968  1.356035  \n",
       "..              ...          ...            ...       ...  \n",
       "393        0.773559    -0.497643      -0.461968  0.446497  \n",
       "255        0.773559    -0.497643      -0.461968  0.203100  \n",
       "72         0.773559    -0.497643      -0.461968 -1.090751  \n",
       "235       -1.292726     2.009471      -0.461968  0.318393  \n",
       "37         0.773559    -0.497643      -0.461968 -0.706439  \n",
       "\n",
       "[278 rows x 11 columns]"
      ]
     },
     "execution_count": 22,
     "metadata": {},
     "output_type": "execute_result"
    }
   ],
   "source": [
    "df_train_test = pd.concat([x_train, y_train], axis =1)\n",
    "df_train_test"
   ]
  },
  {
   "cell_type": "code",
   "execution_count": 23,
   "metadata": {},
   "outputs": [
    {
     "data": {
      "text/html": [
       "<div>\n",
       "<style scoped>\n",
       "    .dataframe tbody tr th:only-of-type {\n",
       "        vertical-align: middle;\n",
       "    }\n",
       "\n",
       "    .dataframe tbody tr th {\n",
       "        vertical-align: top;\n",
       "    }\n",
       "\n",
       "    .dataframe thead th {\n",
       "        text-align: right;\n",
       "    }\n",
       "</style>\n",
       "<table border=\"1\" class=\"dataframe\">\n",
       "  <thead>\n",
       "    <tr style=\"text-align: right;\">\n",
       "      <th></th>\n",
       "      <th>const</th>\n",
       "      <th>cyl</th>\n",
       "      <th>disp</th>\n",
       "      <th>hp</th>\n",
       "      <th>wt</th>\n",
       "      <th>acc</th>\n",
       "      <th>yr</th>\n",
       "      <th>car_type</th>\n",
       "      <th>origin_america</th>\n",
       "      <th>origin_asia</th>\n",
       "      <th>origin_europe</th>\n",
       "    </tr>\n",
       "  </thead>\n",
       "  <tbody>\n",
       "    <tr>\n",
       "      <th>350</th>\n",
       "      <td>1.0</td>\n",
       "      <td>-0.856321</td>\n",
       "      <td>-0.849116</td>\n",
       "      <td>-1.081977</td>\n",
       "      <td>-0.893172</td>\n",
       "      <td>-0.242570</td>\n",
       "      <td>1.351199</td>\n",
       "      <td>0.941412</td>\n",
       "      <td>0.773559</td>\n",
       "      <td>-0.497643</td>\n",
       "      <td>-0.461968</td>\n",
       "    </tr>\n",
       "    <tr>\n",
       "      <th>59</th>\n",
       "      <td>1.0</td>\n",
       "      <td>-0.856321</td>\n",
       "      <td>-0.925936</td>\n",
       "      <td>-1.317736</td>\n",
       "      <td>-0.847061</td>\n",
       "      <td>2.879909</td>\n",
       "      <td>-1.085858</td>\n",
       "      <td>0.941412</td>\n",
       "      <td>-1.292726</td>\n",
       "      <td>-0.497643</td>\n",
       "      <td>2.164651</td>\n",
       "    </tr>\n",
       "    <tr>\n",
       "      <th>120</th>\n",
       "      <td>1.0</td>\n",
       "      <td>-0.856321</td>\n",
       "      <td>-0.695475</td>\n",
       "      <td>0.201600</td>\n",
       "      <td>-0.121101</td>\n",
       "      <td>-0.024722</td>\n",
       "      <td>-0.815074</td>\n",
       "      <td>0.941412</td>\n",
       "      <td>-1.292726</td>\n",
       "      <td>-0.497643</td>\n",
       "      <td>2.164651</td>\n",
       "    </tr>\n",
       "    <tr>\n",
       "      <th>12</th>\n",
       "      <td>1.0</td>\n",
       "      <td>1.498191</td>\n",
       "      <td>1.983643</td>\n",
       "      <td>1.197027</td>\n",
       "      <td>0.934732</td>\n",
       "      <td>-2.203196</td>\n",
       "      <td>-1.627426</td>\n",
       "      <td>-1.062235</td>\n",
       "      <td>0.773559</td>\n",
       "      <td>-0.497643</td>\n",
       "      <td>-0.461968</td>\n",
       "    </tr>\n",
       "    <tr>\n",
       "      <th>349</th>\n",
       "      <td>1.0</td>\n",
       "      <td>-0.856321</td>\n",
       "      <td>-0.983552</td>\n",
       "      <td>-0.951000</td>\n",
       "      <td>-1.165111</td>\n",
       "      <td>0.156817</td>\n",
       "      <td>1.351199</td>\n",
       "      <td>0.941412</td>\n",
       "      <td>-1.292726</td>\n",
       "      <td>2.009471</td>\n",
       "      <td>-0.461968</td>\n",
       "    </tr>\n",
       "    <tr>\n",
       "      <th>...</th>\n",
       "      <td>...</td>\n",
       "      <td>...</td>\n",
       "      <td>...</td>\n",
       "      <td>...</td>\n",
       "      <td>...</td>\n",
       "      <td>...</td>\n",
       "      <td>...</td>\n",
       "      <td>...</td>\n",
       "      <td>...</td>\n",
       "      <td>...</td>\n",
       "      <td>...</td>\n",
       "    </tr>\n",
       "    <tr>\n",
       "      <th>393</th>\n",
       "      <td>1.0</td>\n",
       "      <td>-0.856321</td>\n",
       "      <td>-0.513026</td>\n",
       "      <td>-0.479482</td>\n",
       "      <td>-0.213324</td>\n",
       "      <td>0.011586</td>\n",
       "      <td>1.621983</td>\n",
       "      <td>0.941412</td>\n",
       "      <td>0.773559</td>\n",
       "      <td>-0.497643</td>\n",
       "      <td>-0.461968</td>\n",
       "    </tr>\n",
       "    <tr>\n",
       "      <th>255</th>\n",
       "      <td>1.0</td>\n",
       "      <td>-0.856321</td>\n",
       "      <td>-0.513026</td>\n",
       "      <td>-0.427091</td>\n",
       "      <td>-0.296088</td>\n",
       "      <td>-0.061030</td>\n",
       "      <td>0.538847</td>\n",
       "      <td>0.941412</td>\n",
       "      <td>0.773559</td>\n",
       "      <td>-0.497643</td>\n",
       "      <td>-0.461968</td>\n",
       "    </tr>\n",
       "    <tr>\n",
       "      <th>72</th>\n",
       "      <td>1.0</td>\n",
       "      <td>1.498191</td>\n",
       "      <td>1.061796</td>\n",
       "      <td>1.197027</td>\n",
       "      <td>1.089620</td>\n",
       "      <td>-1.113959</td>\n",
       "      <td>-1.085858</td>\n",
       "      <td>-1.062235</td>\n",
       "      <td>0.773559</td>\n",
       "      <td>-0.497643</td>\n",
       "      <td>-0.461968</td>\n",
       "    </tr>\n",
       "    <tr>\n",
       "      <th>235</th>\n",
       "      <td>1.0</td>\n",
       "      <td>-0.856321</td>\n",
       "      <td>-0.925936</td>\n",
       "      <td>-0.767632</td>\n",
       "      <td>-0.834055</td>\n",
       "      <td>0.955591</td>\n",
       "      <td>0.268063</td>\n",
       "      <td>0.941412</td>\n",
       "      <td>-1.292726</td>\n",
       "      <td>2.009471</td>\n",
       "      <td>-0.461968</td>\n",
       "    </tr>\n",
       "    <tr>\n",
       "      <th>37</th>\n",
       "      <td>1.0</td>\n",
       "      <td>0.320935</td>\n",
       "      <td>0.370411</td>\n",
       "      <td>-0.112746</td>\n",
       "      <td>0.375483</td>\n",
       "      <td>-0.024722</td>\n",
       "      <td>-1.356642</td>\n",
       "      <td>-1.062235</td>\n",
       "      <td>0.773559</td>\n",
       "      <td>-0.497643</td>\n",
       "      <td>-0.461968</td>\n",
       "    </tr>\n",
       "  </tbody>\n",
       "</table>\n",
       "<p>278 rows × 11 columns</p>\n",
       "</div>"
      ],
      "text/plain": [
       "     const       cyl      disp        hp        wt       acc        yr  \\\n",
       "350    1.0 -0.856321 -0.849116 -1.081977 -0.893172 -0.242570  1.351199   \n",
       "59     1.0 -0.856321 -0.925936 -1.317736 -0.847061  2.879909 -1.085858   \n",
       "120    1.0 -0.856321 -0.695475  0.201600 -0.121101 -0.024722 -0.815074   \n",
       "12     1.0  1.498191  1.983643  1.197027  0.934732 -2.203196 -1.627426   \n",
       "349    1.0 -0.856321 -0.983552 -0.951000 -1.165111  0.156817  1.351199   \n",
       "..     ...       ...       ...       ...       ...       ...       ...   \n",
       "393    1.0 -0.856321 -0.513026 -0.479482 -0.213324  0.011586  1.621983   \n",
       "255    1.0 -0.856321 -0.513026 -0.427091 -0.296088 -0.061030  0.538847   \n",
       "72     1.0  1.498191  1.061796  1.197027  1.089620 -1.113959 -1.085858   \n",
       "235    1.0 -0.856321 -0.925936 -0.767632 -0.834055  0.955591  0.268063   \n",
       "37     1.0  0.320935  0.370411 -0.112746  0.375483 -0.024722 -1.356642   \n",
       "\n",
       "     car_type  origin_america  origin_asia  origin_europe  \n",
       "350  0.941412        0.773559    -0.497643      -0.461968  \n",
       "59   0.941412       -1.292726    -0.497643       2.164651  \n",
       "120  0.941412       -1.292726    -0.497643       2.164651  \n",
       "12  -1.062235        0.773559    -0.497643      -0.461968  \n",
       "349  0.941412       -1.292726     2.009471      -0.461968  \n",
       "..        ...             ...          ...            ...  \n",
       "393  0.941412        0.773559    -0.497643      -0.461968  \n",
       "255  0.941412        0.773559    -0.497643      -0.461968  \n",
       "72  -1.062235        0.773559    -0.497643      -0.461968  \n",
       "235  0.941412       -1.292726     2.009471      -0.461968  \n",
       "37  -1.062235        0.773559    -0.497643      -0.461968  \n",
       "\n",
       "[278 rows x 11 columns]"
      ]
     },
     "execution_count": 23,
     "metadata": {},
     "output_type": "execute_result"
    }
   ],
   "source": [
    "import statsmodels.api as smf\n",
    "x_train1 = smf.add_constant(x_train)\n",
    "x_train1"
   ]
  },
  {
   "cell_type": "code",
   "execution_count": 24,
   "metadata": {},
   "outputs": [
    {
     "data": {
      "text/plain": [
       "const             0.019284\n",
       "cyl               0.321022\n",
       "disp              0.324834\n",
       "hp               -0.229170\n",
       "wt               -0.711210\n",
       "acc               0.014714\n",
       "yr                0.375581\n",
       "car_type          0.381477\n",
       "origin_america   -0.074722\n",
       "origin_asia       0.044515\n",
       "origin_europe     0.048349\n",
       "dtype: float64"
      ]
     },
     "execution_count": 24,
     "metadata": {},
     "output_type": "execute_result"
    }
   ],
   "source": [
    "ols1 = smf.OLS(y_train, x_train1).fit()\n",
    "ols1.params"
   ]
  },
  {
   "cell_type": "code",
   "execution_count": 25,
   "metadata": {},
   "outputs": [
    {
     "name": "stdout",
     "output_type": "stream",
     "text": [
      "                            OLS Regression Results                            \n",
      "==============================================================================\n",
      "Dep. Variable:                    mpg   R-squared:                       0.834\n",
      "Model:                            OLS   Adj. R-squared:                  0.829\n",
      "Method:                 Least Squares   F-statistic:                     150.0\n",
      "Date:                Wed, 02 Apr 2025   Prob (F-statistic):           3.12e-99\n",
      "Time:                        07:26:37   Log-Likelihood:                -146.89\n",
      "No. Observations:                 278   AIC:                             313.8\n",
      "Df Residuals:                     268   BIC:                             350.1\n",
      "Df Model:                           9                                         \n",
      "Covariance Type:            nonrobust                                         \n",
      "==================================================================================\n",
      "                     coef    std err          t      P>|t|      [0.025      0.975]\n",
      "----------------------------------------------------------------------------------\n",
      "const              0.0193      0.025      0.765      0.445      -0.030       0.069\n",
      "cyl                0.3210      0.112      2.856      0.005       0.100       0.542\n",
      "disp               0.3248      0.128      2.544      0.012       0.073       0.576\n",
      "hp                -0.2292      0.079     -2.915      0.004      -0.384      -0.074\n",
      "wt                -0.7112      0.088     -8.118      0.000      -0.884      -0.539\n",
      "acc                0.0147      0.039      0.373      0.709      -0.063       0.092\n",
      "yr                 0.3756      0.029     13.088      0.000       0.319       0.432\n",
      "car_type           0.3815      0.067      5.728      0.000       0.250       0.513\n",
      "origin_america    -0.0747      0.020     -3.723      0.000      -0.114      -0.035\n",
      "origin_asia        0.0445      0.020      2.175      0.031       0.004       0.085\n",
      "origin_europe      0.0483      0.021      2.270      0.024       0.006       0.090\n",
      "==============================================================================\n",
      "Omnibus:                       22.678   Durbin-Watson:                   2.105\n",
      "Prob(Omnibus):                  0.000   Jarque-Bera (JB):               36.139\n",
      "Skew:                           0.513   Prob(JB):                     1.42e-08\n",
      "Kurtosis:                       4.438   Cond. No.                     6.20e+15\n",
      "==============================================================================\n",
      "\n",
      "Notes:\n",
      "[1] Standard Errors assume that the covariance matrix of the errors is correctly specified.\n",
      "[2] The smallest eigenvalue is 4.06e-29. This might indicate that there are\n",
      "strong multicollinearity problems or that the design matrix is singular.\n"
     ]
    }
   ],
   "source": [
    "print(ols1.summary())"
   ]
  },
  {
   "cell_type": "code",
   "execution_count": 26,
   "metadata": {},
   "outputs": [
    {
     "data": {
      "text/plain": [
       "np.float64(0.14263413229525929)"
      ]
     },
     "execution_count": 26,
     "metadata": {},
     "output_type": "execute_result"
    }
   ],
   "source": [
    "#Mean Squared Error\n",
    "\n",
    "mse = np.mean((model.predict(x_test)-y_test)**2)\n",
    "mse"
   ]
  },
  {
   "cell_type": "code",
   "execution_count": 29,
   "metadata": {},
   "outputs": [
    {
     "data": {
      "text/plain": [
       "0.14263413229525929"
      ]
     },
     "execution_count": 29,
     "metadata": {},
     "output_type": "execute_result"
    }
   ],
   "source": [
    "from sklearn.metrics import mean_squared_error\n",
    "mean_squared_error(y_test, model.predict(x_test))"
   ]
  },
  {
   "cell_type": "code",
   "execution_count": 30,
   "metadata": {},
   "outputs": [
    {
     "name": "stdout",
     "output_type": "stream",
     "text": [
      "Root Mean Squared Error : 0.3776693425408783\n"
     ]
    }
   ],
   "source": [
    "import math\n",
    "rmse = math.sqrt(mse)\n",
    "print(f\"Root Mean Squared Error : {rmse}\")"
   ]
  },
  {
   "cell_type": "code",
   "execution_count": 36,
   "metadata": {},
   "outputs": [
    {
     "data": {
      "text/plain": [
       "<Axes: xlabel='acc', ylabel='mpg'>"
      ]
     },
     "execution_count": 36,
     "metadata": {},
     "output_type": "execute_result"
    },
    {
     "data": {
      "image/png": "[encoded data removed]",
      "text/plain": [
       "<Figure size 800x600 with 1 Axes>"
      ]
     },
     "metadata": {},
     "output_type": "display_data"
    },
    {
     "data": {
      "image/png": "[encoded data removed]",
      "text/plain": [
       "<Figure size 800x600 with 1 Axes>"
      ]
     },
     "metadata": {},
     "output_type": "display_data"
    }
   ],
   "source": [
    "#Residual plot to check viability of OLS\n",
    "\n",
    "fig  = plt.figure(figsize=(8,6))\n",
    "sns.residplot(x = x_test[\"hp\"], y = y_test[\"mpg\"], color = \"blue\", lowess = True)\n",
    "\n",
    "fig  = plt.figure(figsize=(8,6))\n",
    "sns.residplot(x = x_test[\"acc\"], y = y_test[\"mpg\"], color = \"blue\", lowess = True)"
   ]
  },
  {
   "cell_type": "code",
   "execution_count": 37,
   "metadata": {},
   "outputs": [
    {
     "data": {
      "text/plain": [
       "<matplotlib.collections.PathCollection at 0x1f89ad3e2d0>"
      ]
     },
     "execution_count": 37,
     "metadata": {},
     "output_type": "execute_result"
    },
    {
     "data": {
      "image/png": "[encoded data removed]",
      "text/plain": [
       "<Figure size 640x480 with 1 Axes>"
      ]
     },
     "metadata": {},
     "output_type": "display_data"
    }
   ],
   "source": [
    "y_pred = model.predict(x_test)\n",
    "plt.scatter(y_test[\"mpg\"], y_pred)"
   ]
  },
  {
   "cell_type": "code",
   "execution_count": null,
   "metadata": {},
   "outputs": [],
   "source": []
  }
 ],
 "metadata": {
  "kernelspec": {
   "display_name": "Python 3",
   "language": "python",
   "name": "python3"
  },
  "language_info": {
   "codemirror_mode": {
    "name": "ipython",
    "version": 3
   },
   "file_extension": ".py",
   "mimetype": "text/x-python",
   "name": "python",
   "nbconvert_exporter": "python",
   "pygments_lexer": "ipython3",
   "version": "3.12.0"
  }
 },
 "nbformat": 4,
 "nbformat_minor": 2
}
