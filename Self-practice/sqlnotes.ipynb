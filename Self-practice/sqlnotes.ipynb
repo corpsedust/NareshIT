{
 "cells": [
  {
   "cell_type": "markdown",
   "id": "1db49f7a",
   "metadata": {},
   "source": [
    "# SQL Cheat Sheet\n",
    "\n",
    "## SELECT Statement\n",
    "Retrieve specific columns from a table.\n",
    "```sql\n",
    "SELECT column1, column2\n",
    "FROM table_name;\n",
    "```\n",
    "\n",
    "## WHERE Clause\n",
    "Filter rows based on specified conditions.\n",
    "```sql\n",
    "SELECT * \n",
    "FROM table_name \n",
    "WHERE condition;\n",
    "```\n",
    "\n",
    "## Logical Operators\n",
    "Used to combine multiple conditions.\n",
    "- AND: All conditions must be true.\n",
    "- OR: At least one condition must be true.\n",
    "- NOT: Reverses a condition.\n",
    "```sql\n",
    "WHERE age > 18 AND state = 'Victoria';\n",
    "WHERE NOT gender = 'n/a';\n",
    "```\n",
    "\n",
    "## BETWEEN\n",
    "Filter values within a range (inclusive).\n",
    "```sql\n",
    "WHERE age BETWEEN 18 AND 25;\n",
    "```\n",
    "\n",
    "## IN\n",
    "Match any value in a specified list.\n",
    "```sql\n",
    "WHERE state IN ('Victoria', 'Queensland', 'Tasmania');\n",
    "```\n",
    "\n",
    "## LIKE\n",
    "Pattern matching for text.\n",
    "- % : Matches any number of characters.\n",
    "- _ : Matches exactly one character.\n",
    "```sql\n",
    "WHERE name LIKE 'A%';   -- Starts with A\n",
    "WHERE name LIKE '%son'; -- Ends with 'son'\n",
    "WHERE name LIKE '_at';  -- Matches 'cat', 'bat', etc.\n",
    "```\n"
   ]
  }
 ],
 "metadata": {
  "language_info": {
   "name": "python"
  }
 },
 "nbformat": 4,
 "nbformat_minor": 5
}
