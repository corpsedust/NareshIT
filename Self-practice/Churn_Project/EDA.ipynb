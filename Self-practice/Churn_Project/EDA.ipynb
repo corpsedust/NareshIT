{
 "cells": [
  {
   "cell_type": "markdown",
   "id": "0089d10a",
   "metadata": {},
   "source": [
    "<center><h1>Customer Churn Analyis<h1></center>"
   ]
  },
  {
   "cell_type": "markdown",
   "id": "019a9c00",
   "metadata": {},
   "source": [
    "### Abstrarct :\n",
    "\n",
    "<p>In the competitive landscape of telecommunication, customer churn poses a significant challenge, impacting revenue and market share. With this project I aim to analyze the cusotmer churn patterns within a telecom company to understand the underlying factors contributing to customer attrition. The study leverages historical customer data including demographic information, service usage metrics and cusotmer interaction logs. Through exploratory data analysis and predictive modeling techniques, key drivers of churn will be identified. such as service dissatisfaction, pricing strategies, contract terms and customer support effectiveness. </p>"
   ]
  },
  {
   "cell_type": "markdown",
   "id": "9da8338c",
   "metadata": {},
   "source": [
    "### Problem Statement\n",
    "\n",
    "The objective of this project is to analyze customer churn in a telecom company. Customer churn refers to the phenomenon where customers switch from one service provider to another or cancel their subscription altogether. By analyzing customer churn patterns, I aim to identify the factors that contribute to churn and develop strategies to mitigate it. "
   ]
  },
  {
   "cell_type": "markdown",
   "id": "e54a3fd5",
   "metadata": {},
   "source": [
    "### Project Description\n",
    "\n",
    "In this project, I worked with a dataset from a telecom company that includes information about  their customers, such as demographiccs, customer Accounting Information, Service Information. The dataset also included a churn indicator that specifies whether a customer has churned or not?"
   ]
  },
  {
   "cell_type": "markdown",
   "id": "4bfba253",
   "metadata": {},
   "source": [
    "### Desired Outcome:\n",
    "\n",
    "My main goal is to build a Machine Learning Model that can predict whether a customer would leave the serivces of company based on the different features of the data \n"
   ]
  },
  {
   "cell_type": "markdown",
   "id": "5f7ac5f3",
   "metadata": {},
   "source": [
    "### Algorithms used:\n",
    "\n",
    "- Logistic Regression\n",
    "- Decision Tree Classifier\n",
    "- Random Forest Classifier\n",
    "- Adabosst Classifier\n",
    "- GradientBoost Classifier"
   ]
  },
  {
   "cell_type": "markdown",
   "id": "21d45598",
   "metadata": {},
   "source": [
    "### About the Data\n",
    "\n",
    "The data is divided into three parts (with the following features):\n",
    "\n",
    "- <h4>Demographich inofrmation</h4>\n",
    "\n",
    "    - gender : Gender of the customer.\n",
    "    - SeniorCitizen : Whether customer is a senior citizen or not ?\n",
    "    - Partner : Whether customer has a partner or not ?\n",
    "    - Dependents : Whther the customer has a dependent or not ?\n",
    "\n",
    "- <h4>Customer Accounting Information:</h4>\n",
    "\n",
    "    - Contract : The contract term of the customer (month-to-month, one-year, two-year)\n",
    "    - PaperlessBilling : Whether customer has paperless billing or not ?\n",
    "    - Monthly Charges : Amount charged to the customer monthly \n",
    "    - Total Charges : Total amount charged to the customer\n",
    "    - Tenure : Number of months the customer has stayed with the company. \n",
    "    - PaymentMethod : The customer's payment mehtod (Electronic cheque, Mailed cheque, Bank Transfer)\n",
    "    - customerID\n",
    "\n",
    "- <h4>Service Information</h4>\n",
    "    \n",
    "    - PhoneService : Whether the customer has a phone or not ?\n",
    "    - MultipleLines : Whether the customer has multiple lines or not ?\n",
    "    - InternetService : Customer't Internet Service Provider?\n",
    "    - OnlineSecurity : Whether the customer has online security or not ?\n",
    "    - OnlineBackup : Whether the customer has online backup or not ?\n",
    "    - DeviceProtection : Whether the customer has device prothection or not ?\n",
    "    - TechSupporot : Whether the customer has Tech Support or not ?\n",
    "    - Streaming Tv : Whether the customer has a streaming tv or not ?\n",
    "    - Streamin Movies: Whether the customer has streaming movies or not ?\n"
   ]
  },
  {
   "cell_type": "markdown",
   "id": "21c64369",
   "metadata": {},
   "source": [
    "### Target Variable :\n",
    "    \n",
    "\n",
    "<span style=\"background-color: #FFFF00\">Whetherr the customer chured or not ?</span>\n"
   ]
  },
  {
   "cell_type": "markdown",
   "id": "b67f2ab0",
   "metadata": {},
   "source": []
  }
 ],
 "metadata": {
  "language_info": {
   "name": "python"
  }
 },
 "nbformat": 4,
 "nbformat_minor": 5
}
