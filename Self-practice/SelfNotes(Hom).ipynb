{
 "cells": [
  {
   "cell_type": "markdown",
   "metadata": {},
   "source": [
    "<h3 style=\"color:red;text-align:center\">29th January, 2025</h3>"
   ]
  },
  {
   "cell_type": "markdown",
   "metadata": {},
   "source": [
    "<p style=\"color:cyan;text-align:center\">enumerate()</p>\n"
   ]
  },
  {
   "cell_type": "code",
   "execution_count": 4,
   "metadata": {},
   "outputs": [
    {
     "name": "stdout",
     "output_type": "stream",
     "text": [
      "[(0, 1), (1, 1), (2, 1), (3, 1), (4, 1), (5, 2), (6, 2), (7, 2), (8, 3), (9, 3), (10, 4), (11, 4), (12, 4), (13, 4), (14, 45), (15, 5), (16, 5), (17, 5), (18, 5)]\n"
     ]
    }
   ],
   "source": [
    "#enumerate()\n",
    "\n",
    "a = [1,1,1,1,1,2,2,2,3,3,4,4,4,4,45,5,5,5,5]\n",
    "\n",
    "# Iterating list using enumerate to get both index and element\n",
    "# for i, name in enumerate(a):\n",
    "#     # print(f\"Index {i}: {name}\")\n",
    "\n",
    "# Converting to a list of tuples\n",
    "print(list(enumerate(a)))"
   ]
  },
  {
   "cell_type": "code",
   "execution_count": null,
   "metadata": {},
   "outputs": [],
   "source": [
    "#What is enumerate? play aroung and write about it"
   ]
  },
  {
   "cell_type": "code",
   "execution_count": 3,
   "metadata": {},
   "outputs": [
    {
     "name": "stdout",
     "output_type": "stream",
     "text": [
      "[2, 4] [1, 4, 9, 16]\n"
     ]
    }
   ],
   "source": [
    "#lambda funciton \n",
    "x = [1,2,3,4]\n",
    "y = filter(lambda a: a%2 ==0,x)\n",
    "z = list((map(lambda i: i**2,x)))\n",
    "print(list(y),z)"
   ]
  },
  {
   "cell_type": "markdown",
   "metadata": {},
   "source": [
    "<p style=\"color:cyan;text-align:center\">Lambda Function</p>\n",
    "\n",
    "What is Lambda Funciton?\n",
    "- A lambda function is a small anonymous function.\n",
    "- A lambda function can take any number of arguments, but can only have one expression.\n",
    "\n",
    "Why Lambda Funciton?\n",
    "\n",
    "- The power of lambda is better shown when you use them as an anonymous function inside another function.\n"
   ]
  },
  {
   "cell_type": "code",
   "execution_count": 4,
   "metadata": {},
   "outputs": [
    {
     "name": "stdout",
     "output_type": "stream",
     "text": [
      "8\n"
     ]
    }
   ],
   "source": [
    "#How ???\n",
    "# say you have function that takes a number as argument and that number\n",
    "# will be multiplied with an unknwon number.\n",
    "\n",
    "def myfunc(n):\n",
    "    return lambda a : a * n\n",
    "\n",
    "#this is a doubler function \n",
    "myDoubler = myfunc(2)\n",
    "\n",
    "print(myDoubler(4))\n"
   ]
  },
  {
   "cell_type": "code",
   "execution_count": 6,
   "metadata": {},
   "outputs": [
    {
     "data": {
      "text/plain": [
       "66"
      ]
     },
     "execution_count": 6,
     "metadata": {},
     "output_type": "execute_result"
    }
   ],
   "source": [
    "myTripler = myfunc(3)\n",
    "myTripler(22)"
   ]
  },
  {
   "cell_type": "code",
   "execution_count": null,
   "metadata": {},
   "outputs": [],
   "source": [
    "#you can make any number of functions with slightly different parameters\n",
    "#and those functions in turn will have their own arguments "
   ]
  },
  {
   "cell_type": "markdown",
   "metadata": {},
   "source": [
    "<p style=\"color:cyan;text-align:center\">List Comprehension</p>\n",
    "\n",
    "What and why?\n",
    "- List comprehension offers a shorter syntax when you want to create a new list based on the values of an existing list.\\\n",
    "Example:\\\n",
    "Based on a list of fruits, you want a new list, containing only the fruits with the letter \"a\" in the name.\\\n",
    "Without list comprehension you will have to write a for statement with a conditional test inside:"
   ]
  },
  {
   "cell_type": "code",
   "execution_count": 6,
   "metadata": {},
   "outputs": [
    {
     "name": "stdout",
     "output_type": "stream",
     "text": [
      "['apple', 'banana', 'mango']\n",
      "['apple', 'banana', 'mango']\n"
     ]
    }
   ],
   "source": [
    "#Using normal method\n",
    "\n",
    "fruits = [\"apple\", \"banana\", \"cherry\", \"kiwi\", \"mango\"]\n",
    "newlist = []\n",
    "\n",
    "for x in fruits:\n",
    "    if \"a\" in x:\n",
    "        newlist.append(x)\n",
    "        \n",
    "print(newlist)\n",
    "\n",
    "#List comprehension - save lines of code\n",
    "nl = [i for i in fruits if \"a\" in i]\n",
    "print(nl)"
   ]
  },
  {
   "cell_type": "code",
   "execution_count": null,
   "metadata": {},
   "outputs": [],
   "source": []
  },
  {
   "cell_type": "markdown",
   "metadata": {},
   "source": []
  },
  {
   "cell_type": "markdown",
   "metadata": {},
   "source": []
  }
 ],
 "metadata": {
  "kernelspec": {
   "display_name": "Python 3",
   "language": "python",
   "name": "python3"
  },
  "language_info": {
   "codemirror_mode": {
    "name": "ipython",
    "version": 3
   },
   "file_extension": ".py",
   "mimetype": "text/x-python",
   "name": "python",
   "nbconvert_exporter": "python",
   "pygments_lexer": "ipython3",
   "version": "3.12.0"
  }
 },
 "nbformat": 4,
 "nbformat_minor": 2
}
