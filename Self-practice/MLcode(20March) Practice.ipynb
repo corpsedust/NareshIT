{
 "cells": [
  {
   "cell_type": "code",
   "execution_count": 1,
   "id": "166f3b3a-ba91-4670-b64e-faf99379eca3",
   "metadata": {},
   "outputs": [],
   "source": [
    "import pandas as pd\n",
    "import matplotlib.pyplot as plt\n",
    "import numpy as np"
   ]
  },
  {
   "cell_type": "code",
   "execution_count": 2,
   "id": "490c2edc-b706-4db8-be73-b1f738de1cf0",
   "metadata": {},
   "outputs": [],
   "source": [
    "df = pd.read_csv(\"Salary_Data.csv\")"
   ]
  },
  {
   "cell_type": "code",
   "execution_count": 3,
   "id": "7b76d14f-0187-4854-8d54-816fa0f571c5",
   "metadata": {},
   "outputs": [],
   "source": [
    "x = df[\"YearsExperience\"]\n",
    "y = df[\"Salary\"]"
   ]
  },
  {
   "cell_type": "code",
   "execution_count": 4,
   "id": "219c9a12-d493-4836-8e8b-87ed60800261",
   "metadata": {},
   "outputs": [
    {
     "data": {
      "text/html": [
       "<div>\n",
       "<style scoped>\n",
       "    .dataframe tbody tr th:only-of-type {\n",
       "        vertical-align: middle;\n",
       "    }\n",
       "\n",
       "    .dataframe tbody tr th {\n",
       "        vertical-align: top;\n",
       "    }\n",
       "\n",
       "    .dataframe thead th {\n",
       "        text-align: right;\n",
       "    }\n",
       "</style>\n",
       "<table border=\"1\" class=\"dataframe\">\n",
       "  <thead>\n",
       "    <tr style=\"text-align: right;\">\n",
       "      <th></th>\n",
       "      <th>YearsExperience</th>\n",
       "      <th>Salary</th>\n",
       "    </tr>\n",
       "  </thead>\n",
       "  <tbody>\n",
       "    <tr>\n",
       "      <th>0</th>\n",
       "      <td>1.1</td>\n",
       "      <td>39343</td>\n",
       "    </tr>\n",
       "    <tr>\n",
       "      <th>1</th>\n",
       "      <td>1.3</td>\n",
       "      <td>46205</td>\n",
       "    </tr>\n",
       "    <tr>\n",
       "      <th>2</th>\n",
       "      <td>1.5</td>\n",
       "      <td>37731</td>\n",
       "    </tr>\n",
       "    <tr>\n",
       "      <th>3</th>\n",
       "      <td>2.0</td>\n",
       "      <td>43525</td>\n",
       "    </tr>\n",
       "    <tr>\n",
       "      <th>4</th>\n",
       "      <td>2.2</td>\n",
       "      <td>39891</td>\n",
       "    </tr>\n",
       "  </tbody>\n",
       "</table>\n",
       "</div>"
      ],
      "text/plain": [
       "   YearsExperience  Salary\n",
       "0              1.1   39343\n",
       "1              1.3   46205\n",
       "2              1.5   37731\n",
       "3              2.0   43525\n",
       "4              2.2   39891"
      ]
     },
     "execution_count": 4,
     "metadata": {},
     "output_type": "execute_result"
    }
   ],
   "source": [
    "df.head(5)"
   ]
  },
  {
   "cell_type": "code",
   "execution_count": 5,
   "id": "fe51b6d6-9a83-4201-ac48-9c8f0d85bcde",
   "metadata": {},
   "outputs": [
    {
     "name": "stdout",
     "output_type": "stream",
     "text": [
      "<class 'pandas.core.frame.DataFrame'>\n",
      "RangeIndex: 30 entries, 0 to 29\n",
      "Data columns (total 2 columns):\n",
      " #   Column           Non-Null Count  Dtype  \n",
      "---  ------           --------------  -----  \n",
      " 0   YearsExperience  30 non-null     float64\n",
      " 1   Salary           30 non-null     int64  \n",
      "dtypes: float64(1), int64(1)\n",
      "memory usage: 612.0 bytes\n"
     ]
    }
   ],
   "source": [
    "df.info()"
   ]
  },
  {
   "cell_type": "code",
   "execution_count": 6,
   "id": "3445be4a-20da-42c0-922c-744c074820b1",
   "metadata": {},
   "outputs": [
    {
     "data": {
      "text/html": [
       "<div>\n",
       "<style scoped>\n",
       "    .dataframe tbody tr th:only-of-type {\n",
       "        vertical-align: middle;\n",
       "    }\n",
       "\n",
       "    .dataframe tbody tr th {\n",
       "        vertical-align: top;\n",
       "    }\n",
       "\n",
       "    .dataframe thead th {\n",
       "        text-align: right;\n",
       "    }\n",
       "</style>\n",
       "<table border=\"1\" class=\"dataframe\">\n",
       "  <thead>\n",
       "    <tr style=\"text-align: right;\">\n",
       "      <th></th>\n",
       "      <th>count</th>\n",
       "      <th>mean</th>\n",
       "      <th>std</th>\n",
       "      <th>min</th>\n",
       "      <th>25%</th>\n",
       "      <th>50%</th>\n",
       "      <th>75%</th>\n",
       "      <th>max</th>\n",
       "    </tr>\n",
       "  </thead>\n",
       "  <tbody>\n",
       "    <tr>\n",
       "      <th>YearsExperience</th>\n",
       "      <td>30.0</td>\n",
       "      <td>5.313333</td>\n",
       "      <td>2.837888</td>\n",
       "      <td>1.1</td>\n",
       "      <td>3.20</td>\n",
       "      <td>4.7</td>\n",
       "      <td>7.70</td>\n",
       "      <td>10.5</td>\n",
       "    </tr>\n",
       "    <tr>\n",
       "      <th>Salary</th>\n",
       "      <td>30.0</td>\n",
       "      <td>76003.000000</td>\n",
       "      <td>27414.429785</td>\n",
       "      <td>37731.0</td>\n",
       "      <td>56720.75</td>\n",
       "      <td>65237.0</td>\n",
       "      <td>100544.75</td>\n",
       "      <td>122391.0</td>\n",
       "    </tr>\n",
       "  </tbody>\n",
       "</table>\n",
       "</div>"
      ],
      "text/plain": [
       "                 count          mean           std      min       25%  \\\n",
       "YearsExperience   30.0      5.313333      2.837888      1.1      3.20   \n",
       "Salary            30.0  76003.000000  27414.429785  37731.0  56720.75   \n",
       "\n",
       "                     50%        75%       max  \n",
       "YearsExperience      4.7       7.70      10.5  \n",
       "Salary           65237.0  100544.75  122391.0  "
      ]
     },
     "execution_count": 6,
     "metadata": {},
     "output_type": "execute_result"
    }
   ],
   "source": [
    "df.describe().T"
   ]
  },
  {
   "cell_type": "code",
   "execution_count": 7,
   "id": "2ac2f21e-cc12-4749-90b0-eeb6fbe7f0cf",
   "metadata": {},
   "outputs": [],
   "source": [
    "from sklearn.model_selection import train_test_split\n",
    "\n",
    "x_train, x_test, y_train, y_test = train_test_split(x,y,test_size = 0.2, random_state = 42)\n",
    "x_train = x_train.to_frame()\n",
    "y_train = y_train.to_frame()\n",
    "x_test = x_test.to_frame()\n",
    "\n",
    "from sklearn.linear_model import LinearRegression\n",
    "model = LinearRegression()\n",
    "model.fit(x_train,y_train)\n",
    "y_pred = model.predict(x_test)"
   ]
  },
  {
   "cell_type": "code",
   "execution_count": 8,
   "id": "8864b52f-2718-4bff-91d2-6524b87e2fb8",
   "metadata": {},
   "outputs": [
    {
     "data": {
      "image/png": "[encoded data removed]",
      "text/plain": [
       "<Figure size 640x480 with 1 Axes>"
      ]
     },
     "metadata": {},
     "output_type": "display_data"
    }
   ],
   "source": [
    "#\n",
    "\n",
    "plt.scatter(x_test, y_test, color = \"Blue\")\n",
    "plt.plot(x_test, y_pred, color = \"Red\")\n",
    "plt.xlabel(\"Years of Experience\")\n",
    "plt.title(\"Salay vs Experience (Test set)\")\n",
    "plt.ylabel(\"Salary\")\n",
    "plt.show( )"
   ]
  },
  {
   "cell_type": "code",
   "execution_count": 9,
   "id": "078be9cc-fa91-4238-acc1-02034357b49f",
   "metadata": {},
   "outputs": [
    {
     "data": {
      "image/png": "[encoded data removed]",
      "text/plain": [
       "<Figure size 640x480 with 1 Axes>"
      ]
     },
     "metadata": {},
     "output_type": "display_data"
    }
   ],
   "source": [
    "plt.scatter(x_train, y_train, color = \"Blue\")\n",
    "plt.plot(x_train, model.predict(x_train), color = \"Red\")\n",
    "plt.xlabel(\"Years of Experience\")\n",
    "plt.title(\"Salay vs Experience (Train set)\")\n",
    "plt.ylabel(\"Salary\")\n",
    "plt.show( )"
   ]
  },
  {
   "cell_type": "code",
   "execution_count": 10,
   "id": "bb317c06-47ea-480e-9992-9e0037fcb9e4",
   "metadata": {},
   "outputs": [
    {
     "data": {
      "image/png": "[encoded data removed]",
      "text/plain": [
       "<Figure size 640x480 with 1 Axes>"
      ]
     },
     "metadata": {},
     "output_type": "display_data"
    }
   ],
   "source": [
    "x = x.to_frame()\n",
    "plt.scatter(x,y, color = \"Blue\")\n",
    "plt.plot(x, model.predict(x), color = \"Red\")\n",
    "plt.xlabel(\"Years of Experience\")\n",
    "plt.title(\"Salay vs Experience (Full set)\")\n",
    "plt.ylabel(\"Salary\")\n",
    "plt.show( )"
   ]
  },
  {
   "cell_type": "code",
   "execution_count": 11,
   "id": "80188dae-edfb-4b5a-b563-d91e16d46507",
   "metadata": {},
   "outputs": [],
   "source": [
    "y_pred = pd.Series(y_pred.flatten())\n"
   ]
  },
  {
   "cell_type": "code",
   "execution_count": 12,
   "id": "a5d8c7ec-571e-45fa-a0a1-c2a4a0d45130",
   "metadata": {},
   "outputs": [],
   "source": [
    "y_test= y_test.reset_index(drop = True)\n",
    "comparison = pd.DataFrame({\"Actual\" : y_test, \"Predicted\" : y_pred})"
   ]
  },
  {
   "cell_type": "code",
   "execution_count": 13,
   "id": "55dfaa76-24f1-4f9f-aed7-fe23ea34d27c",
   "metadata": {},
   "outputs": [
    {
     "data": {
      "text/html": [
       "<div>\n",
       "<style scoped>\n",
       "    .dataframe tbody tr th:only-of-type {\n",
       "        vertical-align: middle;\n",
       "    }\n",
       "\n",
       "    .dataframe tbody tr th {\n",
       "        vertical-align: top;\n",
       "    }\n",
       "\n",
       "    .dataframe thead th {\n",
       "        text-align: right;\n",
       "    }\n",
       "</style>\n",
       "<table border=\"1\" class=\"dataframe\">\n",
       "  <thead>\n",
       "    <tr style=\"text-align: right;\">\n",
       "      <th></th>\n",
       "      <th>Actual</th>\n",
       "      <th>Predicted</th>\n",
       "    </tr>\n",
       "  </thead>\n",
       "  <tbody>\n",
       "    <tr>\n",
       "      <th>0</th>\n",
       "      <td>112635</td>\n",
       "      <td>115790.210113</td>\n",
       "    </tr>\n",
       "    <tr>\n",
       "      <th>1</th>\n",
       "      <td>67938</td>\n",
       "      <td>71498.278095</td>\n",
       "    </tr>\n",
       "    <tr>\n",
       "      <th>2</th>\n",
       "      <td>113812</td>\n",
       "      <td>102596.868661</td>\n",
       "    </tr>\n",
       "    <tr>\n",
       "      <th>3</th>\n",
       "      <td>83088</td>\n",
       "      <td>75267.804224</td>\n",
       "    </tr>\n",
       "    <tr>\n",
       "      <th>4</th>\n",
       "      <td>64445</td>\n",
       "      <td>55477.792045</td>\n",
       "    </tr>\n",
       "    <tr>\n",
       "      <th>5</th>\n",
       "      <td>57189</td>\n",
       "      <td>60189.699707</td>\n",
       "    </tr>\n",
       "  </tbody>\n",
       "</table>\n",
       "</div>"
      ],
      "text/plain": [
       "   Actual      Predicted\n",
       "0  112635  115790.210113\n",
       "1   67938   71498.278095\n",
       "2  113812  102596.868661\n",
       "3   83088   75267.804224\n",
       "4   64445   55477.792045\n",
       "5   57189   60189.699707"
      ]
     },
     "execution_count": 13,
     "metadata": {},
     "output_type": "execute_result"
    }
   ],
   "source": [
    "comparison"
   ]
  },
  {
   "cell_type": "code",
   "execution_count": 14,
   "id": "2f88aa6f-b109-43f4-a052-9df2e180dd2b",
   "metadata": {},
   "outputs": [],
   "source": [
    "coef = model.coef_\n",
    "intercept = model.intercept_"
   ]
  },
  {
   "cell_type": "code",
   "execution_count": 15,
   "id": "630d50ec-88a6-4f22-89ca-dfcbf2ef01d1",
   "metadata": {},
   "outputs": [
    {
     "name": "stdout",
     "output_type": "stream",
     "text": [
      "Salary of man with 12 years of experience = 138407.36688814854\n"
     ]
    }
   ],
   "source": [
    "exp_12_yrs = (coef *12 + intercept)[0,0]\n",
    "print(f\"Salary of man with 12 years of experience = {exp_12_yrs}\")"
   ]
  },
  {
   "cell_type": "code",
   "execution_count": 16,
   "id": "4c8995f3-60eb-4c3e-adff-2f313e656690",
   "metadata": {},
   "outputs": [
    {
     "data": {
      "text/plain": [
       "0.9645401573418146"
      ]
     },
     "execution_count": 16,
     "metadata": {},
     "output_type": "execute_result"
    }
   ],
   "source": [
    "#trianing score \n",
    "bias = model.score(x_train, y_train)\n",
    "bias"
   ]
  },
  {
   "cell_type": "code",
   "execution_count": 17,
   "id": "84803065-f97c-45dd-b6d1-ce8cdfa0798b",
   "metadata": {},
   "outputs": [
    {
     "data": {
      "text/plain": [
       "0.9024461774180497"
      ]
     },
     "execution_count": 17,
     "metadata": {},
     "output_type": "execute_result"
    }
   ],
   "source": [
    "variance = model.score(x_test, y_test)\n",
    "variance"
   ]
  },
  {
   "cell_type": "code",
   "execution_count": 18,
   "id": "9a7acf62-4b33-486e-b0cd-62674e81867d",
   "metadata": {},
   "outputs": [],
   "source": [
    "#Statistical Analysis"
   ]
  },
  {
   "cell_type": "code",
   "execution_count": 19,
   "id": "0e5c0550-7cbb-4b43-b478-2b90653ad890",
   "metadata": {},
   "outputs": [],
   "source": [
    "average = df.mean()\n",
    "average_salary = df.Salary.mean()"
   ]
  },
  {
   "cell_type": "code",
   "execution_count": 20,
   "id": "b868ae23-1a8f-47a2-b0cb-7e9b2faf56d7",
   "metadata": {},
   "outputs": [],
   "source": [
    "median = df.median()"
   ]
  },
  {
   "cell_type": "code",
   "execution_count": 21,
   "id": "bf0903da-5496-462d-9d28-49a5aa1e1ed7",
   "metadata": {},
   "outputs": [
    {
     "data": {
      "text/plain": [
       "YearsExperience        3.2\n",
       "Salary             37731.0\n",
       "Name: 0, dtype: float64"
      ]
     },
     "execution_count": 21,
     "metadata": {},
     "output_type": "execute_result"
    }
   ],
   "source": [
    "mode = df.mode().iloc[0]\n",
    "mode"
   ]
  },
  {
   "cell_type": "code",
   "execution_count": 22,
   "id": "1c5f9c98-3836-4423-9954-23f1619a9abd",
   "metadata": {},
   "outputs": [
    {
     "data": {
      "text/plain": [
       "YearsExperience    8.053609e+00\n",
       "Salary             7.515510e+08\n",
       "dtype: float64"
      ]
     },
     "execution_count": 22,
     "metadata": {},
     "output_type": "execute_result"
    }
   ],
   "source": [
    "var = df.var()\n",
    "var "
   ]
  },
  {
   "cell_type": "code",
   "execution_count": 23,
   "id": "0100050b-fe51-4aed-bac7-7a8753944997",
   "metadata": {},
   "outputs": [
    {
     "data": {
      "text/plain": [
       "YearsExperience        2.837888\n",
       "Salary             27414.429785\n",
       "dtype: float64"
      ]
     },
     "execution_count": 23,
     "metadata": {},
     "output_type": "execute_result"
    }
   ],
   "source": [
    "std = df.std()\n",
    "std"
   ]
  },
  {
   "cell_type": "code",
   "execution_count": 24,
   "id": "af9a7e2a-e330-4e96-8064-63f639eb148d",
   "metadata": {},
   "outputs": [
    {
     "data": {
      "text/plain": [
       "array([0.5251297 , 0.35463929])"
      ]
     },
     "execution_count": 24,
     "metadata": {},
     "output_type": "execute_result"
    }
   ],
   "source": [
    "import scipy.stats as stats\n",
    "from scipy.stats import variation\n",
    "\n",
    "var = variation(df.values)\n",
    "var"
   ]
  },
  {
   "cell_type": "code",
   "execution_count": 25,
   "id": "1927d8f6-cfd2-4869-b98a-c9ed072462c0",
   "metadata": {},
   "outputs": [
    {
     "data": {
      "text/html": [
       "<div>\n",
       "<style scoped>\n",
       "    .dataframe tbody tr th:only-of-type {\n",
       "        vertical-align: middle;\n",
       "    }\n",
       "\n",
       "    .dataframe tbody tr th {\n",
       "        vertical-align: top;\n",
       "    }\n",
       "\n",
       "    .dataframe thead th {\n",
       "        text-align: right;\n",
       "    }\n",
       "</style>\n",
       "<table border=\"1\" class=\"dataframe\">\n",
       "  <thead>\n",
       "    <tr style=\"text-align: right;\">\n",
       "      <th></th>\n",
       "      <th>YearsExperience</th>\n",
       "      <th>Salary</th>\n",
       "    </tr>\n",
       "  </thead>\n",
       "  <tbody>\n",
       "    <tr>\n",
       "      <th>YearsExperience</th>\n",
       "      <td>1.000000</td>\n",
       "      <td>0.978242</td>\n",
       "    </tr>\n",
       "    <tr>\n",
       "      <th>Salary</th>\n",
       "      <td>0.978242</td>\n",
       "      <td>1.000000</td>\n",
       "    </tr>\n",
       "  </tbody>\n",
       "</table>\n",
       "</div>"
      ],
      "text/plain": [
       "                 YearsExperience    Salary\n",
       "YearsExperience         1.000000  0.978242\n",
       "Salary                  0.978242  1.000000"
      ]
     },
     "execution_count": 25,
     "metadata": {},
     "output_type": "execute_result"
    }
   ],
   "source": [
    "corr = df.corr()\n",
    "corr"
   ]
  },
  {
   "cell_type": "code",
   "execution_count": 26,
   "id": "924b6ecd-b633-466a-9079-9117dafe8e99",
   "metadata": {},
   "outputs": [
    {
     "data": {
      "text/plain": [
       "np.float64(0.9782416184887598)"
      ]
     },
     "execution_count": 26,
     "metadata": {},
     "output_type": "execute_result"
    }
   ],
   "source": [
    "cor_salary = df.Salary.corr(df.YearsExperience)\n",
    "cor_salary"
   ]
  },
  {
   "cell_type": "code",
   "execution_count": 27,
   "id": "89a17631-59cd-4c6b-8a1e-4d6557ba2ba7",
   "metadata": {},
   "outputs": [
    {
     "data": {
      "text/plain": [
       "YearsExperience       0.518125\n",
       "Salary             5005.167198\n",
       "dtype: float64"
      ]
     },
     "execution_count": 27,
     "metadata": {},
     "output_type": "execute_result"
    }
   ],
   "source": [
    "standard_error = df.sem()\n",
    "standard_error"
   ]
  },
  {
   "cell_type": "code",
   "execution_count": null,
   "id": "89438966-62ae-442b-940e-6cec73635947",
   "metadata": {},
   "outputs": [],
   "source": []
  },
  {
   "cell_type": "code",
   "execution_count": 28,
   "id": "5ba2692e-fa8e-4cbd-9e78-8802a3cf4342",
   "metadata": {},
   "outputs": [
    {
     "data": {
      "text/html": [
       "<div>\n",
       "<style scoped>\n",
       "    .dataframe tbody tr th:only-of-type {\n",
       "        vertical-align: middle;\n",
       "    }\n",
       "\n",
       "    .dataframe tbody tr th {\n",
       "        vertical-align: top;\n",
       "    }\n",
       "\n",
       "    .dataframe thead th {\n",
       "        text-align: right;\n",
       "    }\n",
       "</style>\n",
       "<table border=\"1\" class=\"dataframe\">\n",
       "  <thead>\n",
       "    <tr style=\"text-align: right;\">\n",
       "      <th></th>\n",
       "      <th>YearsExperience</th>\n",
       "      <th>Salary</th>\n",
       "    </tr>\n",
       "  </thead>\n",
       "  <tbody>\n",
       "    <tr>\n",
       "      <th>0</th>\n",
       "      <td>-1.510053</td>\n",
       "      <td>-1.360113</td>\n",
       "    </tr>\n",
       "    <tr>\n",
       "      <th>1</th>\n",
       "      <td>-1.438373</td>\n",
       "      <td>-1.105527</td>\n",
       "    </tr>\n",
       "    <tr>\n",
       "      <th>2</th>\n",
       "      <td>-1.366693</td>\n",
       "      <td>-1.419919</td>\n",
       "    </tr>\n",
       "    <tr>\n",
       "      <th>3</th>\n",
       "      <td>-1.187494</td>\n",
       "      <td>-1.204957</td>\n",
       "    </tr>\n",
       "    <tr>\n",
       "      <th>4</th>\n",
       "      <td>-1.115814</td>\n",
       "      <td>-1.339781</td>\n",
       "    </tr>\n",
       "  </tbody>\n",
       "</table>\n",
       "</div>"
      ],
      "text/plain": [
       "   YearsExperience    Salary\n",
       "0        -1.510053 -1.360113\n",
       "1        -1.438373 -1.105527\n",
       "2        -1.366693 -1.419919\n",
       "3        -1.187494 -1.204957\n",
       "4        -1.115814 -1.339781"
      ]
     },
     "execution_count": 28,
     "metadata": {},
     "output_type": "execute_result"
    }
   ],
   "source": [
    "#z_score \n",
    "\n",
    "z_score = df.apply(stats.zscore)\n",
    "z_score.head()"
   ]
  },
  {
   "cell_type": "code",
   "execution_count": 29,
   "id": "91b7fa7d-6bc2-478c-b491-bd9746ea50ca",
   "metadata": {},
   "outputs": [
    {
     "name": "stdout",
     "output_type": "stream",
     "text": [
      "28\n"
     ]
    }
   ],
   "source": [
    "#Degree of freedom \n",
    "\n",
    "a = df.shape[0]\n",
    "b = df.shape[1]\n",
    "\n",
    "degree_of_freedom = a - b\n",
    "print(degree_of_freedom)"
   ]
  },
  {
   "cell_type": "code",
   "execution_count": 30,
   "id": "f8addbde-514b-4869-9e5c-81b17c0975f2",
   "metadata": {},
   "outputs": [
    {
     "name": "stdout",
     "output_type": "stream",
     "text": [
      "SSR: 2982433598.9122176\n"
     ]
    }
   ],
   "source": [
    "#SSR\n",
    "\n",
    "y_mean = np.mean(y)\n",
    "SSR = np.sum((y_pred - y_mean)**2)\n",
    "print(f\"SSR: {SSR}\")"
   ]
  },
  {
   "cell_type": "code",
   "execution_count": 31,
   "id": "b227725d-9d6a-44d8-bd43-d44196050d8a",
   "metadata": {},
   "outputs": [
    {
     "name": "stdout",
     "output_type": "stream",
     "text": [
      "SSE : 11954646647.385353\n"
     ]
    }
   ],
   "source": [
    "#SSE\n",
    "\n",
    "\n",
    "y = y[0:6]\n",
    "SSE = np.sum((y - y_pred) **2)\n",
    "print(f\"SSE : {SSE}\")"
   ]
  },
  {
   "cell_type": "code",
   "execution_count": 32,
   "id": "e5582284-0ab2-4ed0-9d24-04713a967083",
   "metadata": {},
   "outputs": [
    {
     "name": "stdout",
     "output_type": "stream",
     "text": [
      "SST : 108429703765.82735\n"
     ]
    }
   ],
   "source": [
    "#SST \n",
    "\n",
    "mean_total = np.mean(df.values)\n",
    "SST = np.sum((df.values - mean_total) ** 2 )\n",
    "print(f\"SST : {SST}\")"
   ]
  },
  {
   "cell_type": "code",
   "execution_count": 33,
   "id": "2560ffff-dc93-4a3a-85a0-117a9feeb966",
   "metadata": {},
   "outputs": [
    {
     "name": "stdout",
     "output_type": "stream",
     "text": [
      "r_square : 0.9724943120258513\n"
     ]
    }
   ],
   "source": [
    "#Quality  of Model \n",
    "r_square = 1 - (SSR/SST)\n",
    "print(f\"r_square : {r_square}\")"
   ]
  }
 ],
 "metadata": {
  "kernelspec": {
   "display_name": "Python 3",
   "language": "python",
   "name": "python3"
  },
  "language_info": {
   "codemirror_mode": {
    "name": "ipython",
    "version": 3
   },
   "file_extension": ".py",
   "mimetype": "text/x-python",
   "name": "python",
   "nbconvert_exporter": "python",
   "pygments_lexer": "ipython3",
   "version": "3.12.0"
  }
 },
 "nbformat": 4,
 "nbformat_minor": 5
}
