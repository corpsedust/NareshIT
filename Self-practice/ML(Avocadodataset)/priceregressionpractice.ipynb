{
 "cells": [
  {
   "cell_type": "markdown",
   "id": "86e555c5",
   "metadata": {},
   "source": [
    "# Table of contents\n",
    "\n",
    "[1. Which regions have the lowest and highest prices of Avocado ?](#Question_no1) </br>\n",
    "[2. What region with highest produciton of Avocado ?](#Question_no2)<br>\n",
    "[3. What is the average avocado price in each year ?](#Question_no3)<br>\n",
    "[4. What is th average avocado volume in each year ?](#Quesion_no4) <br>\n"
   ]
  },
  {
   "cell_type": "code",
   "execution_count": 2,
   "id": "c0d7f44e",
   "metadata": {},
   "outputs": [],
   "source": [
    "import numpy as np\n",
    "import pandas as pd\n",
    "import matplotlib.pyplot as plt \n",
    "import seaborn as sns\n",
    "from sklearn.linear_model import LinearRegression\n",
    "from sklearn.model_selection import train_test_split"
   ]
  },
  {
   "cell_type": "code",
   "execution_count": 3,
   "id": "f4a68be8",
   "metadata": {},
   "outputs": [
    {
     "data": {
      "application/vnd.microsoft.datawrangler.viewer.v0+json": {
       "columns": [
        {
         "name": "index",
         "rawType": "int64",
         "type": "integer"
        },
        {
         "name": "Unnamed: 0",
         "rawType": "int64",
         "type": "integer"
        },
        {
         "name": "Date",
         "rawType": "object",
         "type": "string"
        },
        {
         "name": "AveragePrice",
         "rawType": "float64",
         "type": "float"
        },
        {
         "name": "Total Volume",
         "rawType": "float64",
         "type": "float"
        },
        {
         "name": "4046",
         "rawType": "float64",
         "type": "float"
        },
        {
         "name": "4225",
         "rawType": "float64",
         "type": "float"
        },
        {
         "name": "4770",
         "rawType": "float64",
         "type": "float"
        },
        {
         "name": "Total Bags",
         "rawType": "float64",
         "type": "float"
        },
        {
         "name": "Small Bags",
         "rawType": "float64",
         "type": "float"
        },
        {
         "name": "Large Bags",
         "rawType": "float64",
         "type": "float"
        },
        {
         "name": "XLarge Bags",
         "rawType": "float64",
         "type": "float"
        },
        {
         "name": "type",
         "rawType": "object",
         "type": "string"
        },
        {
         "name": "year",
         "rawType": "int64",
         "type": "integer"
        },
        {
         "name": "region",
         "rawType": "object",
         "type": "string"
        }
       ],
       "conversionMethod": "pd.DataFrame",
       "ref": "80d00b6c-dae6-41ac-919b-81579b482a28",
       "rows": [
        [
         "0",
         "0",
         "2015-12-27",
         "1.33",
         "64236.62",
         "1036.74",
         "54454.85",
         "48.16",
         "8696.87",
         "8603.62",
         "93.25",
         "0.0",
         "conventional",
         "2015",
         "Albany"
        ],
        [
         "1",
         "1",
         "2015-12-20",
         "1.35",
         "54876.98",
         "674.28",
         "44638.81",
         "58.33",
         "9505.56",
         "9408.07",
         "97.49",
         "0.0",
         "conventional",
         "2015",
         "Albany"
        ],
        [
         "2",
         "2",
         "2015-12-13",
         "0.93",
         "118220.22",
         "794.7",
         "109149.67",
         "130.5",
         "8145.35",
         "8042.21",
         "103.14",
         "0.0",
         "conventional",
         "2015",
         "Albany"
        ],
        [
         "3",
         "3",
         "2015-12-06",
         "1.08",
         "78992.15",
         "1132.0",
         "71976.41",
         "72.58",
         "5811.16",
         "5677.4",
         "133.76",
         "0.0",
         "conventional",
         "2015",
         "Albany"
        ],
        [
         "4",
         "4",
         "2015-11-29",
         "1.28",
         "51039.6",
         "941.48",
         "43838.39",
         "75.78",
         "6183.95",
         "5986.26",
         "197.69",
         "0.0",
         "conventional",
         "2015",
         "Albany"
        ]
       ],
       "shape": {
        "columns": 14,
        "rows": 5
       }
      },
      "text/html": [
       "<div>\n",
       "<style scoped>\n",
       "    .dataframe tbody tr th:only-of-type {\n",
       "        vertical-align: middle;\n",
       "    }\n",
       "\n",
       "    .dataframe tbody tr th {\n",
       "        vertical-align: top;\n",
       "    }\n",
       "\n",
       "    .dataframe thead th {\n",
       "        text-align: right;\n",
       "    }\n",
       "</style>\n",
       "<table border=\"1\" class=\"dataframe\">\n",
       "  <thead>\n",
       "    <tr style=\"text-align: right;\">\n",
       "      <th></th>\n",
       "      <th>Unnamed: 0</th>\n",
       "      <th>Date</th>\n",
       "      <th>AveragePrice</th>\n",
       "      <th>Total Volume</th>\n",
       "      <th>4046</th>\n",
       "      <th>4225</th>\n",
       "      <th>4770</th>\n",
       "      <th>Total Bags</th>\n",
       "      <th>Small Bags</th>\n",
       "      <th>Large Bags</th>\n",
       "      <th>XLarge Bags</th>\n",
       "      <th>type</th>\n",
       "      <th>year</th>\n",
       "      <th>region</th>\n",
       "    </tr>\n",
       "  </thead>\n",
       "  <tbody>\n",
       "    <tr>\n",
       "      <th>0</th>\n",
       "      <td>0</td>\n",
       "      <td>2015-12-27</td>\n",
       "      <td>1.33</td>\n",
       "      <td>64236.62</td>\n",
       "      <td>1036.74</td>\n",
       "      <td>54454.85</td>\n",
       "      <td>48.16</td>\n",
       "      <td>8696.87</td>\n",
       "      <td>8603.62</td>\n",
       "      <td>93.25</td>\n",
       "      <td>0.0</td>\n",
       "      <td>conventional</td>\n",
       "      <td>2015</td>\n",
       "      <td>Albany</td>\n",
       "    </tr>\n",
       "    <tr>\n",
       "      <th>1</th>\n",
       "      <td>1</td>\n",
       "      <td>2015-12-20</td>\n",
       "      <td>1.35</td>\n",
       "      <td>54876.98</td>\n",
       "      <td>674.28</td>\n",
       "      <td>44638.81</td>\n",
       "      <td>58.33</td>\n",
       "      <td>9505.56</td>\n",
       "      <td>9408.07</td>\n",
       "      <td>97.49</td>\n",
       "      <td>0.0</td>\n",
       "      <td>conventional</td>\n",
       "      <td>2015</td>\n",
       "      <td>Albany</td>\n",
       "    </tr>\n",
       "    <tr>\n",
       "      <th>2</th>\n",
       "      <td>2</td>\n",
       "      <td>2015-12-13</td>\n",
       "      <td>0.93</td>\n",
       "      <td>118220.22</td>\n",
       "      <td>794.70</td>\n",
       "      <td>109149.67</td>\n",
       "      <td>130.50</td>\n",
       "      <td>8145.35</td>\n",
       "      <td>8042.21</td>\n",
       "      <td>103.14</td>\n",
       "      <td>0.0</td>\n",
       "      <td>conventional</td>\n",
       "      <td>2015</td>\n",
       "      <td>Albany</td>\n",
       "    </tr>\n",
       "    <tr>\n",
       "      <th>3</th>\n",
       "      <td>3</td>\n",
       "      <td>2015-12-06</td>\n",
       "      <td>1.08</td>\n",
       "      <td>78992.15</td>\n",
       "      <td>1132.00</td>\n",
       "      <td>71976.41</td>\n",
       "      <td>72.58</td>\n",
       "      <td>5811.16</td>\n",
       "      <td>5677.40</td>\n",
       "      <td>133.76</td>\n",
       "      <td>0.0</td>\n",
       "      <td>conventional</td>\n",
       "      <td>2015</td>\n",
       "      <td>Albany</td>\n",
       "    </tr>\n",
       "    <tr>\n",
       "      <th>4</th>\n",
       "      <td>4</td>\n",
       "      <td>2015-11-29</td>\n",
       "      <td>1.28</td>\n",
       "      <td>51039.60</td>\n",
       "      <td>941.48</td>\n",
       "      <td>43838.39</td>\n",
       "      <td>75.78</td>\n",
       "      <td>6183.95</td>\n",
       "      <td>5986.26</td>\n",
       "      <td>197.69</td>\n",
       "      <td>0.0</td>\n",
       "      <td>conventional</td>\n",
       "      <td>2015</td>\n",
       "      <td>Albany</td>\n",
       "    </tr>\n",
       "  </tbody>\n",
       "</table>\n",
       "</div>"
      ],
      "text/plain": [
       "   Unnamed: 0        Date  AveragePrice  Total Volume     4046       4225  \\\n",
       "0           0  2015-12-27          1.33      64236.62  1036.74   54454.85   \n",
       "1           1  2015-12-20          1.35      54876.98   674.28   44638.81   \n",
       "2           2  2015-12-13          0.93     118220.22   794.70  109149.67   \n",
       "3           3  2015-12-06          1.08      78992.15  1132.00   71976.41   \n",
       "4           4  2015-11-29          1.28      51039.60   941.48   43838.39   \n",
       "\n",
       "     4770  Total Bags  Small Bags  Large Bags  XLarge Bags          type  \\\n",
       "0   48.16     8696.87     8603.62       93.25          0.0  conventional   \n",
       "1   58.33     9505.56     9408.07       97.49          0.0  conventional   \n",
       "2  130.50     8145.35     8042.21      103.14          0.0  conventional   \n",
       "3   72.58     5811.16     5677.40      133.76          0.0  conventional   \n",
       "4   75.78     6183.95     5986.26      197.69          0.0  conventional   \n",
       "\n",
       "   year  region  \n",
       "0  2015  Albany  \n",
       "1  2015  Albany  \n",
       "2  2015  Albany  \n",
       "3  2015  Albany  \n",
       "4  2015  Albany  "
      ]
     },
     "execution_count": 3,
     "metadata": {},
     "output_type": "execute_result"
    }
   ],
   "source": [
    "df = pd.read_csv(\"avocado.csv\")\n",
    "df.head()"
   ]
  },
  {
   "cell_type": "code",
   "execution_count": 4,
   "id": "bbb19679",
   "metadata": {},
   "outputs": [
    {
     "name": "stdout",
     "output_type": "stream",
     "text": [
      "<class 'pandas.core.frame.DataFrame'>\n",
      "RangeIndex: 18249 entries, 0 to 18248\n",
      "Data columns (total 14 columns):\n",
      " #   Column        Non-Null Count  Dtype  \n",
      "---  ------        --------------  -----  \n",
      " 0   Unnamed: 0    18249 non-null  int64  \n",
      " 1   Date          18249 non-null  object \n",
      " 2   AveragePrice  18249 non-null  float64\n",
      " 3   Total Volume  18249 non-null  float64\n",
      " 4   4046          18249 non-null  float64\n",
      " 5   4225          18249 non-null  float64\n",
      " 6   4770          18249 non-null  float64\n",
      " 7   Total Bags    18249 non-null  float64\n",
      " 8   Small Bags    18249 non-null  float64\n",
      " 9   Large Bags    18249 non-null  float64\n",
      " 10  XLarge Bags   18249 non-null  float64\n",
      " 11  type          18249 non-null  object \n",
      " 12  year          18249 non-null  int64  \n",
      " 13  region        18249 non-null  object \n",
      "dtypes: float64(9), int64(2), object(3)\n",
      "memory usage: 1.9+ MB\n"
     ]
    }
   ],
   "source": [
    "df.info()"
   ]
  },
  {
   "cell_type": "code",
   "execution_count": 5,
   "id": "2a7f9b6f",
   "metadata": {},
   "outputs": [
    {
     "data": {
      "text/plain": [
       "Unnamed: 0      0\n",
       "Date            0\n",
       "AveragePrice    0\n",
       "Total Volume    0\n",
       "4046            0\n",
       "4225            0\n",
       "4770            0\n",
       "Total Bags      0\n",
       "Small Bags      0\n",
       "Large Bags      0\n",
       "XLarge Bags     0\n",
       "type            0\n",
       "year            0\n",
       "region          0\n",
       "dtype: int64"
      ]
     },
     "execution_count": 5,
     "metadata": {},
     "output_type": "execute_result"
    }
   ],
   "source": [
    "df.isnull().sum()"
   ]
  },
  {
   "cell_type": "code",
   "execution_count": 6,
   "id": "48953dbd",
   "metadata": {},
   "outputs": [
    {
     "data": {
      "text/plain": [
       "Index(['Unnamed: 0', 'Date', 'AveragePrice', 'Total Volume', '4046', '4225',\n",
       "       '4770', 'Total Bags', 'Small Bags', 'Large Bags', 'XLarge Bags', 'type',\n",
       "       'year', 'region'],\n",
       "      dtype='object')"
      ]
     },
     "execution_count": 6,
     "metadata": {},
     "output_type": "execute_result"
    }
   ],
   "source": [
    "df.columns"
   ]
  },
  {
   "cell_type": "code",
   "execution_count": 7,
   "id": "02f14599",
   "metadata": {},
   "outputs": [
    {
     "data": {
      "application/vnd.microsoft.datawrangler.viewer.v0+json": {
       "columns": [
        {
         "name": "index",
         "rawType": "int64",
         "type": "integer"
        },
        {
         "name": "AveragePrice",
         "rawType": "float64",
         "type": "float"
        },
        {
         "name": "Total Volume",
         "rawType": "float64",
         "type": "float"
        },
        {
         "name": "Total Bags",
         "rawType": "float64",
         "type": "float"
        },
        {
         "name": "Small Bags",
         "rawType": "float64",
         "type": "float"
        },
        {
         "name": "Large Bags",
         "rawType": "float64",
         "type": "float"
        },
        {
         "name": "XLarge Bags",
         "rawType": "float64",
         "type": "float"
        },
        {
         "name": "type",
         "rawType": "object",
         "type": "string"
        },
        {
         "name": "year",
         "rawType": "int64",
         "type": "integer"
        },
        {
         "name": "region",
         "rawType": "object",
         "type": "string"
        }
       ],
       "conversionMethod": "pd.DataFrame",
       "ref": "7b533b4e-f281-4f42-9453-b2eaa5aa8110",
       "rows": [
        [
         "0",
         "1.33",
         "64236.62",
         "8696.87",
         "8603.62",
         "93.25",
         "0.0",
         "conventional",
         "2015",
         "Albany"
        ],
        [
         "1",
         "1.35",
         "54876.98",
         "9505.56",
         "9408.07",
         "97.49",
         "0.0",
         "conventional",
         "2015",
         "Albany"
        ],
        [
         "2",
         "0.93",
         "118220.22",
         "8145.35",
         "8042.21",
         "103.14",
         "0.0",
         "conventional",
         "2015",
         "Albany"
        ],
        [
         "3",
         "1.08",
         "78992.15",
         "5811.16",
         "5677.4",
         "133.76",
         "0.0",
         "conventional",
         "2015",
         "Albany"
        ],
        [
         "4",
         "1.28",
         "51039.6",
         "6183.95",
         "5986.26",
         "197.69",
         "0.0",
         "conventional",
         "2015",
         "Albany"
        ]
       ],
       "shape": {
        "columns": 9,
        "rows": 5
       }
      },
      "text/html": [
       "<div>\n",
       "<style scoped>\n",
       "    .dataframe tbody tr th:only-of-type {\n",
       "        vertical-align: middle;\n",
       "    }\n",
       "\n",
       "    .dataframe tbody tr th {\n",
       "        vertical-align: top;\n",
       "    }\n",
       "\n",
       "    .dataframe thead th {\n",
       "        text-align: right;\n",
       "    }\n",
       "</style>\n",
       "<table border=\"1\" class=\"dataframe\">\n",
       "  <thead>\n",
       "    <tr style=\"text-align: right;\">\n",
       "      <th></th>\n",
       "      <th>AveragePrice</th>\n",
       "      <th>Total Volume</th>\n",
       "      <th>Total Bags</th>\n",
       "      <th>Small Bags</th>\n",
       "      <th>Large Bags</th>\n",
       "      <th>XLarge Bags</th>\n",
       "      <th>type</th>\n",
       "      <th>year</th>\n",
       "      <th>region</th>\n",
       "    </tr>\n",
       "  </thead>\n",
       "  <tbody>\n",
       "    <tr>\n",
       "      <th>0</th>\n",
       "      <td>1.33</td>\n",
       "      <td>64236.62</td>\n",
       "      <td>8696.87</td>\n",
       "      <td>8603.62</td>\n",
       "      <td>93.25</td>\n",
       "      <td>0.0</td>\n",
       "      <td>conventional</td>\n",
       "      <td>2015</td>\n",
       "      <td>Albany</td>\n",
       "    </tr>\n",
       "    <tr>\n",
       "      <th>1</th>\n",
       "      <td>1.35</td>\n",
       "      <td>54876.98</td>\n",
       "      <td>9505.56</td>\n",
       "      <td>9408.07</td>\n",
       "      <td>97.49</td>\n",
       "      <td>0.0</td>\n",
       "      <td>conventional</td>\n",
       "      <td>2015</td>\n",
       "      <td>Albany</td>\n",
       "    </tr>\n",
       "    <tr>\n",
       "      <th>2</th>\n",
       "      <td>0.93</td>\n",
       "      <td>118220.22</td>\n",
       "      <td>8145.35</td>\n",
       "      <td>8042.21</td>\n",
       "      <td>103.14</td>\n",
       "      <td>0.0</td>\n",
       "      <td>conventional</td>\n",
       "      <td>2015</td>\n",
       "      <td>Albany</td>\n",
       "    </tr>\n",
       "    <tr>\n",
       "      <th>3</th>\n",
       "      <td>1.08</td>\n",
       "      <td>78992.15</td>\n",
       "      <td>5811.16</td>\n",
       "      <td>5677.40</td>\n",
       "      <td>133.76</td>\n",
       "      <td>0.0</td>\n",
       "      <td>conventional</td>\n",
       "      <td>2015</td>\n",
       "      <td>Albany</td>\n",
       "    </tr>\n",
       "    <tr>\n",
       "      <th>4</th>\n",
       "      <td>1.28</td>\n",
       "      <td>51039.60</td>\n",
       "      <td>6183.95</td>\n",
       "      <td>5986.26</td>\n",
       "      <td>197.69</td>\n",
       "      <td>0.0</td>\n",
       "      <td>conventional</td>\n",
       "      <td>2015</td>\n",
       "      <td>Albany</td>\n",
       "    </tr>\n",
       "  </tbody>\n",
       "</table>\n",
       "</div>"
      ],
      "text/plain": [
       "   AveragePrice  Total Volume  Total Bags  Small Bags  Large Bags  \\\n",
       "0          1.33      64236.62     8696.87     8603.62       93.25   \n",
       "1          1.35      54876.98     9505.56     9408.07       97.49   \n",
       "2          0.93     118220.22     8145.35     8042.21      103.14   \n",
       "3          1.08      78992.15     5811.16     5677.40      133.76   \n",
       "4          1.28      51039.60     6183.95     5986.26      197.69   \n",
       "\n",
       "   XLarge Bags          type  year  region  \n",
       "0          0.0  conventional  2015  Albany  \n",
       "1          0.0  conventional  2015  Albany  \n",
       "2          0.0  conventional  2015  Albany  \n",
       "3          0.0  conventional  2015  Albany  \n",
       "4          0.0  conventional  2015  Albany  "
      ]
     },
     "execution_count": 7,
     "metadata": {},
     "output_type": "execute_result"
    }
   ],
   "source": [
    "df = df.drop(['Unnamed: 0', 'Date', '4046', '4225', '4770'], axis = 1)\n",
    "df.head()"
   ]
  },
  {
   "cell_type": "code",
   "execution_count": 8,
   "id": "ab759810",
   "metadata": {},
   "outputs": [],
   "source": [
    "def get_average(df,column):\n",
    "    return sum(df[column]) / len(df)\n",
    "\n",
    "def get_average_between_two_columns(df, column1, column2):\n",
    "    \n",
    "    lst = list(df[column1].unique())\n",
    "    average = []\n",
    "    for i in lst:\n",
    "        x = df[df[column1] == i] \n",
    "        column1_average = get_average(x,column2)\n",
    "        average.append(column1_average)\n",
    "    \n",
    "    df_column1_column_2 = pd.DataFrame({'column1':lst, 'column2':average})       \n",
    "    column1_column_sorted_index = df_column1_column_2.column2.sort_values(ascending=False).index.values\n",
    "    column1_column_sorted_data = df_column1_column_2.reindex(column1_column_sorted_index)\n",
    "    \n",
    "    return column1_column_sorted_data"
   ]
  },
  {
   "cell_type": "code",
   "execution_count": 9,
   "id": "6fe27a82",
   "metadata": {},
   "outputs": [],
   "source": [
    "def plot(data, xlabel, ylabel):\n",
    "    plt.figure(figsize=(15,5))\n",
    "    ax = sns.barplot(x = data.column1, y = data.column2, palette = \"Spectral\", hue = data.column1 , legend=False)\n",
    "    plt.xticks(rotation  = 90)\n",
    "    plt.xlabel(xlabel)\n",
    "    plt.ylabel(ylabel)\n",
    "    plt.title(f\"Average {ylabel} of Avocado according to {xlabel}\")"
   ]
  },
  {
   "cell_type": "markdown",
   "id": "3e18946b",
   "metadata": {},
   "source": [
    "<a id=\"Question_no1\"></a>\n",
    "### Which regions have the lowest and highest prices of Avocado"
   ]
  },
  {
   "cell_type": "code",
   "execution_count": 10,
   "id": "68832fb6",
   "metadata": {},
   "outputs": [
    {
     "data": {
      "image/png": "[encoded data removed]",
      "text/plain": [
       "<Figure size 1500x500 with 1 Axes>"
      ]
     },
     "metadata": {},
     "output_type": "display_data"
    }
   ],
   "source": [
    "data = get_average_between_two_columns(df, \"region\", \"AveragePrice\")\n",
    "plot(data, \"Region\", \"Pric ($)\")"
   ]
  },
  {
   "cell_type": "code",
   "execution_count": 11,
   "id": "12567413",
   "metadata": {},
   "outputs": [
    {
     "data": {
      "application/vnd.microsoft.datawrangler.viewer.v0+json": {
       "columns": [
        {
         "name": "index",
         "rawType": "int64",
         "type": "integer"
        },
        {
         "name": "column1",
         "rawType": "object",
         "type": "string"
        },
        {
         "name": "column2",
         "rawType": "float64",
         "type": "float"
        }
       ],
       "conversionMethod": "pd.DataFrame",
       "ref": "b39c1626-05ec-4b25-b947-c02f9fcaa1c6",
       "rows": [
        [
         "17",
         "HartfordSpringfield",
         "1.818639053254438"
        ],
        [
         "42",
         "SanFrancisco",
         "1.804201183431953"
        ],
        [
         "28",
         "NewYork",
         "1.7275739644970414"
        ],
        [
         "32",
         "Philadelphia",
         "1.6321301775147927"
        ],
        [
         "40",
         "Sacramento",
         "1.6215680473372782"
        ],
        [
         "7",
         "Charlotte",
         "1.60603550295858"
        ],
        [
         "29",
         "Northeast",
         "1.601923076923077"
        ],
        [
         "0",
         "Albany",
         "1.5610355029585798"
        ],
        [
         "8",
         "Chicago",
         "1.5567751479289942"
        ],
        [
         "37",
         "RaleighGreensboro",
         "1.5551183431952662"
        ],
        [
         "2",
         "BaltimoreWashington",
         "1.5342307692307693"
        ],
        [
         "4",
         "Boston",
         "1.5308875739644972"
        ],
        [
         "49",
         "Syracuse",
         "1.5203254437869822"
        ],
        [
         "5",
         "BuffaloRochester",
         "1.5168343195266274"
        ],
        [
         "16",
         "HarrisburgScranton",
         "1.5132840236686391"
        ],
        [
         "20",
         "Jacksonville",
         "1.5109467455621302"
        ],
        [
         "31",
         "Orlando",
         "1.5062130177514794"
        ],
        [
         "14",
         "GrandRapids",
         "1.505"
        ],
        [
         "30",
         "NorthernNewEngland",
         "1.477396449704142"
        ],
        [
         "47",
         "Spokane",
         "1.4455917159763314"
        ],
        [
         "43",
         "Seattle",
         "1.4425739644970414"
        ],
        [
         "35",
         "Plains",
         "1.4365088757396451"
        ],
        [
         "48",
         "StLouis",
         "1.430621301775148"
        ],
        [
         "24",
         "MiamiFtLauderdale",
         "1.428491124260355"
        ],
        [
         "50",
         "Tampa",
         "1.4088461538461539"
        ],
        [
         "25",
         "Midsouth",
         "1.4047633136094675"
        ],
        [
         "44",
         "SouthCarolina",
         "1.403284023668639"
        ],
        [
         "41",
         "SanDiego",
         "1.3981656804733726"
        ],
        [
         "46",
         "Southeast",
         "1.3980177514792897"
        ],
        [
         "6",
         "California",
         "1.3953254437869822"
        ],
        [
         "21",
         "LasVegas",
         "1.3809171597633136"
        ],
        [
         "34",
         "Pittsburgh",
         "1.364319526627219"
        ],
        [
         "3",
         "Boise",
         "1.3481360946745562"
        ],
        [
         "15",
         "GreatLakes",
         "1.3385502958579882"
        ],
        [
         "1",
         "Atlanta",
         "1.337958579881657"
        ],
        [
         "51",
         "TotalUS",
         "1.3190236686390533"
        ],
        [
         "36",
         "Portland",
         "1.3177218934911241"
        ],
        [
         "19",
         "Indianapolis",
         "1.3139940828402368"
        ],
        [
         "27",
         "NewOrleansMobile",
         "1.304792899408284"
        ],
        [
         "38",
         "RichmondNorfolk",
         "1.2913313609467456"
        ],
        [
         "23",
         "Louisville",
         "1.2866863905325443"
        ],
        [
         "13",
         "Detroit",
         "1.276094674556213"
        ],
        [
         "52",
         "West",
         "1.2722189349112425"
        ],
        [
         "53",
         "WestTexNewMexico",
         "1.2617014925373136"
        ],
        [
         "10",
         "Columbus",
         "1.2527810650887574"
        ],
        [
         "39",
         "Roanoke",
         "1.2479289940828402"
        ],
        [
         "33",
         "PhoenixTucson",
         "1.2244378698224851"
        ],
        [
         "12",
         "Denver",
         "1.2185798816568048"
        ],
        [
         "22",
         "LosAngeles",
         "1.2160059171597632"
        ],
        [
         "26",
         "Nashville",
         "1.2121005917159764"
        ]
       ],
       "shape": {
        "columns": 2,
        "rows": 54
       }
      },
      "text/html": [
       "<div>\n",
       "<style scoped>\n",
       "    .dataframe tbody tr th:only-of-type {\n",
       "        vertical-align: middle;\n",
       "    }\n",
       "\n",
       "    .dataframe tbody tr th {\n",
       "        vertical-align: top;\n",
       "    }\n",
       "\n",
       "    .dataframe thead th {\n",
       "        text-align: right;\n",
       "    }\n",
       "</style>\n",
       "<table border=\"1\" class=\"dataframe\">\n",
       "  <thead>\n",
       "    <tr style=\"text-align: right;\">\n",
       "      <th></th>\n",
       "      <th>column1</th>\n",
       "      <th>column2</th>\n",
       "    </tr>\n",
       "  </thead>\n",
       "  <tbody>\n",
       "    <tr>\n",
       "      <th>17</th>\n",
       "      <td>HartfordSpringfield</td>\n",
       "      <td>1.818639</td>\n",
       "    </tr>\n",
       "    <tr>\n",
       "      <th>42</th>\n",
       "      <td>SanFrancisco</td>\n",
       "      <td>1.804201</td>\n",
       "    </tr>\n",
       "    <tr>\n",
       "      <th>28</th>\n",
       "      <td>NewYork</td>\n",
       "      <td>1.727574</td>\n",
       "    </tr>\n",
       "    <tr>\n",
       "      <th>32</th>\n",
       "      <td>Philadelphia</td>\n",
       "      <td>1.632130</td>\n",
       "    </tr>\n",
       "    <tr>\n",
       "      <th>40</th>\n",
       "      <td>Sacramento</td>\n",
       "      <td>1.621568</td>\n",
       "    </tr>\n",
       "    <tr>\n",
       "      <th>7</th>\n",
       "      <td>Charlotte</td>\n",
       "      <td>1.606036</td>\n",
       "    </tr>\n",
       "    <tr>\n",
       "      <th>29</th>\n",
       "      <td>Northeast</td>\n",
       "      <td>1.601923</td>\n",
       "    </tr>\n",
       "    <tr>\n",
       "      <th>0</th>\n",
       "      <td>Albany</td>\n",
       "      <td>1.561036</td>\n",
       "    </tr>\n",
       "    <tr>\n",
       "      <th>8</th>\n",
       "      <td>Chicago</td>\n",
       "      <td>1.556775</td>\n",
       "    </tr>\n",
       "    <tr>\n",
       "      <th>37</th>\n",
       "      <td>RaleighGreensboro</td>\n",
       "      <td>1.555118</td>\n",
       "    </tr>\n",
       "    <tr>\n",
       "      <th>2</th>\n",
       "      <td>BaltimoreWashington</td>\n",
       "      <td>1.534231</td>\n",
       "    </tr>\n",
       "    <tr>\n",
       "      <th>4</th>\n",
       "      <td>Boston</td>\n",
       "      <td>1.530888</td>\n",
       "    </tr>\n",
       "    <tr>\n",
       "      <th>49</th>\n",
       "      <td>Syracuse</td>\n",
       "      <td>1.520325</td>\n",
       "    </tr>\n",
       "    <tr>\n",
       "      <th>5</th>\n",
       "      <td>BuffaloRochester</td>\n",
       "      <td>1.516834</td>\n",
       "    </tr>\n",
       "    <tr>\n",
       "      <th>16</th>\n",
       "      <td>HarrisburgScranton</td>\n",
       "      <td>1.513284</td>\n",
       "    </tr>\n",
       "    <tr>\n",
       "      <th>20</th>\n",
       "      <td>Jacksonville</td>\n",
       "      <td>1.510947</td>\n",
       "    </tr>\n",
       "    <tr>\n",
       "      <th>31</th>\n",
       "      <td>Orlando</td>\n",
       "      <td>1.506213</td>\n",
       "    </tr>\n",
       "    <tr>\n",
       "      <th>14</th>\n",
       "      <td>GrandRapids</td>\n",
       "      <td>1.505000</td>\n",
       "    </tr>\n",
       "    <tr>\n",
       "      <th>30</th>\n",
       "      <td>NorthernNewEngland</td>\n",
       "      <td>1.477396</td>\n",
       "    </tr>\n",
       "    <tr>\n",
       "      <th>47</th>\n",
       "      <td>Spokane</td>\n",
       "      <td>1.445592</td>\n",
       "    </tr>\n",
       "    <tr>\n",
       "      <th>43</th>\n",
       "      <td>Seattle</td>\n",
       "      <td>1.442574</td>\n",
       "    </tr>\n",
       "    <tr>\n",
       "      <th>35</th>\n",
       "      <td>Plains</td>\n",
       "      <td>1.436509</td>\n",
       "    </tr>\n",
       "    <tr>\n",
       "      <th>48</th>\n",
       "      <td>StLouis</td>\n",
       "      <td>1.430621</td>\n",
       "    </tr>\n",
       "    <tr>\n",
       "      <th>24</th>\n",
       "      <td>MiamiFtLauderdale</td>\n",
       "      <td>1.428491</td>\n",
       "    </tr>\n",
       "    <tr>\n",
       "      <th>50</th>\n",
       "      <td>Tampa</td>\n",
       "      <td>1.408846</td>\n",
       "    </tr>\n",
       "    <tr>\n",
       "      <th>25</th>\n",
       "      <td>Midsouth</td>\n",
       "      <td>1.404763</td>\n",
       "    </tr>\n",
       "    <tr>\n",
       "      <th>44</th>\n",
       "      <td>SouthCarolina</td>\n",
       "      <td>1.403284</td>\n",
       "    </tr>\n",
       "    <tr>\n",
       "      <th>41</th>\n",
       "      <td>SanDiego</td>\n",
       "      <td>1.398166</td>\n",
       "    </tr>\n",
       "    <tr>\n",
       "      <th>46</th>\n",
       "      <td>Southeast</td>\n",
       "      <td>1.398018</td>\n",
       "    </tr>\n",
       "    <tr>\n",
       "      <th>6</th>\n",
       "      <td>California</td>\n",
       "      <td>1.395325</td>\n",
       "    </tr>\n",
       "    <tr>\n",
       "      <th>21</th>\n",
       "      <td>LasVegas</td>\n",
       "      <td>1.380917</td>\n",
       "    </tr>\n",
       "    <tr>\n",
       "      <th>34</th>\n",
       "      <td>Pittsburgh</td>\n",
       "      <td>1.364320</td>\n",
       "    </tr>\n",
       "    <tr>\n",
       "      <th>3</th>\n",
       "      <td>Boise</td>\n",
       "      <td>1.348136</td>\n",
       "    </tr>\n",
       "    <tr>\n",
       "      <th>15</th>\n",
       "      <td>GreatLakes</td>\n",
       "      <td>1.338550</td>\n",
       "    </tr>\n",
       "    <tr>\n",
       "      <th>1</th>\n",
       "      <td>Atlanta</td>\n",
       "      <td>1.337959</td>\n",
       "    </tr>\n",
       "    <tr>\n",
       "      <th>51</th>\n",
       "      <td>TotalUS</td>\n",
       "      <td>1.319024</td>\n",
       "    </tr>\n",
       "    <tr>\n",
       "      <th>36</th>\n",
       "      <td>Portland</td>\n",
       "      <td>1.317722</td>\n",
       "    </tr>\n",
       "    <tr>\n",
       "      <th>19</th>\n",
       "      <td>Indianapolis</td>\n",
       "      <td>1.313994</td>\n",
       "    </tr>\n",
       "    <tr>\n",
       "      <th>27</th>\n",
       "      <td>NewOrleansMobile</td>\n",
       "      <td>1.304793</td>\n",
       "    </tr>\n",
       "    <tr>\n",
       "      <th>38</th>\n",
       "      <td>RichmondNorfolk</td>\n",
       "      <td>1.291331</td>\n",
       "    </tr>\n",
       "    <tr>\n",
       "      <th>23</th>\n",
       "      <td>Louisville</td>\n",
       "      <td>1.286686</td>\n",
       "    </tr>\n",
       "    <tr>\n",
       "      <th>13</th>\n",
       "      <td>Detroit</td>\n",
       "      <td>1.276095</td>\n",
       "    </tr>\n",
       "    <tr>\n",
       "      <th>52</th>\n",
       "      <td>West</td>\n",
       "      <td>1.272219</td>\n",
       "    </tr>\n",
       "    <tr>\n",
       "      <th>53</th>\n",
       "      <td>WestTexNewMexico</td>\n",
       "      <td>1.261701</td>\n",
       "    </tr>\n",
       "    <tr>\n",
       "      <th>10</th>\n",
       "      <td>Columbus</td>\n",
       "      <td>1.252781</td>\n",
       "    </tr>\n",
       "    <tr>\n",
       "      <th>39</th>\n",
       "      <td>Roanoke</td>\n",
       "      <td>1.247929</td>\n",
       "    </tr>\n",
       "    <tr>\n",
       "      <th>33</th>\n",
       "      <td>PhoenixTucson</td>\n",
       "      <td>1.224438</td>\n",
       "    </tr>\n",
       "    <tr>\n",
       "      <th>12</th>\n",
       "      <td>Denver</td>\n",
       "      <td>1.218580</td>\n",
       "    </tr>\n",
       "    <tr>\n",
       "      <th>22</th>\n",
       "      <td>LosAngeles</td>\n",
       "      <td>1.216006</td>\n",
       "    </tr>\n",
       "    <tr>\n",
       "      <th>26</th>\n",
       "      <td>Nashville</td>\n",
       "      <td>1.212101</td>\n",
       "    </tr>\n",
       "    <tr>\n",
       "      <th>9</th>\n",
       "      <td>CincinnatiDayton</td>\n",
       "      <td>1.209201</td>\n",
       "    </tr>\n",
       "    <tr>\n",
       "      <th>45</th>\n",
       "      <td>SouthCentral</td>\n",
       "      <td>1.101243</td>\n",
       "    </tr>\n",
       "    <tr>\n",
       "      <th>11</th>\n",
       "      <td>DallasFtWorth</td>\n",
       "      <td>1.085592</td>\n",
       "    </tr>\n",
       "    <tr>\n",
       "      <th>18</th>\n",
       "      <td>Houston</td>\n",
       "      <td>1.047929</td>\n",
       "    </tr>\n",
       "  </tbody>\n",
       "</table>\n",
       "</div>"
      ],
      "text/plain": [
       "                column1   column2\n",
       "17  HartfordSpringfield  1.818639\n",
       "42         SanFrancisco  1.804201\n",
       "28              NewYork  1.727574\n",
       "32         Philadelphia  1.632130\n",
       "40           Sacramento  1.621568\n",
       "7             Charlotte  1.606036\n",
       "29            Northeast  1.601923\n",
       "0                Albany  1.561036\n",
       "8               Chicago  1.556775\n",
       "37    RaleighGreensboro  1.555118\n",
       "2   BaltimoreWashington  1.534231\n",
       "4                Boston  1.530888\n",
       "49             Syracuse  1.520325\n",
       "5      BuffaloRochester  1.516834\n",
       "16   HarrisburgScranton  1.513284\n",
       "20         Jacksonville  1.510947\n",
       "31              Orlando  1.506213\n",
       "14          GrandRapids  1.505000\n",
       "30   NorthernNewEngland  1.477396\n",
       "47              Spokane  1.445592\n",
       "43              Seattle  1.442574\n",
       "35               Plains  1.436509\n",
       "48              StLouis  1.430621\n",
       "24    MiamiFtLauderdale  1.428491\n",
       "50                Tampa  1.408846\n",
       "25             Midsouth  1.404763\n",
       "44        SouthCarolina  1.403284\n",
       "41             SanDiego  1.398166\n",
       "46            Southeast  1.398018\n",
       "6            California  1.395325\n",
       "21             LasVegas  1.380917\n",
       "34           Pittsburgh  1.364320\n",
       "3                 Boise  1.348136\n",
       "15           GreatLakes  1.338550\n",
       "1               Atlanta  1.337959\n",
       "51              TotalUS  1.319024\n",
       "36             Portland  1.317722\n",
       "19         Indianapolis  1.313994\n",
       "27     NewOrleansMobile  1.304793\n",
       "38      RichmondNorfolk  1.291331\n",
       "23           Louisville  1.286686\n",
       "13              Detroit  1.276095\n",
       "52                 West  1.272219\n",
       "53     WestTexNewMexico  1.261701\n",
       "10             Columbus  1.252781\n",
       "39              Roanoke  1.247929\n",
       "33        PhoenixTucson  1.224438\n",
       "12               Denver  1.218580\n",
       "22           LosAngeles  1.216006\n",
       "26            Nashville  1.212101\n",
       "9      CincinnatiDayton  1.209201\n",
       "45         SouthCentral  1.101243\n",
       "11        DallasFtWorth  1.085592\n",
       "18              Houston  1.047929"
      ]
     },
     "execution_count": 11,
     "metadata": {},
     "output_type": "execute_result"
    }
   ],
   "source": [
    "data"
   ]
  },
  {
   "cell_type": "markdown",
   "id": "1a115d40",
   "metadata": {},
   "source": [
    "- HartfordSpringfield is the region with the highest average price of Avocado\n",
    "- Houston is the region with lowest average prices "
   ]
  },
  {
   "cell_type": "markdown",
   "id": "b66abebe",
   "metadata": {},
   "source": [
    "<a id = \"Question_no2\"></a>\n",
    "### What region with highest produciton of Avocado"
   ]
  },
  {
   "cell_type": "code",
   "execution_count": 36,
   "id": "209f249e",
   "metadata": {},
   "outputs": [
    {
     "data": {
      "image/png": "[encoded data removed]",
      "text/plain": [
       "<Figure size 1500x500 with 1 Axes>"
      ]
     },
     "metadata": {},
     "output_type": "display_data"
    }
   ],
   "source": [
    "data2 = get_average_between_two_columns(df, \"region\", \"Total Volume\")\n",
    "plot(data2, \"Region\", \"Total Volume\")"
   ]
  },
  {
   "cell_type": "markdown",
   "id": "c403bdfd",
   "metadata": {},
   "source": [
    "- Clearly, Total US is an outlier value"
   ]
  },
  {
   "cell_type": "code",
   "execution_count": 37,
   "id": "c354a292",
   "metadata": {},
   "outputs": [
    {
     "data": {
      "application/vnd.microsoft.datawrangler.viewer.v0+json": {
       "columns": [
        {
         "name": "index",
         "rawType": "int64",
         "type": "integer"
        },
        {
         "name": "column1",
         "rawType": "object",
         "type": "string"
        },
        {
         "name": "column2",
         "rawType": "float64",
         "type": "float"
        }
       ],
       "conversionMethod": "pd.DataFrame",
       "ref": "7d7a64ce-7e0e-4eb6-8f04-cc2194f9a530",
       "rows": [
        [
         "51",
         "TotalUS",
         "17351302.313017752"
        ],
        [
         "52",
         "West",
         "3215322.946005917"
        ],
        [
         "6",
         "California",
         "3044324.4176627216"
        ],
        [
         "45",
         "SouthCentral",
         "2991951.535"
        ],
        [
         "29",
         "Northeast",
         "2110298.5489940825"
        ],
        [
         "46",
         "Southeast",
         "1820231.9796153847"
        ],
        [
         "15",
         "GreatLakes",
         "1744504.5836982247"
        ],
        [
         "25",
         "Midsouth",
         "1503992.1810650888"
        ],
        [
         "22",
         "LosAngeles",
         "1502652.507781065"
        ],
        [
         "35",
         "Plains",
         "920676.121627219"
        ],
        [
         "28",
         "NewYork",
         "712231.1465384616"
        ],
        [
         "11",
         "DallasFtWorth",
         "616625.1081360948"
        ],
        [
         "18",
         "Houston",
         "601088.3662721894"
        ],
        [
         "33",
         "PhoenixTucson",
         "578826.3683431953"
        ],
        [
         "53",
         "WestTexNewMexico",
         "431408.4769552239"
        ],
        [
         "12",
         "Denver",
         "410954.2484911243"
        ],
        [
         "42",
         "SanFrancisco",
         "401864.4727218935"
        ],
        [
         "2",
         "BaltimoreWashington",
         "398561.8914792899"
        ],
        [
         "8",
         "Chicago",
         "395569.04884615383"
        ],
        [
         "36",
         "Portland",
         "327077.549112426"
        ],
        [
         "43",
         "Seattle",
         "323118.869704142"
        ],
        [
         "24",
         "MiamiFtLauderdale",
         "288974.035591716"
        ],
        [
         "4",
         "Boston",
         "287792.8545266272"
        ],
        [
         "41",
         "SanDiego",
         "265656.5671301775"
        ],
        [
         "1",
         "Atlanta",
         "262145.3220414201"
        ],
        [
         "40",
         "Sacramento",
         "222377.94928994082"
        ],
        [
         "32",
         "Philadelphia",
         "212540.8230177515"
        ],
        [
         "30",
         "NorthernNewEngland",
         "211635.78139053253"
        ],
        [
         "50",
         "Tampa",
         "195279.70210059173"
        ],
        [
         "13",
         "Detroit",
         "187640.29402366866"
        ],
        [
         "44",
         "SouthCarolina",
         "179744.8902366864"
        ],
        [
         "31",
         "Orlando",
         "173552.37837278107"
        ],
        [
         "21",
         "LasVegas",
         "160878.42130177515"
        ],
        [
         "17",
         "HartfordSpringfield",
         "149912.8327218935"
        ],
        [
         "37",
         "RaleighGreensboro",
         "142611.63213017752"
        ],
        [
         "27",
         "NewOrleansMobile",
         "135192.71177514794"
        ],
        [
         "9",
         "CincinnatiDayton",
         "131721.91588757397"
        ],
        [
         "38",
         "RichmondNorfolk",
         "124943.34748520711"
        ],
        [
         "16",
         "HarrisburgScranton",
         "123694.84816568048"
        ],
        [
         "26",
         "Nashville",
         "105361.21073964496"
        ],
        [
         "7",
         "Charlotte",
         "105193.91840236686"
        ],
        [
         "48",
         "StLouis",
         "94890.03943786981"
        ],
        [
         "19",
         "Indianapolis",
         "89536.66103550296"
        ],
        [
         "14",
         "GrandRapids",
         "89383.83411242603"
        ],
        [
         "10",
         "Columbus",
         "88737.75568047338"
        ],
        [
         "20",
         "Jacksonville",
         "85177.52881656804"
        ],
        [
         "39",
         "Roanoke",
         "74088.78937869822"
        ],
        [
         "5",
         "BuffaloRochester",
         "67936.30295857988"
        ],
        [
         "34",
         "Pittsburgh",
         "55640.07636094674"
        ],
        [
         "23",
         "Louisville",
         "47624.2674556213"
        ]
       ],
       "shape": {
        "columns": 2,
        "rows": 54
       }
      },
      "text/html": [
       "<div>\n",
       "<style scoped>\n",
       "    .dataframe tbody tr th:only-of-type {\n",
       "        vertical-align: middle;\n",
       "    }\n",
       "\n",
       "    .dataframe tbody tr th {\n",
       "        vertical-align: top;\n",
       "    }\n",
       "\n",
       "    .dataframe thead th {\n",
       "        text-align: right;\n",
       "    }\n",
       "</style>\n",
       "<table border=\"1\" class=\"dataframe\">\n",
       "  <thead>\n",
       "    <tr style=\"text-align: right;\">\n",
       "      <th></th>\n",
       "      <th>column1</th>\n",
       "      <th>column2</th>\n",
       "    </tr>\n",
       "  </thead>\n",
       "  <tbody>\n",
       "    <tr>\n",
       "      <th>51</th>\n",
       "      <td>TotalUS</td>\n",
       "      <td>1.735130e+07</td>\n",
       "    </tr>\n",
       "    <tr>\n",
       "      <th>52</th>\n",
       "      <td>West</td>\n",
       "      <td>3.215323e+06</td>\n",
       "    </tr>\n",
       "    <tr>\n",
       "      <th>6</th>\n",
       "      <td>California</td>\n",
       "      <td>3.044324e+06</td>\n",
       "    </tr>\n",
       "    <tr>\n",
       "      <th>45</th>\n",
       "      <td>SouthCentral</td>\n",
       "      <td>2.991952e+06</td>\n",
       "    </tr>\n",
       "    <tr>\n",
       "      <th>29</th>\n",
       "      <td>Northeast</td>\n",
       "      <td>2.110299e+06</td>\n",
       "    </tr>\n",
       "    <tr>\n",
       "      <th>46</th>\n",
       "      <td>Southeast</td>\n",
       "      <td>1.820232e+06</td>\n",
       "    </tr>\n",
       "    <tr>\n",
       "      <th>15</th>\n",
       "      <td>GreatLakes</td>\n",
       "      <td>1.744505e+06</td>\n",
       "    </tr>\n",
       "    <tr>\n",
       "      <th>25</th>\n",
       "      <td>Midsouth</td>\n",
       "      <td>1.503992e+06</td>\n",
       "    </tr>\n",
       "    <tr>\n",
       "      <th>22</th>\n",
       "      <td>LosAngeles</td>\n",
       "      <td>1.502653e+06</td>\n",
       "    </tr>\n",
       "    <tr>\n",
       "      <th>35</th>\n",
       "      <td>Plains</td>\n",
       "      <td>9.206761e+05</td>\n",
       "    </tr>\n",
       "    <tr>\n",
       "      <th>28</th>\n",
       "      <td>NewYork</td>\n",
       "      <td>7.122311e+05</td>\n",
       "    </tr>\n",
       "    <tr>\n",
       "      <th>11</th>\n",
       "      <td>DallasFtWorth</td>\n",
       "      <td>6.166251e+05</td>\n",
       "    </tr>\n",
       "    <tr>\n",
       "      <th>18</th>\n",
       "      <td>Houston</td>\n",
       "      <td>6.010884e+05</td>\n",
       "    </tr>\n",
       "    <tr>\n",
       "      <th>33</th>\n",
       "      <td>PhoenixTucson</td>\n",
       "      <td>5.788264e+05</td>\n",
       "    </tr>\n",
       "    <tr>\n",
       "      <th>53</th>\n",
       "      <td>WestTexNewMexico</td>\n",
       "      <td>4.314085e+05</td>\n",
       "    </tr>\n",
       "    <tr>\n",
       "      <th>12</th>\n",
       "      <td>Denver</td>\n",
       "      <td>4.109542e+05</td>\n",
       "    </tr>\n",
       "    <tr>\n",
       "      <th>42</th>\n",
       "      <td>SanFrancisco</td>\n",
       "      <td>4.018645e+05</td>\n",
       "    </tr>\n",
       "    <tr>\n",
       "      <th>2</th>\n",
       "      <td>BaltimoreWashington</td>\n",
       "      <td>3.985619e+05</td>\n",
       "    </tr>\n",
       "    <tr>\n",
       "      <th>8</th>\n",
       "      <td>Chicago</td>\n",
       "      <td>3.955690e+05</td>\n",
       "    </tr>\n",
       "    <tr>\n",
       "      <th>36</th>\n",
       "      <td>Portland</td>\n",
       "      <td>3.270775e+05</td>\n",
       "    </tr>\n",
       "    <tr>\n",
       "      <th>43</th>\n",
       "      <td>Seattle</td>\n",
       "      <td>3.231189e+05</td>\n",
       "    </tr>\n",
       "    <tr>\n",
       "      <th>24</th>\n",
       "      <td>MiamiFtLauderdale</td>\n",
       "      <td>2.889740e+05</td>\n",
       "    </tr>\n",
       "    <tr>\n",
       "      <th>4</th>\n",
       "      <td>Boston</td>\n",
       "      <td>2.877929e+05</td>\n",
       "    </tr>\n",
       "    <tr>\n",
       "      <th>41</th>\n",
       "      <td>SanDiego</td>\n",
       "      <td>2.656566e+05</td>\n",
       "    </tr>\n",
       "    <tr>\n",
       "      <th>1</th>\n",
       "      <td>Atlanta</td>\n",
       "      <td>2.621453e+05</td>\n",
       "    </tr>\n",
       "    <tr>\n",
       "      <th>40</th>\n",
       "      <td>Sacramento</td>\n",
       "      <td>2.223779e+05</td>\n",
       "    </tr>\n",
       "    <tr>\n",
       "      <th>32</th>\n",
       "      <td>Philadelphia</td>\n",
       "      <td>2.125408e+05</td>\n",
       "    </tr>\n",
       "    <tr>\n",
       "      <th>30</th>\n",
       "      <td>NorthernNewEngland</td>\n",
       "      <td>2.116358e+05</td>\n",
       "    </tr>\n",
       "    <tr>\n",
       "      <th>50</th>\n",
       "      <td>Tampa</td>\n",
       "      <td>1.952797e+05</td>\n",
       "    </tr>\n",
       "    <tr>\n",
       "      <th>13</th>\n",
       "      <td>Detroit</td>\n",
       "      <td>1.876403e+05</td>\n",
       "    </tr>\n",
       "    <tr>\n",
       "      <th>44</th>\n",
       "      <td>SouthCarolina</td>\n",
       "      <td>1.797449e+05</td>\n",
       "    </tr>\n",
       "    <tr>\n",
       "      <th>31</th>\n",
       "      <td>Orlando</td>\n",
       "      <td>1.735524e+05</td>\n",
       "    </tr>\n",
       "    <tr>\n",
       "      <th>21</th>\n",
       "      <td>LasVegas</td>\n",
       "      <td>1.608784e+05</td>\n",
       "    </tr>\n",
       "    <tr>\n",
       "      <th>17</th>\n",
       "      <td>HartfordSpringfield</td>\n",
       "      <td>1.499128e+05</td>\n",
       "    </tr>\n",
       "    <tr>\n",
       "      <th>37</th>\n",
       "      <td>RaleighGreensboro</td>\n",
       "      <td>1.426116e+05</td>\n",
       "    </tr>\n",
       "    <tr>\n",
       "      <th>27</th>\n",
       "      <td>NewOrleansMobile</td>\n",
       "      <td>1.351927e+05</td>\n",
       "    </tr>\n",
       "    <tr>\n",
       "      <th>9</th>\n",
       "      <td>CincinnatiDayton</td>\n",
       "      <td>1.317219e+05</td>\n",
       "    </tr>\n",
       "    <tr>\n",
       "      <th>38</th>\n",
       "      <td>RichmondNorfolk</td>\n",
       "      <td>1.249433e+05</td>\n",
       "    </tr>\n",
       "    <tr>\n",
       "      <th>16</th>\n",
       "      <td>HarrisburgScranton</td>\n",
       "      <td>1.236948e+05</td>\n",
       "    </tr>\n",
       "    <tr>\n",
       "      <th>26</th>\n",
       "      <td>Nashville</td>\n",
       "      <td>1.053612e+05</td>\n",
       "    </tr>\n",
       "    <tr>\n",
       "      <th>7</th>\n",
       "      <td>Charlotte</td>\n",
       "      <td>1.051939e+05</td>\n",
       "    </tr>\n",
       "    <tr>\n",
       "      <th>48</th>\n",
       "      <td>StLouis</td>\n",
       "      <td>9.489004e+04</td>\n",
       "    </tr>\n",
       "    <tr>\n",
       "      <th>19</th>\n",
       "      <td>Indianapolis</td>\n",
       "      <td>8.953666e+04</td>\n",
       "    </tr>\n",
       "    <tr>\n",
       "      <th>14</th>\n",
       "      <td>GrandRapids</td>\n",
       "      <td>8.938383e+04</td>\n",
       "    </tr>\n",
       "    <tr>\n",
       "      <th>10</th>\n",
       "      <td>Columbus</td>\n",
       "      <td>8.873776e+04</td>\n",
       "    </tr>\n",
       "    <tr>\n",
       "      <th>20</th>\n",
       "      <td>Jacksonville</td>\n",
       "      <td>8.517753e+04</td>\n",
       "    </tr>\n",
       "    <tr>\n",
       "      <th>39</th>\n",
       "      <td>Roanoke</td>\n",
       "      <td>7.408879e+04</td>\n",
       "    </tr>\n",
       "    <tr>\n",
       "      <th>5</th>\n",
       "      <td>BuffaloRochester</td>\n",
       "      <td>6.793630e+04</td>\n",
       "    </tr>\n",
       "    <tr>\n",
       "      <th>34</th>\n",
       "      <td>Pittsburgh</td>\n",
       "      <td>5.564008e+04</td>\n",
       "    </tr>\n",
       "    <tr>\n",
       "      <th>23</th>\n",
       "      <td>Louisville</td>\n",
       "      <td>4.762427e+04</td>\n",
       "    </tr>\n",
       "    <tr>\n",
       "      <th>0</th>\n",
       "      <td>Albany</td>\n",
       "      <td>4.753787e+04</td>\n",
       "    </tr>\n",
       "    <tr>\n",
       "      <th>47</th>\n",
       "      <td>Spokane</td>\n",
       "      <td>4.605111e+04</td>\n",
       "    </tr>\n",
       "    <tr>\n",
       "      <th>3</th>\n",
       "      <td>Boise</td>\n",
       "      <td>4.264257e+04</td>\n",
       "    </tr>\n",
       "    <tr>\n",
       "      <th>49</th>\n",
       "      <td>Syracuse</td>\n",
       "      <td>3.237476e+04</td>\n",
       "    </tr>\n",
       "  </tbody>\n",
       "</table>\n",
       "</div>"
      ],
      "text/plain": [
       "                column1       column2\n",
       "51              TotalUS  1.735130e+07\n",
       "52                 West  3.215323e+06\n",
       "6            California  3.044324e+06\n",
       "45         SouthCentral  2.991952e+06\n",
       "29            Northeast  2.110299e+06\n",
       "46            Southeast  1.820232e+06\n",
       "15           GreatLakes  1.744505e+06\n",
       "25             Midsouth  1.503992e+06\n",
       "22           LosAngeles  1.502653e+06\n",
       "35               Plains  9.206761e+05\n",
       "28              NewYork  7.122311e+05\n",
       "11        DallasFtWorth  6.166251e+05\n",
       "18              Houston  6.010884e+05\n",
       "33        PhoenixTucson  5.788264e+05\n",
       "53     WestTexNewMexico  4.314085e+05\n",
       "12               Denver  4.109542e+05\n",
       "42         SanFrancisco  4.018645e+05\n",
       "2   BaltimoreWashington  3.985619e+05\n",
       "8               Chicago  3.955690e+05\n",
       "36             Portland  3.270775e+05\n",
       "43              Seattle  3.231189e+05\n",
       "24    MiamiFtLauderdale  2.889740e+05\n",
       "4                Boston  2.877929e+05\n",
       "41             SanDiego  2.656566e+05\n",
       "1               Atlanta  2.621453e+05\n",
       "40           Sacramento  2.223779e+05\n",
       "32         Philadelphia  2.125408e+05\n",
       "30   NorthernNewEngland  2.116358e+05\n",
       "50                Tampa  1.952797e+05\n",
       "13              Detroit  1.876403e+05\n",
       "44        SouthCarolina  1.797449e+05\n",
       "31              Orlando  1.735524e+05\n",
       "21             LasVegas  1.608784e+05\n",
       "17  HartfordSpringfield  1.499128e+05\n",
       "37    RaleighGreensboro  1.426116e+05\n",
       "27     NewOrleansMobile  1.351927e+05\n",
       "9      CincinnatiDayton  1.317219e+05\n",
       "38      RichmondNorfolk  1.249433e+05\n",
       "16   HarrisburgScranton  1.236948e+05\n",
       "26            Nashville  1.053612e+05\n",
       "7             Charlotte  1.051939e+05\n",
       "48              StLouis  9.489004e+04\n",
       "19         Indianapolis  8.953666e+04\n",
       "14          GrandRapids  8.938383e+04\n",
       "10             Columbus  8.873776e+04\n",
       "20         Jacksonville  8.517753e+04\n",
       "39              Roanoke  7.408879e+04\n",
       "5      BuffaloRochester  6.793630e+04\n",
       "34           Pittsburgh  5.564008e+04\n",
       "23           Louisville  4.762427e+04\n",
       "0                Albany  4.753787e+04\n",
       "47              Spokane  4.605111e+04\n",
       "3                 Boise  4.264257e+04\n",
       "49             Syracuse  3.237476e+04"
      ]
     },
     "execution_count": 37,
     "metadata": {},
     "output_type": "execute_result"
    }
   ],
   "source": [
    "data2"
   ]
  },
  {
   "cell_type": "code",
   "execution_count": 38,
   "id": "514d6da2",
   "metadata": {},
   "outputs": [
    {
     "data": {
      "text/plain": [
       "Index([51], dtype='int64')"
      ]
     },
     "execution_count": 38,
     "metadata": {},
     "output_type": "execute_result"
    }
   ],
   "source": [
    "data2[data2[\"column1\"] == \"TotalUS\"].index"
   ]
  },
  {
   "cell_type": "code",
   "execution_count": 39,
   "id": "30166ac0",
   "metadata": {},
   "outputs": [
    {
     "data": {
      "application/vnd.microsoft.datawrangler.viewer.v0+json": {
       "columns": [
        {
         "name": "index",
         "rawType": "int64",
         "type": "integer"
        },
        {
         "name": "column1",
         "rawType": "object",
         "type": "string"
        },
        {
         "name": "column2",
         "rawType": "float64",
         "type": "float"
        }
       ],
       "conversionMethod": "pd.DataFrame",
       "ref": "52057ddd-be6c-44eb-b682-094df48579cc",
       "rows": [
        [
         "52",
         "West",
         "3215322.946005917"
        ],
        [
         "6",
         "California",
         "3044324.4176627216"
        ],
        [
         "45",
         "SouthCentral",
         "2991951.535"
        ],
        [
         "29",
         "Northeast",
         "2110298.5489940825"
        ],
        [
         "46",
         "Southeast",
         "1820231.9796153847"
        ],
        [
         "15",
         "GreatLakes",
         "1744504.5836982247"
        ],
        [
         "25",
         "Midsouth",
         "1503992.1810650888"
        ],
        [
         "22",
         "LosAngeles",
         "1502652.507781065"
        ],
        [
         "35",
         "Plains",
         "920676.121627219"
        ],
        [
         "28",
         "NewYork",
         "712231.1465384616"
        ],
        [
         "11",
         "DallasFtWorth",
         "616625.1081360948"
        ],
        [
         "18",
         "Houston",
         "601088.3662721894"
        ],
        [
         "33",
         "PhoenixTucson",
         "578826.3683431953"
        ],
        [
         "53",
         "WestTexNewMexico",
         "431408.4769552239"
        ],
        [
         "12",
         "Denver",
         "410954.2484911243"
        ],
        [
         "42",
         "SanFrancisco",
         "401864.4727218935"
        ],
        [
         "2",
         "BaltimoreWashington",
         "398561.8914792899"
        ],
        [
         "8",
         "Chicago",
         "395569.04884615383"
        ],
        [
         "36",
         "Portland",
         "327077.549112426"
        ],
        [
         "43",
         "Seattle",
         "323118.869704142"
        ],
        [
         "24",
         "MiamiFtLauderdale",
         "288974.035591716"
        ],
        [
         "4",
         "Boston",
         "287792.8545266272"
        ],
        [
         "41",
         "SanDiego",
         "265656.5671301775"
        ],
        [
         "1",
         "Atlanta",
         "262145.3220414201"
        ],
        [
         "40",
         "Sacramento",
         "222377.94928994082"
        ],
        [
         "32",
         "Philadelphia",
         "212540.8230177515"
        ],
        [
         "30",
         "NorthernNewEngland",
         "211635.78139053253"
        ],
        [
         "50",
         "Tampa",
         "195279.70210059173"
        ],
        [
         "13",
         "Detroit",
         "187640.29402366866"
        ],
        [
         "44",
         "SouthCarolina",
         "179744.8902366864"
        ],
        [
         "31",
         "Orlando",
         "173552.37837278107"
        ],
        [
         "21",
         "LasVegas",
         "160878.42130177515"
        ],
        [
         "17",
         "HartfordSpringfield",
         "149912.8327218935"
        ],
        [
         "37",
         "RaleighGreensboro",
         "142611.63213017752"
        ],
        [
         "27",
         "NewOrleansMobile",
         "135192.71177514794"
        ],
        [
         "9",
         "CincinnatiDayton",
         "131721.91588757397"
        ],
        [
         "38",
         "RichmondNorfolk",
         "124943.34748520711"
        ],
        [
         "16",
         "HarrisburgScranton",
         "123694.84816568048"
        ],
        [
         "26",
         "Nashville",
         "105361.21073964496"
        ],
        [
         "7",
         "Charlotte",
         "105193.91840236686"
        ],
        [
         "48",
         "StLouis",
         "94890.03943786981"
        ],
        [
         "19",
         "Indianapolis",
         "89536.66103550296"
        ],
        [
         "14",
         "GrandRapids",
         "89383.83411242603"
        ],
        [
         "10",
         "Columbus",
         "88737.75568047338"
        ],
        [
         "20",
         "Jacksonville",
         "85177.52881656804"
        ],
        [
         "39",
         "Roanoke",
         "74088.78937869822"
        ],
        [
         "5",
         "BuffaloRochester",
         "67936.30295857988"
        ],
        [
         "34",
         "Pittsburgh",
         "55640.07636094674"
        ],
        [
         "23",
         "Louisville",
         "47624.2674556213"
        ],
        [
         "0",
         "Albany",
         "47537.86973372781"
        ]
       ],
       "shape": {
        "columns": 2,
        "rows": 53
       }
      },
      "text/html": [
       "<div>\n",
       "<style scoped>\n",
       "    .dataframe tbody tr th:only-of-type {\n",
       "        vertical-align: middle;\n",
       "    }\n",
       "\n",
       "    .dataframe tbody tr th {\n",
       "        vertical-align: top;\n",
       "    }\n",
       "\n",
       "    .dataframe thead th {\n",
       "        text-align: right;\n",
       "    }\n",
       "</style>\n",
       "<table border=\"1\" class=\"dataframe\">\n",
       "  <thead>\n",
       "    <tr style=\"text-align: right;\">\n",
       "      <th></th>\n",
       "      <th>column1</th>\n",
       "      <th>column2</th>\n",
       "    </tr>\n",
       "  </thead>\n",
       "  <tbody>\n",
       "    <tr>\n",
       "      <th>52</th>\n",
       "      <td>West</td>\n",
       "      <td>3.215323e+06</td>\n",
       "    </tr>\n",
       "    <tr>\n",
       "      <th>6</th>\n",
       "      <td>California</td>\n",
       "      <td>3.044324e+06</td>\n",
       "    </tr>\n",
       "    <tr>\n",
       "      <th>45</th>\n",
       "      <td>SouthCentral</td>\n",
       "      <td>2.991952e+06</td>\n",
       "    </tr>\n",
       "    <tr>\n",
       "      <th>29</th>\n",
       "      <td>Northeast</td>\n",
       "      <td>2.110299e+06</td>\n",
       "    </tr>\n",
       "    <tr>\n",
       "      <th>46</th>\n",
       "      <td>Southeast</td>\n",
       "      <td>1.820232e+06</td>\n",
       "    </tr>\n",
       "    <tr>\n",
       "      <th>15</th>\n",
       "      <td>GreatLakes</td>\n",
       "      <td>1.744505e+06</td>\n",
       "    </tr>\n",
       "    <tr>\n",
       "      <th>25</th>\n",
       "      <td>Midsouth</td>\n",
       "      <td>1.503992e+06</td>\n",
       "    </tr>\n",
       "    <tr>\n",
       "      <th>22</th>\n",
       "      <td>LosAngeles</td>\n",
       "      <td>1.502653e+06</td>\n",
       "    </tr>\n",
       "    <tr>\n",
       "      <th>35</th>\n",
       "      <td>Plains</td>\n",
       "      <td>9.206761e+05</td>\n",
       "    </tr>\n",
       "    <tr>\n",
       "      <th>28</th>\n",
       "      <td>NewYork</td>\n",
       "      <td>7.122311e+05</td>\n",
       "    </tr>\n",
       "    <tr>\n",
       "      <th>11</th>\n",
       "      <td>DallasFtWorth</td>\n",
       "      <td>6.166251e+05</td>\n",
       "    </tr>\n",
       "    <tr>\n",
       "      <th>18</th>\n",
       "      <td>Houston</td>\n",
       "      <td>6.010884e+05</td>\n",
       "    </tr>\n",
       "    <tr>\n",
       "      <th>33</th>\n",
       "      <td>PhoenixTucson</td>\n",
       "      <td>5.788264e+05</td>\n",
       "    </tr>\n",
       "    <tr>\n",
       "      <th>53</th>\n",
       "      <td>WestTexNewMexico</td>\n",
       "      <td>4.314085e+05</td>\n",
       "    </tr>\n",
       "    <tr>\n",
       "      <th>12</th>\n",
       "      <td>Denver</td>\n",
       "      <td>4.109542e+05</td>\n",
       "    </tr>\n",
       "    <tr>\n",
       "      <th>42</th>\n",
       "      <td>SanFrancisco</td>\n",
       "      <td>4.018645e+05</td>\n",
       "    </tr>\n",
       "    <tr>\n",
       "      <th>2</th>\n",
       "      <td>BaltimoreWashington</td>\n",
       "      <td>3.985619e+05</td>\n",
       "    </tr>\n",
       "    <tr>\n",
       "      <th>8</th>\n",
       "      <td>Chicago</td>\n",
       "      <td>3.955690e+05</td>\n",
       "    </tr>\n",
       "    <tr>\n",
       "      <th>36</th>\n",
       "      <td>Portland</td>\n",
       "      <td>3.270775e+05</td>\n",
       "    </tr>\n",
       "    <tr>\n",
       "      <th>43</th>\n",
       "      <td>Seattle</td>\n",
       "      <td>3.231189e+05</td>\n",
       "    </tr>\n",
       "    <tr>\n",
       "      <th>24</th>\n",
       "      <td>MiamiFtLauderdale</td>\n",
       "      <td>2.889740e+05</td>\n",
       "    </tr>\n",
       "    <tr>\n",
       "      <th>4</th>\n",
       "      <td>Boston</td>\n",
       "      <td>2.877929e+05</td>\n",
       "    </tr>\n",
       "    <tr>\n",
       "      <th>41</th>\n",
       "      <td>SanDiego</td>\n",
       "      <td>2.656566e+05</td>\n",
       "    </tr>\n",
       "    <tr>\n",
       "      <th>1</th>\n",
       "      <td>Atlanta</td>\n",
       "      <td>2.621453e+05</td>\n",
       "    </tr>\n",
       "    <tr>\n",
       "      <th>40</th>\n",
       "      <td>Sacramento</td>\n",
       "      <td>2.223779e+05</td>\n",
       "    </tr>\n",
       "    <tr>\n",
       "      <th>32</th>\n",
       "      <td>Philadelphia</td>\n",
       "      <td>2.125408e+05</td>\n",
       "    </tr>\n",
       "    <tr>\n",
       "      <th>30</th>\n",
       "      <td>NorthernNewEngland</td>\n",
       "      <td>2.116358e+05</td>\n",
       "    </tr>\n",
       "    <tr>\n",
       "      <th>50</th>\n",
       "      <td>Tampa</td>\n",
       "      <td>1.952797e+05</td>\n",
       "    </tr>\n",
       "    <tr>\n",
       "      <th>13</th>\n",
       "      <td>Detroit</td>\n",
       "      <td>1.876403e+05</td>\n",
       "    </tr>\n",
       "    <tr>\n",
       "      <th>44</th>\n",
       "      <td>SouthCarolina</td>\n",
       "      <td>1.797449e+05</td>\n",
       "    </tr>\n",
       "    <tr>\n",
       "      <th>31</th>\n",
       "      <td>Orlando</td>\n",
       "      <td>1.735524e+05</td>\n",
       "    </tr>\n",
       "    <tr>\n",
       "      <th>21</th>\n",
       "      <td>LasVegas</td>\n",
       "      <td>1.608784e+05</td>\n",
       "    </tr>\n",
       "    <tr>\n",
       "      <th>17</th>\n",
       "      <td>HartfordSpringfield</td>\n",
       "      <td>1.499128e+05</td>\n",
       "    </tr>\n",
       "    <tr>\n",
       "      <th>37</th>\n",
       "      <td>RaleighGreensboro</td>\n",
       "      <td>1.426116e+05</td>\n",
       "    </tr>\n",
       "    <tr>\n",
       "      <th>27</th>\n",
       "      <td>NewOrleansMobile</td>\n",
       "      <td>1.351927e+05</td>\n",
       "    </tr>\n",
       "    <tr>\n",
       "      <th>9</th>\n",
       "      <td>CincinnatiDayton</td>\n",
       "      <td>1.317219e+05</td>\n",
       "    </tr>\n",
       "    <tr>\n",
       "      <th>38</th>\n",
       "      <td>RichmondNorfolk</td>\n",
       "      <td>1.249433e+05</td>\n",
       "    </tr>\n",
       "    <tr>\n",
       "      <th>16</th>\n",
       "      <td>HarrisburgScranton</td>\n",
       "      <td>1.236948e+05</td>\n",
       "    </tr>\n",
       "    <tr>\n",
       "      <th>26</th>\n",
       "      <td>Nashville</td>\n",
       "      <td>1.053612e+05</td>\n",
       "    </tr>\n",
       "    <tr>\n",
       "      <th>7</th>\n",
       "      <td>Charlotte</td>\n",
       "      <td>1.051939e+05</td>\n",
       "    </tr>\n",
       "    <tr>\n",
       "      <th>48</th>\n",
       "      <td>StLouis</td>\n",
       "      <td>9.489004e+04</td>\n",
       "    </tr>\n",
       "    <tr>\n",
       "      <th>19</th>\n",
       "      <td>Indianapolis</td>\n",
       "      <td>8.953666e+04</td>\n",
       "    </tr>\n",
       "    <tr>\n",
       "      <th>14</th>\n",
       "      <td>GrandRapids</td>\n",
       "      <td>8.938383e+04</td>\n",
       "    </tr>\n",
       "    <tr>\n",
       "      <th>10</th>\n",
       "      <td>Columbus</td>\n",
       "      <td>8.873776e+04</td>\n",
       "    </tr>\n",
       "    <tr>\n",
       "      <th>20</th>\n",
       "      <td>Jacksonville</td>\n",
       "      <td>8.517753e+04</td>\n",
       "    </tr>\n",
       "    <tr>\n",
       "      <th>39</th>\n",
       "      <td>Roanoke</td>\n",
       "      <td>7.408879e+04</td>\n",
       "    </tr>\n",
       "    <tr>\n",
       "      <th>5</th>\n",
       "      <td>BuffaloRochester</td>\n",
       "      <td>6.793630e+04</td>\n",
       "    </tr>\n",
       "    <tr>\n",
       "      <th>34</th>\n",
       "      <td>Pittsburgh</td>\n",
       "      <td>5.564008e+04</td>\n",
       "    </tr>\n",
       "    <tr>\n",
       "      <th>23</th>\n",
       "      <td>Louisville</td>\n",
       "      <td>4.762427e+04</td>\n",
       "    </tr>\n",
       "    <tr>\n",
       "      <th>0</th>\n",
       "      <td>Albany</td>\n",
       "      <td>4.753787e+04</td>\n",
       "    </tr>\n",
       "    <tr>\n",
       "      <th>47</th>\n",
       "      <td>Spokane</td>\n",
       "      <td>4.605111e+04</td>\n",
       "    </tr>\n",
       "    <tr>\n",
       "      <th>3</th>\n",
       "      <td>Boise</td>\n",
       "      <td>4.264257e+04</td>\n",
       "    </tr>\n",
       "    <tr>\n",
       "      <th>49</th>\n",
       "      <td>Syracuse</td>\n",
       "      <td>3.237476e+04</td>\n",
       "    </tr>\n",
       "  </tbody>\n",
       "</table>\n",
       "</div>"
      ],
      "text/plain": [
       "                column1       column2\n",
       "52                 West  3.215323e+06\n",
       "6            California  3.044324e+06\n",
       "45         SouthCentral  2.991952e+06\n",
       "29            Northeast  2.110299e+06\n",
       "46            Southeast  1.820232e+06\n",
       "15           GreatLakes  1.744505e+06\n",
       "25             Midsouth  1.503992e+06\n",
       "22           LosAngeles  1.502653e+06\n",
       "35               Plains  9.206761e+05\n",
       "28              NewYork  7.122311e+05\n",
       "11        DallasFtWorth  6.166251e+05\n",
       "18              Houston  6.010884e+05\n",
       "33        PhoenixTucson  5.788264e+05\n",
       "53     WestTexNewMexico  4.314085e+05\n",
       "12               Denver  4.109542e+05\n",
       "42         SanFrancisco  4.018645e+05\n",
       "2   BaltimoreWashington  3.985619e+05\n",
       "8               Chicago  3.955690e+05\n",
       "36             Portland  3.270775e+05\n",
       "43              Seattle  3.231189e+05\n",
       "24    MiamiFtLauderdale  2.889740e+05\n",
       "4                Boston  2.877929e+05\n",
       "41             SanDiego  2.656566e+05\n",
       "1               Atlanta  2.621453e+05\n",
       "40           Sacramento  2.223779e+05\n",
       "32         Philadelphia  2.125408e+05\n",
       "30   NorthernNewEngland  2.116358e+05\n",
       "50                Tampa  1.952797e+05\n",
       "13              Detroit  1.876403e+05\n",
       "44        SouthCarolina  1.797449e+05\n",
       "31              Orlando  1.735524e+05\n",
       "21             LasVegas  1.608784e+05\n",
       "17  HartfordSpringfield  1.499128e+05\n",
       "37    RaleighGreensboro  1.426116e+05\n",
       "27     NewOrleansMobile  1.351927e+05\n",
       "9      CincinnatiDayton  1.317219e+05\n",
       "38      RichmondNorfolk  1.249433e+05\n",
       "16   HarrisburgScranton  1.236948e+05\n",
       "26            Nashville  1.053612e+05\n",
       "7             Charlotte  1.051939e+05\n",
       "48              StLouis  9.489004e+04\n",
       "19         Indianapolis  8.953666e+04\n",
       "14          GrandRapids  8.938383e+04\n",
       "10             Columbus  8.873776e+04\n",
       "20         Jacksonville  8.517753e+04\n",
       "39              Roanoke  7.408879e+04\n",
       "5      BuffaloRochester  6.793630e+04\n",
       "34           Pittsburgh  5.564008e+04\n",
       "23           Louisville  4.762427e+04\n",
       "0                Albany  4.753787e+04\n",
       "47              Spokane  4.605111e+04\n",
       "3                 Boise  4.264257e+04\n",
       "49             Syracuse  3.237476e+04"
      ]
     },
     "execution_count": 39,
     "metadata": {},
     "output_type": "execute_result"
    }
   ],
   "source": [
    "data2 = data2.drop(51)\n",
    "data2"
   ]
  },
  {
   "cell_type": "code",
   "execution_count": 40,
   "id": "8fecc16c",
   "metadata": {},
   "outputs": [
    {
     "data": {
      "image/png": "[encoded data removed]",
      "text/plain": [
       "<Figure size 1500x500 with 1 Axes>"
      ]
     },
     "metadata": {},
     "output_type": "display_data"
    }
   ],
   "source": [
    "plot(data2,\"Region\", \"Volume\")"
   ]
  },
  {
   "cell_type": "markdown",
   "id": "8b2ad5e9",
   "metadata": {},
   "source": [
    "<a id = \"Question_no3\"></a>\n",
    "### What is the average avocado prices in each year? "
   ]
  },
  {
   "cell_type": "code",
   "execution_count": null,
   "id": "e8d6a636",
   "metadata": {},
   "outputs": [
    {
     "data": {
      "image/png": "[encoded data removed]",
      "text/plain": [
       "<Figure size 1500x500 with 1 Axes>"
      ]
     },
     "metadata": {},
     "output_type": "display_data"
    }
   ],
   "source": [
    "data3 = get_average_between_two_columns(df,\"year\", \"AveragePrice\")\n",
    "plot(data3,\"Year\", \"Price\")"
   ]
  },
  {
   "cell_type": "markdown",
   "id": "b2dd546a",
   "metadata": {},
   "source": [
    "<a id = \"Question_no4\"></a>\n",
    "### What is the average avocado volume in each year?"
   ]
  },
  {
   "cell_type": "code",
   "execution_count": 44,
   "id": "cfb967c7",
   "metadata": {},
   "outputs": [
    {
     "data": {
      "image/png": "[encoded data removed]",
      "text/plain": [
       "<Figure size 1500x500 with 1 Axes>"
      ]
     },
     "metadata": {},
     "output_type": "display_data"
    }
   ],
   "source": [
    "data4 = get_average_between_two_columns(df, \"year\", \"Total Volume\")\n",
    "plot(data4, 'Year', 'Volume')"
   ]
  },
  {
   "cell_type": "markdown",
   "id": "43423b5f",
   "metadata": {},
   "source": [
    "### Data Modeling\n",
    "\n",
    "- Converting some columns to categorical data then to numeric"
   ]
  },
  {
   "cell_type": "code",
   "execution_count": 46,
   "id": "39e71fcd",
   "metadata": {},
   "outputs": [],
   "source": [
    "df['region'] = df['region'].astype('category')\n",
    "df['region'] = df['region'].cat.codes"
   ]
  },
  {
   "cell_type": "code",
   "execution_count": 48,
   "id": "bc1c6548",
   "metadata": {},
   "outputs": [
    {
     "data": {
      "text/plain": [
       "array([ 0,  1,  2,  3,  4,  5,  6,  7,  8,  9, 10, 11, 12, 13, 14, 15, 16,\n",
       "       17, 18, 19, 20, 21, 22, 23, 24, 25, 26, 27, 28, 29, 30, 31, 32, 33,\n",
       "       34, 35, 36, 37, 38, 39, 40, 41, 42, 43, 44, 45, 46, 47, 48, 49, 50,\n",
       "       51, 52, 53], dtype=int8)"
      ]
     },
     "execution_count": 48,
     "metadata": {},
     "output_type": "execute_result"
    }
   ],
   "source": [
    "df.region.unique()"
   ]
  },
  {
   "cell_type": "code",
   "execution_count": 49,
   "id": "d5752941",
   "metadata": {},
   "outputs": [],
   "source": [
    "df[\"type\"] = df[\"type\"].astype('category')\n",
    "df[\"type\"] = df[\"type\"].cat.codes"
   ]
  },
  {
   "cell_type": "code",
   "execution_count": 52,
   "id": "890d6607",
   "metadata": {},
   "outputs": [
    {
     "data": {
      "text/plain": [
       "array([0, 1], dtype=int8)"
      ]
     },
     "execution_count": 52,
     "metadata": {},
     "output_type": "execute_result"
    }
   ],
   "source": [
    "df.type.unique()"
   ]
  },
  {
   "cell_type": "code",
   "execution_count": 53,
   "id": "2a2f6d1b",
   "metadata": {},
   "outputs": [
    {
     "name": "stdout",
     "output_type": "stream",
     "text": [
      "<class 'pandas.core.frame.DataFrame'>\n",
      "RangeIndex: 18249 entries, 0 to 18248\n",
      "Data columns (total 9 columns):\n",
      " #   Column        Non-Null Count  Dtype  \n",
      "---  ------        --------------  -----  \n",
      " 0   AveragePrice  18249 non-null  float64\n",
      " 1   Total Volume  18249 non-null  float64\n",
      " 2   Total Bags    18249 non-null  float64\n",
      " 3   Small Bags    18249 non-null  float64\n",
      " 4   Large Bags    18249 non-null  float64\n",
      " 5   XLarge Bags   18249 non-null  float64\n",
      " 6   type          18249 non-null  int8   \n",
      " 7   year          18249 non-null  int64  \n",
      " 8   region        18249 non-null  int8   \n",
      "dtypes: float64(6), int64(1), int8(2)\n",
      "memory usage: 1.0 MB\n"
     ]
    }
   ],
   "source": [
    "df.info()"
   ]
  },
  {
   "cell_type": "code",
   "execution_count": 55,
   "id": "f6f20bf3",
   "metadata": {},
   "outputs": [],
   "source": [
    "#Split into X and Y&\n",
    "\n",
    "X = df.drop(\"AveragePrice\", axis=1)\n",
    "y = df[\"AveragePrice\"]\n",
    "\n",
    "X_train, X_test, y_train, y_test = train_test_split(X,y,test_size=0.3, random_state= 0)"
   ]
  },
  {
   "cell_type": "code",
   "execution_count": 57,
   "id": "7cb1aae2",
   "metadata": {},
   "outputs": [
    {
     "name": "stdout",
     "output_type": "stream",
     "text": [
      "Training Data : (12774, 8) samples\n",
      "Testing Data : (5475, 8) samples\n"
     ]
    }
   ],
   "source": [
    "print(f\"Training Data : {X_train.shape} samples\")\n",
    "print(f\"Testing Data : {X_test.shape} samples\")"
   ]
  },
  {
   "cell_type": "code",
   "execution_count": 60,
   "id": "931f3692",
   "metadata": {},
   "outputs": [
    {
     "data": {
      "text/html": [
       "<style>#sk-container-id-2 {\n",
       "  /* Definition of color scheme common for light and dark mode */\n",
       "  --sklearn-color-text: #000;\n",
       "  --sklearn-color-text-muted: #666;\n",
       "  --sklearn-color-line: gray;\n",
       "  /* Definition of color scheme for unfitted estimators */\n",
       "  --sklearn-color-unfitted-level-0: #fff5e6;\n",
       "  --sklearn-color-unfitted-level-1: #f6e4d2;\n",
       "  --sklearn-color-unfitted-level-2: #ffe0b3;\n",
       "  --sklearn-color-unfitted-level-3: chocolate;\n",
       "  /* Definition of color scheme for fitted estimators */\n",
       "  --sklearn-color-fitted-level-0: #f0f8ff;\n",
       "  --sklearn-color-fitted-level-1: #d4ebff;\n",
       "  --sklearn-color-fitted-level-2: #b3dbfd;\n",
       "  --sklearn-color-fitted-level-3: cornflowerblue;\n",
       "\n",
       "  /* Specific color for light theme */\n",
       "  --sklearn-color-text-on-default-background: var(--sg-text-color, var(--theme-code-foreground, var(--jp-content-font-color1, black)));\n",
       "  --sklearn-color-background: var(--sg-background-color, var(--theme-background, var(--jp-layout-color0, white)));\n",
       "  --sklearn-color-border-box: var(--sg-text-color, var(--theme-code-foreground, var(--jp-content-font-color1, black)));\n",
       "  --sklearn-color-icon: #696969;\n",
       "\n",
       "  @media (prefers-color-scheme: dark) {\n",
       "    /* Redefinition of color scheme for dark theme */\n",
       "    --sklearn-color-text-on-default-background: var(--sg-text-color, var(--theme-code-foreground, var(--jp-content-font-color1, white)));\n",
       "    --sklearn-color-background: var(--sg-background-color, var(--theme-background, var(--jp-layout-color0, #111)));\n",
       "    --sklearn-color-border-box: var(--sg-text-color, var(--theme-code-foreground, var(--jp-content-font-color1, white)));\n",
       "    --sklearn-color-icon: #878787;\n",
       "  }\n",
       "}\n",
       "\n",
       "#sk-container-id-2 {\n",
       "  color: var(--sklearn-color-text);\n",
       "}\n",
       "\n",
       "#sk-container-id-2 pre {\n",
       "  padding: 0;\n",
       "}\n",
       "\n",
       "#sk-container-id-2 input.sk-hidden--visually {\n",
       "  border: 0;\n",
       "  clip: rect(1px 1px 1px 1px);\n",
       "  clip: rect(1px, 1px, 1px, 1px);\n",
       "  height: 1px;\n",
       "  margin: -1px;\n",
       "  overflow: hidden;\n",
       "  padding: 0;\n",
       "  position: absolute;\n",
       "  width: 1px;\n",
       "}\n",
       "\n",
       "#sk-container-id-2 div.sk-dashed-wrapped {\n",
       "  border: 1px dashed var(--sklearn-color-line);\n",
       "  margin: 0 0.4em 0.5em 0.4em;\n",
       "  box-sizing: border-box;\n",
       "  padding-bottom: 0.4em;\n",
       "  background-color: var(--sklearn-color-background);\n",
       "}\n",
       "\n",
       "#sk-container-id-2 div.sk-container {\n",
       "  /* jupyter's `normalize.less` sets `[hidden] { display: none; }`\n",
       "     but bootstrap.min.css set `[hidden] { display: none !important; }`\n",
       "     so we also need the `!important` here to be able to override the\n",
       "     default hidden behavior on the sphinx rendered scikit-learn.org.\n",
       "     See: https://github.com/scikit-learn/scikit-learn/issues/21755 */\n",
       "  display: inline-block !important;\n",
       "  position: relative;\n",
       "}\n",
       "\n",
       "#sk-container-id-2 div.sk-text-repr-fallback {\n",
       "  display: none;\n",
       "}\n",
       "\n",
       "div.sk-parallel-item,\n",
       "div.sk-serial,\n",
       "div.sk-item {\n",
       "  /* draw centered vertical line to link estimators */\n",
       "  background-image: linear-gradient(var(--sklearn-color-text-on-default-background), var(--sklearn-color-text-on-default-background));\n",
       "  background-size: 2px 100%;\n",
       "  background-repeat: no-repeat;\n",
       "  background-position: center center;\n",
       "}\n",
       "\n",
       "/* Parallel-specific style estimator block */\n",
       "\n",
       "#sk-container-id-2 div.sk-parallel-item::after {\n",
       "  content: \"\";\n",
       "  width: 100%;\n",
       "  border-bottom: 2px solid var(--sklearn-color-text-on-default-background);\n",
       "  flex-grow: 1;\n",
       "}\n",
       "\n",
       "#sk-container-id-2 div.sk-parallel {\n",
       "  display: flex;\n",
       "  align-items: stretch;\n",
       "  justify-content: center;\n",
       "  background-color: var(--sklearn-color-background);\n",
       "  position: relative;\n",
       "}\n",
       "\n",
       "#sk-container-id-2 div.sk-parallel-item {\n",
       "  display: flex;\n",
       "  flex-direction: column;\n",
       "}\n",
       "\n",
       "#sk-container-id-2 div.sk-parallel-item:first-child::after {\n",
       "  align-self: flex-end;\n",
       "  width: 50%;\n",
       "}\n",
       "\n",
       "#sk-container-id-2 div.sk-parallel-item:last-child::after {\n",
       "  align-self: flex-start;\n",
       "  width: 50%;\n",
       "}\n",
       "\n",
       "#sk-container-id-2 div.sk-parallel-item:only-child::after {\n",
       "  width: 0;\n",
       "}\n",
       "\n",
       "/* Serial-specific style estimator block */\n",
       "\n",
       "#sk-container-id-2 div.sk-serial {\n",
       "  display: flex;\n",
       "  flex-direction: column;\n",
       "  align-items: center;\n",
       "  background-color: var(--sklearn-color-background);\n",
       "  padding-right: 1em;\n",
       "  padding-left: 1em;\n",
       "}\n",
       "\n",
       "\n",
       "/* Toggleable style: style used for estimator/Pipeline/ColumnTransformer box that is\n",
       "clickable and can be expanded/collapsed.\n",
       "- Pipeline and ColumnTransformer use this feature and define the default style\n",
       "- Estimators will overwrite some part of the style using the `sk-estimator` class\n",
       "*/\n",
       "\n",
       "/* Pipeline and ColumnTransformer style (default) */\n",
       "\n",
       "#sk-container-id-2 div.sk-toggleable {\n",
       "  /* Default theme specific background. It is overwritten whether we have a\n",
       "  specific estimator or a Pipeline/ColumnTransformer */\n",
       "  background-color: var(--sklearn-color-background);\n",
       "}\n",
       "\n",
       "/* Toggleable label */\n",
       "#sk-container-id-2 label.sk-toggleable__label {\n",
       "  cursor: pointer;\n",
       "  display: flex;\n",
       "  width: 100%;\n",
       "  margin-bottom: 0;\n",
       "  padding: 0.5em;\n",
       "  box-sizing: border-box;\n",
       "  text-align: center;\n",
       "  align-items: start;\n",
       "  justify-content: space-between;\n",
       "  gap: 0.5em;\n",
       "}\n",
       "\n",
       "#sk-container-id-2 label.sk-toggleable__label .caption {\n",
       "  font-size: 0.6rem;\n",
       "  font-weight: lighter;\n",
       "  color: var(--sklearn-color-text-muted);\n",
       "}\n",
       "\n",
       "#sk-container-id-2 label.sk-toggleable__label-arrow:before {\n",
       "  /* Arrow on the left of the label */\n",
       "  content: \"▸\";\n",
       "  float: left;\n",
       "  margin-right: 0.25em;\n",
       "  color: var(--sklearn-color-icon);\n",
       "}\n",
       "\n",
       "#sk-container-id-2 label.sk-toggleable__label-arrow:hover:before {\n",
       "  color: var(--sklearn-color-text);\n",
       "}\n",
       "\n",
       "/* Toggleable content - dropdown */\n",
       "\n",
       "#sk-container-id-2 div.sk-toggleable__content {\n",
       "  max-height: 0;\n",
       "  max-width: 0;\n",
       "  overflow: hidden;\n",
       "  text-align: left;\n",
       "  /* unfitted */\n",
       "  background-color: var(--sklearn-color-unfitted-level-0);\n",
       "}\n",
       "\n",
       "#sk-container-id-2 div.sk-toggleable__content.fitted {\n",
       "  /* fitted */\n",
       "  background-color: var(--sklearn-color-fitted-level-0);\n",
       "}\n",
       "\n",
       "#sk-container-id-2 div.sk-toggleable__content pre {\n",
       "  margin: 0.2em;\n",
       "  border-radius: 0.25em;\n",
       "  color: var(--sklearn-color-text);\n",
       "  /* unfitted */\n",
       "  background-color: var(--sklearn-color-unfitted-level-0);\n",
       "}\n",
       "\n",
       "#sk-container-id-2 div.sk-toggleable__content.fitted pre {\n",
       "  /* unfitted */\n",
       "  background-color: var(--sklearn-color-fitted-level-0);\n",
       "}\n",
       "\n",
       "#sk-container-id-2 input.sk-toggleable__control:checked~div.sk-toggleable__content {\n",
       "  /* Expand drop-down */\n",
       "  max-height: 200px;\n",
       "  max-width: 100%;\n",
       "  overflow: auto;\n",
       "}\n",
       "\n",
       "#sk-container-id-2 input.sk-toggleable__control:checked~label.sk-toggleable__label-arrow:before {\n",
       "  content: \"▾\";\n",
       "}\n",
       "\n",
       "/* Pipeline/ColumnTransformer-specific style */\n",
       "\n",
       "#sk-container-id-2 div.sk-label input.sk-toggleable__control:checked~label.sk-toggleable__label {\n",
       "  color: var(--sklearn-color-text);\n",
       "  background-color: var(--sklearn-color-unfitted-level-2);\n",
       "}\n",
       "\n",
       "#sk-container-id-2 div.sk-label.fitted input.sk-toggleable__control:checked~label.sk-toggleable__label {\n",
       "  background-color: var(--sklearn-color-fitted-level-2);\n",
       "}\n",
       "\n",
       "/* Estimator-specific style */\n",
       "\n",
       "/* Colorize estimator box */\n",
       "#sk-container-id-2 div.sk-estimator input.sk-toggleable__control:checked~label.sk-toggleable__label {\n",
       "  /* unfitted */\n",
       "  background-color: var(--sklearn-color-unfitted-level-2);\n",
       "}\n",
       "\n",
       "#sk-container-id-2 div.sk-estimator.fitted input.sk-toggleable__control:checked~label.sk-toggleable__label {\n",
       "  /* fitted */\n",
       "  background-color: var(--sklearn-color-fitted-level-2);\n",
       "}\n",
       "\n",
       "#sk-container-id-2 div.sk-label label.sk-toggleable__label,\n",
       "#sk-container-id-2 div.sk-label label {\n",
       "  /* The background is the default theme color */\n",
       "  color: var(--sklearn-color-text-on-default-background);\n",
       "}\n",
       "\n",
       "/* On hover, darken the color of the background */\n",
       "#sk-container-id-2 div.sk-label:hover label.sk-toggleable__label {\n",
       "  color: var(--sklearn-color-text);\n",
       "  background-color: var(--sklearn-color-unfitted-level-2);\n",
       "}\n",
       "\n",
       "/* Label box, darken color on hover, fitted */\n",
       "#sk-container-id-2 div.sk-label.fitted:hover label.sk-toggleable__label.fitted {\n",
       "  color: var(--sklearn-color-text);\n",
       "  background-color: var(--sklearn-color-fitted-level-2);\n",
       "}\n",
       "\n",
       "/* Estimator label */\n",
       "\n",
       "#sk-container-id-2 div.sk-label label {\n",
       "  font-family: monospace;\n",
       "  font-weight: bold;\n",
       "  display: inline-block;\n",
       "  line-height: 1.2em;\n",
       "}\n",
       "\n",
       "#sk-container-id-2 div.sk-label-container {\n",
       "  text-align: center;\n",
       "}\n",
       "\n",
       "/* Estimator-specific */\n",
       "#sk-container-id-2 div.sk-estimator {\n",
       "  font-family: monospace;\n",
       "  border: 1px dotted var(--sklearn-color-border-box);\n",
       "  border-radius: 0.25em;\n",
       "  box-sizing: border-box;\n",
       "  margin-bottom: 0.5em;\n",
       "  /* unfitted */\n",
       "  background-color: var(--sklearn-color-unfitted-level-0);\n",
       "}\n",
       "\n",
       "#sk-container-id-2 div.sk-estimator.fitted {\n",
       "  /* fitted */\n",
       "  background-color: var(--sklearn-color-fitted-level-0);\n",
       "}\n",
       "\n",
       "/* on hover */\n",
       "#sk-container-id-2 div.sk-estimator:hover {\n",
       "  /* unfitted */\n",
       "  background-color: var(--sklearn-color-unfitted-level-2);\n",
       "}\n",
       "\n",
       "#sk-container-id-2 div.sk-estimator.fitted:hover {\n",
       "  /* fitted */\n",
       "  background-color: var(--sklearn-color-fitted-level-2);\n",
       "}\n",
       "\n",
       "/* Specification for estimator info (e.g. \"i\" and \"?\") */\n",
       "\n",
       "/* Common style for \"i\" and \"?\" */\n",
       "\n",
       ".sk-estimator-doc-link,\n",
       "a:link.sk-estimator-doc-link,\n",
       "a:visited.sk-estimator-doc-link {\n",
       "  float: right;\n",
       "  font-size: smaller;\n",
       "  line-height: 1em;\n",
       "  font-family: monospace;\n",
       "  background-color: var(--sklearn-color-background);\n",
       "  border-radius: 1em;\n",
       "  height: 1em;\n",
       "  width: 1em;\n",
       "  text-decoration: none !important;\n",
       "  margin-left: 0.5em;\n",
       "  text-align: center;\n",
       "  /* unfitted */\n",
       "  border: var(--sklearn-color-unfitted-level-1) 1pt solid;\n",
       "  color: var(--sklearn-color-unfitted-level-1);\n",
       "}\n",
       "\n",
       ".sk-estimator-doc-link.fitted,\n",
       "a:link.sk-estimator-doc-link.fitted,\n",
       "a:visited.sk-estimator-doc-link.fitted {\n",
       "  /* fitted */\n",
       "  border: var(--sklearn-color-fitted-level-1) 1pt solid;\n",
       "  color: var(--sklearn-color-fitted-level-1);\n",
       "}\n",
       "\n",
       "/* On hover */\n",
       "div.sk-estimator:hover .sk-estimator-doc-link:hover,\n",
       ".sk-estimator-doc-link:hover,\n",
       "div.sk-label-container:hover .sk-estimator-doc-link:hover,\n",
       ".sk-estimator-doc-link:hover {\n",
       "  /* unfitted */\n",
       "  background-color: var(--sklearn-color-unfitted-level-3);\n",
       "  color: var(--sklearn-color-background);\n",
       "  text-decoration: none;\n",
       "}\n",
       "\n",
       "div.sk-estimator.fitted:hover .sk-estimator-doc-link.fitted:hover,\n",
       ".sk-estimator-doc-link.fitted:hover,\n",
       "div.sk-label-container:hover .sk-estimator-doc-link.fitted:hover,\n",
       ".sk-estimator-doc-link.fitted:hover {\n",
       "  /* fitted */\n",
       "  background-color: var(--sklearn-color-fitted-level-3);\n",
       "  color: var(--sklearn-color-background);\n",
       "  text-decoration: none;\n",
       "}\n",
       "\n",
       "/* Span, style for the box shown on hovering the info icon */\n",
       ".sk-estimator-doc-link span {\n",
       "  display: none;\n",
       "  z-index: 9999;\n",
       "  position: relative;\n",
       "  font-weight: normal;\n",
       "  right: .2ex;\n",
       "  padding: .5ex;\n",
       "  margin: .5ex;\n",
       "  width: min-content;\n",
       "  min-width: 20ex;\n",
       "  max-width: 50ex;\n",
       "  color: var(--sklearn-color-text);\n",
       "  box-shadow: 2pt 2pt 4pt #999;\n",
       "  /* unfitted */\n",
       "  background: var(--sklearn-color-unfitted-level-0);\n",
       "  border: .5pt solid var(--sklearn-color-unfitted-level-3);\n",
       "}\n",
       "\n",
       ".sk-estimator-doc-link.fitted span {\n",
       "  /* fitted */\n",
       "  background: var(--sklearn-color-fitted-level-0);\n",
       "  border: var(--sklearn-color-fitted-level-3);\n",
       "}\n",
       "\n",
       ".sk-estimator-doc-link:hover span {\n",
       "  display: block;\n",
       "}\n",
       "\n",
       "/* \"?\"-specific style due to the `<a>` HTML tag */\n",
       "\n",
       "#sk-container-id-2 a.estimator_doc_link {\n",
       "  float: right;\n",
       "  font-size: 1rem;\n",
       "  line-height: 1em;\n",
       "  font-family: monospace;\n",
       "  background-color: var(--sklearn-color-background);\n",
       "  border-radius: 1rem;\n",
       "  height: 1rem;\n",
       "  width: 1rem;\n",
       "  text-decoration: none;\n",
       "  /* unfitted */\n",
       "  color: var(--sklearn-color-unfitted-level-1);\n",
       "  border: var(--sklearn-color-unfitted-level-1) 1pt solid;\n",
       "}\n",
       "\n",
       "#sk-container-id-2 a.estimator_doc_link.fitted {\n",
       "  /* fitted */\n",
       "  border: var(--sklearn-color-fitted-level-1) 1pt solid;\n",
       "  color: var(--sklearn-color-fitted-level-1);\n",
       "}\n",
       "\n",
       "/* On hover */\n",
       "#sk-container-id-2 a.estimator_doc_link:hover {\n",
       "  /* unfitted */\n",
       "  background-color: var(--sklearn-color-unfitted-level-3);\n",
       "  color: var(--sklearn-color-background);\n",
       "  text-decoration: none;\n",
       "}\n",
       "\n",
       "#sk-container-id-2 a.estimator_doc_link.fitted:hover {\n",
       "  /* fitted */\n",
       "  background-color: var(--sklearn-color-fitted-level-3);\n",
       "}\n",
       "</style><div id=\"sk-container-id-2\" class=\"sk-top-container\"><div class=\"sk-text-repr-fallback\"><pre>LinearRegression()</pre><b>In a Jupyter environment, please rerun this cell to show the HTML representation or trust the notebook. <br />On GitHub, the HTML representation is unable to render, please try loading this page with nbviewer.org.</b></div><div class=\"sk-container\" hidden><div class=\"sk-item\"><div class=\"sk-estimator fitted sk-toggleable\"><input class=\"sk-toggleable__control sk-hidden--visually\" id=\"sk-estimator-id-2\" type=\"checkbox\" checked><label for=\"sk-estimator-id-2\" class=\"sk-toggleable__label fitted sk-toggleable__label-arrow\"><div><div>LinearRegression</div></div><div><a class=\"sk-estimator-doc-link fitted\" rel=\"noreferrer\" target=\"_blank\" href=\"https://scikit-learn.org/1.6/modules/generated/sklearn.linear_model.LinearRegression.html\">?<span>Documentation for LinearRegression</span></a><span class=\"sk-estimator-doc-link fitted\">i<span>Fitted</span></span></div></label><div class=\"sk-toggleable__content fitted\"><pre>LinearRegression()</pre></div> </div></div></div></div>"
      ],
      "text/plain": [
       "LinearRegression()"
      ]
     },
     "execution_count": 60,
     "metadata": {},
     "output_type": "execute_result"
    }
   ],
   "source": [
    "model = LinearRegression()\n",
    "model.fit(X_train, y_train)"
   ]
  },
  {
   "cell_type": "code",
   "execution_count": 62,
   "id": "92d654c9",
   "metadata": {},
   "outputs": [
    {
     "name": "stdout",
     "output_type": "stream",
     "text": [
      "The accuracy of testing dataset  0.38949803997083454\n"
     ]
    }
   ],
   "source": [
    "from sklearn.metrics import r2_score\n",
    "\n",
    "test_pre = model.predict(X_test)\n",
    "test_score = r2_score(y_test, test_pre)\n",
    "\n",
    "print(\"The accuracy of testing dataset \", test_score)"
   ]
  },
  {
   "cell_type": "code",
   "execution_count": 63,
   "id": "24595b91",
   "metadata": {},
   "outputs": [
    {
     "name": "stdout",
     "output_type": "stream",
     "text": [
      "The accuracy of testing dataset  0.3954085418061788\n"
     ]
    }
   ],
   "source": [
    "train_pre = model.predict(X_train)\n",
    "test_score = r2_score(y_train, train_pre)\n",
    "\n",
    "print(\"The accuracy of testing dataset \", test_score)"
   ]
  },
  {
   "cell_type": "code",
   "execution_count": 69,
   "id": "51ed08f8",
   "metadata": {},
   "outputs": [
    {
     "data": {
      "text/plain": [
       "0.3954085418061788"
      ]
     },
     "execution_count": 69,
     "metadata": {},
     "output_type": "execute_result"
    }
   ],
   "source": [
    "bias = model.score(X_train, y_train)\n",
    "bias"
   ]
  },
  {
   "cell_type": "code",
   "execution_count": 71,
   "id": "bc797c90",
   "metadata": {},
   "outputs": [
    {
     "data": {
      "text/plain": [
       "0.38949803997083454"
      ]
     },
     "execution_count": 71,
     "metadata": {},
     "output_type": "execute_result"
    }
   ],
   "source": [
    "variance = model.score(X_test, y_test)\n",
    "variance"
   ]
  },
  {
   "cell_type": "code",
   "execution_count": null,
   "id": "acb57bae",
   "metadata": {},
   "outputs": [],
   "source": []
  }
 ],
 "metadata": {
  "kernelspec": {
   "display_name": "Python 3",
   "language": "python",
   "name": "python3"
  },
  "language_info": {
   "codemirror_mode": {
    "name": "ipython",
    "version": 3
   },
   "file_extension": ".py",
   "mimetype": "text/x-python",
   "name": "python",
   "nbconvert_exporter": "python",
   "pygments_lexer": "ipython3",
   "version": "3.12.0"
  }
 },
 "nbformat": 4,
 "nbformat_minor": 5
}
