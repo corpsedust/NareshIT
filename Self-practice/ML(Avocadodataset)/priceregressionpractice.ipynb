{
 "cells": [
  {
   "cell_type": "markdown",
   "id": "86e555c5",
   "metadata": {},
   "source": [
    "# Table of contents\n",
    "\n",
    "[1. Which regions have the lowest and highest prices of Avocado ?](#Question_no1) </br>\n",
    "[2. What region with highest produciton of Avocado ?](#Question_no2)<br>\n",
    "[3. What is the average avocado price in each year ?] <br>\n",
    "[4. What is th averagge avocado volume in each year ?] <br>\n"
   ]
  },
  {
   "cell_type": "code",
   "execution_count": 9,
   "id": "c0d7f44e",
   "metadata": {},
   "outputs": [],
   "source": [
    "import numpy as np\n",
    "import pandas as pd\n",
    "import matplotlib.pyplot as plt \n",
    "import seaborn as sns\n",
    "from sklearn.linear_model import LinearRegression\n",
    "from sklearn.model_selection import train_test_split"
   ]
  },
  {
   "cell_type": "code",
   "execution_count": 10,
   "id": "f4a68be8",
   "metadata": {},
   "outputs": [
    {
     "data": {
      "application/vnd.microsoft.datawrangler.viewer.v0+json": {
       "columns": [
        {
         "name": "index",
         "rawType": "int64",
         "type": "integer"
        },
        {
         "name": "Unnamed: 0",
         "rawType": "int64",
         "type": "integer"
        },
        {
         "name": "Date",
         "rawType": "object",
         "type": "string"
        },
        {
         "name": "AveragePrice",
         "rawType": "float64",
         "type": "float"
        },
        {
         "name": "Total Volume",
         "rawType": "float64",
         "type": "float"
        },
        {
         "name": "4046",
         "rawType": "float64",
         "type": "float"
        },
        {
         "name": "4225",
         "rawType": "float64",
         "type": "float"
        },
        {
         "name": "4770",
         "rawType": "float64",
         "type": "float"
        },
        {
         "name": "Total Bags",
         "rawType": "float64",
         "type": "float"
        },
        {
         "name": "Small Bags",
         "rawType": "float64",
         "type": "float"
        },
        {
         "name": "Large Bags",
         "rawType": "float64",
         "type": "float"
        },
        {
         "name": "XLarge Bags",
         "rawType": "float64",
         "type": "float"
        },
        {
         "name": "type",
         "rawType": "object",
         "type": "string"
        },
        {
         "name": "year",
         "rawType": "int64",
         "type": "integer"
        },
        {
         "name": "region",
         "rawType": "object",
         "type": "string"
        }
       ],
       "conversionMethod": "pd.DataFrame",
       "ref": "2106be26-1681-4963-8fad-d51723c21f4a",
       "rows": [
        [
         "0",
         "0",
         "2015-12-27",
         "1.33",
         "64236.62",
         "1036.74",
         "54454.85",
         "48.16",
         "8696.87",
         "8603.62",
         "93.25",
         "0.0",
         "conventional",
         "2015",
         "Albany"
        ],
        [
         "1",
         "1",
         "2015-12-20",
         "1.35",
         "54876.98",
         "674.28",
         "44638.81",
         "58.33",
         "9505.56",
         "9408.07",
         "97.49",
         "0.0",
         "conventional",
         "2015",
         "Albany"
        ],
        [
         "2",
         "2",
         "2015-12-13",
         "0.93",
         "118220.22",
         "794.7",
         "109149.67",
         "130.5",
         "8145.35",
         "8042.21",
         "103.14",
         "0.0",
         "conventional",
         "2015",
         "Albany"
        ],
        [
         "3",
         "3",
         "2015-12-06",
         "1.08",
         "78992.15",
         "1132.0",
         "71976.41",
         "72.58",
         "5811.16",
         "5677.4",
         "133.76",
         "0.0",
         "conventional",
         "2015",
         "Albany"
        ],
        [
         "4",
         "4",
         "2015-11-29",
         "1.28",
         "51039.6",
         "941.48",
         "43838.39",
         "75.78",
         "6183.95",
         "5986.26",
         "197.69",
         "0.0",
         "conventional",
         "2015",
         "Albany"
        ]
       ],
       "shape": {
        "columns": 14,
        "rows": 5
       }
      },
      "text/html": [
       "<div>\n",
       "<style scoped>\n",
       "    .dataframe tbody tr th:only-of-type {\n",
       "        vertical-align: middle;\n",
       "    }\n",
       "\n",
       "    .dataframe tbody tr th {\n",
       "        vertical-align: top;\n",
       "    }\n",
       "\n",
       "    .dataframe thead th {\n",
       "        text-align: right;\n",
       "    }\n",
       "</style>\n",
       "<table border=\"1\" class=\"dataframe\">\n",
       "  <thead>\n",
       "    <tr style=\"text-align: right;\">\n",
       "      <th></th>\n",
       "      <th>Unnamed: 0</th>\n",
       "      <th>Date</th>\n",
       "      <th>AveragePrice</th>\n",
       "      <th>Total Volume</th>\n",
       "      <th>4046</th>\n",
       "      <th>4225</th>\n",
       "      <th>4770</th>\n",
       "      <th>Total Bags</th>\n",
       "      <th>Small Bags</th>\n",
       "      <th>Large Bags</th>\n",
       "      <th>XLarge Bags</th>\n",
       "      <th>type</th>\n",
       "      <th>year</th>\n",
       "      <th>region</th>\n",
       "    </tr>\n",
       "  </thead>\n",
       "  <tbody>\n",
       "    <tr>\n",
       "      <th>0</th>\n",
       "      <td>0</td>\n",
       "      <td>2015-12-27</td>\n",
       "      <td>1.33</td>\n",
       "      <td>64236.62</td>\n",
       "      <td>1036.74</td>\n",
       "      <td>54454.85</td>\n",
       "      <td>48.16</td>\n",
       "      <td>8696.87</td>\n",
       "      <td>8603.62</td>\n",
       "      <td>93.25</td>\n",
       "      <td>0.0</td>\n",
       "      <td>conventional</td>\n",
       "      <td>2015</td>\n",
       "      <td>Albany</td>\n",
       "    </tr>\n",
       "    <tr>\n",
       "      <th>1</th>\n",
       "      <td>1</td>\n",
       "      <td>2015-12-20</td>\n",
       "      <td>1.35</td>\n",
       "      <td>54876.98</td>\n",
       "      <td>674.28</td>\n",
       "      <td>44638.81</td>\n",
       "      <td>58.33</td>\n",
       "      <td>9505.56</td>\n",
       "      <td>9408.07</td>\n",
       "      <td>97.49</td>\n",
       "      <td>0.0</td>\n",
       "      <td>conventional</td>\n",
       "      <td>2015</td>\n",
       "      <td>Albany</td>\n",
       "    </tr>\n",
       "    <tr>\n",
       "      <th>2</th>\n",
       "      <td>2</td>\n",
       "      <td>2015-12-13</td>\n",
       "      <td>0.93</td>\n",
       "      <td>118220.22</td>\n",
       "      <td>794.70</td>\n",
       "      <td>109149.67</td>\n",
       "      <td>130.50</td>\n",
       "      <td>8145.35</td>\n",
       "      <td>8042.21</td>\n",
       "      <td>103.14</td>\n",
       "      <td>0.0</td>\n",
       "      <td>conventional</td>\n",
       "      <td>2015</td>\n",
       "      <td>Albany</td>\n",
       "    </tr>\n",
       "    <tr>\n",
       "      <th>3</th>\n",
       "      <td>3</td>\n",
       "      <td>2015-12-06</td>\n",
       "      <td>1.08</td>\n",
       "      <td>78992.15</td>\n",
       "      <td>1132.00</td>\n",
       "      <td>71976.41</td>\n",
       "      <td>72.58</td>\n",
       "      <td>5811.16</td>\n",
       "      <td>5677.40</td>\n",
       "      <td>133.76</td>\n",
       "      <td>0.0</td>\n",
       "      <td>conventional</td>\n",
       "      <td>2015</td>\n",
       "      <td>Albany</td>\n",
       "    </tr>\n",
       "    <tr>\n",
       "      <th>4</th>\n",
       "      <td>4</td>\n",
       "      <td>2015-11-29</td>\n",
       "      <td>1.28</td>\n",
       "      <td>51039.60</td>\n",
       "      <td>941.48</td>\n",
       "      <td>43838.39</td>\n",
       "      <td>75.78</td>\n",
       "      <td>6183.95</td>\n",
       "      <td>5986.26</td>\n",
       "      <td>197.69</td>\n",
       "      <td>0.0</td>\n",
       "      <td>conventional</td>\n",
       "      <td>2015</td>\n",
       "      <td>Albany</td>\n",
       "    </tr>\n",
       "  </tbody>\n",
       "</table>\n",
       "</div>"
      ],
      "text/plain": [
       "   Unnamed: 0        Date  AveragePrice  ...          type  year  region\n",
       "0           0  2015-12-27          1.33  ...  conventional  2015  Albany\n",
       "1           1  2015-12-20          1.35  ...  conventional  2015  Albany\n",
       "2           2  2015-12-13          0.93  ...  conventional  2015  Albany\n",
       "3           3  2015-12-06          1.08  ...  conventional  2015  Albany\n",
       "4           4  2015-11-29          1.28  ...  conventional  2015  Albany\n",
       "\n",
       "[5 rows x 14 columns]"
      ]
     },
     "execution_count": 10,
     "metadata": {},
     "output_type": "execute_result"
    }
   ],
   "source": [
    "df = pd.read_csv(\"avocado.csv\")\n",
    "df.head()"
   ]
  },
  {
   "cell_type": "code",
   "execution_count": 11,
   "id": "bbb19679",
   "metadata": {},
   "outputs": [
    {
     "name": "stdout",
     "output_type": "stream",
     "text": [
      "<class 'pandas.core.frame.DataFrame'>\n",
      "RangeIndex: 18249 entries, 0 to 18248\n",
      "Data columns (total 14 columns):\n",
      " #   Column        Non-Null Count  Dtype  \n",
      "---  ------        --------------  -----  \n",
      " 0   Unnamed: 0    18249 non-null  int64  \n",
      " 1   Date          18249 non-null  object \n",
      " 2   AveragePrice  18249 non-null  float64\n",
      " 3   Total Volume  18249 non-null  float64\n",
      " 4   4046          18249 non-null  float64\n",
      " 5   4225          18249 non-null  float64\n",
      " 6   4770          18249 non-null  float64\n",
      " 7   Total Bags    18249 non-null  float64\n",
      " 8   Small Bags    18249 non-null  float64\n",
      " 9   Large Bags    18249 non-null  float64\n",
      " 10  XLarge Bags   18249 non-null  float64\n",
      " 11  type          18249 non-null  object \n",
      " 12  year          18249 non-null  int64  \n",
      " 13  region        18249 non-null  object \n",
      "dtypes: float64(9), int64(2), object(3)\n",
      "memory usage: 1.9+ MB\n"
     ]
    }
   ],
   "source": [
    "df.info()"
   ]
  },
  {
   "cell_type": "code",
   "execution_count": 12,
   "id": "2a7f9b6f",
   "metadata": {},
   "outputs": [
    {
     "data": {
      "text/plain": [
       "Unnamed: 0      0\n",
       "Date            0\n",
       "AveragePrice    0\n",
       "Total Volume    0\n",
       "4046            0\n",
       "4225            0\n",
       "4770            0\n",
       "Total Bags      0\n",
       "Small Bags      0\n",
       "Large Bags      0\n",
       "XLarge Bags     0\n",
       "type            0\n",
       "year            0\n",
       "region          0\n",
       "dtype: int64"
      ]
     },
     "execution_count": 12,
     "metadata": {},
     "output_type": "execute_result"
    }
   ],
   "source": [
    "df.isnull().sum()"
   ]
  },
  {
   "cell_type": "code",
   "execution_count": 13,
   "id": "48953dbd",
   "metadata": {},
   "outputs": [
    {
     "data": {
      "text/plain": [
       "Index(['Unnamed: 0', 'Date', 'AveragePrice', 'Total Volume', '4046', '4225',\n",
       "       '4770', 'Total Bags', 'Small Bags', 'Large Bags', 'XLarge Bags', 'type',\n",
       "       'year', 'region'],\n",
       "      dtype='object')"
      ]
     },
     "execution_count": 13,
     "metadata": {},
     "output_type": "execute_result"
    }
   ],
   "source": [
    "df.columns"
   ]
  },
  {
   "cell_type": "code",
   "execution_count": 14,
   "id": "02f14599",
   "metadata": {},
   "outputs": [
    {
     "data": {
      "application/vnd.microsoft.datawrangler.viewer.v0+json": {
       "columns": [
        {
         "name": "index",
         "rawType": "int64",
         "type": "integer"
        },
        {
         "name": "AveragePrice",
         "rawType": "float64",
         "type": "float"
        },
        {
         "name": "Total Volume",
         "rawType": "float64",
         "type": "float"
        },
        {
         "name": "Total Bags",
         "rawType": "float64",
         "type": "float"
        },
        {
         "name": "Small Bags",
         "rawType": "float64",
         "type": "float"
        },
        {
         "name": "Large Bags",
         "rawType": "float64",
         "type": "float"
        },
        {
         "name": "XLarge Bags",
         "rawType": "float64",
         "type": "float"
        },
        {
         "name": "type",
         "rawType": "object",
         "type": "string"
        },
        {
         "name": "year",
         "rawType": "int64",
         "type": "integer"
        },
        {
         "name": "region",
         "rawType": "object",
         "type": "string"
        }
       ],
       "conversionMethod": "pd.DataFrame",
       "ref": "e955f200-86a4-4826-bf35-52d4ef3b98ae",
       "rows": [
        [
         "0",
         "1.33",
         "64236.62",
         "8696.87",
         "8603.62",
         "93.25",
         "0.0",
         "conventional",
         "2015",
         "Albany"
        ],
        [
         "1",
         "1.35",
         "54876.98",
         "9505.56",
         "9408.07",
         "97.49",
         "0.0",
         "conventional",
         "2015",
         "Albany"
        ],
        [
         "2",
         "0.93",
         "118220.22",
         "8145.35",
         "8042.21",
         "103.14",
         "0.0",
         "conventional",
         "2015",
         "Albany"
        ],
        [
         "3",
         "1.08",
         "78992.15",
         "5811.16",
         "5677.4",
         "133.76",
         "0.0",
         "conventional",
         "2015",
         "Albany"
        ],
        [
         "4",
         "1.28",
         "51039.6",
         "6183.95",
         "5986.26",
         "197.69",
         "0.0",
         "conventional",
         "2015",
         "Albany"
        ]
       ],
       "shape": {
        "columns": 9,
        "rows": 5
       }
      },
      "text/html": [
       "<div>\n",
       "<style scoped>\n",
       "    .dataframe tbody tr th:only-of-type {\n",
       "        vertical-align: middle;\n",
       "    }\n",
       "\n",
       "    .dataframe tbody tr th {\n",
       "        vertical-align: top;\n",
       "    }\n",
       "\n",
       "    .dataframe thead th {\n",
       "        text-align: right;\n",
       "    }\n",
       "</style>\n",
       "<table border=\"1\" class=\"dataframe\">\n",
       "  <thead>\n",
       "    <tr style=\"text-align: right;\">\n",
       "      <th></th>\n",
       "      <th>AveragePrice</th>\n",
       "      <th>Total Volume</th>\n",
       "      <th>Total Bags</th>\n",
       "      <th>Small Bags</th>\n",
       "      <th>Large Bags</th>\n",
       "      <th>XLarge Bags</th>\n",
       "      <th>type</th>\n",
       "      <th>year</th>\n",
       "      <th>region</th>\n",
       "    </tr>\n",
       "  </thead>\n",
       "  <tbody>\n",
       "    <tr>\n",
       "      <th>0</th>\n",
       "      <td>1.33</td>\n",
       "      <td>64236.62</td>\n",
       "      <td>8696.87</td>\n",
       "      <td>8603.62</td>\n",
       "      <td>93.25</td>\n",
       "      <td>0.0</td>\n",
       "      <td>conventional</td>\n",
       "      <td>2015</td>\n",
       "      <td>Albany</td>\n",
       "    </tr>\n",
       "    <tr>\n",
       "      <th>1</th>\n",
       "      <td>1.35</td>\n",
       "      <td>54876.98</td>\n",
       "      <td>9505.56</td>\n",
       "      <td>9408.07</td>\n",
       "      <td>97.49</td>\n",
       "      <td>0.0</td>\n",
       "      <td>conventional</td>\n",
       "      <td>2015</td>\n",
       "      <td>Albany</td>\n",
       "    </tr>\n",
       "    <tr>\n",
       "      <th>2</th>\n",
       "      <td>0.93</td>\n",
       "      <td>118220.22</td>\n",
       "      <td>8145.35</td>\n",
       "      <td>8042.21</td>\n",
       "      <td>103.14</td>\n",
       "      <td>0.0</td>\n",
       "      <td>conventional</td>\n",
       "      <td>2015</td>\n",
       "      <td>Albany</td>\n",
       "    </tr>\n",
       "    <tr>\n",
       "      <th>3</th>\n",
       "      <td>1.08</td>\n",
       "      <td>78992.15</td>\n",
       "      <td>5811.16</td>\n",
       "      <td>5677.40</td>\n",
       "      <td>133.76</td>\n",
       "      <td>0.0</td>\n",
       "      <td>conventional</td>\n",
       "      <td>2015</td>\n",
       "      <td>Albany</td>\n",
       "    </tr>\n",
       "    <tr>\n",
       "      <th>4</th>\n",
       "      <td>1.28</td>\n",
       "      <td>51039.60</td>\n",
       "      <td>6183.95</td>\n",
       "      <td>5986.26</td>\n",
       "      <td>197.69</td>\n",
       "      <td>0.0</td>\n",
       "      <td>conventional</td>\n",
       "      <td>2015</td>\n",
       "      <td>Albany</td>\n",
       "    </tr>\n",
       "  </tbody>\n",
       "</table>\n",
       "</div>"
      ],
      "text/plain": [
       "   AveragePrice  Total Volume  Total Bags  ...          type  year  region\n",
       "0          1.33      64236.62     8696.87  ...  conventional  2015  Albany\n",
       "1          1.35      54876.98     9505.56  ...  conventional  2015  Albany\n",
       "2          0.93     118220.22     8145.35  ...  conventional  2015  Albany\n",
       "3          1.08      78992.15     5811.16  ...  conventional  2015  Albany\n",
       "4          1.28      51039.60     6183.95  ...  conventional  2015  Albany\n",
       "\n",
       "[5 rows x 9 columns]"
      ]
     },
     "execution_count": 14,
     "metadata": {},
     "output_type": "execute_result"
    }
   ],
   "source": [
    "df = df.drop(['Unnamed: 0', 'Date', '4046', '4225', '4770'], axis = 1)\n",
    "df.head()"
   ]
  },
  {
   "cell_type": "code",
   "execution_count": 29,
   "id": "ab759810",
   "metadata": {},
   "outputs": [],
   "source": [
    "def get_average(df,column):\n",
    "    return sum(df[column]) / len(df)\n",
    "\n",
    "def get_average_between_two_columns(df, column1, column2):\n",
    "    \n",
    "    lst = list(df[column1].unique())\n",
    "    average = []\n",
    "    for i in lst:\n",
    "        x = df[df[column1] == i] \n",
    "        column1_average = get_average(x,column2)\n",
    "        average.append(column1_average)\n",
    "    \n",
    "    df_column1_column_2 = pd.DataFrame({'column1':lst, 'column2':average})       \n",
    "    column1_column_sorted_index = df_column1_column_2.column2.sort_values(ascending=False).index.values\n",
    "    column1_column_sorted_data = df_column1_column_2.reindex(column1_column_sorted_index)\n",
    "    \n",
    "    return column1_column_sorted_data"
   ]
  },
  {
   "cell_type": "code",
   "execution_count": 41,
   "id": "6fe27a82",
   "metadata": {},
   "outputs": [],
   "source": [
    "def plot(data, xlabel, ylabel):\n",
    "    plt.figure(figsize=(15,5))\n",
    "    ax = sns.barplot(x = data.column1, y = data.column2, palette = \"Spectral\", hue = data.column1 , legend=False)\n",
    "    plt.xticks(rotation  = 90)\n",
    "    plt.xlabel(xlabel)\n",
    "    plt.ylabel(ylabel)\n",
    "    plt.title(f\"Average {ylabel} of Avocado according to {xlabel}\")"
   ]
  },
  {
   "cell_type": "markdown",
   "id": "3e18946b",
   "metadata": {},
   "source": [
    "<a id=\"Question_no1\"></a>\n",
    "### Which regions have the lowest and highest prices of Avocado"
   ]
  },
  {
   "cell_type": "code",
   "execution_count": 42,
   "id": "68832fb6",
   "metadata": {},
   "outputs": [
    {
     "data": {
      "image/png": "[encoded data removed]",
      "text/plain": [
       "<Figure size 1500x500 with 1 Axes>"
      ]
     },
     "metadata": {},
     "output_type": "display_data"
    }
   ],
   "source": [
    "data = get_average_between_two_columns(df, \"region\", \"AveragePrice\")\n",
    "plot(data, \"Region\", \"Pric ($)\")"
   ]
  },
  {
   "cell_type": "code",
   "execution_count": 43,
   "id": "12567413",
   "metadata": {},
   "outputs": [
    {
     "data": {
      "application/vnd.microsoft.datawrangler.viewer.v0+json": {
       "columns": [
        {
         "name": "index",
         "rawType": "int64",
         "type": "integer"
        },
        {
         "name": "column1",
         "rawType": "object",
         "type": "string"
        },
        {
         "name": "column2",
         "rawType": "float64",
         "type": "float"
        }
       ],
       "conversionMethod": "pd.DataFrame",
       "ref": "b54b20d6-d7df-4eba-90fc-9d9023abb591",
       "rows": [
        [
         "17",
         "HartfordSpringfield",
         "1.818639053254438"
        ],
        [
         "42",
         "SanFrancisco",
         "1.804201183431953"
        ],
        [
         "28",
         "NewYork",
         "1.7275739644970414"
        ],
        [
         "32",
         "Philadelphia",
         "1.6321301775147927"
        ],
        [
         "40",
         "Sacramento",
         "1.6215680473372782"
        ],
        [
         "7",
         "Charlotte",
         "1.60603550295858"
        ],
        [
         "29",
         "Northeast",
         "1.601923076923077"
        ],
        [
         "0",
         "Albany",
         "1.5610355029585798"
        ],
        [
         "8",
         "Chicago",
         "1.5567751479289942"
        ],
        [
         "37",
         "RaleighGreensboro",
         "1.5551183431952662"
        ],
        [
         "2",
         "BaltimoreWashington",
         "1.5342307692307693"
        ],
        [
         "4",
         "Boston",
         "1.5308875739644972"
        ],
        [
         "49",
         "Syracuse",
         "1.5203254437869822"
        ],
        [
         "5",
         "BuffaloRochester",
         "1.5168343195266274"
        ],
        [
         "16",
         "HarrisburgScranton",
         "1.5132840236686391"
        ],
        [
         "20",
         "Jacksonville",
         "1.5109467455621302"
        ],
        [
         "31",
         "Orlando",
         "1.5062130177514794"
        ],
        [
         "14",
         "GrandRapids",
         "1.505"
        ],
        [
         "30",
         "NorthernNewEngland",
         "1.477396449704142"
        ],
        [
         "47",
         "Spokane",
         "1.4455917159763314"
        ],
        [
         "43",
         "Seattle",
         "1.4425739644970414"
        ],
        [
         "35",
         "Plains",
         "1.4365088757396451"
        ],
        [
         "48",
         "StLouis",
         "1.430621301775148"
        ],
        [
         "24",
         "MiamiFtLauderdale",
         "1.428491124260355"
        ],
        [
         "50",
         "Tampa",
         "1.4088461538461539"
        ],
        [
         "25",
         "Midsouth",
         "1.4047633136094675"
        ],
        [
         "44",
         "SouthCarolina",
         "1.403284023668639"
        ],
        [
         "41",
         "SanDiego",
         "1.3981656804733726"
        ],
        [
         "46",
         "Southeast",
         "1.3980177514792897"
        ],
        [
         "6",
         "California",
         "1.3953254437869822"
        ],
        [
         "21",
         "LasVegas",
         "1.3809171597633136"
        ],
        [
         "34",
         "Pittsburgh",
         "1.364319526627219"
        ],
        [
         "3",
         "Boise",
         "1.3481360946745562"
        ],
        [
         "15",
         "GreatLakes",
         "1.3385502958579882"
        ],
        [
         "1",
         "Atlanta",
         "1.337958579881657"
        ],
        [
         "51",
         "TotalUS",
         "1.3190236686390533"
        ],
        [
         "36",
         "Portland",
         "1.3177218934911241"
        ],
        [
         "19",
         "Indianapolis",
         "1.3139940828402368"
        ],
        [
         "27",
         "NewOrleansMobile",
         "1.304792899408284"
        ],
        [
         "38",
         "RichmondNorfolk",
         "1.2913313609467456"
        ],
        [
         "23",
         "Louisville",
         "1.2866863905325443"
        ],
        [
         "13",
         "Detroit",
         "1.276094674556213"
        ],
        [
         "52",
         "West",
         "1.2722189349112425"
        ],
        [
         "53",
         "WestTexNewMexico",
         "1.2617014925373136"
        ],
        [
         "10",
         "Columbus",
         "1.2527810650887574"
        ],
        [
         "39",
         "Roanoke",
         "1.2479289940828402"
        ],
        [
         "33",
         "PhoenixTucson",
         "1.2244378698224851"
        ],
        [
         "12",
         "Denver",
         "1.2185798816568048"
        ],
        [
         "22",
         "LosAngeles",
         "1.2160059171597632"
        ],
        [
         "26",
         "Nashville",
         "1.2121005917159764"
        ]
       ],
       "shape": {
        "columns": 2,
        "rows": 54
       }
      },
      "text/html": [
       "<div>\n",
       "<style scoped>\n",
       "    .dataframe tbody tr th:only-of-type {\n",
       "        vertical-align: middle;\n",
       "    }\n",
       "\n",
       "    .dataframe tbody tr th {\n",
       "        vertical-align: top;\n",
       "    }\n",
       "\n",
       "    .dataframe thead th {\n",
       "        text-align: right;\n",
       "    }\n",
       "</style>\n",
       "<table border=\"1\" class=\"dataframe\">\n",
       "  <thead>\n",
       "    <tr style=\"text-align: right;\">\n",
       "      <th></th>\n",
       "      <th>column1</th>\n",
       "      <th>column2</th>\n",
       "    </tr>\n",
       "  </thead>\n",
       "  <tbody>\n",
       "    <tr>\n",
       "      <th>17</th>\n",
       "      <td>HartfordSpringfield</td>\n",
       "      <td>1.818639</td>\n",
       "    </tr>\n",
       "    <tr>\n",
       "      <th>42</th>\n",
       "      <td>SanFrancisco</td>\n",
       "      <td>1.804201</td>\n",
       "    </tr>\n",
       "    <tr>\n",
       "      <th>28</th>\n",
       "      <td>NewYork</td>\n",
       "      <td>1.727574</td>\n",
       "    </tr>\n",
       "    <tr>\n",
       "      <th>32</th>\n",
       "      <td>Philadelphia</td>\n",
       "      <td>1.632130</td>\n",
       "    </tr>\n",
       "    <tr>\n",
       "      <th>40</th>\n",
       "      <td>Sacramento</td>\n",
       "      <td>1.621568</td>\n",
       "    </tr>\n",
       "    <tr>\n",
       "      <th>7</th>\n",
       "      <td>Charlotte</td>\n",
       "      <td>1.606036</td>\n",
       "    </tr>\n",
       "    <tr>\n",
       "      <th>29</th>\n",
       "      <td>Northeast</td>\n",
       "      <td>1.601923</td>\n",
       "    </tr>\n",
       "    <tr>\n",
       "      <th>0</th>\n",
       "      <td>Albany</td>\n",
       "      <td>1.561036</td>\n",
       "    </tr>\n",
       "    <tr>\n",
       "      <th>8</th>\n",
       "      <td>Chicago</td>\n",
       "      <td>1.556775</td>\n",
       "    </tr>\n",
       "    <tr>\n",
       "      <th>37</th>\n",
       "      <td>RaleighGreensboro</td>\n",
       "      <td>1.555118</td>\n",
       "    </tr>\n",
       "    <tr>\n",
       "      <th>2</th>\n",
       "      <td>BaltimoreWashington</td>\n",
       "      <td>1.534231</td>\n",
       "    </tr>\n",
       "    <tr>\n",
       "      <th>4</th>\n",
       "      <td>Boston</td>\n",
       "      <td>1.530888</td>\n",
       "    </tr>\n",
       "    <tr>\n",
       "      <th>49</th>\n",
       "      <td>Syracuse</td>\n",
       "      <td>1.520325</td>\n",
       "    </tr>\n",
       "    <tr>\n",
       "      <th>5</th>\n",
       "      <td>BuffaloRochester</td>\n",
       "      <td>1.516834</td>\n",
       "    </tr>\n",
       "    <tr>\n",
       "      <th>16</th>\n",
       "      <td>HarrisburgScranton</td>\n",
       "      <td>1.513284</td>\n",
       "    </tr>\n",
       "    <tr>\n",
       "      <th>20</th>\n",
       "      <td>Jacksonville</td>\n",
       "      <td>1.510947</td>\n",
       "    </tr>\n",
       "    <tr>\n",
       "      <th>31</th>\n",
       "      <td>Orlando</td>\n",
       "      <td>1.506213</td>\n",
       "    </tr>\n",
       "    <tr>\n",
       "      <th>14</th>\n",
       "      <td>GrandRapids</td>\n",
       "      <td>1.505000</td>\n",
       "    </tr>\n",
       "    <tr>\n",
       "      <th>30</th>\n",
       "      <td>NorthernNewEngland</td>\n",
       "      <td>1.477396</td>\n",
       "    </tr>\n",
       "    <tr>\n",
       "      <th>47</th>\n",
       "      <td>Spokane</td>\n",
       "      <td>1.445592</td>\n",
       "    </tr>\n",
       "    <tr>\n",
       "      <th>43</th>\n",
       "      <td>Seattle</td>\n",
       "      <td>1.442574</td>\n",
       "    </tr>\n",
       "    <tr>\n",
       "      <th>35</th>\n",
       "      <td>Plains</td>\n",
       "      <td>1.436509</td>\n",
       "    </tr>\n",
       "    <tr>\n",
       "      <th>48</th>\n",
       "      <td>StLouis</td>\n",
       "      <td>1.430621</td>\n",
       "    </tr>\n",
       "    <tr>\n",
       "      <th>24</th>\n",
       "      <td>MiamiFtLauderdale</td>\n",
       "      <td>1.428491</td>\n",
       "    </tr>\n",
       "    <tr>\n",
       "      <th>50</th>\n",
       "      <td>Tampa</td>\n",
       "      <td>1.408846</td>\n",
       "    </tr>\n",
       "    <tr>\n",
       "      <th>25</th>\n",
       "      <td>Midsouth</td>\n",
       "      <td>1.404763</td>\n",
       "    </tr>\n",
       "    <tr>\n",
       "      <th>44</th>\n",
       "      <td>SouthCarolina</td>\n",
       "      <td>1.403284</td>\n",
       "    </tr>\n",
       "    <tr>\n",
       "      <th>41</th>\n",
       "      <td>SanDiego</td>\n",
       "      <td>1.398166</td>\n",
       "    </tr>\n",
       "    <tr>\n",
       "      <th>46</th>\n",
       "      <td>Southeast</td>\n",
       "      <td>1.398018</td>\n",
       "    </tr>\n",
       "    <tr>\n",
       "      <th>6</th>\n",
       "      <td>California</td>\n",
       "      <td>1.395325</td>\n",
       "    </tr>\n",
       "    <tr>\n",
       "      <th>21</th>\n",
       "      <td>LasVegas</td>\n",
       "      <td>1.380917</td>\n",
       "    </tr>\n",
       "    <tr>\n",
       "      <th>34</th>\n",
       "      <td>Pittsburgh</td>\n",
       "      <td>1.364320</td>\n",
       "    </tr>\n",
       "    <tr>\n",
       "      <th>3</th>\n",
       "      <td>Boise</td>\n",
       "      <td>1.348136</td>\n",
       "    </tr>\n",
       "    <tr>\n",
       "      <th>15</th>\n",
       "      <td>GreatLakes</td>\n",
       "      <td>1.338550</td>\n",
       "    </tr>\n",
       "    <tr>\n",
       "      <th>1</th>\n",
       "      <td>Atlanta</td>\n",
       "      <td>1.337959</td>\n",
       "    </tr>\n",
       "    <tr>\n",
       "      <th>51</th>\n",
       "      <td>TotalUS</td>\n",
       "      <td>1.319024</td>\n",
       "    </tr>\n",
       "    <tr>\n",
       "      <th>36</th>\n",
       "      <td>Portland</td>\n",
       "      <td>1.317722</td>\n",
       "    </tr>\n",
       "    <tr>\n",
       "      <th>19</th>\n",
       "      <td>Indianapolis</td>\n",
       "      <td>1.313994</td>\n",
       "    </tr>\n",
       "    <tr>\n",
       "      <th>27</th>\n",
       "      <td>NewOrleansMobile</td>\n",
       "      <td>1.304793</td>\n",
       "    </tr>\n",
       "    <tr>\n",
       "      <th>38</th>\n",
       "      <td>RichmondNorfolk</td>\n",
       "      <td>1.291331</td>\n",
       "    </tr>\n",
       "    <tr>\n",
       "      <th>23</th>\n",
       "      <td>Louisville</td>\n",
       "      <td>1.286686</td>\n",
       "    </tr>\n",
       "    <tr>\n",
       "      <th>13</th>\n",
       "      <td>Detroit</td>\n",
       "      <td>1.276095</td>\n",
       "    </tr>\n",
       "    <tr>\n",
       "      <th>52</th>\n",
       "      <td>West</td>\n",
       "      <td>1.272219</td>\n",
       "    </tr>\n",
       "    <tr>\n",
       "      <th>53</th>\n",
       "      <td>WestTexNewMexico</td>\n",
       "      <td>1.261701</td>\n",
       "    </tr>\n",
       "    <tr>\n",
       "      <th>10</th>\n",
       "      <td>Columbus</td>\n",
       "      <td>1.252781</td>\n",
       "    </tr>\n",
       "    <tr>\n",
       "      <th>39</th>\n",
       "      <td>Roanoke</td>\n",
       "      <td>1.247929</td>\n",
       "    </tr>\n",
       "    <tr>\n",
       "      <th>33</th>\n",
       "      <td>PhoenixTucson</td>\n",
       "      <td>1.224438</td>\n",
       "    </tr>\n",
       "    <tr>\n",
       "      <th>12</th>\n",
       "      <td>Denver</td>\n",
       "      <td>1.218580</td>\n",
       "    </tr>\n",
       "    <tr>\n",
       "      <th>22</th>\n",
       "      <td>LosAngeles</td>\n",
       "      <td>1.216006</td>\n",
       "    </tr>\n",
       "    <tr>\n",
       "      <th>26</th>\n",
       "      <td>Nashville</td>\n",
       "      <td>1.212101</td>\n",
       "    </tr>\n",
       "    <tr>\n",
       "      <th>9</th>\n",
       "      <td>CincinnatiDayton</td>\n",
       "      <td>1.209201</td>\n",
       "    </tr>\n",
       "    <tr>\n",
       "      <th>45</th>\n",
       "      <td>SouthCentral</td>\n",
       "      <td>1.101243</td>\n",
       "    </tr>\n",
       "    <tr>\n",
       "      <th>11</th>\n",
       "      <td>DallasFtWorth</td>\n",
       "      <td>1.085592</td>\n",
       "    </tr>\n",
       "    <tr>\n",
       "      <th>18</th>\n",
       "      <td>Houston</td>\n",
       "      <td>1.047929</td>\n",
       "    </tr>\n",
       "  </tbody>\n",
       "</table>\n",
       "</div>"
      ],
      "text/plain": [
       "                column1   column2\n",
       "17  HartfordSpringfield  1.818639\n",
       "42         SanFrancisco  1.804201\n",
       "28              NewYork  1.727574\n",
       "32         Philadelphia  1.632130\n",
       "40           Sacramento  1.621568\n",
       "7             Charlotte  1.606036\n",
       "29            Northeast  1.601923\n",
       "0                Albany  1.561036\n",
       "8               Chicago  1.556775\n",
       "37    RaleighGreensboro  1.555118\n",
       "2   BaltimoreWashington  1.534231\n",
       "4                Boston  1.530888\n",
       "49             Syracuse  1.520325\n",
       "5      BuffaloRochester  1.516834\n",
       "16   HarrisburgScranton  1.513284\n",
       "20         Jacksonville  1.510947\n",
       "31              Orlando  1.506213\n",
       "14          GrandRapids  1.505000\n",
       "30   NorthernNewEngland  1.477396\n",
       "47              Spokane  1.445592\n",
       "43              Seattle  1.442574\n",
       "35               Plains  1.436509\n",
       "48              StLouis  1.430621\n",
       "24    MiamiFtLauderdale  1.428491\n",
       "50                Tampa  1.408846\n",
       "25             Midsouth  1.404763\n",
       "44        SouthCarolina  1.403284\n",
       "41             SanDiego  1.398166\n",
       "46            Southeast  1.398018\n",
       "6            California  1.395325\n",
       "21             LasVegas  1.380917\n",
       "34           Pittsburgh  1.364320\n",
       "3                 Boise  1.348136\n",
       "15           GreatLakes  1.338550\n",
       "1               Atlanta  1.337959\n",
       "51              TotalUS  1.319024\n",
       "36             Portland  1.317722\n",
       "19         Indianapolis  1.313994\n",
       "27     NewOrleansMobile  1.304793\n",
       "38      RichmondNorfolk  1.291331\n",
       "23           Louisville  1.286686\n",
       "13              Detroit  1.276095\n",
       "52                 West  1.272219\n",
       "53     WestTexNewMexico  1.261701\n",
       "10             Columbus  1.252781\n",
       "39              Roanoke  1.247929\n",
       "33        PhoenixTucson  1.224438\n",
       "12               Denver  1.218580\n",
       "22           LosAngeles  1.216006\n",
       "26            Nashville  1.212101\n",
       "9      CincinnatiDayton  1.209201\n",
       "45         SouthCentral  1.101243\n",
       "11        DallasFtWorth  1.085592\n",
       "18              Houston  1.047929"
      ]
     },
     "execution_count": 43,
     "metadata": {},
     "output_type": "execute_result"
    }
   ],
   "source": [
    "data"
   ]
  },
  {
   "cell_type": "markdown",
   "id": "1a115d40",
   "metadata": {},
   "source": [
    "- HartfordSpringfield is the region with the highest average price of Avocado\n",
    "- Houston is the region with lowest average prices "
   ]
  },
  {
   "cell_type": "markdown",
   "id": "b66abebe",
   "metadata": {},
   "source": [
    "<a id = \"Question_no2\"></a>\n",
    "### What region with highest produciton of Avocado"
   ]
  },
  {
   "cell_type": "markdown",
   "id": "209f249e",
   "metadata": {},
   "source": []
  }
 ],
 "metadata": {
  "kernelspec": {
   "display_name": "Python 3",
   "language": "python",
   "name": "python3"
  },
  "language_info": {
   "codemirror_mode": {
    "name": "ipython",
    "version": 3
   },
   "file_extension": ".py",
   "mimetype": "text/x-python",
   "name": "python",
   "nbconvert_exporter": "python",
   "pygments_lexer": "ipython3",
   "version": "3.12.0"
  }
 },
 "nbformat": 4,
 "nbformat_minor": 5
}
