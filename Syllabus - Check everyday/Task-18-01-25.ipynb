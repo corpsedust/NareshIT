{
 "cells": [
  {
   "cell_type": "markdown",
   "metadata": {
    "vscode": {
     "languageId": "plaintext"
    }
   },
   "source": [
    "<font color = \"Red\">Task - 17th January, 2025</font>"
   ]
  },
  {
   "cell_type": "code",
   "execution_count": 1,
   "metadata": {},
   "outputs": [
    {
     "name": "stdout",
     "output_type": "stream",
     "text": [
      "5\n",
      "1\n",
      "6\n",
      "1.5\n",
      "9\n",
      "1\n",
      "1\n"
     ]
    }
   ],
   "source": [
    "#Simple Arithmetic operations\n",
    "\n",
    "print(3+2)\n",
    "print(3-2)\n",
    "print(3*2)\n",
    "print(3/2)\n",
    "print(3**2)\n",
    "print(3%2)\n",
    "print(3//2)"
   ]
  },
  {
   "cell_type": "code",
   "execution_count": 2,
   "metadata": {},
   "outputs": [
    {
     "name": "stdout",
     "output_type": "stream",
     "text": [
      "<class 'int'>\n",
      "<class 'float'>\n",
      "<class 'complex'>\n",
      "<class 'str'>\n",
      "<class 'list'>\n",
      "<class 'dict'>\n",
      "<class 'set'>\n",
      "<class 'tuple'>\n",
      "<class 'bool'>\n",
      "<class 'bool'>\n"
     ]
    }
   ],
   "source": [
    "#checking Data type\n",
    "print(type(10))\n",
    "print(type(3.14))\n",
    "print(type(1+3j))\n",
    "print(type(\"something\"))\n",
    "print(type([1,2,3]))\n",
    "print(type({\"text\" : \"Something\"}))\n",
    "print(type({9.4,8.6,910.5}))\n",
    "print(type((56,67,87,23)))\n",
    "print(type(\"Hello\" == \"Hello\"))\n",
    "print(type(3 <= 1))"
   ]
  },
  {
   "cell_type": "code",
   "execution_count": 5,
   "metadata": {},
   "outputs": [
    {
     "name": "stdout",
     "output_type": "stream",
     "text": [
      "Addition:  3\n",
      "Subtraction:  1\n",
      "Multiplication:  6\n",
      "Division:  2.0\n",
      "Division:  3.0\n",
      "Divison:  3.5\n",
      "Division without  the remainder:  3\n",
      "Modulus:  1\n",
      "Division without the remainder:  2\n",
      "Exponential:  9\n",
      "Floating Number, Pi:  3.14\n",
      "Floating Number, gravity:  9.81\n",
      "Complex number:  (1+1j)\n",
      "Multiplying complex number:  (2+0j)\n",
      "a + b =  5\n",
      "a - b =  1\n",
      "a * b =  6\n",
      "a / b =  1.5\n",
      "a % b =  1\n",
      "a // b =  1\n",
      "a ** b =  9\n",
      "total:  7\n",
      "difference:  1\n",
      "product:  12\n",
      "division:  1.3333333333333333\n",
      "remainder:  1\n"
     ]
    }
   ],
   "source": [
    "#Arithmetic operators in python\n",
    "#Integers\n",
    "\n",
    "print(\"Addition: \", 1 + 2)\n",
    "print(\"Subtraction: \", 2 - 1)\n",
    "print(\"Multiplication: \", 2 * 3)\n",
    "print(\"Division: \", 4 / 2)\n",
    "print(\"Division: \", 6 / 2)\n",
    "print(\"Divison: \", 7 / 2)\n",
    "print(\"Division without  the remainder: \", 7 // 2)\n",
    "print(\"Modulus: \", 3 % 2)\n",
    "print(\"Division without the remainder: \", 7 // 3)\n",
    "print(\"Exponential: \", 3 ** 2)\n",
    "\n",
    "\n",
    "#Floating numbers\n",
    "print(\"Floating Number, Pi: \", 3.14)\n",
    "print(\"Floating Number, gravity: \", 9.81)\n",
    "\n",
    "#Complex numbers\n",
    "\n",
    "print(\"Complex number: \", 1 + 1j)\n",
    "print(\"Multiplying complex number: \",(1+1j) * (1-1j))\n",
    "\n",
    "#Declaring the variable at the top first \n",
    "\n",
    "a = 3 # a is a variable name and 3 is an integer data type \n",
    "b = 2 # b is a variable name and 3 is an integer data type\n",
    "\n",
    "#Arithmetic operations and assigning the result to a variable\n",
    "\n",
    "total = a + b\n",
    "diff = a - b\n",
    "product = a * b\n",
    "division = a / b\n",
    "remainder = a % b\n",
    "floor_division = a // b\n",
    "exponential = a ** b\n",
    "\n",
    "#print stuff\n",
    "\n",
    "print(\"a + b = \", total)\n",
    "print(\"a - b = \", diff)\n",
    "print(\"a * b = \", product)\n",
    "print(\"a / b = \", division)\n",
    "print(\"a % b = \", remainder)\n",
    "print(\"a // b = \", floor_division)\n",
    "print(\"a ** b = \", exponential)\n",
    "\n",
    "#Declaring values and organizing them together \n",
    "num_1 = 3\n",
    "num_2 = 4\n",
    "\n",
    "#Arithmetic operations\n",
    "\n",
    "total = num_1 + num_2\n",
    "diff = num_2 - num_1\n",
    "product = num_1 * num_2\n",
    "div = num_2 / num_1\n",
    "remainder = num_2 % num_1\n",
    "\n",
    "print(\"total: \", total)\n",
    "print(\"difference: \",diff)\n",
    "print(\"product: \", product)\n",
    "print(\"division: \", div)\n",
    "print(\"remainder: \", remainder)\n",
    "\n"
   ]
  },
  {
   "cell_type": "code",
   "execution_count": 7,
   "metadata": {},
   "outputs": [
    {
     "name": "stdout",
     "output_type": "stream",
     "text": [
      "Area of a circle:  314.0\n"
     ]
    }
   ],
   "source": [
    "#calculating the area of a circle \n",
    "\n",
    "radius = 10\n",
    "area_of_circle = 3.14 * radius ** 2\n",
    "print(\"Area of a circle: \", area_of_circle)"
   ]
  },
  {
   "cell_type": "code",
   "execution_count": 8,
   "metadata": {},
   "outputs": [
    {
     "name": "stdout",
     "output_type": "stream",
     "text": [
      "735.75 N\n"
     ]
    }
   ],
   "source": [
    "#Calculating weight of an object\n",
    "\n",
    "mass = 75\n",
    "gravity  = 9.81\n",
    "weight = mass * gravity\n",
    "print(weight,\"N\")"
   ]
  },
  {
   "cell_type": "code",
   "execution_count": 10,
   "metadata": {},
   "outputs": [
    {
     "name": "stdout",
     "output_type": "stream",
     "text": [
      "True\n",
      "True\n",
      "False\n",
      "True\n",
      "True\n",
      "False\n",
      "True\n",
      "False\n",
      "True\n",
      "True\n",
      "True\n",
      "False\n",
      "True\n",
      "True\n"
     ]
    }
   ],
   "source": [
    "print( 3 > 2)\n",
    "print(3 >= 2)\n",
    "print(3 < 2)\n",
    "print(2 < 3)\n",
    "print(2 <= 3)\n",
    "print(3 == 2)\n",
    "print(3 != 2)\n",
    "print(len(\"apple\") == len(\"orange\"))\n",
    "print(len(\"apple\") != len(\"orange\"))\n",
    "print(len(\"apple\") < len(\"orange\"))\n",
    "print(len(\"rose\") == len(\"flow\"))\n",
    "print(len(\"rose\") != len(\"flow\"))\n",
    "print(len(\"tomato\") == len(\"potato\"))\n",
    "print(len(\"python\") == len(\"dragon\"))"
   ]
  },
  {
   "cell_type": "code",
   "execution_count": 11,
   "metadata": {},
   "outputs": [
    {
     "name": "stdout",
     "output_type": "stream",
     "text": [
      "True == True:  True\n",
      "True == False:  False\n",
      "False == False:  True\n",
      "True and True:  True\n",
      "True or False:  True\n"
     ]
    }
   ],
   "source": [
    "#Boolean Comparison\n",
    "print(\"True == True: \", True == True)\n",
    "print('True == False: ', True == False)\n",
    "print(\"False == False: \", False == False)\n",
    "print(\"True and True: \", True and True)\n",
    "print(\"True or False: \", True or False)"
   ]
  },
  {
   "cell_type": "code",
   "execution_count": null,
   "metadata": {},
   "outputs": [],
   "source": [
    "#Different way of comparison\n"
   ]
  }
 ],
 "metadata": {
  "kernelspec": {
   "display_name": "Python 3",
   "language": "python",
   "name": "python3"
  },
  "language_info": {
   "codemirror_mode": {
    "name": "ipython",
    "version": 3
   },
   "file_extension": ".py",
   "mimetype": "text/x-python",
   "name": "python",
   "nbconvert_exporter": "python",
   "pygments_lexer": "ipython3",
   "version": "3.12.0"
  }
 },
 "nbformat": 4,
 "nbformat_minor": 2
}
