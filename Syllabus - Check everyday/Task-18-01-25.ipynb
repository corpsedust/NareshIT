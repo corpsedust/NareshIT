{
 "cells": [
  {
   "cell_type": "markdown",
   "metadata": {
    "vscode": {
     "languageId": "plaintext"
    }
   },
   "source": [
    "<font color = \"Red\">Task - 17th January, 2025</font>"
   ]
  },
  {
   "cell_type": "markdown",
   "metadata": {},
   "source": [
    "__*Basic code*__"
   ]
  },
  {
   "cell_type": "code",
   "execution_count": 1,
   "metadata": {},
   "outputs": [
    {
     "name": "stdout",
     "output_type": "stream",
     "text": [
      "5\n",
      "1\n",
      "6\n",
      "1.5\n",
      "9\n",
      "1\n",
      "1\n"
     ]
    }
   ],
   "source": [
    "#Simple Arithmetic operations\n",
    "\n",
    "print(3+2)\n",
    "print(3-2)\n",
    "print(3*2)\n",
    "print(3/2)\n",
    "print(3**2)\n",
    "print(3%2)\n",
    "print(3//2)"
   ]
  },
  {
   "cell_type": "code",
   "execution_count": 2,
   "metadata": {},
   "outputs": [
    {
     "name": "stdout",
     "output_type": "stream",
     "text": [
      "<class 'int'>\n",
      "<class 'float'>\n",
      "<class 'complex'>\n",
      "<class 'str'>\n",
      "<class 'list'>\n",
      "<class 'dict'>\n",
      "<class 'set'>\n",
      "<class 'tuple'>\n",
      "<class 'bool'>\n",
      "<class 'bool'>\n"
     ]
    }
   ],
   "source": [
    "#checking Data type\n",
    "print(type(10))\n",
    "print(type(3.14))\n",
    "print(type(1+3j))\n",
    "print(type(\"something\"))\n",
    "print(type([1,2,3]))\n",
    "print(type({\"text\" : \"Something\"}))\n",
    "print(type({9.4,8.6,910.5}))\n",
    "print(type((56,67,87,23)))\n",
    "print(type(\"Hello\" == \"Hello\"))\n",
    "print(type(3 <= 1))"
   ]
  },
  {
   "cell_type": "markdown",
   "metadata": {
    "vscode": {
     "languageId": "html"
    }
   },
   "source": [
    "__*Operators*__"
   ]
  },
  {
   "cell_type": "code",
   "execution_count": 5,
   "metadata": {},
   "outputs": [
    {
     "name": "stdout",
     "output_type": "stream",
     "text": [
      "Addition:  3\n",
      "Subtraction:  1\n",
      "Multiplication:  6\n",
      "Division:  2.0\n",
      "Division:  3.0\n",
      "Divison:  3.5\n",
      "Division without  the remainder:  3\n",
      "Modulus:  1\n",
      "Division without the remainder:  2\n",
      "Exponential:  9\n",
      "Floating Number, Pi:  3.14\n",
      "Floating Number, gravity:  9.81\n",
      "Complex number:  (1+1j)\n",
      "Multiplying complex number:  (2+0j)\n",
      "a + b =  5\n",
      "a - b =  1\n",
      "a * b =  6\n",
      "a / b =  1.5\n",
      "a % b =  1\n",
      "a // b =  1\n",
      "a ** b =  9\n",
      "total:  7\n",
      "difference:  1\n",
      "product:  12\n",
      "division:  1.3333333333333333\n",
      "remainder:  1\n"
     ]
    }
   ],
   "source": [
    "#Arithmetic operators in python\n",
    "#Integers\n",
    "\n",
    "print(\"Addition: \", 1 + 2)\n",
    "print(\"Subtraction: \", 2 - 1)\n",
    "print(\"Multiplication: \", 2 * 3)\n",
    "print(\"Division: \", 4 / 2)\n",
    "print(\"Division: \", 6 / 2)\n",
    "print(\"Divison: \", 7 / 2)\n",
    "print(\"Division without  the remainder: \", 7 // 2)\n",
    "print(\"Modulus: \", 3 % 2)\n",
    "print(\"Division without the remainder: \", 7 // 3)\n",
    "print(\"Exponential: \", 3 ** 2)\n",
    "\n",
    "\n",
    "#Floating numbers\n",
    "print(\"Floating Number, Pi: \", 3.14)\n",
    "print(\"Floating Number, gravity: \", 9.81)\n",
    "\n",
    "#Complex numbers\n",
    "\n",
    "print(\"Complex number: \", 1 + 1j)\n",
    "print(\"Multiplying complex number: \",(1+1j) * (1-1j))\n",
    "\n",
    "#Declaring the variable at the top first \n",
    "\n",
    "a = 3 # a is a variable name and 3 is an integer data type \n",
    "b = 2 # b is a variable name and 3 is an integer data type\n",
    "\n",
    "#Arithmetic operations and assigning the result to a variable\n",
    "\n",
    "total = a + b\n",
    "diff = a - b\n",
    "product = a * b\n",
    "division = a / b\n",
    "remainder = a % b\n",
    "floor_division = a // b\n",
    "exponential = a ** b\n",
    "\n",
    "#print stuff\n",
    "\n",
    "print(\"a + b = \", total)\n",
    "print(\"a - b = \", diff)\n",
    "print(\"a * b = \", product)\n",
    "print(\"a / b = \", division)\n",
    "print(\"a % b = \", remainder)\n",
    "print(\"a // b = \", floor_division)\n",
    "print(\"a ** b = \", exponential)\n",
    "\n",
    "#Declaring values and organizing them together \n",
    "num_1 = 3\n",
    "num_2 = 4\n",
    "\n",
    "#Arithmetic operations\n",
    "\n",
    "total = num_1 + num_2\n",
    "diff = num_2 - num_1\n",
    "product = num_1 * num_2\n",
    "div = num_2 / num_1\n",
    "remainder = num_2 % num_1\n",
    "\n",
    "print(\"total: \", total)\n",
    "print(\"difference: \",diff)\n",
    "print(\"product: \", product)\n",
    "print(\"division: \", div)\n",
    "print(\"remainder: \", remainder)\n",
    "\n"
   ]
  },
  {
   "cell_type": "code",
   "execution_count": 7,
   "metadata": {},
   "outputs": [
    {
     "name": "stdout",
     "output_type": "stream",
     "text": [
      "Area of a circle:  314.0\n"
     ]
    }
   ],
   "source": [
    "#calculating the area of a circle \n",
    "\n",
    "radius = 10\n",
    "area_of_circle = 3.14 * radius ** 2\n",
    "print(\"Area of a circle: \", area_of_circle)"
   ]
  },
  {
   "cell_type": "code",
   "execution_count": 8,
   "metadata": {},
   "outputs": [
    {
     "name": "stdout",
     "output_type": "stream",
     "text": [
      "735.75 N\n"
     ]
    }
   ],
   "source": [
    "#Calculating weight of an object\n",
    "\n",
    "mass = 75\n",
    "gravity  = 9.81\n",
    "weight = mass * gravity\n",
    "print(weight,\"N\")"
   ]
  },
  {
   "cell_type": "code",
   "execution_count": 10,
   "metadata": {},
   "outputs": [
    {
     "name": "stdout",
     "output_type": "stream",
     "text": [
      "True\n",
      "True\n",
      "False\n",
      "True\n",
      "True\n",
      "False\n",
      "True\n",
      "False\n",
      "True\n",
      "True\n",
      "True\n",
      "False\n",
      "True\n",
      "True\n"
     ]
    }
   ],
   "source": [
    "print( 3 > 2)\n",
    "print(3 >= 2)\n",
    "print(3 < 2)\n",
    "print(2 < 3)\n",
    "print(2 <= 3)\n",
    "print(3 == 2)\n",
    "print(3 != 2)\n",
    "print(len(\"apple\") == len(\"orange\"))\n",
    "print(len(\"apple\") != len(\"orange\"))\n",
    "print(len(\"apple\") < len(\"orange\"))\n",
    "print(len(\"rose\") == len(\"flow\"))\n",
    "print(len(\"rose\") != len(\"flow\"))\n",
    "print(len(\"tomato\") == len(\"potato\"))\n",
    "print(len(\"python\") == len(\"dragon\"))"
   ]
  },
  {
   "cell_type": "code",
   "execution_count": 11,
   "metadata": {},
   "outputs": [
    {
     "name": "stdout",
     "output_type": "stream",
     "text": [
      "True == True:  True\n",
      "True == False:  False\n",
      "False == False:  True\n",
      "True and True:  True\n",
      "True or False:  True\n"
     ]
    }
   ],
   "source": [
    "#Boolean Comparison\n",
    "print(\"True == True: \", True == True)\n",
    "print('True == False: ', True == False)\n",
    "print(\"False == False: \", False == False)\n",
    "print(\"True and True: \", True and True)\n",
    "print(\"True or False: \", True or False)"
   ]
  },
  {
   "cell_type": "code",
   "execution_count": 12,
   "metadata": {},
   "outputs": [
    {
     "name": "stdout",
     "output_type": "stream",
     "text": [
      "1 is 1:  True\n",
      "1 is not 2:  True\n",
      "A in Asabeneh True\n",
      "B in Asabeneh False\n",
      "True\n",
      "a in an:  True\n",
      "4 is 2 ** 2:  True\n"
     ]
    },
    {
     "name": "stderr",
     "output_type": "stream",
     "text": [
      "<>:3: SyntaxWarning: \"is\" with 'int' literal. Did you mean \"==\"?\n",
      "<>:4: SyntaxWarning: \"is not\" with 'int' literal. Did you mean \"!=\"?\n",
      "<>:9: SyntaxWarning: \"is\" with 'int' literal. Did you mean \"==\"?\n",
      "<>:3: SyntaxWarning: \"is\" with 'int' literal. Did you mean \"==\"?\n",
      "<>:4: SyntaxWarning: \"is not\" with 'int' literal. Did you mean \"!=\"?\n",
      "<>:9: SyntaxWarning: \"is\" with 'int' literal. Did you mean \"==\"?\n",
      "C:\\Users\\vineet\\AppData\\Local\\Temp\\ipykernel_10652\\3510752544.py:3: SyntaxWarning: \"is\" with 'int' literal. Did you mean \"==\"?\n",
      "  print(\"1 is 1: \", 1 is 1)\n",
      "C:\\Users\\vineet\\AppData\\Local\\Temp\\ipykernel_10652\\3510752544.py:4: SyntaxWarning: \"is not\" with 'int' literal. Did you mean \"!=\"?\n",
      "  print(\"1 is not 2: \", 1 is not 2)\n",
      "C:\\Users\\vineet\\AppData\\Local\\Temp\\ipykernel_10652\\3510752544.py:9: SyntaxWarning: \"is\" with 'int' literal. Did you mean \"==\"?\n",
      "  print(\"4 is 2 ** 2: \", 4 is 2 ** 2)\n"
     ]
    }
   ],
   "source": [
    "#Different way of comparison\n",
    "\n",
    "print(\"1 is 1: \", 1 is 1)\n",
    "print(\"1 is not 2: \", 1 is not 2)\n",
    "print(\"A in Asabeneh\", \"A\" in \"Asabaneh\")\n",
    "print(\"B in Asabeneh\", \"B\" in \"Asabaneh\")\n",
    "print(\"coding\" in \"coding for all\")\n",
    "print(\"a in an: \", \"a\" in \"an\")\n",
    "print(\"4 is 2 ** 2: \", 4 is 2 ** 2)"
   ]
  },
  {
   "cell_type": "code",
   "execution_count": 13,
   "metadata": {},
   "outputs": [
    {
     "name": "stdout",
     "output_type": "stream",
     "text": [
      "1 is 1:  True\n",
      "1 is not 2:  True\n",
      "A in Asabeneh True\n",
      "B in Asabeneh False\n",
      "True\n",
      "a in an:  True\n",
      "4 is 2 ** 2:  True\n"
     ]
    }
   ],
   "source": [
    "print(\"1 is 1: \", 1 == 1)\n",
    "print(\"1 is not 2: \", 1 != 2)\n",
    "print(\"A in Asabeneh\", \"A\" in \"Asabaneh\")\n",
    "print(\"B in Asabeneh\", \"B\" in \"Asabaneh\")\n",
    "print(\"coding\" in \"coding for all\")\n",
    "print(\"a in an: \", \"a\" in \"an\")\n",
    "print(\"4 is 2 ** 2: \", 4 == 2 ** 2)"
   ]
  },
  {
   "cell_type": "markdown",
   "metadata": {},
   "source": [
    "<font color = \"Pink\">Why the syntax error ?</font>\n",
    "\n",
    "`is` checks for identity - if the two variables point to the exact same object.\n",
    "`==` checks for equality - if the two variables point at values are equal. That is, if they will act the same way in the same situations.\n",
    "Identity implies equality, but not the other way round.\n",
    "\n",
    "Can do further reading but not required as of now."
   ]
  },
  {
   "cell_type": "code",
   "execution_count": 19,
   "metadata": {},
   "outputs": [
    {
     "name": "stdout",
     "output_type": "stream",
     "text": [
      "True\n",
      "False\n",
      "False\n",
      "True\n",
      "True\n",
      "False\n",
      "False\n",
      "False\n",
      "True\n",
      "True\n",
      "False\n"
     ]
    }
   ],
   "source": [
    "print(3 > 2 and 4 > 3)\n",
    "print(3 > 2 and 4 < 3)\n",
    "print(3 < 2 and 4 < 3)\n",
    "print(3 > 2 or 4 > 3)\n",
    "print(3 > 2 or 4 < 3)\n",
    "print(3 < 2 or 4 < 3)\n",
    "print(not 3 > 2)\n",
    "print(not True)\n",
    "print(not False)\n",
    "print(not not True)\n",
    "print(not not False)\n"
   ]
  },
  {
   "cell_type": "markdown",
   "metadata": {},
   "source": [
    "__*String*__"
   ]
  },
  {
   "cell_type": "code",
   "execution_count": 25,
   "metadata": {},
   "outputs": [
    {
     "name": "stdout",
     "output_type": "stream",
     "text": [
      "P\n",
      "1\n",
      "Hello, World!\n",
      "13\n",
      "I hope you are enjoying 30 days of python challenge\n"
     ]
    }
   ],
   "source": [
    "#Single line comment \n",
    "letter = \"P\"\n",
    "print(letter)\n",
    "print(len(letter))\n",
    "greeting = \"Hello, World!\"\n",
    "print(greeting)\n",
    "print(len(greeting))\n",
    "sentence = \"I hope you are enjoying 30 days of python challenge\"\n",
    "print(sentence)\n"
   ]
  },
  {
   "cell_type": "code",
   "execution_count": 26,
   "metadata": {},
   "outputs": [
    {
     "name": "stdout",
     "output_type": "stream",
     "text": [
      "I am a student, I joined this course to learn\n",
      "and expand my skillsets. My aim is not a fancy job or high package,\n",
      "my aim is excellence. Everything else is secondary. I chose DS in \n",
      "particular because it has maths, I enjoy maths\n",
      "I am a student, I joined this course to learn\n",
      "and expand my skillsets. My aim is not a fancy job or high package,\n",
      "my aim is excellence. Everything else is secondary. I chose DS in \n",
      "particular because it has maths, I enjoy maths\n"
     ]
    }
   ],
   "source": [
    "#Multline String\n",
    "multiline_string = '''I am a student, I joined this course to learn\n",
    "and expand my skillsets. My aim is not a fancy job or high package,\n",
    "my aim is excellence. Everything else is secondary. I chose DS in \n",
    "particular because it has maths, I enjoy maths'''\n",
    "print(multiline_string)\n",
    "\n",
    "\n",
    "multiline_string = \"\"\"I am a student, I joined this course to learn\n",
    "and expand my skillsets. My aim is not a fancy job or high package,\n",
    "my aim is excellence. Everything else is secondary. I chose DS in \n",
    "particular because it has maths, I enjoy maths\"\"\"\n",
    "print(multiline_string)"
   ]
  },
  {
   "cell_type": "code",
   "execution_count": 27,
   "metadata": {},
   "outputs": [
    {
     "name": "stdout",
     "output_type": "stream",
     "text": [
      "Vineet Kumar\n",
      "6\n",
      "5\n",
      "True\n",
      "12\n"
     ]
    }
   ],
   "source": [
    "#String Concatenation \n",
    "\n",
    "first_name = \"Vineet\"\n",
    "last_name = \"Kumar\"\n",
    "space  = \" \"\n",
    "full_name = first_name + space + last_name\n",
    "print(full_name)\n",
    "print(len(first_name))\n",
    "print(len(last_name))\n",
    "print(len(first_name) > len(last_name))\n",
    "print(len(full_name))\n",
    "\n"
   ]
  },
  {
   "cell_type": "code",
   "execution_count": 28,
   "metadata": {},
   "outputs": [
    {
     "name": "stdout",
     "output_type": "stream",
     "text": [
      "P\n",
      "y\n",
      "t\n",
      "h\n",
      "o\n",
      "n\n"
     ]
    }
   ],
   "source": [
    "#Unpacking characters\n",
    "\n",
    "language = \"Python\"\n",
    "a,b,c,d,e,f = language #unpacking sequence characters into variables\n",
    "print(a)\n",
    "print(b)\n",
    "print(c)\n",
    "print(d)\n",
    "print(e)\n",
    "print(f)\n",
    "\n"
   ]
  },
  {
   "cell_type": "code",
   "execution_count": 29,
   "metadata": {},
   "outputs": [
    {
     "name": "stdout",
     "output_type": "stream",
     "text": [
      "P\n",
      "y\n",
      "n\n"
     ]
    }
   ],
   "source": [
    "#Accessing characters in strings by index\n",
    "language = \"Python\"\n",
    "first_letter = language[0]\n",
    "print(first_letter)\n",
    "second_letter = language[1]\n",
    "print(second_letter)\n",
    "last_index = len(language) - 1\n",
    "last_letter = language[last_index]\n",
    "print(last_letter)"
   ]
  },
  {
   "cell_type": "code",
   "execution_count": 30,
   "metadata": {},
   "outputs": [
    {
     "name": "stdout",
     "output_type": "stream",
     "text": [
      "n\n",
      "o\n"
     ]
    }
   ],
   "source": [
    "#Negative indexing\n",
    "language = \"Python\"\n",
    "last_letter = language[-1]\n",
    "print(last_letter)\n",
    "second_last = language[-2]\n",
    "print(second_last)"
   ]
  },
  {
   "cell_type": "code",
   "execution_count": 31,
   "metadata": {},
   "outputs": [
    {
     "name": "stdout",
     "output_type": "stream",
     "text": [
      "hon\n",
      "hon\n",
      "hon\n"
     ]
    }
   ],
   "source": [
    "#Slicing \n",
    "\n",
    "language = \"Python\"\n",
    "first_three = language[0:3]\n",
    "last_three = language[3:6]\n",
    "print(last_three)\n",
    "\n",
    "last_three = language[-3:]\n",
    "print(last_three)\n",
    "last_three = language[3:]\n",
    "print(last_three)"
   ]
  },
  {
   "cell_type": "code",
   "execution_count": 32,
   "metadata": {},
   "outputs": [
    {
     "name": "stdout",
     "output_type": "stream",
     "text": [
      "Pto\n"
     ]
    }
   ],
   "source": [
    "#Skipping character while splitting Python strings \n",
    "\n",
    "language = \"Python\"\n",
    "pto = language[0:6:2]\n",
    "print(pto)"
   ]
  },
  {
   "cell_type": "code",
   "execution_count": 49,
   "metadata": {},
   "outputs": [
    {
     "name": "stdout",
     "output_type": "stream",
     "text": [
      "Am I enjoying the course? \n",
      "Maybe 🙈\n",
      "Days\tTopics\tExercises\n",
      "Day_1\t  3\t\t5\n",
      "Day_2\t  3\t\t5\n",
      "Day_3\t  3\t\t5\n",
      "Day_4\t  3\t\t5\n",
      "Back slash symbol (\\)\n",
      "Every programming language starts with \" Hello World! \"\n"
     ]
    }
   ],
   "source": [
    "#Escape Sequence\n",
    "\n",
    "print(\"Am I enjoying the course? \\nMaybe 🙈\")\n",
    "print(\"Days\\tTopics\\tExercises\")\n",
    "print(\"Day_1\\t  3\\t\\t5\")\n",
    "print(\"Day_2\\t  3\\t\\t5\")\n",
    "print(\"Day_3\\t  3\\t\\t5\")\n",
    "print(\"Day_4\\t  3\\t\\t5\")\n",
    "\n",
    "print(\"Back slash symbol (\\\\)\") \n",
    "print(\"Every programming language starts with \\\" Hello World! \\\"\")"
   ]
  },
  {
   "cell_type": "code",
   "execution_count": 40,
   "metadata": {},
   "outputs": [
    {
     "data": {
      "text/plain": [
       "str"
      ]
     },
     "execution_count": 40,
     "metadata": {},
     "output_type": "execute_result"
    }
   ],
   "source": [
    "a = \"🙈\"\n",
    "type(a)"
   ]
  },
  {
   "cell_type": "code",
   "execution_count": 60,
   "metadata": {},
   "outputs": [
    {
     "name": "stdout",
     "output_type": "stream",
     "text": [
      "Thirty days of python\n",
      "3\n",
      "1\n",
      "2\n"
     ]
    }
   ],
   "source": [
    "#String Mehtods\n",
    "\n",
    "# capitalize(): Converts the first character the string to Capital Letter\n",
    "\n",
    "c = \"thirty days of python\"\n",
    "print(c.capitalize())\n",
    "\n",
    "#count()\n",
    "\n",
    "print(c.count(\"y\"))\n",
    "print(c.count(\"y\",7,14))\n",
    "print(c.count('th'))"
   ]
  },
  {
   "cell_type": "code",
   "execution_count": null,
   "metadata": {},
   "outputs": [],
   "source": []
  }
 ],
 "metadata": {
  "kernelspec": {
   "display_name": "Python 3",
   "language": "python",
   "name": "python3"
  },
  "language_info": {
   "codemirror_mode": {
    "name": "ipython",
    "version": 3
   },
   "file_extension": ".py",
   "mimetype": "text/x-python",
   "name": "python",
   "nbconvert_exporter": "python",
   "pygments_lexer": "ipython3",
   "version": "3.12.0"
  }
 },
 "nbformat": 4,
 "nbformat_minor": 2
}
