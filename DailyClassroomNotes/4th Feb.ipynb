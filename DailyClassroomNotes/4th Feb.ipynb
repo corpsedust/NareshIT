{
 "cells": [
  {
   "cell_type": "code",
   "execution_count": 1,
   "metadata": {},
   "outputs": [
    {
     "data": {
      "text/plain": [
       "array([29, 28, 26, 25, 23, 27, 20, 21, 20, 25], dtype=int32)"
      ]
     },
     "execution_count": 1,
     "metadata": {},
     "output_type": "execute_result"
    }
   ],
   "source": [
    "import numpy as np\n",
    "\n",
    "np.random.randint(20,30,10)"
   ]
  },
  {
   "cell_type": "code",
   "execution_count": 2,
   "metadata": {},
   "outputs": [
    {
     "data": {
      "text/plain": [
       "26"
      ]
     },
     "execution_count": 2,
     "metadata": {},
     "output_type": "execute_result"
    }
   ],
   "source": [
    "np.random.randint(4,90)"
   ]
  },
  {
   "cell_type": "code",
   "execution_count": 4,
   "metadata": {},
   "outputs": [
    {
     "data": {
      "text/plain": [
       "array([[22, 17, 18, 11, 24, 36, 18, 12, 15, 22],\n",
       "       [38, 11, 15, 16, 35, 30, 20, 14, 12, 22],\n",
       "       [20, 28, 25, 33, 14, 13, 25, 21, 27, 34],\n",
       "       [38, 35, 20, 24, 29, 17, 39, 11, 21, 22],\n",
       "       [13, 36, 10, 25, 26, 25, 10, 16, 30, 25],\n",
       "       [31, 26, 31, 22, 23, 11, 30, 21, 26, 30],\n",
       "       [13, 26, 38, 37, 30, 29, 31, 22, 18, 11],\n",
       "       [17, 12, 27, 24, 36, 17, 19, 31, 12, 15],\n",
       "       [35, 15, 37, 39, 11, 16, 21, 14, 17, 32],\n",
       "       [10, 11, 20, 16, 30, 24, 24, 20, 32, 32]], dtype=int32)"
      ]
     },
     "execution_count": 4,
     "metadata": {},
     "output_type": "execute_result"
    }
   ],
   "source": [
    "#creates 10 x 10 matrix\n",
    "np.random.randint(10,40,(10,10))"
   ]
  },
  {
   "cell_type": "code",
   "execution_count": 7,
   "metadata": {},
   "outputs": [
    {
     "data": {
      "text/plain": [
       "array([[63, 17, 89, 41,  5, 51, 33,  5, 65, 89, 35, 82],\n",
       "       [43, 58, 82, 30, 16, 40, 29, 72, 86, 97, 41, 26],\n",
       "       [79, 56, 10, 73, 95, 78, 63, 60, 71, 94, 17, 80],\n",
       "       [69, 65, 85, 97, 98, 83, 66, 50, 76, 93, 17, 68],\n",
       "       [64, 57, 77, 16, 91, 62, 19, 42, 94, 69, 12, 82],\n",
       "       [50, 87, 94, 94, 80, 87,  5, 79, 97, 66, 11, 86],\n",
       "       [ 6, 28, 69, 63, 44, 63, 14, 80, 70, 32, 79,  8],\n",
       "       [62,  8, 11, 55, 88, 99, 74, 46, 75, 95, 56, 15],\n",
       "       [25, 42, 74, 27, 55, 60, 37, 78, 83, 34, 49, 35],\n",
       "       [88, 68, 10,  5, 76, 72, 72, 46, 30, 73, 89, 98],\n",
       "       [80, 20, 44, 28, 92, 27,  9, 56, 81, 69,  8, 10],\n",
       "       [73, 41, 77, 21, 19,  4, 79, 16, 44, 23, 23, 93]], dtype=int32)"
      ]
     },
     "execution_count": 7,
     "metadata": {},
     "output_type": "execute_result"
    }
   ],
   "source": [
    "np.random.randint(1,100,(12,12))"
   ]
  },
  {
   "cell_type": "code",
   "execution_count": 12,
   "metadata": {},
   "outputs": [
    {
     "data": {
      "text/plain": [
       "array([[10, 11, 12, 13, 14, 15],\n",
       "       [16, 17, 18, 19, 20, 21],\n",
       "       [22, 23, 24, 25, 26, 27],\n",
       "       [28, 29, 30, 31, 32, 33],\n",
       "       [34, 35, 36, 37, 38, 39]])"
      ]
     },
     "execution_count": 12,
     "metadata": {},
     "output_type": "execute_result"
    }
   ],
   "source": [
    "np.arange(10,40).reshape(5,6) #reshape dimension should match with array size"
   ]
  },
  {
   "cell_type": "code",
   "execution_count": 13,
   "metadata": {},
   "outputs": [
    {
     "ename": "ValueError",
     "evalue": "cannot reshape array of size 30 into shape (5,4)",
     "output_type": "error",
     "traceback": [
      "\u001b[1;31m---------------------------------------------------------------------------\u001b[0m",
      "\u001b[1;31mValueError\u001b[0m                                Traceback (most recent call last)",
      "Cell \u001b[1;32mIn[13], line 1\u001b[0m\n\u001b[1;32m----> 1\u001b[0m \u001b[43mnp\u001b[49m\u001b[38;5;241;43m.\u001b[39;49m\u001b[43marange\u001b[49m\u001b[43m(\u001b[49m\u001b[38;5;241;43m10\u001b[39;49m\u001b[43m,\u001b[49m\u001b[38;5;241;43m40\u001b[39;49m\u001b[43m)\u001b[49m\u001b[38;5;241;43m.\u001b[39;49m\u001b[43mreshape\u001b[49m\u001b[43m(\u001b[49m\u001b[38;5;241;43m5\u001b[39;49m\u001b[43m,\u001b[49m\u001b[38;5;241;43m4\u001b[39;49m\u001b[43m)\u001b[49m\n",
      "\u001b[1;31mValueError\u001b[0m: cannot reshape array of size 30 into shape (5,4)"
     ]
    }
   ],
   "source": [
    "np.arange(10,40).reshape(5,4)"
   ]
  },
  {
   "cell_type": "code",
   "execution_count": 16,
   "metadata": {},
   "outputs": [
    {
     "data": {
      "text/plain": [
       "array([[ 1],\n",
       "       [ 2],\n",
       "       [ 3],\n",
       "       [ 4],\n",
       "       [ 5],\n",
       "       [ 6],\n",
       "       [ 7],\n",
       "       [ 8],\n",
       "       [ 9],\n",
       "       [10],\n",
       "       [11],\n",
       "       [12]])"
      ]
     },
     "execution_count": 16,
     "metadata": {},
     "output_type": "execute_result"
    }
   ],
   "source": [
    "np.arange(1,13).reshape(12,1)"
   ]
  },
  {
   "cell_type": "code",
   "execution_count": 17,
   "metadata": {},
   "outputs": [
    {
     "ename": "ValueError",
     "evalue": "cannot reshape array of size 0 into shape (2,2)",
     "output_type": "error",
     "traceback": [
      "\u001b[1;31m---------------------------------------------------------------------------\u001b[0m",
      "\u001b[1;31mValueError\u001b[0m                                Traceback (most recent call last)",
      "Cell \u001b[1;32mIn[17], line 1\u001b[0m\n\u001b[1;32m----> 1\u001b[0m \u001b[43mnp\u001b[49m\u001b[38;5;241;43m.\u001b[39;49m\u001b[43marange\u001b[49m\u001b[43m(\u001b[49m\u001b[38;5;241;43m20\u001b[39;49m\u001b[43m,\u001b[49m\u001b[38;5;241;43m20\u001b[39;49m\u001b[43m)\u001b[49m\u001b[38;5;241;43m.\u001b[39;49m\u001b[43mreshape\u001b[49m\u001b[43m(\u001b[49m\u001b[38;5;241;43m2\u001b[39;49m\u001b[43m,\u001b[49m\u001b[38;5;241;43m2\u001b[39;49m\u001b[43m)\u001b[49m\n",
      "\u001b[1;31mValueError\u001b[0m: cannot reshape array of size 0 into shape (2,2)"
     ]
    }
   ],
   "source": [
    "np.arange(20,20).reshape(2,2)"
   ]
  },
  {
   "cell_type": "code",
   "execution_count": 20,
   "metadata": {},
   "outputs": [
    {
     "data": {
      "text/plain": [
       "array([[14, 18, 17, 10],\n",
       "       [14, 11, 10, 13],\n",
       "       [14, 17, 12, 13],\n",
       "       [19, 13, 13, 14],\n",
       "       [10, 19, 18, 15]], dtype=int32)"
      ]
     },
     "execution_count": 20,
     "metadata": {},
     "output_type": "execute_result"
    }
   ],
   "source": [
    "b = np.random.randint(10,20,(5,4))\n",
    "b"
   ]
  },
  {
   "cell_type": "code",
   "execution_count": 21,
   "metadata": {},
   "outputs": [
    {
     "data": {
      "text/plain": [
       "numpy.ndarray"
      ]
     },
     "execution_count": 21,
     "metadata": {},
     "output_type": "execute_result"
    }
   ],
   "source": [
    "type(b)"
   ]
  },
  {
   "cell_type": "code",
   "execution_count": 22,
   "metadata": {},
   "outputs": [
    {
     "data": {
      "text/plain": [
       "dtype('int32')"
      ]
     },
     "execution_count": 22,
     "metadata": {},
     "output_type": "execute_result"
    }
   ],
   "source": [
    "b.dtype"
   ]
  },
  {
   "cell_type": "code",
   "execution_count": 23,
   "metadata": {},
   "outputs": [
    {
     "data": {
      "text/plain": [
       "20"
      ]
     },
     "execution_count": 23,
     "metadata": {},
     "output_type": "execute_result"
    }
   ],
   "source": [
    "b.size"
   ]
  },
  {
   "cell_type": "code",
   "execution_count": 24,
   "metadata": {},
   "outputs": [
    {
     "data": {
      "text/plain": [
       "2"
      ]
     },
     "execution_count": 24,
     "metadata": {},
     "output_type": "execute_result"
    }
   ],
   "source": [
    "b.ndim"
   ]
  },
  {
   "cell_type": "code",
   "execution_count": 25,
   "metadata": {},
   "outputs": [
    {
     "data": {
      "text/plain": [
       "array([[14, 18, 17, 10],\n",
       "       [14, 11, 10, 13],\n",
       "       [14, 17, 12, 13],\n",
       "       [19, 13, 13, 14],\n",
       "       [10, 19, 18, 15]], dtype=int32)"
      ]
     },
     "execution_count": 25,
     "metadata": {},
     "output_type": "execute_result"
    }
   ],
   "source": [
    "#Slicing\n",
    "\n",
    "b[:]"
   ]
  },
  {
   "cell_type": "code",
   "execution_count": 26,
   "metadata": {},
   "outputs": [
    {
     "data": {
      "text/plain": [
       "array([[14, 11, 10, 13],\n",
       "       [14, 17, 12, 13]], dtype=int32)"
      ]
     },
     "execution_count": 26,
     "metadata": {},
     "output_type": "execute_result"
    }
   ],
   "source": [
    "b[1:3] #2nd and 3rd row"
   ]
  },
  {
   "cell_type": "code",
   "execution_count": 27,
   "metadata": {},
   "outputs": [
    {
     "data": {
      "text/plain": [
       "np.int32(10)"
      ]
     },
     "execution_count": 27,
     "metadata": {},
     "output_type": "execute_result"
    }
   ],
   "source": [
    "b[1,2] #index"
   ]
  },
  {
   "cell_type": "code",
   "execution_count": 28,
   "metadata": {},
   "outputs": [
    {
     "data": {
      "text/plain": [
       "np.int32(13)"
      ]
     },
     "execution_count": 28,
     "metadata": {},
     "output_type": "execute_result"
    }
   ],
   "source": [
    "b[1,3]"
   ]
  },
  {
   "cell_type": "code",
   "execution_count": 29,
   "metadata": {},
   "outputs": [
    {
     "data": {
      "text/plain": [
       "np.int32(13)"
      ]
     },
     "execution_count": 29,
     "metadata": {},
     "output_type": "execute_result"
    }
   ],
   "source": [
    "b[1,-1]"
   ]
  },
  {
   "cell_type": "code",
   "execution_count": 30,
   "metadata": {},
   "outputs": [
    {
     "data": {
      "text/plain": [
       "array([[14, 17, 12, 13]], dtype=int32)"
      ]
     },
     "execution_count": 30,
     "metadata": {},
     "output_type": "execute_result"
    }
   ],
   "source": [
    "b[2:3]"
   ]
  },
  {
   "cell_type": "code",
   "execution_count": 32,
   "metadata": {},
   "outputs": [
    {
     "data": {
      "text/plain": [
       "array([[14, 18, 17, 10],\n",
       "       [14, 11, 10, 13],\n",
       "       [14, 17, 12, 13]], dtype=int32)"
      ]
     },
     "execution_count": 32,
     "metadata": {},
     "output_type": "execute_result"
    }
   ],
   "source": [
    "b[0:-2]"
   ]
  },
  {
   "cell_type": "code",
   "execution_count": 33,
   "metadata": {},
   "outputs": [
    {
     "data": {
      "text/plain": [
       "np.int32(18)"
      ]
     },
     "execution_count": 33,
     "metadata": {},
     "output_type": "execute_result"
    }
   ],
   "source": [
    "b[-5,-3]"
   ]
  },
  {
   "cell_type": "code",
   "execution_count": 34,
   "metadata": {},
   "outputs": [
    {
     "data": {
      "text/plain": [
       "array([[14, 18, 17, 10],\n",
       "       [14, 11, 10, 13],\n",
       "       [14, 17, 12, 13],\n",
       "       [19, 13, 13, 14],\n",
       "       [10, 19, 18, 15]], dtype=int32)"
      ]
     },
     "execution_count": 34,
     "metadata": {},
     "output_type": "execute_result"
    }
   ],
   "source": [
    "b"
   ]
  },
  {
   "cell_type": "code",
   "execution_count": 36,
   "metadata": {},
   "outputs": [
    {
     "data": {
      "text/plain": [
       "np.int32(10)"
      ]
     },
     "execution_count": 36,
     "metadata": {},
     "output_type": "execute_result"
    }
   ],
   "source": [
    "b[-4,2]"
   ]
  },
  {
   "cell_type": "code",
   "execution_count": 38,
   "metadata": {},
   "outputs": [
    {
     "data": {
      "text/plain": [
       "array([14, 18, 14, 18, 10, 12, 18, 10, 19, 15], dtype=int32)"
      ]
     },
     "execution_count": 38,
     "metadata": {},
     "output_type": "execute_result"
    }
   ],
   "source": [
    "#Operations\n",
    "\n",
    "a = np.random.randint(10,20,10)\n",
    "a"
   ]
  },
  {
   "cell_type": "code",
   "execution_count": 39,
   "metadata": {},
   "outputs": [
    {
     "data": {
      "text/plain": [
       "2083330845136"
      ]
     },
     "execution_count": 39,
     "metadata": {},
     "output_type": "execute_result"
    }
   ],
   "source": [
    "id(a)"
   ]
  },
  {
   "cell_type": "code",
   "execution_count": 41,
   "metadata": {},
   "outputs": [
    {
     "data": {
      "text/plain": [
       "array([[44, 65, 82, 50, 65, 61, 10, 73,  4, 48],\n",
       "       [67, 66, 25, 70, 18, 16, 21, 55, 16, 40],\n",
       "       [38, 95, 35,  7,  2, 19, 48, 47, 11, 90],\n",
       "       [37, 41, 89, 89, 23, 44, 98, 88,  7, 24],\n",
       "       [87, 66, 61, 95,  9, 20, 28, 86, 87,  4],\n",
       "       [18, 75, 58, 59, 48, 48, 27, 37, 69, 12],\n",
       "       [31, 84, 28, 49, 86, 90,  0, 77, 21, 19],\n",
       "       [24, 57, 24, 90, 43, 68, 63, 40, 21,  4],\n",
       "       [ 5, 99,  2, 54, 74, 29,  3, 23, 48, 85],\n",
       "       [45, 30, 92, 47, 34, 95, 21, 20, 91, 86]], dtype=int32)"
      ]
     },
     "execution_count": 41,
     "metadata": {},
     "output_type": "execute_result"
    }
   ],
   "source": [
    "a2 = np.random.randint(0,100,(10,10))\n",
    "a2"
   ]
  },
  {
   "cell_type": "code",
   "execution_count": 42,
   "metadata": {},
   "outputs": [
    {
     "data": {
      "text/plain": [
       "array([14, 18, 14, 18, 10, 12, 18, 10, 19, 15], dtype=int32)"
      ]
     },
     "execution_count": 42,
     "metadata": {},
     "output_type": "execute_result"
    }
   ],
   "source": [
    "a"
   ]
  },
  {
   "cell_type": "code",
   "execution_count": 43,
   "metadata": {},
   "outputs": [
    {
     "data": {
      "text/plain": [
       "array([14, 18, 14, 18], dtype=int32)"
      ]
     },
     "execution_count": 43,
     "metadata": {},
     "output_type": "execute_result"
    }
   ],
   "source": [
    "a[:4]"
   ]
  },
  {
   "cell_type": "code",
   "execution_count": 44,
   "metadata": {},
   "outputs": [
    {
     "data": {
      "text/plain": [
       "array([[44, 65, 82, 50, 65, 61, 10, 73,  4, 48],\n",
       "       [67, 66, 25, 70, 18, 16, 21, 55, 16, 40],\n",
       "       [38, 95, 35,  7,  2, 19, 48, 47, 11, 90],\n",
       "       [37, 41, 89, 89, 23, 44, 98, 88,  7, 24],\n",
       "       [87, 66, 61, 95,  9, 20, 28, 86, 87,  4],\n",
       "       [18, 75, 58, 59, 48, 48, 27, 37, 69, 12],\n",
       "       [31, 84, 28, 49, 86, 90,  0, 77, 21, 19],\n",
       "       [24, 57, 24, 90, 43, 68, 63, 40, 21,  4],\n",
       "       [ 5, 99,  2, 54, 74, 29,  3, 23, 48, 85],\n",
       "       [45, 30, 92, 47, 34, 95, 21, 20, 91, 86]], dtype=int32)"
      ]
     },
     "execution_count": 44,
     "metadata": {},
     "output_type": "execute_result"
    }
   ],
   "source": [
    "a2[:]"
   ]
  },
  {
   "cell_type": "code",
   "execution_count": 45,
   "metadata": {},
   "outputs": [
    {
     "data": {
      "text/plain": [
       "array([[44, 65, 82, 50, 65, 61, 10, 73,  4, 48],\n",
       "       [67, 66, 25, 70, 18, 16, 21, 55, 16, 40],\n",
       "       [38, 95, 35,  7,  2, 19, 48, 47, 11, 90],\n",
       "       [37, 41, 89, 89, 23, 44, 98, 88,  7, 24],\n",
       "       [87, 66, 61, 95,  9, 20, 28, 86, 87,  4]], dtype=int32)"
      ]
     },
     "execution_count": 45,
     "metadata": {},
     "output_type": "execute_result"
    }
   ],
   "source": [
    "a2[0:5]"
   ]
  },
  {
   "cell_type": "code",
   "execution_count": 46,
   "metadata": {},
   "outputs": [
    {
     "data": {
      "text/plain": [
       "array([[45, 30, 92, 47, 34, 95, 21, 20, 91, 86],\n",
       "       [ 5, 99,  2, 54, 74, 29,  3, 23, 48, 85],\n",
       "       [24, 57, 24, 90, 43, 68, 63, 40, 21,  4],\n",
       "       [31, 84, 28, 49, 86, 90,  0, 77, 21, 19],\n",
       "       [18, 75, 58, 59, 48, 48, 27, 37, 69, 12],\n",
       "       [87, 66, 61, 95,  9, 20, 28, 86, 87,  4],\n",
       "       [37, 41, 89, 89, 23, 44, 98, 88,  7, 24],\n",
       "       [38, 95, 35,  7,  2, 19, 48, 47, 11, 90],\n",
       "       [67, 66, 25, 70, 18, 16, 21, 55, 16, 40],\n",
       "       [44, 65, 82, 50, 65, 61, 10, 73,  4, 48]], dtype=int32)"
      ]
     },
     "execution_count": 46,
     "metadata": {},
     "output_type": "execute_result"
    }
   ],
   "source": [
    "a2[::-1]"
   ]
  },
  {
   "cell_type": "code",
   "execution_count": 48,
   "metadata": {},
   "outputs": [
    {
     "data": {
      "text/plain": [
       "array([[45, 30, 92, 47, 34, 95, 21, 20, 91, 86],\n",
       "       [24, 57, 24, 90, 43, 68, 63, 40, 21,  4],\n",
       "       [18, 75, 58, 59, 48, 48, 27, 37, 69, 12],\n",
       "       [37, 41, 89, 89, 23, 44, 98, 88,  7, 24],\n",
       "       [67, 66, 25, 70, 18, 16, 21, 55, 16, 40]], dtype=int32)"
      ]
     },
     "execution_count": 48,
     "metadata": {},
     "output_type": "execute_result"
    }
   ],
   "source": [
    "a2[::-2]"
   ]
  },
  {
   "cell_type": "code",
   "execution_count": 49,
   "metadata": {},
   "outputs": [
    {
     "data": {
      "text/plain": [
       "array([[45, 30, 92, 47, 34, 95, 21, 20, 91, 86],\n",
       "       [31, 84, 28, 49, 86, 90,  0, 77, 21, 19],\n",
       "       [37, 41, 89, 89, 23, 44, 98, 88,  7, 24],\n",
       "       [44, 65, 82, 50, 65, 61, 10, 73,  4, 48]], dtype=int32)"
      ]
     },
     "execution_count": 49,
     "metadata": {},
     "output_type": "execute_result"
    }
   ],
   "source": [
    "a2[::-3]"
   ]
  },
  {
   "cell_type": "code",
   "execution_count": 50,
   "metadata": {},
   "outputs": [
    {
     "data": {
      "text/plain": [
       "array([[37, 41, 89, 89, 23, 44, 98, 88,  7, 24],\n",
       "       [87, 66, 61, 95,  9, 20, 28, 86, 87,  4],\n",
       "       [18, 75, 58, 59, 48, 48, 27, 37, 69, 12],\n",
       "       [31, 84, 28, 49, 86, 90,  0, 77, 21, 19],\n",
       "       [24, 57, 24, 90, 43, 68, 63, 40, 21,  4],\n",
       "       [ 5, 99,  2, 54, 74, 29,  3, 23, 48, 85],\n",
       "       [45, 30, 92, 47, 34, 95, 21, 20, 91, 86]], dtype=int32)"
      ]
     },
     "execution_count": 50,
     "metadata": {},
     "output_type": "execute_result"
    }
   ],
   "source": [
    "a2[3:]"
   ]
  },
  {
   "cell_type": "code",
   "execution_count": 52,
   "metadata": {},
   "outputs": [
    {
     "data": {
      "text/plain": [
       "np.int32(99)"
      ]
     },
     "execution_count": 52,
     "metadata": {},
     "output_type": "execute_result"
    }
   ],
   "source": [
    "a2.max()"
   ]
  },
  {
   "cell_type": "code",
   "execution_count": 53,
   "metadata": {},
   "outputs": [
    {
     "data": {
      "text/plain": [
       "np.int32(0)"
      ]
     },
     "execution_count": 53,
     "metadata": {},
     "output_type": "execute_result"
    }
   ],
   "source": [
    "a2.min()"
   ]
  },
  {
   "cell_type": "code",
   "execution_count": 55,
   "metadata": {},
   "outputs": [
    {
     "data": {
      "text/plain": [
       "array([14, 18, 14, 18, 10, 12, 18, 10, 19, 15], dtype=int32)"
      ]
     },
     "execution_count": 55,
     "metadata": {},
     "output_type": "execute_result"
    }
   ],
   "source": [
    "#Numpy has 217 inbuilt functions.\n",
    "from numpy import *\n",
    "a"
   ]
  },
  {
   "cell_type": "code",
   "execution_count": 56,
   "metadata": {},
   "outputs": [
    {
     "data": {
      "text/plain": [
       "np.float64(14.5)"
      ]
     },
     "execution_count": 56,
     "metadata": {},
     "output_type": "execute_result"
    }
   ],
   "source": [
    "median(a)"
   ]
  },
  {
   "cell_type": "code",
   "execution_count": null,
   "metadata": {},
   "outputs": [],
   "source": []
  }
 ],
 "metadata": {
  "kernelspec": {
   "display_name": "Python 3",
   "language": "python",
   "name": "python3"
  },
  "language_info": {
   "codemirror_mode": {
    "name": "ipython",
    "version": 3
   },
   "file_extension": ".py",
   "mimetype": "text/x-python",
   "name": "python",
   "nbconvert_exporter": "python",
   "pygments_lexer": "ipython3",
   "version": "3.12.0"
  }
 },
 "nbformat": 4,
 "nbformat_minor": 2
}
