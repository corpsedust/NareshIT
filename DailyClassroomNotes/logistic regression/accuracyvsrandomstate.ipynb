{
 "cells": [
  {
   "cell_type": "markdown",
   "id": "e5a87f88",
   "metadata": {},
   "source": [
    "### Experiment to see dependency of accuracy of a classification model on random_state\n",
    "\n",
    "- Hypothesis : It should not have any direct correlation "
   ]
  },
  {
   "cell_type": "code",
   "execution_count": null,
   "id": "a7f4164c",
   "metadata": {},
   "outputs": [],
   "source": [
    "import pandas as pd"
   ]
  },
  {
   "cell_type": "code",
   "execution_count": 3,
   "id": "cd7ce952",
   "metadata": {},
   "outputs": [
    {
     "data": {
      "application/vnd.microsoft.datawrangler.viewer.v0+json": {
       "columns": [
        {
         "name": "index",
         "rawType": "int64",
         "type": "integer"
        },
        {
         "name": "User ID",
         "rawType": "int64",
         "type": "integer"
        },
        {
         "name": "Gender",
         "rawType": "object",
         "type": "string"
        },
        {
         "name": "Age",
         "rawType": "int64",
         "type": "integer"
        },
        {
         "name": "EstimatedSalary",
         "rawType": "int64",
         "type": "integer"
        },
        {
         "name": "Purchased",
         "rawType": "int64",
         "type": "integer"
        }
       ],
       "conversionMethod": "pd.DataFrame",
       "ref": "50ef2ec7-08a7-4a10-90a6-a06375fa7512",
       "rows": [
        [
         "0",
         "15624510",
         "Male",
         "19",
         "19000",
         "0"
        ],
        [
         "1",
         "15810944",
         "Male",
         "35",
         "20000",
         "0"
        ],
        [
         "2",
         "15668575",
         "Female",
         "26",
         "43000",
         "0"
        ],
        [
         "3",
         "15603246",
         "Female",
         "27",
         "57000",
         "0"
        ],
        [
         "4",
         "15804002",
         "Male",
         "19",
         "76000",
         "0"
        ],
        [
         "5",
         "15728773",
         "Male",
         "27",
         "58000",
         "0"
        ],
        [
         "6",
         "15598044",
         "Female",
         "27",
         "84000",
         "0"
        ],
        [
         "7",
         "15694829",
         "Female",
         "32",
         "150000",
         "1"
        ],
        [
         "8",
         "15600575",
         "Male",
         "25",
         "33000",
         "0"
        ],
        [
         "9",
         "15727311",
         "Female",
         "35",
         "65000",
         "0"
        ],
        [
         "10",
         "15570769",
         "Female",
         "26",
         "80000",
         "0"
        ],
        [
         "11",
         "15606274",
         "Female",
         "26",
         "52000",
         "0"
        ],
        [
         "12",
         "15746139",
         "Male",
         "20",
         "86000",
         "0"
        ],
        [
         "13",
         "15704987",
         "Male",
         "32",
         "18000",
         "0"
        ],
        [
         "14",
         "15628972",
         "Male",
         "18",
         "82000",
         "0"
        ],
        [
         "15",
         "15697686",
         "Male",
         "29",
         "80000",
         "0"
        ],
        [
         "16",
         "15733883",
         "Male",
         "47",
         "25000",
         "1"
        ],
        [
         "17",
         "15617482",
         "Male",
         "45",
         "26000",
         "1"
        ],
        [
         "18",
         "15704583",
         "Male",
         "46",
         "28000",
         "1"
        ],
        [
         "19",
         "15621083",
         "Female",
         "48",
         "29000",
         "1"
        ],
        [
         "20",
         "15649487",
         "Male",
         "45",
         "22000",
         "1"
        ],
        [
         "21",
         "15736760",
         "Female",
         "47",
         "49000",
         "1"
        ],
        [
         "22",
         "15714658",
         "Male",
         "48",
         "41000",
         "1"
        ],
        [
         "23",
         "15599081",
         "Female",
         "45",
         "22000",
         "1"
        ],
        [
         "24",
         "15705113",
         "Male",
         "46",
         "23000",
         "1"
        ],
        [
         "25",
         "15631159",
         "Male",
         "47",
         "20000",
         "1"
        ],
        [
         "26",
         "15792818",
         "Male",
         "49",
         "28000",
         "1"
        ],
        [
         "27",
         "15633531",
         "Female",
         "47",
         "30000",
         "1"
        ],
        [
         "28",
         "15744529",
         "Male",
         "29",
         "43000",
         "0"
        ],
        [
         "29",
         "15669656",
         "Male",
         "31",
         "18000",
         "0"
        ],
        [
         "30",
         "15581198",
         "Male",
         "31",
         "74000",
         "0"
        ],
        [
         "31",
         "15729054",
         "Female",
         "27",
         "137000",
         "1"
        ],
        [
         "32",
         "15573452",
         "Female",
         "21",
         "16000",
         "0"
        ],
        [
         "33",
         "15776733",
         "Female",
         "28",
         "44000",
         "0"
        ],
        [
         "34",
         "15724858",
         "Male",
         "27",
         "90000",
         "0"
        ],
        [
         "35",
         "15713144",
         "Male",
         "35",
         "27000",
         "0"
        ],
        [
         "36",
         "15690188",
         "Female",
         "33",
         "28000",
         "0"
        ],
        [
         "37",
         "15689425",
         "Male",
         "30",
         "49000",
         "0"
        ],
        [
         "38",
         "15671766",
         "Female",
         "26",
         "72000",
         "0"
        ],
        [
         "39",
         "15782806",
         "Female",
         "27",
         "31000",
         "0"
        ],
        [
         "40",
         "15764419",
         "Female",
         "27",
         "17000",
         "0"
        ],
        [
         "41",
         "15591915",
         "Female",
         "33",
         "51000",
         "0"
        ],
        [
         "42",
         "15772798",
         "Male",
         "35",
         "108000",
         "0"
        ],
        [
         "43",
         "15792008",
         "Male",
         "30",
         "15000",
         "0"
        ],
        [
         "44",
         "15715541",
         "Female",
         "28",
         "84000",
         "0"
        ],
        [
         "45",
         "15639277",
         "Male",
         "23",
         "20000",
         "0"
        ],
        [
         "46",
         "15798850",
         "Male",
         "25",
         "79000",
         "0"
        ],
        [
         "47",
         "15776348",
         "Female",
         "27",
         "54000",
         "0"
        ],
        [
         "48",
         "15727696",
         "Male",
         "30",
         "135000",
         "1"
        ],
        [
         "49",
         "15793813",
         "Female",
         "31",
         "89000",
         "0"
        ]
       ],
       "shape": {
        "columns": 5,
        "rows": 400
       }
      },
      "text/html": [
       "<div>\n",
       "<style scoped>\n",
       "    .dataframe tbody tr th:only-of-type {\n",
       "        vertical-align: middle;\n",
       "    }\n",
       "\n",
       "    .dataframe tbody tr th {\n",
       "        vertical-align: top;\n",
       "    }\n",
       "\n",
       "    .dataframe thead th {\n",
       "        text-align: right;\n",
       "    }\n",
       "</style>\n",
       "<table border=\"1\" class=\"dataframe\">\n",
       "  <thead>\n",
       "    <tr style=\"text-align: right;\">\n",
       "      <th></th>\n",
       "      <th>User ID</th>\n",
       "      <th>Gender</th>\n",
       "      <th>Age</th>\n",
       "      <th>EstimatedSalary</th>\n",
       "      <th>Purchased</th>\n",
       "    </tr>\n",
       "  </thead>\n",
       "  <tbody>\n",
       "    <tr>\n",
       "      <th>0</th>\n",
       "      <td>15624510</td>\n",
       "      <td>Male</td>\n",
       "      <td>19</td>\n",
       "      <td>19000</td>\n",
       "      <td>0</td>\n",
       "    </tr>\n",
       "    <tr>\n",
       "      <th>1</th>\n",
       "      <td>15810944</td>\n",
       "      <td>Male</td>\n",
       "      <td>35</td>\n",
       "      <td>20000</td>\n",
       "      <td>0</td>\n",
       "    </tr>\n",
       "    <tr>\n",
       "      <th>2</th>\n",
       "      <td>15668575</td>\n",
       "      <td>Female</td>\n",
       "      <td>26</td>\n",
       "      <td>43000</td>\n",
       "      <td>0</td>\n",
       "    </tr>\n",
       "    <tr>\n",
       "      <th>3</th>\n",
       "      <td>15603246</td>\n",
       "      <td>Female</td>\n",
       "      <td>27</td>\n",
       "      <td>57000</td>\n",
       "      <td>0</td>\n",
       "    </tr>\n",
       "    <tr>\n",
       "      <th>4</th>\n",
       "      <td>15804002</td>\n",
       "      <td>Male</td>\n",
       "      <td>19</td>\n",
       "      <td>76000</td>\n",
       "      <td>0</td>\n",
       "    </tr>\n",
       "    <tr>\n",
       "      <th>...</th>\n",
       "      <td>...</td>\n",
       "      <td>...</td>\n",
       "      <td>...</td>\n",
       "      <td>...</td>\n",
       "      <td>...</td>\n",
       "    </tr>\n",
       "    <tr>\n",
       "      <th>395</th>\n",
       "      <td>15691863</td>\n",
       "      <td>Female</td>\n",
       "      <td>46</td>\n",
       "      <td>41000</td>\n",
       "      <td>1</td>\n",
       "    </tr>\n",
       "    <tr>\n",
       "      <th>396</th>\n",
       "      <td>15706071</td>\n",
       "      <td>Male</td>\n",
       "      <td>51</td>\n",
       "      <td>23000</td>\n",
       "      <td>1</td>\n",
       "    </tr>\n",
       "    <tr>\n",
       "      <th>397</th>\n",
       "      <td>15654296</td>\n",
       "      <td>Female</td>\n",
       "      <td>50</td>\n",
       "      <td>20000</td>\n",
       "      <td>1</td>\n",
       "    </tr>\n",
       "    <tr>\n",
       "      <th>398</th>\n",
       "      <td>15755018</td>\n",
       "      <td>Male</td>\n",
       "      <td>36</td>\n",
       "      <td>33000</td>\n",
       "      <td>0</td>\n",
       "    </tr>\n",
       "    <tr>\n",
       "      <th>399</th>\n",
       "      <td>15594041</td>\n",
       "      <td>Female</td>\n",
       "      <td>49</td>\n",
       "      <td>36000</td>\n",
       "      <td>1</td>\n",
       "    </tr>\n",
       "  </tbody>\n",
       "</table>\n",
       "<p>400 rows × 5 columns</p>\n",
       "</div>"
      ],
      "text/plain": [
       "      User ID  Gender  Age  EstimatedSalary  Purchased\n",
       "0    15624510    Male   19            19000          0\n",
       "1    15810944    Male   35            20000          0\n",
       "2    15668575  Female   26            43000          0\n",
       "3    15603246  Female   27            57000          0\n",
       "4    15804002    Male   19            76000          0\n",
       "..        ...     ...  ...              ...        ...\n",
       "395  15691863  Female   46            41000          1\n",
       "396  15706071    Male   51            23000          1\n",
       "397  15654296  Female   50            20000          1\n",
       "398  15755018    Male   36            33000          0\n",
       "399  15594041  Female   49            36000          1\n",
       "\n",
       "[400 rows x 5 columns]"
      ]
     },
     "execution_count": 3,
     "metadata": {},
     "output_type": "execute_result"
    }
   ],
   "source": [
    "df = pd.read_csv(\"logit classification.csv\")\n",
    "df"
   ]
  },
  {
   "cell_type": "code",
   "execution_count": 8,
   "id": "bb980fea",
   "metadata": {},
   "outputs": [],
   "source": [
    "x = df.iloc[:,2:4]\n",
    "y = df.iloc[:,-1]"
   ]
  },
  {
   "cell_type": "code",
   "execution_count": 10,
   "id": "3cb50b25",
   "metadata": {},
   "outputs": [],
   "source": [
    "from sklearn.model_selection import train_test_split\n",
    "x_train, x_test, y_train, y_test = train_test_split(x,y,train_size=0.8, random_state=0)\n",
    "from sklearn.linear_model import LogisticRegression\n",
    "model = LogisticRegression()\n",
    "from sklearn.preprocessing import StandardScaler\n",
    "sc = StandardScaler()"
   ]
  },
  {
   "cell_type": "code",
   "execution_count": 13,
   "id": "6bf89de2",
   "metadata": {},
   "outputs": [],
   "source": [
    "x_train = sc.fit_transform(x_train)\n",
    "x_test = sc.fit_transform(x_test)\n",
    "model.fit(x_train, y_train)\n",
    "y_pred = model.predict(x_test)"
   ]
  },
  {
   "cell_type": "code",
   "execution_count": null,
   "id": "18c04add",
   "metadata": {},
   "outputs": [
    {
     "name": "stdout",
     "output_type": "stream",
     "text": [
      "Accuracy Score : 0.8875\n"
     ]
    }
   ],
   "source": [
    "from sklearn.metrics import accuracy_score \n",
    "ac = accuracy_score(y_test, y_pred)\n",
    "print(f\"Accuracy Score : {ac}\")"
   ]
  },
  {
   "cell_type": "code",
   "execution_count": 37,
   "id": "f4126a48",
   "metadata": {},
   "outputs": [],
   "source": [
    "df2 = pd.DataFrame(columns=[\"random_state\",\"accuracy\"])\n"
   ]
  },
  {
   "cell_type": "code",
   "execution_count": 40,
   "id": "719a3f68",
   "metadata": {},
   "outputs": [],
   "source": [
    "for i in range(100):\n",
    "    x_train, x_test, y_train, y_test = train_test_split(x,y,train_size=0.8, random_state = i)\n",
    "    x_train = sc.fit_transform(x_train)\n",
    "    x_test = sc.fit_transform(x_test)\n",
    "    model.fit(x_train, y_train)\n",
    "    y_pred = model.predict(x_test)\n",
    "    ac = accuracy_score(y_test, y_pred)\n",
    "    df2.loc[i] = [i,ac]\n",
    "    "
   ]
  },
  {
   "cell_type": "code",
   "execution_count": 41,
   "id": "d23a5f79",
   "metadata": {},
   "outputs": [
    {
     "data": {
      "application/vnd.microsoft.datawrangler.viewer.v0+json": {
       "columns": [
        {
         "name": "index",
         "rawType": "int64",
         "type": "integer"
        },
        {
         "name": "random_state",
         "rawType": "float64",
         "type": "float"
        },
        {
         "name": "accuracy",
         "rawType": "float64",
         "type": "float"
        }
       ],
       "conversionMethod": "pd.DataFrame",
       "ref": "4d8980ca-5538-45bc-b98f-d304a8dc34ea",
       "rows": [
        [
         "0",
         "0.0",
         "0.8875"
        ],
        [
         "1",
         "1.0",
         "0.8125"
        ],
        [
         "2",
         "2.0",
         "0.8125"
        ],
        [
         "3",
         "3.0",
         "0.825"
        ],
        [
         "4",
         "4.0",
         "0.85"
        ],
        [
         "5",
         "5.0",
         "0.875"
        ],
        [
         "6",
         "6.0",
         "0.8375"
        ],
        [
         "7",
         "7.0",
         "0.875"
        ],
        [
         "8",
         "8.0",
         "0.8375"
        ],
        [
         "9",
         "9.0",
         "0.8625"
        ],
        [
         "10",
         "10.0",
         "0.8875"
        ],
        [
         "11",
         "11.0",
         "0.8375"
        ],
        [
         "12",
         "12.0",
         "0.825"
        ],
        [
         "13",
         "13.0",
         "0.825"
        ],
        [
         "14",
         "14.0",
         "0.8375"
        ],
        [
         "15",
         "15.0",
         "0.7875"
        ],
        [
         "16",
         "16.0",
         "0.85"
        ],
        [
         "17",
         "17.0",
         "0.7875"
        ],
        [
         "18",
         "18.0",
         "0.8625"
        ],
        [
         "19",
         "19.0",
         "0.85"
        ],
        [
         "20",
         "20.0",
         "0.8"
        ],
        [
         "21",
         "21.0",
         "0.8625"
        ],
        [
         "22",
         "22.0",
         "0.8625"
        ],
        [
         "23",
         "23.0",
         "0.8625"
        ],
        [
         "24",
         "24.0",
         "0.875"
        ],
        [
         "25",
         "25.0",
         "0.7875"
        ],
        [
         "26",
         "26.0",
         "0.875"
        ],
        [
         "27",
         "27.0",
         "0.85"
        ],
        [
         "28",
         "28.0",
         "0.8125"
        ],
        [
         "29",
         "29.0",
         "0.8125"
        ],
        [
         "30",
         "30.0",
         "0.9"
        ],
        [
         "31",
         "31.0",
         "0.85"
        ],
        [
         "32",
         "32.0",
         "0.9"
        ],
        [
         "33",
         "33.0",
         "0.8125"
        ],
        [
         "34",
         "34.0",
         "0.8"
        ],
        [
         "35",
         "35.0",
         "0.8625"
        ],
        [
         "36",
         "36.0",
         "0.8625"
        ],
        [
         "37",
         "37.0",
         "0.8"
        ],
        [
         "38",
         "38.0",
         "0.8875"
        ],
        [
         "39",
         "39.0",
         "0.8625"
        ],
        [
         "40",
         "40.0",
         "0.8"
        ],
        [
         "41",
         "41.0",
         "0.7875"
        ],
        [
         "42",
         "42.0",
         "0.8625"
        ],
        [
         "43",
         "43.0",
         "0.7875"
        ],
        [
         "44",
         "44.0",
         "0.7375"
        ],
        [
         "45",
         "45.0",
         "0.825"
        ],
        [
         "46",
         "46.0",
         "0.85"
        ],
        [
         "47",
         "47.0",
         "0.8625"
        ],
        [
         "48",
         "48.0",
         "0.825"
        ],
        [
         "49",
         "49.0",
         "0.725"
        ]
       ],
       "shape": {
        "columns": 2,
        "rows": 100
       }
      },
      "text/html": [
       "<div>\n",
       "<style scoped>\n",
       "    .dataframe tbody tr th:only-of-type {\n",
       "        vertical-align: middle;\n",
       "    }\n",
       "\n",
       "    .dataframe tbody tr th {\n",
       "        vertical-align: top;\n",
       "    }\n",
       "\n",
       "    .dataframe thead th {\n",
       "        text-align: right;\n",
       "    }\n",
       "</style>\n",
       "<table border=\"1\" class=\"dataframe\">\n",
       "  <thead>\n",
       "    <tr style=\"text-align: right;\">\n",
       "      <th></th>\n",
       "      <th>random_state</th>\n",
       "      <th>accuracy</th>\n",
       "    </tr>\n",
       "  </thead>\n",
       "  <tbody>\n",
       "    <tr>\n",
       "      <th>0</th>\n",
       "      <td>0.0</td>\n",
       "      <td>0.8875</td>\n",
       "    </tr>\n",
       "    <tr>\n",
       "      <th>1</th>\n",
       "      <td>1.0</td>\n",
       "      <td>0.8125</td>\n",
       "    </tr>\n",
       "    <tr>\n",
       "      <th>2</th>\n",
       "      <td>2.0</td>\n",
       "      <td>0.8125</td>\n",
       "    </tr>\n",
       "    <tr>\n",
       "      <th>3</th>\n",
       "      <td>3.0</td>\n",
       "      <td>0.8250</td>\n",
       "    </tr>\n",
       "    <tr>\n",
       "      <th>4</th>\n",
       "      <td>4.0</td>\n",
       "      <td>0.8500</td>\n",
       "    </tr>\n",
       "    <tr>\n",
       "      <th>...</th>\n",
       "      <td>...</td>\n",
       "      <td>...</td>\n",
       "    </tr>\n",
       "    <tr>\n",
       "      <th>95</th>\n",
       "      <td>95.0</td>\n",
       "      <td>0.8625</td>\n",
       "    </tr>\n",
       "    <tr>\n",
       "      <th>96</th>\n",
       "      <td>96.0</td>\n",
       "      <td>0.7750</td>\n",
       "    </tr>\n",
       "    <tr>\n",
       "      <th>97</th>\n",
       "      <td>97.0</td>\n",
       "      <td>0.8625</td>\n",
       "    </tr>\n",
       "    <tr>\n",
       "      <th>98</th>\n",
       "      <td>98.0</td>\n",
       "      <td>0.8375</td>\n",
       "    </tr>\n",
       "    <tr>\n",
       "      <th>99</th>\n",
       "      <td>99.0</td>\n",
       "      <td>0.8500</td>\n",
       "    </tr>\n",
       "  </tbody>\n",
       "</table>\n",
       "<p>100 rows × 2 columns</p>\n",
       "</div>"
      ],
      "text/plain": [
       "    random_state  accuracy\n",
       "0            0.0    0.8875\n",
       "1            1.0    0.8125\n",
       "2            2.0    0.8125\n",
       "3            3.0    0.8250\n",
       "4            4.0    0.8500\n",
       "..           ...       ...\n",
       "95          95.0    0.8625\n",
       "96          96.0    0.7750\n",
       "97          97.0    0.8625\n",
       "98          98.0    0.8375\n",
       "99          99.0    0.8500\n",
       "\n",
       "[100 rows x 2 columns]"
      ]
     },
     "execution_count": 41,
     "metadata": {},
     "output_type": "execute_result"
    }
   ],
   "source": [
    "df2"
   ]
  },
  {
   "cell_type": "code",
   "execution_count": 51,
   "id": "1c8af465",
   "metadata": {},
   "outputs": [
    {
     "data": {
      "text/plain": [
       "<Axes: xlabel='random_state', ylabel='accuracy'>"
      ]
     },
     "execution_count": 51,
     "metadata": {},
     "output_type": "execute_result"
    },
    {
     "data": {
      "image/png": "[encoded data removed]",
      "text/plain": [
       "<Figure size 1500x500 with 1 Axes>"
      ]
     },
     "metadata": {},
     "output_type": "display_data"
    }
   ],
   "source": [
    "import matplotlib.pyplot as plt\n",
    "import seaborn as sns\n",
    "plt.figure(figsize=(15,5))\n",
    "plt.xticks(rotation = \"vertical\")\n",
    "sns.barplot(data = df2, x=\"random_state\", y = \"accuracy\", hue  = \"random_state\", palette=\"pastel\", legend=False)\n"
   ]
  },
  {
   "cell_type": "code",
   "execution_count": 52,
   "id": "777dcd22",
   "metadata": {},
   "outputs": [
    {
     "data": {
      "application/vnd.microsoft.datawrangler.viewer.v0+json": {
       "columns": [
        {
         "name": "index",
         "rawType": "int64",
         "type": "integer"
        },
        {
         "name": "random_state",
         "rawType": "float64",
         "type": "float"
        },
        {
         "name": "accuracy",
         "rawType": "float64",
         "type": "float"
        }
       ],
       "conversionMethod": "pd.DataFrame",
       "ref": "6710d1e0-15df-4450-8674-586dc8c3cd7d",
       "rows": [
        [
         "0",
         "0.0",
         "0.8875"
        ],
        [
         "1",
         "1.0",
         "0.8125"
        ],
        [
         "2",
         "2.0",
         "0.8125"
        ],
        [
         "3",
         "3.0",
         "0.825"
        ],
        [
         "4",
         "4.0",
         "0.85"
        ],
        [
         "5",
         "5.0",
         "0.875"
        ],
        [
         "6",
         "6.0",
         "0.8375"
        ],
        [
         "7",
         "7.0",
         "0.875"
        ],
        [
         "8",
         "8.0",
         "0.8375"
        ],
        [
         "9",
         "9.0",
         "0.8625"
        ],
        [
         "10",
         "10.0",
         "0.8875"
        ],
        [
         "11",
         "11.0",
         "0.8375"
        ],
        [
         "12",
         "12.0",
         "0.825"
        ],
        [
         "13",
         "13.0",
         "0.825"
        ],
        [
         "14",
         "14.0",
         "0.8375"
        ],
        [
         "15",
         "15.0",
         "0.7875"
        ],
        [
         "16",
         "16.0",
         "0.85"
        ],
        [
         "17",
         "17.0",
         "0.7875"
        ],
        [
         "18",
         "18.0",
         "0.8625"
        ],
        [
         "19",
         "19.0",
         "0.85"
        ],
        [
         "20",
         "20.0",
         "0.8"
        ],
        [
         "21",
         "21.0",
         "0.8625"
        ],
        [
         "22",
         "22.0",
         "0.8625"
        ],
        [
         "23",
         "23.0",
         "0.8625"
        ],
        [
         "24",
         "24.0",
         "0.875"
        ],
        [
         "25",
         "25.0",
         "0.7875"
        ],
        [
         "26",
         "26.0",
         "0.875"
        ],
        [
         "27",
         "27.0",
         "0.85"
        ],
        [
         "28",
         "28.0",
         "0.8125"
        ],
        [
         "29",
         "29.0",
         "0.8125"
        ],
        [
         "30",
         "30.0",
         "0.9"
        ],
        [
         "31",
         "31.0",
         "0.85"
        ],
        [
         "32",
         "32.0",
         "0.9"
        ],
        [
         "33",
         "33.0",
         "0.8125"
        ],
        [
         "34",
         "34.0",
         "0.8"
        ],
        [
         "35",
         "35.0",
         "0.8625"
        ],
        [
         "36",
         "36.0",
         "0.8625"
        ],
        [
         "37",
         "37.0",
         "0.8"
        ],
        [
         "38",
         "38.0",
         "0.8875"
        ],
        [
         "39",
         "39.0",
         "0.8625"
        ],
        [
         "40",
         "40.0",
         "0.8"
        ],
        [
         "41",
         "41.0",
         "0.7875"
        ],
        [
         "42",
         "42.0",
         "0.8625"
        ],
        [
         "43",
         "43.0",
         "0.7875"
        ],
        [
         "44",
         "44.0",
         "0.7375"
        ],
        [
         "45",
         "45.0",
         "0.825"
        ],
        [
         "46",
         "46.0",
         "0.85"
        ],
        [
         "47",
         "47.0",
         "0.8625"
        ],
        [
         "48",
         "48.0",
         "0.825"
        ],
        [
         "49",
         "49.0",
         "0.725"
        ]
       ],
       "shape": {
        "columns": 2,
        "rows": 100
       }
      },
      "text/html": [
       "<div>\n",
       "<style scoped>\n",
       "    .dataframe tbody tr th:only-of-type {\n",
       "        vertical-align: middle;\n",
       "    }\n",
       "\n",
       "    .dataframe tbody tr th {\n",
       "        vertical-align: top;\n",
       "    }\n",
       "\n",
       "    .dataframe thead th {\n",
       "        text-align: right;\n",
       "    }\n",
       "</style>\n",
       "<table border=\"1\" class=\"dataframe\">\n",
       "  <thead>\n",
       "    <tr style=\"text-align: right;\">\n",
       "      <th></th>\n",
       "      <th>random_state</th>\n",
       "      <th>accuracy</th>\n",
       "    </tr>\n",
       "  </thead>\n",
       "  <tbody>\n",
       "    <tr>\n",
       "      <th>0</th>\n",
       "      <td>0.0</td>\n",
       "      <td>0.8875</td>\n",
       "    </tr>\n",
       "    <tr>\n",
       "      <th>1</th>\n",
       "      <td>1.0</td>\n",
       "      <td>0.8125</td>\n",
       "    </tr>\n",
       "    <tr>\n",
       "      <th>2</th>\n",
       "      <td>2.0</td>\n",
       "      <td>0.8125</td>\n",
       "    </tr>\n",
       "    <tr>\n",
       "      <th>3</th>\n",
       "      <td>3.0</td>\n",
       "      <td>0.8250</td>\n",
       "    </tr>\n",
       "    <tr>\n",
       "      <th>4</th>\n",
       "      <td>4.0</td>\n",
       "      <td>0.8500</td>\n",
       "    </tr>\n",
       "    <tr>\n",
       "      <th>...</th>\n",
       "      <td>...</td>\n",
       "      <td>...</td>\n",
       "    </tr>\n",
       "    <tr>\n",
       "      <th>95</th>\n",
       "      <td>95.0</td>\n",
       "      <td>0.8625</td>\n",
       "    </tr>\n",
       "    <tr>\n",
       "      <th>96</th>\n",
       "      <td>96.0</td>\n",
       "      <td>0.7750</td>\n",
       "    </tr>\n",
       "    <tr>\n",
       "      <th>97</th>\n",
       "      <td>97.0</td>\n",
       "      <td>0.8625</td>\n",
       "    </tr>\n",
       "    <tr>\n",
       "      <th>98</th>\n",
       "      <td>98.0</td>\n",
       "      <td>0.8375</td>\n",
       "    </tr>\n",
       "    <tr>\n",
       "      <th>99</th>\n",
       "      <td>99.0</td>\n",
       "      <td>0.8500</td>\n",
       "    </tr>\n",
       "  </tbody>\n",
       "</table>\n",
       "<p>100 rows × 2 columns</p>\n",
       "</div>"
      ],
      "text/plain": [
       "    random_state  accuracy\n",
       "0            0.0    0.8875\n",
       "1            1.0    0.8125\n",
       "2            2.0    0.8125\n",
       "3            3.0    0.8250\n",
       "4            4.0    0.8500\n",
       "..           ...       ...\n",
       "95          95.0    0.8625\n",
       "96          96.0    0.7750\n",
       "97          97.0    0.8625\n",
       "98          98.0    0.8375\n",
       "99          99.0    0.8500\n",
       "\n",
       "[100 rows x 2 columns]"
      ]
     },
     "execution_count": 52,
     "metadata": {},
     "output_type": "execute_result"
    }
   ],
   "source": [
    "df2"
   ]
  }
 ],
 "metadata": {
  "kernelspec": {
   "display_name": "Python 3",
   "language": "python",
   "name": "python3"
  },
  "language_info": {
   "codemirror_mode": {
    "name": "ipython",
    "version": 3
   },
   "file_extension": ".py",
   "mimetype": "text/x-python",
   "name": "python",
   "nbconvert_exporter": "python",
   "pygments_lexer": "ipython3",
   "version": "3.12.0"
  }
 },
 "nbformat": 4,
 "nbformat_minor": 5
}
