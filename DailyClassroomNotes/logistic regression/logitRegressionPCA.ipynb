{
 "cells": [
  {
   "cell_type": "markdown",
   "id": "81f9d58b",
   "metadata": {},
   "source": [
    "<center>\n",
    "    <h1>\n",
    "        <strong>Principal Component Analysis (PCA)</strong>\n",
    "    </h1>\n",
    "</center>"
   ]
  },
  {
   "cell_type": "markdown",
   "id": "69ca6332",
   "metadata": {},
   "source": [
    "This kernel is about **Principle Component Analysis(PCA)** using Logistic Regression Algorithm. PCA is a **Dimensionality Reduction Technique**. "
   ]
  },
  {
   "cell_type": "markdown",
   "id": "af1d91e5",
   "metadata": {},
   "source": [
    "### **Curse of Dimensionality**\n",
    "\n",
    "**What is Dimensionality?**\n",
    "\n",
    "- Dimensions = Features or variables in your dataset.\n",
    "\n",
    "- As you add more features (dimensions), you're essentially placing your data in a higher-dimensional space.\n",
    "\n",
    "**What happens in high dimensions?**\n",
    "\n",
    "- The volume of the space increases exponentially with each added dimension.\n",
    "\n",
    "    For example, think of how a line (1D) becomes a square (2D), then a cube (3D), and so on...\n",
    "\n",
    "- In high dimensions, points become farther apart, and data becomes sparse.\n",
    "\n",
    "- This sparsity makes it hard to find meaningful patterns or clusters in the data."
   ]
  },
  {
   "cell_type": "markdown",
   "id": "d3c7aca0",
   "metadata": {},
   "source": [
    "### **Principle Component Analysis**\n",
    "\n",
    "\n",
    "<p>\n",
    "Principal Component Analysis (PCA) is a dimensionality reduction technique that works by identifying new directions (called principal components) along which the data varies the most. These new directions are chosen to maximize the spread (variance) of the data, allowing us to reduce the number of features while preserving as much of the original information as possible. Variance refers to how much the data points spread out from the mean — the greater the spread, the more information (or structure) PCA tries to capture.\n",
    "\n",
    "</p>"
   ]
  },
  {
   "cell_type": "code",
   "execution_count": 74,
   "id": "6a3fa53b",
   "metadata": {},
   "outputs": [],
   "source": [
    "import numpy as np\n",
    "import pandas as pd\n",
    "\n",
    "import matplotlib.pyplot as plt\n",
    "import seaborn as sns\n",
    "%matplotlib inline\n",
    "\n",
    "\n",
    "import warnings\n",
    "warnings.filterwarnings(\"ignore\")\n",
    "\n",
    "\n",
    "\n"
   ]
  },
  {
   "cell_type": "markdown",
   "id": "34bea01d",
   "metadata": {},
   "source": [
    "## **About Dataset**\n",
    "\n",
    "An individual’s annual income results from various factors. Intuitively, it is influenced by the individual’s education level, age, gender, occupation, and etc.\n",
    "\n",
    "\n",
    "Fields\n",
    "The dataset contains 16 columns\n",
    "Target filed: Income\n",
    "-- The income is divide into two classes: <=50K and >50K\n",
    "Number of attributes: 14\n",
    "-- These are the demographics and other features to describe a person\n",
    "\n",
    "We can explore the possibility in predicting income level based on the individual’s personal information."
   ]
  },
  {
   "cell_type": "markdown",
   "id": "b4533a61",
   "metadata": {},
   "source": [
    "### Importing the Dataset"
   ]
  },
  {
   "cell_type": "code",
   "execution_count": 75,
   "id": "003499e7",
   "metadata": {},
   "outputs": [
    {
     "data": {
      "application/vnd.microsoft.datawrangler.viewer.v0+json": {
       "columns": [
        {
         "name": "index",
         "rawType": "int64",
         "type": "integer"
        },
        {
         "name": "age",
         "rawType": "int64",
         "type": "integer"
        },
        {
         "name": "workclass",
         "rawType": "object",
         "type": "string"
        },
        {
         "name": "fnlwgt",
         "rawType": "int64",
         "type": "integer"
        },
        {
         "name": "education",
         "rawType": "object",
         "type": "string"
        },
        {
         "name": "education.num",
         "rawType": "int64",
         "type": "integer"
        },
        {
         "name": "marital.status",
         "rawType": "object",
         "type": "string"
        },
        {
         "name": "occupation",
         "rawType": "object",
         "type": "string"
        },
        {
         "name": "relationship",
         "rawType": "object",
         "type": "string"
        },
        {
         "name": "race",
         "rawType": "object",
         "type": "string"
        },
        {
         "name": "sex",
         "rawType": "object",
         "type": "string"
        },
        {
         "name": "capital.gain",
         "rawType": "int64",
         "type": "integer"
        },
        {
         "name": "capital.loss",
         "rawType": "int64",
         "type": "integer"
        },
        {
         "name": "hours.per.week",
         "rawType": "int64",
         "type": "integer"
        },
        {
         "name": "native.country",
         "rawType": "object",
         "type": "string"
        },
        {
         "name": "income",
         "rawType": "object",
         "type": "string"
        }
       ],
       "conversionMethod": "pd.DataFrame",
       "ref": "a9c50c56-d0e7-4c60-9621-cc2cdc5c73e9",
       "rows": [
        [
         "0",
         "90",
         "?",
         "77053",
         "HS-grad",
         "9",
         "Widowed",
         "?",
         "Not-in-family",
         "White",
         "Female",
         "0",
         "4356",
         "40",
         "United-States",
         "<=50K"
        ],
        [
         "1",
         "82",
         "Private",
         "132870",
         "HS-grad",
         "9",
         "Widowed",
         "Exec-managerial",
         "Not-in-family",
         "White",
         "Female",
         "0",
         "4356",
         "18",
         "United-States",
         "<=50K"
        ],
        [
         "2",
         "66",
         "?",
         "186061",
         "Some-college",
         "10",
         "Widowed",
         "?",
         "Unmarried",
         "Black",
         "Female",
         "0",
         "4356",
         "40",
         "United-States",
         "<=50K"
        ],
        [
         "3",
         "54",
         "Private",
         "140359",
         "7th-8th",
         "4",
         "Divorced",
         "Machine-op-inspct",
         "Unmarried",
         "White",
         "Female",
         "0",
         "3900",
         "40",
         "United-States",
         "<=50K"
        ],
        [
         "4",
         "41",
         "Private",
         "264663",
         "Some-college",
         "10",
         "Separated",
         "Prof-specialty",
         "Own-child",
         "White",
         "Female",
         "0",
         "3900",
         "40",
         "United-States",
         "<=50K"
        ],
        [
         "5",
         "34",
         "Private",
         "216864",
         "HS-grad",
         "9",
         "Divorced",
         "Other-service",
         "Unmarried",
         "White",
         "Female",
         "0",
         "3770",
         "45",
         "United-States",
         "<=50K"
        ],
        [
         "6",
         "38",
         "Private",
         "150601",
         "10th",
         "6",
         "Separated",
         "Adm-clerical",
         "Unmarried",
         "White",
         "Male",
         "0",
         "3770",
         "40",
         "United-States",
         "<=50K"
        ],
        [
         "7",
         "74",
         "State-gov",
         "88638",
         "Doctorate",
         "16",
         "Never-married",
         "Prof-specialty",
         "Other-relative",
         "White",
         "Female",
         "0",
         "3683",
         "20",
         "United-States",
         ">50K"
        ],
        [
         "8",
         "68",
         "Federal-gov",
         "422013",
         "HS-grad",
         "9",
         "Divorced",
         "Prof-specialty",
         "Not-in-family",
         "White",
         "Female",
         "0",
         "3683",
         "40",
         "United-States",
         "<=50K"
        ],
        [
         "9",
         "41",
         "Private",
         "70037",
         "Some-college",
         "10",
         "Never-married",
         "Craft-repair",
         "Unmarried",
         "White",
         "Male",
         "0",
         "3004",
         "60",
         "?",
         ">50K"
        ]
       ],
       "shape": {
        "columns": 15,
        "rows": 10
       }
      },
      "text/html": [
       "<div>\n",
       "<style scoped>\n",
       "    .dataframe tbody tr th:only-of-type {\n",
       "        vertical-align: middle;\n",
       "    }\n",
       "\n",
       "    .dataframe tbody tr th {\n",
       "        vertical-align: top;\n",
       "    }\n",
       "\n",
       "    .dataframe thead th {\n",
       "        text-align: right;\n",
       "    }\n",
       "</style>\n",
       "<table border=\"1\" class=\"dataframe\">\n",
       "  <thead>\n",
       "    <tr style=\"text-align: right;\">\n",
       "      <th></th>\n",
       "      <th>age</th>\n",
       "      <th>workclass</th>\n",
       "      <th>fnlwgt</th>\n",
       "      <th>education</th>\n",
       "      <th>education.num</th>\n",
       "      <th>marital.status</th>\n",
       "      <th>occupation</th>\n",
       "      <th>relationship</th>\n",
       "      <th>race</th>\n",
       "      <th>sex</th>\n",
       "      <th>capital.gain</th>\n",
       "      <th>capital.loss</th>\n",
       "      <th>hours.per.week</th>\n",
       "      <th>native.country</th>\n",
       "      <th>income</th>\n",
       "    </tr>\n",
       "  </thead>\n",
       "  <tbody>\n",
       "    <tr>\n",
       "      <th>0</th>\n",
       "      <td>90</td>\n",
       "      <td>?</td>\n",
       "      <td>77053</td>\n",
       "      <td>HS-grad</td>\n",
       "      <td>9</td>\n",
       "      <td>Widowed</td>\n",
       "      <td>?</td>\n",
       "      <td>Not-in-family</td>\n",
       "      <td>White</td>\n",
       "      <td>Female</td>\n",
       "      <td>0</td>\n",
       "      <td>4356</td>\n",
       "      <td>40</td>\n",
       "      <td>United-States</td>\n",
       "      <td>&lt;=50K</td>\n",
       "    </tr>\n",
       "    <tr>\n",
       "      <th>1</th>\n",
       "      <td>82</td>\n",
       "      <td>Private</td>\n",
       "      <td>132870</td>\n",
       "      <td>HS-grad</td>\n",
       "      <td>9</td>\n",
       "      <td>Widowed</td>\n",
       "      <td>Exec-managerial</td>\n",
       "      <td>Not-in-family</td>\n",
       "      <td>White</td>\n",
       "      <td>Female</td>\n",
       "      <td>0</td>\n",
       "      <td>4356</td>\n",
       "      <td>18</td>\n",
       "      <td>United-States</td>\n",
       "      <td>&lt;=50K</td>\n",
       "    </tr>\n",
       "    <tr>\n",
       "      <th>2</th>\n",
       "      <td>66</td>\n",
       "      <td>?</td>\n",
       "      <td>186061</td>\n",
       "      <td>Some-college</td>\n",
       "      <td>10</td>\n",
       "      <td>Widowed</td>\n",
       "      <td>?</td>\n",
       "      <td>Unmarried</td>\n",
       "      <td>Black</td>\n",
       "      <td>Female</td>\n",
       "      <td>0</td>\n",
       "      <td>4356</td>\n",
       "      <td>40</td>\n",
       "      <td>United-States</td>\n",
       "      <td>&lt;=50K</td>\n",
       "    </tr>\n",
       "    <tr>\n",
       "      <th>3</th>\n",
       "      <td>54</td>\n",
       "      <td>Private</td>\n",
       "      <td>140359</td>\n",
       "      <td>7th-8th</td>\n",
       "      <td>4</td>\n",
       "      <td>Divorced</td>\n",
       "      <td>Machine-op-inspct</td>\n",
       "      <td>Unmarried</td>\n",
       "      <td>White</td>\n",
       "      <td>Female</td>\n",
       "      <td>0</td>\n",
       "      <td>3900</td>\n",
       "      <td>40</td>\n",
       "      <td>United-States</td>\n",
       "      <td>&lt;=50K</td>\n",
       "    </tr>\n",
       "    <tr>\n",
       "      <th>4</th>\n",
       "      <td>41</td>\n",
       "      <td>Private</td>\n",
       "      <td>264663</td>\n",
       "      <td>Some-college</td>\n",
       "      <td>10</td>\n",
       "      <td>Separated</td>\n",
       "      <td>Prof-specialty</td>\n",
       "      <td>Own-child</td>\n",
       "      <td>White</td>\n",
       "      <td>Female</td>\n",
       "      <td>0</td>\n",
       "      <td>3900</td>\n",
       "      <td>40</td>\n",
       "      <td>United-States</td>\n",
       "      <td>&lt;=50K</td>\n",
       "    </tr>\n",
       "    <tr>\n",
       "      <th>5</th>\n",
       "      <td>34</td>\n",
       "      <td>Private</td>\n",
       "      <td>216864</td>\n",
       "      <td>HS-grad</td>\n",
       "      <td>9</td>\n",
       "      <td>Divorced</td>\n",
       "      <td>Other-service</td>\n",
       "      <td>Unmarried</td>\n",
       "      <td>White</td>\n",
       "      <td>Female</td>\n",
       "      <td>0</td>\n",
       "      <td>3770</td>\n",
       "      <td>45</td>\n",
       "      <td>United-States</td>\n",
       "      <td>&lt;=50K</td>\n",
       "    </tr>\n",
       "    <tr>\n",
       "      <th>6</th>\n",
       "      <td>38</td>\n",
       "      <td>Private</td>\n",
       "      <td>150601</td>\n",
       "      <td>10th</td>\n",
       "      <td>6</td>\n",
       "      <td>Separated</td>\n",
       "      <td>Adm-clerical</td>\n",
       "      <td>Unmarried</td>\n",
       "      <td>White</td>\n",
       "      <td>Male</td>\n",
       "      <td>0</td>\n",
       "      <td>3770</td>\n",
       "      <td>40</td>\n",
       "      <td>United-States</td>\n",
       "      <td>&lt;=50K</td>\n",
       "    </tr>\n",
       "    <tr>\n",
       "      <th>7</th>\n",
       "      <td>74</td>\n",
       "      <td>State-gov</td>\n",
       "      <td>88638</td>\n",
       "      <td>Doctorate</td>\n",
       "      <td>16</td>\n",
       "      <td>Never-married</td>\n",
       "      <td>Prof-specialty</td>\n",
       "      <td>Other-relative</td>\n",
       "      <td>White</td>\n",
       "      <td>Female</td>\n",
       "      <td>0</td>\n",
       "      <td>3683</td>\n",
       "      <td>20</td>\n",
       "      <td>United-States</td>\n",
       "      <td>&gt;50K</td>\n",
       "    </tr>\n",
       "    <tr>\n",
       "      <th>8</th>\n",
       "      <td>68</td>\n",
       "      <td>Federal-gov</td>\n",
       "      <td>422013</td>\n",
       "      <td>HS-grad</td>\n",
       "      <td>9</td>\n",
       "      <td>Divorced</td>\n",
       "      <td>Prof-specialty</td>\n",
       "      <td>Not-in-family</td>\n",
       "      <td>White</td>\n",
       "      <td>Female</td>\n",
       "      <td>0</td>\n",
       "      <td>3683</td>\n",
       "      <td>40</td>\n",
       "      <td>United-States</td>\n",
       "      <td>&lt;=50K</td>\n",
       "    </tr>\n",
       "    <tr>\n",
       "      <th>9</th>\n",
       "      <td>41</td>\n",
       "      <td>Private</td>\n",
       "      <td>70037</td>\n",
       "      <td>Some-college</td>\n",
       "      <td>10</td>\n",
       "      <td>Never-married</td>\n",
       "      <td>Craft-repair</td>\n",
       "      <td>Unmarried</td>\n",
       "      <td>White</td>\n",
       "      <td>Male</td>\n",
       "      <td>0</td>\n",
       "      <td>3004</td>\n",
       "      <td>60</td>\n",
       "      <td>?</td>\n",
       "      <td>&gt;50K</td>\n",
       "    </tr>\n",
       "  </tbody>\n",
       "</table>\n",
       "</div>"
      ],
      "text/plain": [
       "   age    workclass  fnlwgt     education  education.num marital.status  \\\n",
       "0   90            ?   77053       HS-grad              9        Widowed   \n",
       "1   82      Private  132870       HS-grad              9        Widowed   \n",
       "2   66            ?  186061  Some-college             10        Widowed   \n",
       "3   54      Private  140359       7th-8th              4       Divorced   \n",
       "4   41      Private  264663  Some-college             10      Separated   \n",
       "5   34      Private  216864       HS-grad              9       Divorced   \n",
       "6   38      Private  150601          10th              6      Separated   \n",
       "7   74    State-gov   88638     Doctorate             16  Never-married   \n",
       "8   68  Federal-gov  422013       HS-grad              9       Divorced   \n",
       "9   41      Private   70037  Some-college             10  Never-married   \n",
       "\n",
       "          occupation    relationship   race     sex  capital.gain  \\\n",
       "0                  ?   Not-in-family  White  Female             0   \n",
       "1    Exec-managerial   Not-in-family  White  Female             0   \n",
       "2                  ?       Unmarried  Black  Female             0   \n",
       "3  Machine-op-inspct       Unmarried  White  Female             0   \n",
       "4     Prof-specialty       Own-child  White  Female             0   \n",
       "5      Other-service       Unmarried  White  Female             0   \n",
       "6       Adm-clerical       Unmarried  White    Male             0   \n",
       "7     Prof-specialty  Other-relative  White  Female             0   \n",
       "8     Prof-specialty   Not-in-family  White  Female             0   \n",
       "9       Craft-repair       Unmarried  White    Male             0   \n",
       "\n",
       "   capital.loss  hours.per.week native.country income  \n",
       "0          4356              40  United-States  <=50K  \n",
       "1          4356              18  United-States  <=50K  \n",
       "2          4356              40  United-States  <=50K  \n",
       "3          3900              40  United-States  <=50K  \n",
       "4          3900              40  United-States  <=50K  \n",
       "5          3770              45  United-States  <=50K  \n",
       "6          3770              40  United-States  <=50K  \n",
       "7          3683              20  United-States   >50K  \n",
       "8          3683              40  United-States  <=50K  \n",
       "9          3004              60              ?   >50K  "
      ]
     },
     "execution_count": 75,
     "metadata": {},
     "output_type": "execute_result"
    }
   ],
   "source": [
    "df = pd.read_csv(\"adult.csv\")\n",
    "df.head(10)"
   ]
  },
  {
   "cell_type": "markdown",
   "id": "d6a26934",
   "metadata": {},
   "source": [
    "### Exploratory Data Analysis"
   ]
  },
  {
   "cell_type": "code",
   "execution_count": 76,
   "id": "37e5f945",
   "metadata": {},
   "outputs": [
    {
     "data": {
      "text/plain": [
       "(32561, 15)"
      ]
     },
     "execution_count": 76,
     "metadata": {},
     "output_type": "execute_result"
    }
   ],
   "source": [
    "#shape of the dataset\n",
    "df.shape"
   ]
  },
  {
   "cell_type": "code",
   "execution_count": 77,
   "id": "fd6e7d3c",
   "metadata": {},
   "outputs": [
    {
     "name": "stdout",
     "output_type": "stream",
     "text": [
      "<class 'pandas.core.frame.DataFrame'>\n",
      "RangeIndex: 32561 entries, 0 to 32560\n",
      "Data columns (total 15 columns):\n",
      " #   Column          Non-Null Count  Dtype \n",
      "---  ------          --------------  ----- \n",
      " 0   age             32561 non-null  int64 \n",
      " 1   workclass       32561 non-null  object\n",
      " 2   fnlwgt          32561 non-null  int64 \n",
      " 3   education       32561 non-null  object\n",
      " 4   education.num   32561 non-null  int64 \n",
      " 5   marital.status  32561 non-null  object\n",
      " 6   occupation      32561 non-null  object\n",
      " 7   relationship    32561 non-null  object\n",
      " 8   race            32561 non-null  object\n",
      " 9   sex             32561 non-null  object\n",
      " 10  capital.gain    32561 non-null  int64 \n",
      " 11  capital.loss    32561 non-null  int64 \n",
      " 12  hours.per.week  32561 non-null  int64 \n",
      " 13  native.country  32561 non-null  object\n",
      " 14  income          32561 non-null  object\n",
      "dtypes: int64(6), object(9)\n",
      "memory usage: 3.7+ MB\n"
     ]
    }
   ],
   "source": [
    "#summary of the dataset\n",
    "\n",
    "df.info()"
   ]
  },
  {
   "cell_type": "code",
   "execution_count": 78,
   "id": "db111276",
   "metadata": {},
   "outputs": [
    {
     "name": "stdout",
     "output_type": "stream",
     "text": [
      "No. of '?' in column age : 0\n",
      "No. of '?' in column workclass : 1836\n",
      "No. of '?' in column fnlwgt : 0\n",
      "No. of '?' in column education : 0\n",
      "No. of '?' in column education.num : 0\n",
      "No. of '?' in column marital.status : 0\n",
      "No. of '?' in column occupation : 1843\n",
      "No. of '?' in column relationship : 0\n",
      "No. of '?' in column race : 0\n",
      "No. of '?' in column sex : 0\n",
      "No. of '?' in column capital.gain : 0\n",
      "No. of '?' in column capital.loss : 0\n",
      "No. of '?' in column hours.per.week : 0\n",
      "No. of '?' in column native.country : 583\n",
      "No. of '?' in column income : 0\n"
     ]
    }
   ],
   "source": [
    "#Checking which columns have '?' in them instead of actual data.\n",
    "\n",
    "for c in df.columns:\n",
    "    print(f\"No. of '?' in column {c} : {df[df[c] == '?'].shape[0]}\")"
   ]
  },
  {
   "cell_type": "code",
   "execution_count": 79,
   "id": "82a06b86",
   "metadata": {},
   "outputs": [],
   "source": [
    "#Replacing question marks with Nan for later imputation\n",
    "df[df ==  '?'] = np.nan"
   ]
  },
  {
   "cell_type": "code",
   "execution_count": 80,
   "id": "bc715482",
   "metadata": {},
   "outputs": [
    {
     "data": {
      "application/vnd.microsoft.datawrangler.viewer.v0+json": {
       "columns": [
        {
         "name": "index",
         "rawType": "int64",
         "type": "integer"
        },
        {
         "name": "age",
         "rawType": "int64",
         "type": "integer"
        },
        {
         "name": "workclass",
         "rawType": "object",
         "type": "unknown"
        },
        {
         "name": "fnlwgt",
         "rawType": "int64",
         "type": "integer"
        },
        {
         "name": "education",
         "rawType": "object",
         "type": "string"
        },
        {
         "name": "education.num",
         "rawType": "int64",
         "type": "integer"
        },
        {
         "name": "marital.status",
         "rawType": "object",
         "type": "string"
        },
        {
         "name": "occupation",
         "rawType": "object",
         "type": "unknown"
        },
        {
         "name": "relationship",
         "rawType": "object",
         "type": "string"
        },
        {
         "name": "race",
         "rawType": "object",
         "type": "string"
        },
        {
         "name": "sex",
         "rawType": "object",
         "type": "string"
        },
        {
         "name": "capital.gain",
         "rawType": "int64",
         "type": "integer"
        },
        {
         "name": "capital.loss",
         "rawType": "int64",
         "type": "integer"
        },
        {
         "name": "hours.per.week",
         "rawType": "int64",
         "type": "integer"
        },
        {
         "name": "native.country",
         "rawType": "object",
         "type": "string"
        },
        {
         "name": "income",
         "rawType": "object",
         "type": "string"
        }
       ],
       "conversionMethod": "pd.DataFrame",
       "ref": "98eb3b73-a820-44a7-85a8-b077d1751f0b",
       "rows": [
        [
         "0",
         "90",
         null,
         "77053",
         "HS-grad",
         "9",
         "Widowed",
         null,
         "Not-in-family",
         "White",
         "Female",
         "0",
         "4356",
         "40",
         "United-States",
         "<=50K"
        ],
        [
         "1",
         "82",
         "Private",
         "132870",
         "HS-grad",
         "9",
         "Widowed",
         "Exec-managerial",
         "Not-in-family",
         "White",
         "Female",
         "0",
         "4356",
         "18",
         "United-States",
         "<=50K"
        ],
        [
         "2",
         "66",
         null,
         "186061",
         "Some-college",
         "10",
         "Widowed",
         null,
         "Unmarried",
         "Black",
         "Female",
         "0",
         "4356",
         "40",
         "United-States",
         "<=50K"
        ],
        [
         "3",
         "54",
         "Private",
         "140359",
         "7th-8th",
         "4",
         "Divorced",
         "Machine-op-inspct",
         "Unmarried",
         "White",
         "Female",
         "0",
         "3900",
         "40",
         "United-States",
         "<=50K"
        ],
        [
         "4",
         "41",
         "Private",
         "264663",
         "Some-college",
         "10",
         "Separated",
         "Prof-specialty",
         "Own-child",
         "White",
         "Female",
         "0",
         "3900",
         "40",
         "United-States",
         "<=50K"
        ]
       ],
       "shape": {
        "columns": 15,
        "rows": 5
       }
      },
      "text/html": [
       "<div>\n",
       "<style scoped>\n",
       "    .dataframe tbody tr th:only-of-type {\n",
       "        vertical-align: middle;\n",
       "    }\n",
       "\n",
       "    .dataframe tbody tr th {\n",
       "        vertical-align: top;\n",
       "    }\n",
       "\n",
       "    .dataframe thead th {\n",
       "        text-align: right;\n",
       "    }\n",
       "</style>\n",
       "<table border=\"1\" class=\"dataframe\">\n",
       "  <thead>\n",
       "    <tr style=\"text-align: right;\">\n",
       "      <th></th>\n",
       "      <th>age</th>\n",
       "      <th>workclass</th>\n",
       "      <th>fnlwgt</th>\n",
       "      <th>education</th>\n",
       "      <th>education.num</th>\n",
       "      <th>marital.status</th>\n",
       "      <th>occupation</th>\n",
       "      <th>relationship</th>\n",
       "      <th>race</th>\n",
       "      <th>sex</th>\n",
       "      <th>capital.gain</th>\n",
       "      <th>capital.loss</th>\n",
       "      <th>hours.per.week</th>\n",
       "      <th>native.country</th>\n",
       "      <th>income</th>\n",
       "    </tr>\n",
       "  </thead>\n",
       "  <tbody>\n",
       "    <tr>\n",
       "      <th>0</th>\n",
       "      <td>90</td>\n",
       "      <td>NaN</td>\n",
       "      <td>77053</td>\n",
       "      <td>HS-grad</td>\n",
       "      <td>9</td>\n",
       "      <td>Widowed</td>\n",
       "      <td>NaN</td>\n",
       "      <td>Not-in-family</td>\n",
       "      <td>White</td>\n",
       "      <td>Female</td>\n",
       "      <td>0</td>\n",
       "      <td>4356</td>\n",
       "      <td>40</td>\n",
       "      <td>United-States</td>\n",
       "      <td>&lt;=50K</td>\n",
       "    </tr>\n",
       "    <tr>\n",
       "      <th>1</th>\n",
       "      <td>82</td>\n",
       "      <td>Private</td>\n",
       "      <td>132870</td>\n",
       "      <td>HS-grad</td>\n",
       "      <td>9</td>\n",
       "      <td>Widowed</td>\n",
       "      <td>Exec-managerial</td>\n",
       "      <td>Not-in-family</td>\n",
       "      <td>White</td>\n",
       "      <td>Female</td>\n",
       "      <td>0</td>\n",
       "      <td>4356</td>\n",
       "      <td>18</td>\n",
       "      <td>United-States</td>\n",
       "      <td>&lt;=50K</td>\n",
       "    </tr>\n",
       "    <tr>\n",
       "      <th>2</th>\n",
       "      <td>66</td>\n",
       "      <td>NaN</td>\n",
       "      <td>186061</td>\n",
       "      <td>Some-college</td>\n",
       "      <td>10</td>\n",
       "      <td>Widowed</td>\n",
       "      <td>NaN</td>\n",
       "      <td>Unmarried</td>\n",
       "      <td>Black</td>\n",
       "      <td>Female</td>\n",
       "      <td>0</td>\n",
       "      <td>4356</td>\n",
       "      <td>40</td>\n",
       "      <td>United-States</td>\n",
       "      <td>&lt;=50K</td>\n",
       "    </tr>\n",
       "    <tr>\n",
       "      <th>3</th>\n",
       "      <td>54</td>\n",
       "      <td>Private</td>\n",
       "      <td>140359</td>\n",
       "      <td>7th-8th</td>\n",
       "      <td>4</td>\n",
       "      <td>Divorced</td>\n",
       "      <td>Machine-op-inspct</td>\n",
       "      <td>Unmarried</td>\n",
       "      <td>White</td>\n",
       "      <td>Female</td>\n",
       "      <td>0</td>\n",
       "      <td>3900</td>\n",
       "      <td>40</td>\n",
       "      <td>United-States</td>\n",
       "      <td>&lt;=50K</td>\n",
       "    </tr>\n",
       "    <tr>\n",
       "      <th>4</th>\n",
       "      <td>41</td>\n",
       "      <td>Private</td>\n",
       "      <td>264663</td>\n",
       "      <td>Some-college</td>\n",
       "      <td>10</td>\n",
       "      <td>Separated</td>\n",
       "      <td>Prof-specialty</td>\n",
       "      <td>Own-child</td>\n",
       "      <td>White</td>\n",
       "      <td>Female</td>\n",
       "      <td>0</td>\n",
       "      <td>3900</td>\n",
       "      <td>40</td>\n",
       "      <td>United-States</td>\n",
       "      <td>&lt;=50K</td>\n",
       "    </tr>\n",
       "  </tbody>\n",
       "</table>\n",
       "</div>"
      ],
      "text/plain": [
       "   age workclass  fnlwgt     education  education.num marital.status  \\\n",
       "0   90       NaN   77053       HS-grad              9        Widowed   \n",
       "1   82   Private  132870       HS-grad              9        Widowed   \n",
       "2   66       NaN  186061  Some-college             10        Widowed   \n",
       "3   54   Private  140359       7th-8th              4       Divorced   \n",
       "4   41   Private  264663  Some-college             10      Separated   \n",
       "\n",
       "          occupation   relationship   race     sex  capital.gain  \\\n",
       "0                NaN  Not-in-family  White  Female             0   \n",
       "1    Exec-managerial  Not-in-family  White  Female             0   \n",
       "2                NaN      Unmarried  Black  Female             0   \n",
       "3  Machine-op-inspct      Unmarried  White  Female             0   \n",
       "4     Prof-specialty      Own-child  White  Female             0   \n",
       "\n",
       "   capital.loss  hours.per.week native.country income  \n",
       "0          4356              40  United-States  <=50K  \n",
       "1          4356              18  United-States  <=50K  \n",
       "2          4356              40  United-States  <=50K  \n",
       "3          3900              40  United-States  <=50K  \n",
       "4          3900              40  United-States  <=50K  "
      ]
     },
     "execution_count": 80,
     "metadata": {},
     "output_type": "execute_result"
    }
   ],
   "source": [
    "df.head()"
   ]
  },
  {
   "cell_type": "code",
   "execution_count": 81,
   "id": "a7c3b01d",
   "metadata": {},
   "outputs": [
    {
     "name": "stdout",
     "output_type": "stream",
     "text": [
      "<class 'pandas.core.frame.DataFrame'>\n",
      "RangeIndex: 32561 entries, 0 to 32560\n",
      "Data columns (total 15 columns):\n",
      " #   Column          Non-Null Count  Dtype \n",
      "---  ------          --------------  ----- \n",
      " 0   age             32561 non-null  int64 \n",
      " 1   workclass       30725 non-null  object\n",
      " 2   fnlwgt          32561 non-null  int64 \n",
      " 3   education       32561 non-null  object\n",
      " 4   education.num   32561 non-null  int64 \n",
      " 5   marital.status  32561 non-null  object\n",
      " 6   occupation      30718 non-null  object\n",
      " 7   relationship    32561 non-null  object\n",
      " 8   race            32561 non-null  object\n",
      " 9   sex             32561 non-null  object\n",
      " 10  capital.gain    32561 non-null  int64 \n",
      " 11  capital.loss    32561 non-null  int64 \n",
      " 12  hours.per.week  32561 non-null  int64 \n",
      " 13  native.country  31978 non-null  object\n",
      " 14  income          32561 non-null  object\n",
      "dtypes: int64(6), object(9)\n",
      "memory usage: 3.7+ MB\n"
     ]
    }
   ],
   "source": [
    "df.info()"
   ]
  },
  {
   "cell_type": "code",
   "execution_count": 89,
   "id": "be5842b8",
   "metadata": {},
   "outputs": [
    {
     "data": {
      "text/plain": [
       "age               0\n",
       "workclass         0\n",
       "fnlwgt            0\n",
       "education         0\n",
       "education.num     0\n",
       "marital.status    0\n",
       "occupation        0\n",
       "relationship      0\n",
       "race              0\n",
       "sex               0\n",
       "capital.gain      0\n",
       "capital.loss      0\n",
       "hours.per.week    0\n",
       "native.country    0\n",
       "income            0\n",
       "dtype: int64"
      ]
     },
     "execution_count": 89,
     "metadata": {},
     "output_type": "execute_result"
    }
   ],
   "source": [
    "df.isna().sum()"
   ]
  },
  {
   "cell_type": "markdown",
   "id": "17ad4e5d",
   "metadata": {},
   "source": [
    "Now, columns workclass, occupation and native.country have missig values. Imputing them using mode strategy since acll are categorical features."
   ]
  },
  {
   "cell_type": "code",
   "execution_count": 87,
   "id": "4cd75aae",
   "metadata": {},
   "outputs": [],
   "source": [
    "col = [\"workclass\", \"occupation\", \"native.country\"]\n",
    "for c in col:\n",
    "    df[c] = df[c].fillna(df[c].mode()[0])"
   ]
  },
  {
   "cell_type": "code",
   "execution_count": 88,
   "id": "cca82df4",
   "metadata": {},
   "outputs": [
    {
     "name": "stdout",
     "output_type": "stream",
     "text": [
      "<class 'pandas.core.frame.DataFrame'>\n",
      "RangeIndex: 32561 entries, 0 to 32560\n",
      "Data columns (total 15 columns):\n",
      " #   Column          Non-Null Count  Dtype \n",
      "---  ------          --------------  ----- \n",
      " 0   age             32561 non-null  int64 \n",
      " 1   workclass       32561 non-null  object\n",
      " 2   fnlwgt          32561 non-null  int64 \n",
      " 3   education       32561 non-null  object\n",
      " 4   education.num   32561 non-null  int64 \n",
      " 5   marital.status  32561 non-null  object\n",
      " 6   occupation      32561 non-null  object\n",
      " 7   relationship    32561 non-null  object\n",
      " 8   race            32561 non-null  object\n",
      " 9   sex             32561 non-null  object\n",
      " 10  capital.gain    32561 non-null  int64 \n",
      " 11  capital.loss    32561 non-null  int64 \n",
      " 12  hours.per.week  32561 non-null  int64 \n",
      " 13  native.country  32561 non-null  object\n",
      " 14  income          32561 non-null  object\n",
      "dtypes: int64(6), object(9)\n",
      "memory usage: 3.7+ MB\n"
     ]
    }
   ],
   "source": [
    "df.info()"
   ]
  },
  {
   "cell_type": "code",
   "execution_count": 90,
   "id": "076e1a67",
   "metadata": {},
   "outputs": [
    {
     "data": {
      "text/plain": [
       "age               0\n",
       "workclass         0\n",
       "fnlwgt            0\n",
       "education         0\n",
       "education.num     0\n",
       "marital.status    0\n",
       "occupation        0\n",
       "relationship      0\n",
       "race              0\n",
       "sex               0\n",
       "capital.gain      0\n",
       "capital.loss      0\n",
       "hours.per.week    0\n",
       "native.country    0\n",
       "income            0\n",
       "dtype: int64"
      ]
     },
     "execution_count": 90,
     "metadata": {},
     "output_type": "execute_result"
    }
   ],
   "source": [
    "#checking for missing values\n",
    "df.isna().sum()"
   ]
  },
  {
   "cell_type": "code",
   "execution_count": 92,
   "id": "bd5f90c8",
   "metadata": {},
   "outputs": [
    {
     "data": {
      "application/vnd.microsoft.datawrangler.viewer.v0+json": {
       "columns": [
        {
         "name": "index",
         "rawType": "int64",
         "type": "integer"
        },
        {
         "name": "age",
         "rawType": "int64",
         "type": "integer"
        },
        {
         "name": "workclass",
         "rawType": "object",
         "type": "string"
        },
        {
         "name": "fnlwgt",
         "rawType": "int64",
         "type": "integer"
        },
        {
         "name": "education",
         "rawType": "object",
         "type": "string"
        },
        {
         "name": "education.num",
         "rawType": "int64",
         "type": "integer"
        },
        {
         "name": "marital.status",
         "rawType": "object",
         "type": "string"
        },
        {
         "name": "occupation",
         "rawType": "object",
         "type": "string"
        },
        {
         "name": "relationship",
         "rawType": "object",
         "type": "string"
        },
        {
         "name": "race",
         "rawType": "object",
         "type": "string"
        },
        {
         "name": "sex",
         "rawType": "object",
         "type": "string"
        },
        {
         "name": "capital.gain",
         "rawType": "int64",
         "type": "integer"
        },
        {
         "name": "capital.loss",
         "rawType": "int64",
         "type": "integer"
        },
        {
         "name": "hours.per.week",
         "rawType": "int64",
         "type": "integer"
        },
        {
         "name": "native.country",
         "rawType": "object",
         "type": "string"
        },
        {
         "name": "income",
         "rawType": "object",
         "type": "string"
        }
       ],
       "conversionMethod": "pd.DataFrame",
       "ref": "a33e7f7a-8ea2-437f-ab65-ffc9e7d39240",
       "rows": [
        [
         "0",
         "90",
         "Private",
         "77053",
         "HS-grad",
         "9",
         "Widowed",
         "Prof-specialty",
         "Not-in-family",
         "White",
         "Female",
         "0",
         "4356",
         "40",
         "United-States",
         "<=50K"
        ],
        [
         "1",
         "82",
         "Private",
         "132870",
         "HS-grad",
         "9",
         "Widowed",
         "Exec-managerial",
         "Not-in-family",
         "White",
         "Female",
         "0",
         "4356",
         "18",
         "United-States",
         "<=50K"
        ],
        [
         "2",
         "66",
         "Private",
         "186061",
         "Some-college",
         "10",
         "Widowed",
         "Prof-specialty",
         "Unmarried",
         "Black",
         "Female",
         "0",
         "4356",
         "40",
         "United-States",
         "<=50K"
        ],
        [
         "3",
         "54",
         "Private",
         "140359",
         "7th-8th",
         "4",
         "Divorced",
         "Machine-op-inspct",
         "Unmarried",
         "White",
         "Female",
         "0",
         "3900",
         "40",
         "United-States",
         "<=50K"
        ],
        [
         "4",
         "41",
         "Private",
         "264663",
         "Some-college",
         "10",
         "Separated",
         "Prof-specialty",
         "Own-child",
         "White",
         "Female",
         "0",
         "3900",
         "40",
         "United-States",
         "<=50K"
        ]
       ],
       "shape": {
        "columns": 15,
        "rows": 5
       }
      },
      "text/html": [
       "<div>\n",
       "<style scoped>\n",
       "    .dataframe tbody tr th:only-of-type {\n",
       "        vertical-align: middle;\n",
       "    }\n",
       "\n",
       "    .dataframe tbody tr th {\n",
       "        vertical-align: top;\n",
       "    }\n",
       "\n",
       "    .dataframe thead th {\n",
       "        text-align: right;\n",
       "    }\n",
       "</style>\n",
       "<table border=\"1\" class=\"dataframe\">\n",
       "  <thead>\n",
       "    <tr style=\"text-align: right;\">\n",
       "      <th></th>\n",
       "      <th>age</th>\n",
       "      <th>workclass</th>\n",
       "      <th>fnlwgt</th>\n",
       "      <th>education</th>\n",
       "      <th>education.num</th>\n",
       "      <th>marital.status</th>\n",
       "      <th>occupation</th>\n",
       "      <th>relationship</th>\n",
       "      <th>race</th>\n",
       "      <th>sex</th>\n",
       "      <th>capital.gain</th>\n",
       "      <th>capital.loss</th>\n",
       "      <th>hours.per.week</th>\n",
       "      <th>native.country</th>\n",
       "      <th>income</th>\n",
       "    </tr>\n",
       "  </thead>\n",
       "  <tbody>\n",
       "    <tr>\n",
       "      <th>0</th>\n",
       "      <td>90</td>\n",
       "      <td>Private</td>\n",
       "      <td>77053</td>\n",
       "      <td>HS-grad</td>\n",
       "      <td>9</td>\n",
       "      <td>Widowed</td>\n",
       "      <td>Prof-specialty</td>\n",
       "      <td>Not-in-family</td>\n",
       "      <td>White</td>\n",
       "      <td>Female</td>\n",
       "      <td>0</td>\n",
       "      <td>4356</td>\n",
       "      <td>40</td>\n",
       "      <td>United-States</td>\n",
       "      <td>&lt;=50K</td>\n",
       "    </tr>\n",
       "    <tr>\n",
       "      <th>1</th>\n",
       "      <td>82</td>\n",
       "      <td>Private</td>\n",
       "      <td>132870</td>\n",
       "      <td>HS-grad</td>\n",
       "      <td>9</td>\n",
       "      <td>Widowed</td>\n",
       "      <td>Exec-managerial</td>\n",
       "      <td>Not-in-family</td>\n",
       "      <td>White</td>\n",
       "      <td>Female</td>\n",
       "      <td>0</td>\n",
       "      <td>4356</td>\n",
       "      <td>18</td>\n",
       "      <td>United-States</td>\n",
       "      <td>&lt;=50K</td>\n",
       "    </tr>\n",
       "    <tr>\n",
       "      <th>2</th>\n",
       "      <td>66</td>\n",
       "      <td>Private</td>\n",
       "      <td>186061</td>\n",
       "      <td>Some-college</td>\n",
       "      <td>10</td>\n",
       "      <td>Widowed</td>\n",
       "      <td>Prof-specialty</td>\n",
       "      <td>Unmarried</td>\n",
       "      <td>Black</td>\n",
       "      <td>Female</td>\n",
       "      <td>0</td>\n",
       "      <td>4356</td>\n",
       "      <td>40</td>\n",
       "      <td>United-States</td>\n",
       "      <td>&lt;=50K</td>\n",
       "    </tr>\n",
       "    <tr>\n",
       "      <th>3</th>\n",
       "      <td>54</td>\n",
       "      <td>Private</td>\n",
       "      <td>140359</td>\n",
       "      <td>7th-8th</td>\n",
       "      <td>4</td>\n",
       "      <td>Divorced</td>\n",
       "      <td>Machine-op-inspct</td>\n",
       "      <td>Unmarried</td>\n",
       "      <td>White</td>\n",
       "      <td>Female</td>\n",
       "      <td>0</td>\n",
       "      <td>3900</td>\n",
       "      <td>40</td>\n",
       "      <td>United-States</td>\n",
       "      <td>&lt;=50K</td>\n",
       "    </tr>\n",
       "    <tr>\n",
       "      <th>4</th>\n",
       "      <td>41</td>\n",
       "      <td>Private</td>\n",
       "      <td>264663</td>\n",
       "      <td>Some-college</td>\n",
       "      <td>10</td>\n",
       "      <td>Separated</td>\n",
       "      <td>Prof-specialty</td>\n",
       "      <td>Own-child</td>\n",
       "      <td>White</td>\n",
       "      <td>Female</td>\n",
       "      <td>0</td>\n",
       "      <td>3900</td>\n",
       "      <td>40</td>\n",
       "      <td>United-States</td>\n",
       "      <td>&lt;=50K</td>\n",
       "    </tr>\n",
       "  </tbody>\n",
       "</table>\n",
       "</div>"
      ],
      "text/plain": [
       "   age workclass  fnlwgt     education  education.num marital.status  \\\n",
       "0   90   Private   77053       HS-grad              9        Widowed   \n",
       "1   82   Private  132870       HS-grad              9        Widowed   \n",
       "2   66   Private  186061  Some-college             10        Widowed   \n",
       "3   54   Private  140359       7th-8th              4       Divorced   \n",
       "4   41   Private  264663  Some-college             10      Separated   \n",
       "\n",
       "          occupation   relationship   race     sex  capital.gain  \\\n",
       "0     Prof-specialty  Not-in-family  White  Female             0   \n",
       "1    Exec-managerial  Not-in-family  White  Female             0   \n",
       "2     Prof-specialty      Unmarried  Black  Female             0   \n",
       "3  Machine-op-inspct      Unmarried  White  Female             0   \n",
       "4     Prof-specialty      Own-child  White  Female             0   \n",
       "\n",
       "   capital.loss  hours.per.week native.country income  \n",
       "0          4356              40  United-States  <=50K  \n",
       "1          4356              18  United-States  <=50K  \n",
       "2          4356              40  United-States  <=50K  \n",
       "3          3900              40  United-States  <=50K  \n",
       "4          3900              40  United-States  <=50K  "
      ]
     },
     "execution_count": 92,
     "metadata": {},
     "output_type": "execute_result"
    }
   ],
   "source": [
    "df.head()"
   ]
  },
  {
   "cell_type": "markdown",
   "id": "ebf4275d",
   "metadata": {},
   "source": [
    "### Setting Features vector and target variable\n",
    "\n",
    "- Target is to determine whether the income of an individual is >=50K or <=50K based on the various features in the dataset then afterwards using PCA keeping only the features that will capture 90%+ of the dataset's variance"
   ]
  },
  {
   "cell_type": "code",
   "execution_count": 93,
   "id": "9f0483ce",
   "metadata": {},
   "outputs": [],
   "source": [
    "X = df.drop(['income'], axis = 1)\n",
    "y = df['income']"
   ]
  },
  {
   "cell_type": "code",
   "execution_count": 94,
   "id": "440ed01e",
   "metadata": {},
   "outputs": [
    {
     "data": {
      "application/vnd.microsoft.datawrangler.viewer.v0+json": {
       "columns": [
        {
         "name": "index",
         "rawType": "int64",
         "type": "integer"
        },
        {
         "name": "age",
         "rawType": "int64",
         "type": "integer"
        },
        {
         "name": "workclass",
         "rawType": "object",
         "type": "string"
        },
        {
         "name": "fnlwgt",
         "rawType": "int64",
         "type": "integer"
        },
        {
         "name": "education",
         "rawType": "object",
         "type": "string"
        },
        {
         "name": "education.num",
         "rawType": "int64",
         "type": "integer"
        },
        {
         "name": "marital.status",
         "rawType": "object",
         "type": "string"
        },
        {
         "name": "occupation",
         "rawType": "object",
         "type": "string"
        },
        {
         "name": "relationship",
         "rawType": "object",
         "type": "string"
        },
        {
         "name": "race",
         "rawType": "object",
         "type": "string"
        },
        {
         "name": "sex",
         "rawType": "object",
         "type": "string"
        },
        {
         "name": "capital.gain",
         "rawType": "int64",
         "type": "integer"
        },
        {
         "name": "capital.loss",
         "rawType": "int64",
         "type": "integer"
        },
        {
         "name": "hours.per.week",
         "rawType": "int64",
         "type": "integer"
        },
        {
         "name": "native.country",
         "rawType": "object",
         "type": "string"
        }
       ],
       "conversionMethod": "pd.DataFrame",
       "ref": "8e3dd790-1158-42a6-af93-ea21bad6f7ed",
       "rows": [
        [
         "0",
         "90",
         "Private",
         "77053",
         "HS-grad",
         "9",
         "Widowed",
         "Prof-specialty",
         "Not-in-family",
         "White",
         "Female",
         "0",
         "4356",
         "40",
         "United-States"
        ],
        [
         "1",
         "82",
         "Private",
         "132870",
         "HS-grad",
         "9",
         "Widowed",
         "Exec-managerial",
         "Not-in-family",
         "White",
         "Female",
         "0",
         "4356",
         "18",
         "United-States"
        ],
        [
         "2",
         "66",
         "Private",
         "186061",
         "Some-college",
         "10",
         "Widowed",
         "Prof-specialty",
         "Unmarried",
         "Black",
         "Female",
         "0",
         "4356",
         "40",
         "United-States"
        ],
        [
         "3",
         "54",
         "Private",
         "140359",
         "7th-8th",
         "4",
         "Divorced",
         "Machine-op-inspct",
         "Unmarried",
         "White",
         "Female",
         "0",
         "3900",
         "40",
         "United-States"
        ],
        [
         "4",
         "41",
         "Private",
         "264663",
         "Some-college",
         "10",
         "Separated",
         "Prof-specialty",
         "Own-child",
         "White",
         "Female",
         "0",
         "3900",
         "40",
         "United-States"
        ]
       ],
       "shape": {
        "columns": 14,
        "rows": 5
       }
      },
      "text/html": [
       "<div>\n",
       "<style scoped>\n",
       "    .dataframe tbody tr th:only-of-type {\n",
       "        vertical-align: middle;\n",
       "    }\n",
       "\n",
       "    .dataframe tbody tr th {\n",
       "        vertical-align: top;\n",
       "    }\n",
       "\n",
       "    .dataframe thead th {\n",
       "        text-align: right;\n",
       "    }\n",
       "</style>\n",
       "<table border=\"1\" class=\"dataframe\">\n",
       "  <thead>\n",
       "    <tr style=\"text-align: right;\">\n",
       "      <th></th>\n",
       "      <th>age</th>\n",
       "      <th>workclass</th>\n",
       "      <th>fnlwgt</th>\n",
       "      <th>education</th>\n",
       "      <th>education.num</th>\n",
       "      <th>marital.status</th>\n",
       "      <th>occupation</th>\n",
       "      <th>relationship</th>\n",
       "      <th>race</th>\n",
       "      <th>sex</th>\n",
       "      <th>capital.gain</th>\n",
       "      <th>capital.loss</th>\n",
       "      <th>hours.per.week</th>\n",
       "      <th>native.country</th>\n",
       "    </tr>\n",
       "  </thead>\n",
       "  <tbody>\n",
       "    <tr>\n",
       "      <th>0</th>\n",
       "      <td>90</td>\n",
       "      <td>Private</td>\n",
       "      <td>77053</td>\n",
       "      <td>HS-grad</td>\n",
       "      <td>9</td>\n",
       "      <td>Widowed</td>\n",
       "      <td>Prof-specialty</td>\n",
       "      <td>Not-in-family</td>\n",
       "      <td>White</td>\n",
       "      <td>Female</td>\n",
       "      <td>0</td>\n",
       "      <td>4356</td>\n",
       "      <td>40</td>\n",
       "      <td>United-States</td>\n",
       "    </tr>\n",
       "    <tr>\n",
       "      <th>1</th>\n",
       "      <td>82</td>\n",
       "      <td>Private</td>\n",
       "      <td>132870</td>\n",
       "      <td>HS-grad</td>\n",
       "      <td>9</td>\n",
       "      <td>Widowed</td>\n",
       "      <td>Exec-managerial</td>\n",
       "      <td>Not-in-family</td>\n",
       "      <td>White</td>\n",
       "      <td>Female</td>\n",
       "      <td>0</td>\n",
       "      <td>4356</td>\n",
       "      <td>18</td>\n",
       "      <td>United-States</td>\n",
       "    </tr>\n",
       "    <tr>\n",
       "      <th>2</th>\n",
       "      <td>66</td>\n",
       "      <td>Private</td>\n",
       "      <td>186061</td>\n",
       "      <td>Some-college</td>\n",
       "      <td>10</td>\n",
       "      <td>Widowed</td>\n",
       "      <td>Prof-specialty</td>\n",
       "      <td>Unmarried</td>\n",
       "      <td>Black</td>\n",
       "      <td>Female</td>\n",
       "      <td>0</td>\n",
       "      <td>4356</td>\n",
       "      <td>40</td>\n",
       "      <td>United-States</td>\n",
       "    </tr>\n",
       "    <tr>\n",
       "      <th>3</th>\n",
       "      <td>54</td>\n",
       "      <td>Private</td>\n",
       "      <td>140359</td>\n",
       "      <td>7th-8th</td>\n",
       "      <td>4</td>\n",
       "      <td>Divorced</td>\n",
       "      <td>Machine-op-inspct</td>\n",
       "      <td>Unmarried</td>\n",
       "      <td>White</td>\n",
       "      <td>Female</td>\n",
       "      <td>0</td>\n",
       "      <td>3900</td>\n",
       "      <td>40</td>\n",
       "      <td>United-States</td>\n",
       "    </tr>\n",
       "    <tr>\n",
       "      <th>4</th>\n",
       "      <td>41</td>\n",
       "      <td>Private</td>\n",
       "      <td>264663</td>\n",
       "      <td>Some-college</td>\n",
       "      <td>10</td>\n",
       "      <td>Separated</td>\n",
       "      <td>Prof-specialty</td>\n",
       "      <td>Own-child</td>\n",
       "      <td>White</td>\n",
       "      <td>Female</td>\n",
       "      <td>0</td>\n",
       "      <td>3900</td>\n",
       "      <td>40</td>\n",
       "      <td>United-States</td>\n",
       "    </tr>\n",
       "  </tbody>\n",
       "</table>\n",
       "</div>"
      ],
      "text/plain": [
       "   age workclass  fnlwgt     education  education.num marital.status  \\\n",
       "0   90   Private   77053       HS-grad              9        Widowed   \n",
       "1   82   Private  132870       HS-grad              9        Widowed   \n",
       "2   66   Private  186061  Some-college             10        Widowed   \n",
       "3   54   Private  140359       7th-8th              4       Divorced   \n",
       "4   41   Private  264663  Some-college             10      Separated   \n",
       "\n",
       "          occupation   relationship   race     sex  capital.gain  \\\n",
       "0     Prof-specialty  Not-in-family  White  Female             0   \n",
       "1    Exec-managerial  Not-in-family  White  Female             0   \n",
       "2     Prof-specialty      Unmarried  Black  Female             0   \n",
       "3  Machine-op-inspct      Unmarried  White  Female             0   \n",
       "4     Prof-specialty      Own-child  White  Female             0   \n",
       "\n",
       "   capital.loss  hours.per.week native.country  \n",
       "0          4356              40  United-States  \n",
       "1          4356              18  United-States  \n",
       "2          4356              40  United-States  \n",
       "3          3900              40  United-States  \n",
       "4          3900              40  United-States  "
      ]
     },
     "execution_count": 94,
     "metadata": {},
     "output_type": "execute_result"
    }
   ],
   "source": [
    "X.head()"
   ]
  },
  {
   "cell_type": "markdown",
   "id": "b9c948e6",
   "metadata": {},
   "source": [
    "### Splitting the dataset into training and testing sets.\n"
   ]
  },
  {
   "cell_type": "code",
   "execution_count": 120,
   "id": "86c0d9be",
   "metadata": {},
   "outputs": [],
   "source": [
    "from sklearn.model_selection import train_test_split\n",
    "\n",
    "X_train, X_test, y_train, y_test = train_test_split(X,y,train_size=0.8, random_state=0)"
   ]
  },
  {
   "cell_type": "markdown",
   "id": "425c0cbf",
   "metadata": {},
   "source": [
    "## Feature Engineering\n",
    "\n",
    "### Encoding Categorical Variables"
   ]
  },
  {
   "cell_type": "code",
   "execution_count": 121,
   "id": "fc11a5ca",
   "metadata": {},
   "outputs": [],
   "source": [
    "from sklearn.preprocessing import LabelEncoder, StandardScaler\n",
    "\n",
    "#Extracting columns with non-numerical datatype\n",
    "le = LabelEncoder()\n",
    "lst = [c for c in X_train.columns if df[c].dtype == \"object\"]\n",
    "for col in lst:\n",
    "      X_train[col] = le.fit_transform(X_train[col])\n",
    "      X_test[col] = le.fit_transform(X_test[col])"
   ]
  },
  {
   "cell_type": "code",
   "execution_count": 122,
   "id": "b20e60a4",
   "metadata": {},
   "outputs": [
    {
     "data": {
      "application/vnd.microsoft.datawrangler.viewer.v0+json": {
       "columns": [
        {
         "name": "index",
         "rawType": "int64",
         "type": "integer"
        },
        {
         "name": "age",
         "rawType": "int64",
         "type": "integer"
        },
        {
         "name": "workclass",
         "rawType": "int64",
         "type": "integer"
        },
        {
         "name": "fnlwgt",
         "rawType": "int64",
         "type": "integer"
        },
        {
         "name": "education",
         "rawType": "int64",
         "type": "integer"
        },
        {
         "name": "education.num",
         "rawType": "int64",
         "type": "integer"
        },
        {
         "name": "marital.status",
         "rawType": "int64",
         "type": "integer"
        },
        {
         "name": "occupation",
         "rawType": "int64",
         "type": "integer"
        },
        {
         "name": "relationship",
         "rawType": "int64",
         "type": "integer"
        },
        {
         "name": "race",
         "rawType": "int64",
         "type": "integer"
        },
        {
         "name": "sex",
         "rawType": "int64",
         "type": "integer"
        },
        {
         "name": "capital.gain",
         "rawType": "int64",
         "type": "integer"
        },
        {
         "name": "capital.loss",
         "rawType": "int64",
         "type": "integer"
        },
        {
         "name": "hours.per.week",
         "rawType": "int64",
         "type": "integer"
        },
        {
         "name": "native.country",
         "rawType": "int64",
         "type": "integer"
        }
       ],
       "conversionMethod": "pd.DataFrame",
       "ref": "211aad80-b7b3-4cbc-a3fe-74a240e2cf83",
       "rows": [
        [
         "15282",
         "41",
         "3",
         "208330",
         "15",
         "10",
         "2",
         "11",
         "0",
         "4",
         "1",
         "0",
         "0",
         "51",
         "38"
        ],
        [
         "24870",
         "25",
         "1",
         "191921",
         "9",
         "13",
         "4",
         "2",
         "3",
         "4",
         "1",
         "0",
         "0",
         "25",
         "38"
        ],
        [
         "18822",
         "25",
         "3",
         "180212",
         "11",
         "9",
         "4",
         "0",
         "4",
         "2",
         "0",
         "0",
         "0",
         "40",
         "38"
        ],
        [
         "26404",
         "53",
         "3",
         "123092",
         "11",
         "9",
         "6",
         "6",
         "1",
         "4",
         "0",
         "0",
         "0",
         "40",
         "38"
        ],
        [
         "7842",
         "24",
         "3",
         "122272",
         "9",
         "13",
         "4",
         "4",
         "3",
         "4",
         "0",
         "0",
         "0",
         "40",
         "38"
        ]
       ],
       "shape": {
        "columns": 14,
        "rows": 5
       }
      },
      "text/html": [
       "<div>\n",
       "<style scoped>\n",
       "    .dataframe tbody tr th:only-of-type {\n",
       "        vertical-align: middle;\n",
       "    }\n",
       "\n",
       "    .dataframe tbody tr th {\n",
       "        vertical-align: top;\n",
       "    }\n",
       "\n",
       "    .dataframe thead th {\n",
       "        text-align: right;\n",
       "    }\n",
       "</style>\n",
       "<table border=\"1\" class=\"dataframe\">\n",
       "  <thead>\n",
       "    <tr style=\"text-align: right;\">\n",
       "      <th></th>\n",
       "      <th>age</th>\n",
       "      <th>workclass</th>\n",
       "      <th>fnlwgt</th>\n",
       "      <th>education</th>\n",
       "      <th>education.num</th>\n",
       "      <th>marital.status</th>\n",
       "      <th>occupation</th>\n",
       "      <th>relationship</th>\n",
       "      <th>race</th>\n",
       "      <th>sex</th>\n",
       "      <th>capital.gain</th>\n",
       "      <th>capital.loss</th>\n",
       "      <th>hours.per.week</th>\n",
       "      <th>native.country</th>\n",
       "    </tr>\n",
       "  </thead>\n",
       "  <tbody>\n",
       "    <tr>\n",
       "      <th>15282</th>\n",
       "      <td>41</td>\n",
       "      <td>3</td>\n",
       "      <td>208330</td>\n",
       "      <td>15</td>\n",
       "      <td>10</td>\n",
       "      <td>2</td>\n",
       "      <td>11</td>\n",
       "      <td>0</td>\n",
       "      <td>4</td>\n",
       "      <td>1</td>\n",
       "      <td>0</td>\n",
       "      <td>0</td>\n",
       "      <td>51</td>\n",
       "      <td>38</td>\n",
       "    </tr>\n",
       "    <tr>\n",
       "      <th>24870</th>\n",
       "      <td>25</td>\n",
       "      <td>1</td>\n",
       "      <td>191921</td>\n",
       "      <td>9</td>\n",
       "      <td>13</td>\n",
       "      <td>4</td>\n",
       "      <td>2</td>\n",
       "      <td>3</td>\n",
       "      <td>4</td>\n",
       "      <td>1</td>\n",
       "      <td>0</td>\n",
       "      <td>0</td>\n",
       "      <td>25</td>\n",
       "      <td>38</td>\n",
       "    </tr>\n",
       "    <tr>\n",
       "      <th>18822</th>\n",
       "      <td>25</td>\n",
       "      <td>3</td>\n",
       "      <td>180212</td>\n",
       "      <td>11</td>\n",
       "      <td>9</td>\n",
       "      <td>4</td>\n",
       "      <td>0</td>\n",
       "      <td>4</td>\n",
       "      <td>2</td>\n",
       "      <td>0</td>\n",
       "      <td>0</td>\n",
       "      <td>0</td>\n",
       "      <td>40</td>\n",
       "      <td>38</td>\n",
       "    </tr>\n",
       "    <tr>\n",
       "      <th>26404</th>\n",
       "      <td>53</td>\n",
       "      <td>3</td>\n",
       "      <td>123092</td>\n",
       "      <td>11</td>\n",
       "      <td>9</td>\n",
       "      <td>6</td>\n",
       "      <td>6</td>\n",
       "      <td>1</td>\n",
       "      <td>4</td>\n",
       "      <td>0</td>\n",
       "      <td>0</td>\n",
       "      <td>0</td>\n",
       "      <td>40</td>\n",
       "      <td>38</td>\n",
       "    </tr>\n",
       "    <tr>\n",
       "      <th>7842</th>\n",
       "      <td>24</td>\n",
       "      <td>3</td>\n",
       "      <td>122272</td>\n",
       "      <td>9</td>\n",
       "      <td>13</td>\n",
       "      <td>4</td>\n",
       "      <td>4</td>\n",
       "      <td>3</td>\n",
       "      <td>4</td>\n",
       "      <td>0</td>\n",
       "      <td>0</td>\n",
       "      <td>0</td>\n",
       "      <td>40</td>\n",
       "      <td>38</td>\n",
       "    </tr>\n",
       "  </tbody>\n",
       "</table>\n",
       "</div>"
      ],
      "text/plain": [
       "       age  workclass  fnlwgt  education  education.num  marital.status  \\\n",
       "15282   41          3  208330         15             10               2   \n",
       "24870   25          1  191921          9             13               4   \n",
       "18822   25          3  180212         11              9               4   \n",
       "26404   53          3  123092         11              9               6   \n",
       "7842    24          3  122272          9             13               4   \n",
       "\n",
       "       occupation  relationship  race  sex  capital.gain  capital.loss  \\\n",
       "15282          11             0     4    1             0             0   \n",
       "24870           2             3     4    1             0             0   \n",
       "18822           0             4     2    0             0             0   \n",
       "26404           6             1     4    0             0             0   \n",
       "7842            4             3     4    0             0             0   \n",
       "\n",
       "       hours.per.week  native.country  \n",
       "15282              51              38  \n",
       "24870              25              38  \n",
       "18822              40              38  \n",
       "26404              40              38  \n",
       "7842               40              38  "
      ]
     },
     "execution_count": 122,
     "metadata": {},
     "output_type": "execute_result"
    }
   ],
   "source": [
    "X_train.head()"
   ]
  },
  {
   "cell_type": "markdown",
   "id": "7e0fee3b",
   "metadata": {},
   "source": [
    "## Feature Scaling"
   ]
  },
  {
   "cell_type": "code",
   "execution_count": 123,
   "id": "2b78f30c",
   "metadata": {},
   "outputs": [
    {
     "data": {
      "application/vnd.microsoft.datawrangler.viewer.v0+json": {
       "columns": [
        {
         "name": "index",
         "rawType": "int64",
         "type": "integer"
        },
        {
         "name": "age",
         "rawType": "float64",
         "type": "float"
        },
        {
         "name": "workclass",
         "rawType": "float64",
         "type": "float"
        },
        {
         "name": "fnlwgt",
         "rawType": "float64",
         "type": "float"
        },
        {
         "name": "education",
         "rawType": "float64",
         "type": "float"
        },
        {
         "name": "education.num",
         "rawType": "float64",
         "type": "float"
        },
        {
         "name": "marital.status",
         "rawType": "float64",
         "type": "float"
        },
        {
         "name": "occupation",
         "rawType": "float64",
         "type": "float"
        },
        {
         "name": "relationship",
         "rawType": "float64",
         "type": "float"
        },
        {
         "name": "race",
         "rawType": "float64",
         "type": "float"
        },
        {
         "name": "sex",
         "rawType": "float64",
         "type": "float"
        },
        {
         "name": "capital.gain",
         "rawType": "float64",
         "type": "float"
        },
        {
         "name": "capital.loss",
         "rawType": "float64",
         "type": "float"
        },
        {
         "name": "hours.per.week",
         "rawType": "float64",
         "type": "float"
        },
        {
         "name": "native.country",
         "rawType": "float64",
         "type": "float"
        }
       ],
       "conversionMethod": "pd.DataFrame",
       "ref": "975675dd-c2a8-4826-8a02-29ab66d53c29",
       "rows": [
        [
         "0",
         "0.17780666717769955",
         "-0.08668238312948685",
         "0.17324388440394503",
         "1.2180347714907884",
         "-0.036491051491980286",
         "-0.40724979466373606",
         "1.2290931779413028",
         "-0.8981773393929687",
         "0.39422481700895007",
         "0.6986537066588522",
         "-0.14474897049334137",
         "-0.2185203486220758",
         "0.8516320837648484",
         "0.26227659547699395"
        ],
        [
         "1",
         "-0.9932446771066787",
         "-1.8850915553770968",
         "0.018237908727925346",
         "-0.3369489599198432",
         "1.1307446127688816",
         "0.9240808593775538",
         "-1.0374138494964613",
         "0.9718349167422763",
         "0.39422481700895007",
         "0.6986537066588522",
         "-0.14474897049334137",
         "-0.2185203486220758",
         "-1.2548683032490855",
         "0.26227659547699395"
        ],
        [
         "2",
         "-0.9932446771066787",
         "-0.08668238312948685",
         "-0.09236998749917652",
         "0.18137895055036732",
         "-0.4255696062456009",
         "0.9240808593775538",
         "-1.5410820778159644",
         "1.5951723354540246",
         "-1.9478365431117335",
         "-1.4313242604583973",
         "-0.14474897049334137",
         "-0.2185203486220758",
         "-0.03957961843335435",
         "0.26227659547699395"
        ],
        [
         "3",
         "1.0560951753909833",
         "-0.08668238312948685",
         "-0.6319483488017692",
         "0.18137895055036732",
         "-0.4255696062456009",
         "2.2554115134188435",
         "-0.03007739285745504",
         "-0.27483992068122043",
         "0.39422481700895007",
         "-1.4313242604583973",
         "-0.14474897049334137",
         "-0.2185203486220758",
         "-0.03957961843335435",
         "0.26227659547699395"
        ],
        [
         "4",
         "-1.0664353861244524",
         "-0.08668238312948685",
         "-0.639694396705623",
         "-0.3369489599198432",
         "1.1307446127688816",
         "0.9240808593775538",
         "-0.5337456211769581",
         "0.9718349167422763",
         "0.39422481700895007",
         "-1.4313242604583973",
         "-0.14474897049334137",
         "-0.2185203486220758",
         "-0.03957961843335435",
         "0.26227659547699395"
        ]
       ],
       "shape": {
        "columns": 14,
        "rows": 5
       }
      },
      "text/html": [
       "<div>\n",
       "<style scoped>\n",
       "    .dataframe tbody tr th:only-of-type {\n",
       "        vertical-align: middle;\n",
       "    }\n",
       "\n",
       "    .dataframe tbody tr th {\n",
       "        vertical-align: top;\n",
       "    }\n",
       "\n",
       "    .dataframe thead th {\n",
       "        text-align: right;\n",
       "    }\n",
       "</style>\n",
       "<table border=\"1\" class=\"dataframe\">\n",
       "  <thead>\n",
       "    <tr style=\"text-align: right;\">\n",
       "      <th></th>\n",
       "      <th>age</th>\n",
       "      <th>workclass</th>\n",
       "      <th>fnlwgt</th>\n",
       "      <th>education</th>\n",
       "      <th>education.num</th>\n",
       "      <th>marital.status</th>\n",
       "      <th>occupation</th>\n",
       "      <th>relationship</th>\n",
       "      <th>race</th>\n",
       "      <th>sex</th>\n",
       "      <th>capital.gain</th>\n",
       "      <th>capital.loss</th>\n",
       "      <th>hours.per.week</th>\n",
       "      <th>native.country</th>\n",
       "    </tr>\n",
       "  </thead>\n",
       "  <tbody>\n",
       "    <tr>\n",
       "      <th>0</th>\n",
       "      <td>0.177807</td>\n",
       "      <td>-0.086682</td>\n",
       "      <td>0.173244</td>\n",
       "      <td>1.218035</td>\n",
       "      <td>-0.036491</td>\n",
       "      <td>-0.407250</td>\n",
       "      <td>1.229093</td>\n",
       "      <td>-0.898177</td>\n",
       "      <td>0.394225</td>\n",
       "      <td>0.698654</td>\n",
       "      <td>-0.144749</td>\n",
       "      <td>-0.21852</td>\n",
       "      <td>0.851632</td>\n",
       "      <td>0.262277</td>\n",
       "    </tr>\n",
       "    <tr>\n",
       "      <th>1</th>\n",
       "      <td>-0.993245</td>\n",
       "      <td>-1.885092</td>\n",
       "      <td>0.018238</td>\n",
       "      <td>-0.336949</td>\n",
       "      <td>1.130745</td>\n",
       "      <td>0.924081</td>\n",
       "      <td>-1.037414</td>\n",
       "      <td>0.971835</td>\n",
       "      <td>0.394225</td>\n",
       "      <td>0.698654</td>\n",
       "      <td>-0.144749</td>\n",
       "      <td>-0.21852</td>\n",
       "      <td>-1.254868</td>\n",
       "      <td>0.262277</td>\n",
       "    </tr>\n",
       "    <tr>\n",
       "      <th>2</th>\n",
       "      <td>-0.993245</td>\n",
       "      <td>-0.086682</td>\n",
       "      <td>-0.092370</td>\n",
       "      <td>0.181379</td>\n",
       "      <td>-0.425570</td>\n",
       "      <td>0.924081</td>\n",
       "      <td>-1.541082</td>\n",
       "      <td>1.595172</td>\n",
       "      <td>-1.947837</td>\n",
       "      <td>-1.431324</td>\n",
       "      <td>-0.144749</td>\n",
       "      <td>-0.21852</td>\n",
       "      <td>-0.039580</td>\n",
       "      <td>0.262277</td>\n",
       "    </tr>\n",
       "    <tr>\n",
       "      <th>3</th>\n",
       "      <td>1.056095</td>\n",
       "      <td>-0.086682</td>\n",
       "      <td>-0.631948</td>\n",
       "      <td>0.181379</td>\n",
       "      <td>-0.425570</td>\n",
       "      <td>2.255412</td>\n",
       "      <td>-0.030077</td>\n",
       "      <td>-0.274840</td>\n",
       "      <td>0.394225</td>\n",
       "      <td>-1.431324</td>\n",
       "      <td>-0.144749</td>\n",
       "      <td>-0.21852</td>\n",
       "      <td>-0.039580</td>\n",
       "      <td>0.262277</td>\n",
       "    </tr>\n",
       "    <tr>\n",
       "      <th>4</th>\n",
       "      <td>-1.066435</td>\n",
       "      <td>-0.086682</td>\n",
       "      <td>-0.639694</td>\n",
       "      <td>-0.336949</td>\n",
       "      <td>1.130745</td>\n",
       "      <td>0.924081</td>\n",
       "      <td>-0.533746</td>\n",
       "      <td>0.971835</td>\n",
       "      <td>0.394225</td>\n",
       "      <td>-1.431324</td>\n",
       "      <td>-0.144749</td>\n",
       "      <td>-0.21852</td>\n",
       "      <td>-0.039580</td>\n",
       "      <td>0.262277</td>\n",
       "    </tr>\n",
       "  </tbody>\n",
       "</table>\n",
       "</div>"
      ],
      "text/plain": [
       "        age  workclass    fnlwgt  education  education.num  marital.status  \\\n",
       "0  0.177807  -0.086682  0.173244   1.218035      -0.036491       -0.407250   \n",
       "1 -0.993245  -1.885092  0.018238  -0.336949       1.130745        0.924081   \n",
       "2 -0.993245  -0.086682 -0.092370   0.181379      -0.425570        0.924081   \n",
       "3  1.056095  -0.086682 -0.631948   0.181379      -0.425570        2.255412   \n",
       "4 -1.066435  -0.086682 -0.639694  -0.336949       1.130745        0.924081   \n",
       "\n",
       "   occupation  relationship      race       sex  capital.gain  capital.loss  \\\n",
       "0    1.229093     -0.898177  0.394225  0.698654     -0.144749      -0.21852   \n",
       "1   -1.037414      0.971835  0.394225  0.698654     -0.144749      -0.21852   \n",
       "2   -1.541082      1.595172 -1.947837 -1.431324     -0.144749      -0.21852   \n",
       "3   -0.030077     -0.274840  0.394225 -1.431324     -0.144749      -0.21852   \n",
       "4   -0.533746      0.971835  0.394225 -1.431324     -0.144749      -0.21852   \n",
       "\n",
       "   hours.per.week  native.country  \n",
       "0        0.851632        0.262277  \n",
       "1       -1.254868        0.262277  \n",
       "2       -0.039580        0.262277  \n",
       "3       -0.039580        0.262277  \n",
       "4       -0.039580        0.262277  "
      ]
     },
     "execution_count": 123,
     "metadata": {},
     "output_type": "execute_result"
    }
   ],
   "source": [
    "scaler = StandardScaler()\n",
    "X_train = pd.DataFrame(scaler.fit_transform(X_train), columns = X_train.columns)\n",
    "X_test = pd.DataFrame(scaler.fit_transform(X_test), columns = X_test.columns)\n",
    "X_train.head()"
   ]
  },
  {
   "cell_type": "markdown",
   "id": "9b1284be",
   "metadata": {},
   "source": [
    "## Logistic Regression\n",
    "\n",
    "- First with all 14 features"
   ]
  },
  {
   "cell_type": "code",
   "execution_count": 129,
   "id": "04e2191e",
   "metadata": {},
   "outputs": [],
   "source": [
    "from sklearn.linear_model import LogisticRegression\n",
    "from sklearn.metrics import confusion_matrix, ConfusionMatrixDisplay, accuracy_score, classification_report\n",
    "clf = LogisticRegression()\n",
    "clf.fit(X_train, y_train)\n",
    "y_pred = clf.predict(X_test)\n",
    "#confusion matrix\n",
    "cm = confusion_matrix(y_test, y_pred, labels= clf.classes_)\n"
   ]
  },
  {
   "cell_type": "markdown",
   "id": "0316732c",
   "metadata": {},
   "source": [
    "### Confusion matrix\n"
   ]
  },
  {
   "cell_type": "code",
   "execution_count": 136,
   "id": "2793b792",
   "metadata": {},
   "outputs": [
    {
     "data": {
      "image/png": "[encoded data removed]",
      "text/plain": [
       "<Figure size 640x480 with 2 Axes>"
      ]
     },
     "metadata": {},
     "output_type": "display_data"
    }
   ],
   "source": [
    "#Visualizing the confusion matrix\n",
    "disp = ConfusionMatrixDisplay(confusion_matrix=cm, display_labels=clf.classes_)\n",
    "disp.plot(cmap=\"plasma\")\n",
    "plt.show()\n"
   ]
  },
  {
   "cell_type": "code",
   "execution_count": 141,
   "id": "214219f0",
   "metadata": {},
   "outputs": [
    {
     "name": "stdout",
     "output_type": "stream",
     "text": [
      "Accuracy Score  0.8215875940426839 \n",
      " \n",
      "               precision    recall  f1-score   support\n",
      "\n",
      "       <=50K       0.85      0.94      0.89      4966\n",
      "        >50K       0.69      0.45      0.54      1547\n",
      "\n",
      "    accuracy                           0.82      6513\n",
      "   macro avg       0.77      0.69      0.72      6513\n",
      "weighted avg       0.81      0.82      0.81      6513\n",
      "\n"
     ]
    }
   ],
   "source": [
    "#Accuracy Score and classification_report\n",
    "acc = accuracy_score(y_test, y_pred)\n",
    "cr = classification_report(y_test, y_pred)\n",
    "print(f\"Accuracy Score  {acc} \\n \\n\", cr)\n"
   ]
  },
  {
   "cell_type": "markdown",
   "id": "1eb777d4",
   "metadata": {},
   "source": [
    "The Accuracy comes out to be <span style=\"color: red\"><strong>82.15 %</strong></span> with **14** features."
   ]
  },
  {
   "cell_type": "markdown",
   "id": "a179d6b4",
   "metadata": {},
   "source": [
    "## Principle Component Analysis (PCA)"
   ]
  },
  {
   "cell_type": "code",
   "execution_count": null,
   "id": "064999b0",
   "metadata": {},
   "outputs": [
    {
     "data": {
      "text/plain": [
       "0        <=50K\n",
       "1        <=50K\n",
       "2        <=50K\n",
       "3        <=50K\n",
       "4        <=50K\n",
       "         ...  \n",
       "32556    <=50K\n",
       "32557    <=50K\n",
       "32558     >50K\n",
       "32559    <=50K\n",
       "32560    <=50K\n",
       "Name: income, Length: 32561, dtype: object"
      ]
     },
     "execution_count": 148,
     "metadata": {},
     "output_type": "execute_result"
    }
   ],
   "source": []
  },
  {
   "cell_type": "code",
   "execution_count": 152,
   "id": "1fceed91",
   "metadata": {},
   "outputs": [
    {
     "data": {
      "text/plain": [
       "np.float64(-3.857917846187803e-18)"
      ]
     },
     "execution_count": 152,
     "metadata": {},
     "output_type": "execute_result"
    }
   ],
   "source": [
    "np.mean(X_train)"
   ]
  },
  {
   "cell_type": "code",
   "execution_count": 153,
   "id": "56109c01",
   "metadata": {},
   "outputs": [
    {
     "data": {
      "text/plain": [
       "age               1.0\n",
       "workclass         1.0\n",
       "fnlwgt            1.0\n",
       "education         1.0\n",
       "education.num     1.0\n",
       "marital.status    1.0\n",
       "occupation        1.0\n",
       "relationship      1.0\n",
       "race              1.0\n",
       "sex               1.0\n",
       "capital.gain      1.0\n",
       "capital.loss      1.0\n",
       "hours.per.week    1.0\n",
       "native.country    1.0\n",
       "dtype: float64"
      ]
     },
     "execution_count": 153,
     "metadata": {},
     "output_type": "execute_result"
    }
   ],
   "source": [
    "np.std(X_train)"
   ]
  },
  {
   "cell_type": "code",
   "execution_count": 199,
   "id": "7fa1d691",
   "metadata": {},
   "outputs": [
    {
     "data": {
      "application/vnd.microsoft.datawrangler.viewer.v0+json": {
       "columns": [
        {
         "name": "index",
         "rawType": "int64",
         "type": "integer"
        },
        {
         "name": "Principle_component",
         "rawType": "object",
         "type": "string"
        },
        {
         "name": "Weight",
         "rawType": "float64",
         "type": "float"
        }
       ],
       "conversionMethod": "pd.DataFrame",
       "ref": "c33420c4-eef0-4e99-9f7a-1b4861eaa6f7",
       "rows": [
        [
         "0",
         "pc_0",
         "14.803822509291157"
        ],
        [
         "1",
         "pc_1",
         "10.143074058686"
        ],
        [
         "2",
         "pc_2",
         "8.107740558013269"
        ],
        [
         "3",
         "pc_3",
         "7.859831165519409"
        ],
        [
         "4",
         "pc_4",
         "7.441793356876058"
        ],
        [
         "5",
         "pc_5",
         "7.317622227834268"
        ],
        [
         "6",
         "pc_6",
         "7.015236323404335"
        ],
        [
         "7",
         "pc_7",
         "6.757149482638439"
        ],
        [
         "8",
         "pc_8",
         "6.4763831115456085"
        ],
        [
         "9",
         "pc_9",
         "6.1278947584274315"
        ],
        [
         "10",
         "pc_10",
         "6.085179798455051"
        ],
        [
         "11",
         "pc_11",
         "4.8403024635512635"
        ],
        [
         "12",
         "pc_12",
         "4.278991886045297"
        ],
        [
         "13",
         "pc_13",
         "2.7449782997124275"
        ]
       ],
       "shape": {
        "columns": 2,
        "rows": 14
       }
      },
      "text/html": [
       "<div>\n",
       "<style scoped>\n",
       "    .dataframe tbody tr th:only-of-type {\n",
       "        vertical-align: middle;\n",
       "    }\n",
       "\n",
       "    .dataframe tbody tr th {\n",
       "        vertical-align: top;\n",
       "    }\n",
       "\n",
       "    .dataframe thead th {\n",
       "        text-align: right;\n",
       "    }\n",
       "</style>\n",
       "<table border=\"1\" class=\"dataframe\">\n",
       "  <thead>\n",
       "    <tr style=\"text-align: right;\">\n",
       "      <th></th>\n",
       "      <th>Principle_component</th>\n",
       "      <th>Weight</th>\n",
       "    </tr>\n",
       "  </thead>\n",
       "  <tbody>\n",
       "    <tr>\n",
       "      <th>0</th>\n",
       "      <td>pc_0</td>\n",
       "      <td>14.803823</td>\n",
       "    </tr>\n",
       "    <tr>\n",
       "      <th>1</th>\n",
       "      <td>pc_1</td>\n",
       "      <td>10.143074</td>\n",
       "    </tr>\n",
       "    <tr>\n",
       "      <th>2</th>\n",
       "      <td>pc_2</td>\n",
       "      <td>8.107741</td>\n",
       "    </tr>\n",
       "    <tr>\n",
       "      <th>3</th>\n",
       "      <td>pc_3</td>\n",
       "      <td>7.859831</td>\n",
       "    </tr>\n",
       "    <tr>\n",
       "      <th>4</th>\n",
       "      <td>pc_4</td>\n",
       "      <td>7.441793</td>\n",
       "    </tr>\n",
       "    <tr>\n",
       "      <th>5</th>\n",
       "      <td>pc_5</td>\n",
       "      <td>7.317622</td>\n",
       "    </tr>\n",
       "    <tr>\n",
       "      <th>6</th>\n",
       "      <td>pc_6</td>\n",
       "      <td>7.015236</td>\n",
       "    </tr>\n",
       "    <tr>\n",
       "      <th>7</th>\n",
       "      <td>pc_7</td>\n",
       "      <td>6.757149</td>\n",
       "    </tr>\n",
       "    <tr>\n",
       "      <th>8</th>\n",
       "      <td>pc_8</td>\n",
       "      <td>6.476383</td>\n",
       "    </tr>\n",
       "    <tr>\n",
       "      <th>9</th>\n",
       "      <td>pc_9</td>\n",
       "      <td>6.127895</td>\n",
       "    </tr>\n",
       "    <tr>\n",
       "      <th>10</th>\n",
       "      <td>pc_10</td>\n",
       "      <td>6.085180</td>\n",
       "    </tr>\n",
       "    <tr>\n",
       "      <th>11</th>\n",
       "      <td>pc_11</td>\n",
       "      <td>4.840302</td>\n",
       "    </tr>\n",
       "    <tr>\n",
       "      <th>12</th>\n",
       "      <td>pc_12</td>\n",
       "      <td>4.278992</td>\n",
       "    </tr>\n",
       "    <tr>\n",
       "      <th>13</th>\n",
       "      <td>pc_13</td>\n",
       "      <td>2.744978</td>\n",
       "    </tr>\n",
       "  </tbody>\n",
       "</table>\n",
       "</div>"
      ],
      "text/plain": [
       "   Principle_component     Weight\n",
       "0                 pc_0  14.803823\n",
       "1                 pc_1  10.143074\n",
       "2                 pc_2   8.107741\n",
       "3                 pc_3   7.859831\n",
       "4                 pc_4   7.441793\n",
       "5                 pc_5   7.317622\n",
       "6                 pc_6   7.015236\n",
       "7                 pc_7   6.757149\n",
       "8                 pc_8   6.476383\n",
       "9                 pc_9   6.127895\n",
       "10               pc_10   6.085180\n",
       "11               pc_11   4.840302\n",
       "12               pc_12   4.278992\n",
       "13               pc_13   2.744978"
      ]
     },
     "execution_count": 199,
     "metadata": {},
     "output_type": "execute_result"
    }
   ],
   "source": [
    "from sklearn.decomposition import PCA\n",
    "c = 14\n",
    "pca = PCA(n_components=c)\n",
    "pca_income = pca.fit_transform(X_train)\n",
    "Variance_ratio = pca.explained_variance_ratio_\n",
    "D = {\n",
    "    \"Principle_component\": [f\"pc_{i}\" for i in range(c)],\n",
    "    \"Weight\": [Variance_ratio[i] * 100 for i in range(c)]\n",
    "}\n",
    "    \n",
    "Vr_df = pd.DataFrame(data = D)\n",
    "Vr_df"
   ]
  },
  {
   "cell_type": "markdown",
   "id": "72e17c1e",
   "metadata": {},
   "source": [
    "From the above table it is clear that to preserve at least 90% of the original variance of the data we need to keep at the least 12 principle components. We can drop pc_11, pc_12. Hereby reducing the dimension of our data from 14 to 12. "
   ]
  },
  {
   "cell_type": "code",
   "execution_count": 275,
   "id": "104a25f2",
   "metadata": {},
   "outputs": [],
   "source": [
    "pca_income = PCA(n_components=11)\n",
    "X_train_pca = pca_income.fit_transform(X_train)\n",
    "X_test_pca = pca_income.fit_transform(X_test)"
   ]
  },
  {
   "cell_type": "code",
   "execution_count": 278,
   "id": "4ef7ff72",
   "metadata": {},
   "outputs": [
    {
     "data": {
      "image/png": "[encoded data removed]",
      "text/plain": [
       "<Figure size 640x480 with 2 Axes>"
      ]
     },
     "metadata": {},
     "output_type": "display_data"
    }
   ],
   "source": [
    "clf = LogisticRegression()\n",
    "clf.fit(X_train_pca, y_train)\n",
    "y_pred = clf.predict(X_test_pca)\n",
    "#confusion matrix\n",
    "cm = confusion_matrix(y_test, y_pred, labels= clf.classes_)\n",
    "#Visualizing the confusion matrix\n",
    "disp = ConfusionMatrixDisplay(confusion_matrix=cm, display_labels=clf.classes_)\n",
    "disp.plot(cmap=\"plasma\")\n",
    "plt.show()"
   ]
  },
  {
   "cell_type": "code",
   "execution_count": 280,
   "id": "b6e01914",
   "metadata": {},
   "outputs": [
    {
     "name": "stdout",
     "output_type": "stream",
     "text": [
      "Accuracy Score  0.7937970213419315 \n",
      " \n",
      "               precision    recall  f1-score   support\n",
      "\n",
      "       <=50K       0.85      0.89      0.87      4966\n",
      "        >50K       0.58      0.49      0.53      1547\n",
      "\n",
      "    accuracy                           0.79      6513\n",
      "   macro avg       0.71      0.69      0.70      6513\n",
      "weighted avg       0.78      0.79      0.79      6513\n",
      "\n"
     ]
    }
   ],
   "source": [
    "acc = accuracy_score(y_test, y_pred)\n",
    "cr = classification_report(y_test, y_pred)\n",
    "print(f\"Accuracy Score  {acc} \\n \\n\", cr)"
   ]
  },
  {
   "cell_type": "markdown",
   "id": "700e79d7",
   "metadata": {},
   "source": [
    "Almost similar accuracy is achieved with 11 principal components. "
   ]
  },
  {
   "cell_type": "markdown",
   "id": "428f04af",
   "metadata": {},
   "source": [
    "## Plot explained variance ratio with number of dimensions\n",
    "\n",
    "- An alternative option is to plot the explained variance as a function of the number of dimensions \n",
    "- In the plot, we should look for an elbow where the explainded variance stops growing fast\n",
    "- This can be thought of as the intrinsic dimensionality \n",
    "- Now, I will plot cumulative explained variance ratio with number of components to show how variance ratio varies with number of components."
   ]
  },
  {
   "cell_type": "code",
   "execution_count": 282,
   "id": "b2d29e5c",
   "metadata": {},
   "outputs": [
    {
     "data": {
      "image/png": "[encoded data removed]",
      "text/plain": [
       "<Figure size 800x600 with 1 Axes>"
      ]
     },
     "metadata": {},
     "output_type": "display_data"
    }
   ],
   "source": [
    "plt.figure(figsize=(8,6))\n",
    "plt.plot(np.cumsum(pca.explained_variance_ratio_))\n",
    "# plt.xlim(0,14,1)\n",
    "plt.xlabel('Number of components')\n",
    "plt.ylabel('Cumulative explained variance')\n",
    "plt.show()"
   ]
  }
 ],
 "metadata": {
  "kernelspec": {
   "display_name": "Python 3",
   "language": "python",
   "name": "python3"
  },
  "language_info": {
   "codemirror_mode": {
    "name": "ipython",
    "version": 3
   },
   "file_extension": ".py",
   "mimetype": "text/x-python",
   "name": "python",
   "nbconvert_exporter": "python",
   "pygments_lexer": "ipython3",
   "version": "3.12.0"
  }
 },
 "nbformat": 4,
 "nbformat_minor": 5
}
