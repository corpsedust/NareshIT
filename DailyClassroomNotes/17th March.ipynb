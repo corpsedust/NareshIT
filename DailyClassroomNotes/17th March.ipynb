{
 "cells": [
  {
   "cell_type": "code",
   "execution_count": 1,
   "metadata": {},
   "outputs": [],
   "source": [
    "import pandas as pd\n",
    "import numpy as np\n",
    "import matplotlib.pyplot as plt\n",
    "import seaborn as sns\n",
    "import scipy.stats as stats"
   ]
  },
  {
   "cell_type": "code",
   "execution_count": 4,
   "metadata": {},
   "outputs": [
    {
     "data": {
      "text/html": [
       "<div>\n",
       "<style scoped>\n",
       "    .dataframe tbody tr th:only-of-type {\n",
       "        vertical-align: middle;\n",
       "    }\n",
       "\n",
       "    .dataframe tbody tr th {\n",
       "        vertical-align: top;\n",
       "    }\n",
       "\n",
       "    .dataframe thead th {\n",
       "        text-align: right;\n",
       "    }\n",
       "</style>\n",
       "<table border=\"1\" class=\"dataframe\">\n",
       "  <thead>\n",
       "    <tr style=\"text-align: right;\">\n",
       "      <th></th>\n",
       "      <th>product_id</th>\n",
       "      <th>product_name</th>\n",
       "      <th>category</th>\n",
       "      <th>units_sold</th>\n",
       "      <th>sale_date</th>\n",
       "    </tr>\n",
       "  </thead>\n",
       "  <tbody>\n",
       "    <tr>\n",
       "      <th>0</th>\n",
       "      <td>1</td>\n",
       "      <td>Product1</td>\n",
       "      <td>Sports</td>\n",
       "      <td>26</td>\n",
       "      <td>2023-01-01</td>\n",
       "    </tr>\n",
       "    <tr>\n",
       "      <th>1</th>\n",
       "      <td>2</td>\n",
       "      <td>Product2</td>\n",
       "      <td>Home</td>\n",
       "      <td>22</td>\n",
       "      <td>2023-01-02</td>\n",
       "    </tr>\n",
       "    <tr>\n",
       "      <th>2</th>\n",
       "      <td>3</td>\n",
       "      <td>Product3</td>\n",
       "      <td>Sports</td>\n",
       "      <td>19</td>\n",
       "      <td>2023-01-03</td>\n",
       "    </tr>\n",
       "    <tr>\n",
       "      <th>3</th>\n",
       "      <td>4</td>\n",
       "      <td>Product4</td>\n",
       "      <td>Electronics</td>\n",
       "      <td>20</td>\n",
       "      <td>2023-01-04</td>\n",
       "    </tr>\n",
       "    <tr>\n",
       "      <th>4</th>\n",
       "      <td>5</td>\n",
       "      <td>Product5</td>\n",
       "      <td>Electronics</td>\n",
       "      <td>16</td>\n",
       "      <td>2023-01-05</td>\n",
       "    </tr>\n",
       "  </tbody>\n",
       "</table>\n",
       "</div>"
      ],
      "text/plain": [
       "   product_id product_name     category  units_sold  sale_date\n",
       "0           1     Product1       Sports          26 2023-01-01\n",
       "1           2     Product2         Home          22 2023-01-02\n",
       "2           3     Product3       Sports          19 2023-01-03\n",
       "3           4     Product4  Electronics          20 2023-01-04\n",
       "4           5     Product5  Electronics          16 2023-01-05"
      ]
     },
     "execution_count": 4,
     "metadata": {},
     "output_type": "execute_result"
    }
   ],
   "source": [
    "np.random.seed(45)\n",
    "\n",
    "\n",
    "data = {\n",
    "    \"product_id\":range(1,21),\n",
    "    \"product_name\": [f'Product{i}' for i in range(1,21)],\n",
    "    \"category\":np.random.choice([\"Electronics\", \"Clothing\", \"Home\", \"Sports\"], 20),\n",
    "    \"units_sold\": np.random.poisson(lam = 20, size = 20),\n",
    "    \"sale_date\":pd.date_range(start = '2023-01-01', periods = 20, freq = \"D\"), \n",
    "}\n",
    "\n",
    "sales_data = pd.DataFrame(data)\n",
    "sales_data.head()"
   ]
  },
  {
   "cell_type": "code",
   "execution_count": 7,
   "metadata": {},
   "outputs": [],
   "source": [
    "sales_data.to_csv(\"sales_data.csv\", index = False) "
   ]
  },
  {
   "cell_type": "code",
   "execution_count": 8,
   "metadata": {},
   "outputs": [
    {
     "data": {
      "text/plain": [
       "'c:\\\\Users\\\\vineet\\\\Desktop\\\\Pyhtonshit\\\\DailyClassroomNotes'"
      ]
     },
     "execution_count": 8,
     "metadata": {},
     "output_type": "execute_result"
    }
   ],
   "source": [
    "import os\n",
    "os.getcwd()"
   ]
  },
  {
   "cell_type": "code",
   "execution_count": 10,
   "metadata": {},
   "outputs": [
    {
     "data": {
      "text/plain": [
       "count    20.00000\n",
       "mean     21.55000\n",
       "std       4.22368\n",
       "min      15.00000\n",
       "25%      18.25000\n",
       "50%      22.50000\n",
       "75%      25.00000\n",
       "max      28.00000\n",
       "Name: units_sold, dtype: float64"
      ]
     },
     "execution_count": 10,
     "metadata": {},
     "output_type": "execute_result"
    }
   ],
   "source": [
    "descriptive_stats = sales_data.units_sold.describe()\n",
    "descriptive_stats"
   ]
  },
  {
   "cell_type": "code",
   "execution_count": null,
   "metadata": {},
   "outputs": [
    {
     "data": {
      "text/html": [
       "<div>\n",
       "<style scoped>\n",
       "    .dataframe tbody tr th:only-of-type {\n",
       "        vertical-align: middle;\n",
       "    }\n",
       "\n",
       "    .dataframe tbody tr th {\n",
       "        vertical-align: top;\n",
       "    }\n",
       "\n",
       "    .dataframe thead th {\n",
       "        text-align: right;\n",
       "    }\n",
       "</style>\n",
       "<table border=\"1\" class=\"dataframe\">\n",
       "  <thead>\n",
       "    <tr style=\"text-align: right;\">\n",
       "      <th></th>\n",
       "      <th>category</th>\n",
       "      <th>sum</th>\n",
       "      <th>mean</th>\n",
       "      <th>std</th>\n",
       "    </tr>\n",
       "  </thead>\n",
       "  <tbody>\n",
       "    <tr>\n",
       "      <th>0</th>\n",
       "      <td>Clothing</td>\n",
       "      <td>149</td>\n",
       "      <td>24.833333</td>\n",
       "      <td>1.834848</td>\n",
       "    </tr>\n",
       "    <tr>\n",
       "      <th>1</th>\n",
       "      <td>Electronics</td>\n",
       "      <td>104</td>\n",
       "      <td>20.800000</td>\n",
       "      <td>4.438468</td>\n",
       "    </tr>\n",
       "    <tr>\n",
       "      <th>2</th>\n",
       "      <td>Home</td>\n",
       "      <td>62</td>\n",
       "      <td>20.666667</td>\n",
       "      <td>5.131601</td>\n",
       "    </tr>\n",
       "    <tr>\n",
       "      <th>3</th>\n",
       "      <td>Sports</td>\n",
       "      <td>116</td>\n",
       "      <td>19.333333</td>\n",
       "      <td>4.273952</td>\n",
       "    </tr>\n",
       "  </tbody>\n",
       "</table>\n",
       "</div>"
      ],
      "text/plain": [
       "      category  sum       mean       std\n",
       "0     Clothing  149  24.833333  1.834848\n",
       "1  Electronics  104  20.800000  4.438468\n",
       "2         Home   62  20.666667  5.131601\n",
       "3       Sports  116  19.333333  4.273952"
      ]
     },
     "execution_count": 13,
     "metadata": {},
     "output_type": "execute_result"
    }
   ],
   "source": [
    "#Additional stats\n",
    "\n",
    "mean_sales = sales_data.units_sold.mean()\n",
    "median_sales = sales_data.units_sold.median()\n",
    "mode_sales = sales_data.units_sold.mode()[0]\n",
    "variance_sales = sales_data.units_sold.var()\n",
    "std_deviation_sales = sales_data.units_sold.std()\n",
    "\n",
    "\n",
    "category_stats = sales_data.groupby(\"category\")[\"units_sold\"].agg([\"sum\", \"mean\", \"std\"]).reset_index()\n",
    "category_stats.columns = [\"Category\", \"Total Units Sold\", \"Average Units Sold\", \"Std Dev of Units Sold\"]\n",
    "\n",
    "print(\"\\nStatistical Analysis:\")\n",
    "print(f\"Mean Units Sold: {mean_sales}\")\n",
    "print(f\"Median Units Sold: {median_sales}\")\n",
    "print(f\"Mode Units Sold: {mode_sales}\")\n",
    "print(f\"Variance of Units Sold: {variance_sales}\")\n",
    "print(f\"Standard Deviation of Units Sold: {std_deviation_sales}\")\n",
    "print(\"\\nCategory Statistics\")\n",
    "print(category_stats)\n"
   ]
  },
  {
   "cell_type": "code",
   "execution_count": null,
   "metadata": {},
   "outputs": [],
   "source": []
  }
 ],
 "metadata": {
  "kernelspec": {
   "display_name": "Python 3",
   "language": "python",
   "name": "python3"
  },
  "language_info": {
   "codemirror_mode": {
    "name": "ipython",
    "version": 3
   },
   "file_extension": ".py",
   "mimetype": "text/x-python",
   "name": "python",
   "nbconvert_exporter": "python",
   "pygments_lexer": "ipython3",
   "version": "3.12.0"
  }
 },
 "nbformat": 4,
 "nbformat_minor": 2
}
