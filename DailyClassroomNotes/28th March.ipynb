{
 "cells": [
  {
   "cell_type": "code",
   "execution_count": null,
   "metadata": {},
   "outputs": [
    {
     "name": "stdout",
     "output_type": "stream",
     "text": [
      "in funciton 10\n",
      "out function 10\n"
     ]
    }
   ],
   "source": [
    "a = 10\n",
    "\n",
    "def something():\n",
    "    a = 15\n",
    "    \n",
    "print(\"in funciton\", a)\n",
    "\n",
    "print(\"out function\", a)\n",
    "\n",
    "#Prints Global variable only    "
   ]
  },
  {
   "cell_type": "code",
   "execution_count": 2,
   "metadata": {},
   "outputs": [
    {
     "name": "stdout",
     "output_type": "stream",
     "text": [
      "140720635497176\n",
      "140720635497176\n",
      "in function 9\n",
      "None 10\n"
     ]
    }
   ],
   "source": [
    "a = 10\n",
    "\n",
    "print(id(a))\n",
    "\n",
    "def something():\n",
    "    a = 9\n",
    "    x = globals()[\"a\"] # globals give you all the globasls\n",
    "    \n",
    "    \n",
    "    print(id(x))\n",
    "    print(\"in function\", a)\n",
    "    \n",
    "    \n",
    "    \n",
    "print(something(), a)"
   ]
  },
  {
   "cell_type": "code",
   "execution_count": 3,
   "metadata": {},
   "outputs": [
    {
     "name": "stdout",
     "output_type": "stream",
     "text": [
      "15\n"
     ]
    }
   ],
   "source": [
    "x = 10\n",
    "\n",
    "\n",
    "def update_x():\n",
    "    globals()['x'] += 5\n",
    "    \n",
    "    \n",
    "update_x()\n",
    "print(x) #Output = 15"
   ]
  },
  {
   "cell_type": "code",
   "execution_count": 9,
   "metadata": {},
   "outputs": [
    {
     "name": "stdout",
     "output_type": "stream",
     "text": [
      "15\n"
     ]
    }
   ],
   "source": [
    "x = 10\n",
    "\n",
    "def update_x():\n",
    "    global x \n",
    "    x += 5\n",
    "    return x \n",
    "    \n",
    "print(update_x())"
   ]
  },
  {
   "cell_type": "code",
   "execution_count": 26,
   "metadata": {},
   "outputs": [
    {
     "name": "stdout",
     "output_type": "stream",
     "text": [
      "Even Numbers: 42 \n",
      "Odd Numbers: 36\n"
     ]
    }
   ],
   "source": [
    "import numpy as np\n",
    "def count(lst):\n",
    "    \n",
    "    even = 0\n",
    "    odd = 0\n",
    "    \n",
    "    for i in lst:\n",
    "        if i%2 == 0 :\n",
    "            even+=1\n",
    "        else:\n",
    "            odd+=1\n",
    "    return even,odd\n",
    "\n",
    "# lst = list(map(int,np.random.randint(1,100,78)))\n",
    "lst = np.random.randint(1,100,78)\n",
    "even, odd  = count(lst)\n",
    "print(f\"Even Numbers: {even} \\nOdd Numbers: {odd}\")"
   ]
  },
  {
   "cell_type": "code",
   "execution_count": 21,
   "metadata": {},
   "outputs": [],
   "source": [
    "#global vs global()"
   ]
  }
 ],
 "metadata": {
  "kernelspec": {
   "display_name": "Python 3",
   "language": "python",
   "name": "python3"
  },
  "language_info": {
   "codemirror_mode": {
    "name": "ipython",
    "version": 3
   },
   "file_extension": ".py",
   "mimetype": "text/x-python",
   "name": "python",
   "nbconvert_exporter": "python",
   "pygments_lexer": "ipython3",
   "version": "3.12.0"
  }
 },
 "nbformat": 4,
 "nbformat_minor": 2
}
